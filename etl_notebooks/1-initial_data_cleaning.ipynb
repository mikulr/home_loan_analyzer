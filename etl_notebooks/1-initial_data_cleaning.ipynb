{
 "cells": [
  {
   "cell_type": "code",
   "execution_count": 1,
   "id": "b1b806cd",
   "metadata": {},
   "outputs": [],
   "source": [
    "import pandas as pd\n",
    "import numpy as np"
   ]
  },
  {
   "cell_type": "code",
   "execution_count": 2,
   "id": "f84f71f7",
   "metadata": {},
   "outputs": [],
   "source": [
    "pd.set_option(\"display.max_columns\", None)"
   ]
  },
  {
   "cell_type": "code",
   "execution_count": 3,
   "id": "f673eed4",
   "metadata": {},
   "outputs": [],
   "source": [
    "req_col=['loan_type'\n",
    ",'property_type'\n",
    ",'loan_purpose'\n",
    ",'loan_amount_000s'\n",
    ",'preapproval'\n",
    ",'action_taken'\n",
    ",'state_code'\n",
    ",'applicant_ethnicity'\n",
    ",'co_applicant_ethnicity'\n",
    ",'applicant_race_1'\n",
    ",'co_applicant_race_1'\n",
    ",'applicant_sex'\n",
    ",'co_applicant_sex'\n",
    ",'applicant_income_000s'\n",
    ",'purchaser_type']"
   ]
  },
  {
   "cell_type": "code",
   "execution_count": 4,
   "id": "b5fa52b2",
   "metadata": {},
   "outputs": [],
   "source": [
    "set_dtypes={'loan_type':'int8'\n",
    ",'property_type':'int8'\n",
    ",'loan_purpose':'int8'\n",
    ",'loan_amount_000s':'int64'\n",
    ",'preapproval':'int8'\n",
    ",'action_taken':'int8'\n",
    ",'state_code':'int8'\n",
    ",'applicant_ethnicity':'int8'\n",
    ",'co_applicant_ethnicity':'int8'\n",
    ",'applicant_race_1':'int8'\n",
    ",'co_applicant_race_1':'int8'\n",
    ",'applicant_sex':'int8'\n",
    ",'co_applicant_sex':'int8'\n",
    ",'applicant_income_000s':'int64'\n",
    ",'purchaser_type':'int8'}"
   ]
  },
  {
   "cell_type": "markdown",
   "id": "f945b359",
   "metadata": {},
   "source": [
    "## 2017 Cleaning"
   ]
  },
  {
   "cell_type": "code",
   "execution_count": 5,
   "id": "dbcd20f8",
   "metadata": {
    "scrolled": true
   },
   "outputs": [],
   "source": [
    "df17=pd.read_csv('../resources/hmda_2017_nationwide_all-records_codes.csv', usecols=req_col)"
   ]
  },
  {
   "cell_type": "code",
   "execution_count": 6,
   "id": "b9c7e4e8",
   "metadata": {
    "scrolled": true
   },
   "outputs": [
    {
     "name": "stdout",
     "output_type": "stream",
     "text": [
      "<class 'pandas.core.frame.DataFrame'>\n",
      "RangeIndex: 14285496 entries, 0 to 14285495\n",
      "Data columns (total 15 columns):\n",
      " #   Column                  Dtype  \n",
      "---  ------                  -----  \n",
      " 0   loan_type               int64  \n",
      " 1   property_type           int64  \n",
      " 2   loan_purpose            int64  \n",
      " 3   loan_amount_000s        float64\n",
      " 4   preapproval             int64  \n",
      " 5   action_taken            int64  \n",
      " 6   state_code              float64\n",
      " 7   applicant_ethnicity     int64  \n",
      " 8   co_applicant_ethnicity  int64  \n",
      " 9   applicant_race_1        int64  \n",
      " 10  co_applicant_race_1     int64  \n",
      " 11  applicant_sex           int64  \n",
      " 12  co_applicant_sex        int64  \n",
      " 13  applicant_income_000s   float64\n",
      " 14  purchaser_type          int64  \n",
      "dtypes: float64(3), int64(12)\n",
      "memory usage: 1.6 GB\n"
     ]
    }
   ],
   "source": [
    "df17.info()"
   ]
  },
  {
   "cell_type": "code",
   "execution_count": 7,
   "id": "8a4d7671",
   "metadata": {},
   "outputs": [
    {
     "data": {
      "text/plain": [
       "14285496"
      ]
     },
     "execution_count": 7,
     "metadata": {},
     "output_type": "execute_result"
    }
   ],
   "source": [
    "start17= len(df17.index)\n",
    "start17"
   ]
  },
  {
   "cell_type": "code",
   "execution_count": 8,
   "id": "d383e3ce",
   "metadata": {},
   "outputs": [
    {
     "data": {
      "text/plain": [
       "2098058"
      ]
     },
     "execution_count": 8,
     "metadata": {},
     "output_type": "execute_result"
    }
   ],
   "source": [
    "df17.isnull().sum().sum()"
   ]
  },
  {
   "cell_type": "code",
   "execution_count": 9,
   "id": "9ce2f4c3",
   "metadata": {},
   "outputs": [],
   "source": [
    "df17=df17.dropna()"
   ]
  },
  {
   "cell_type": "code",
   "execution_count": 10,
   "id": "faf5813e",
   "metadata": {},
   "outputs": [
    {
     "data": {
      "text/plain": [
       "403333"
      ]
     },
     "execution_count": 10,
     "metadata": {},
     "output_type": "execute_result"
    }
   ],
   "source": [
    "df17.duplicated().sum()"
   ]
  },
  {
   "cell_type": "code",
   "execution_count": 11,
   "id": "8d3bcba0",
   "metadata": {},
   "outputs": [],
   "source": [
    "df17=df17.drop_duplicates()"
   ]
  },
  {
   "cell_type": "code",
   "execution_count": 12,
   "id": "62019e96",
   "metadata": {},
   "outputs": [],
   "source": [
    "df17 = df17.astype(set_dtypes)"
   ]
  },
  {
   "cell_type": "code",
   "execution_count": 13,
   "id": "9196631f",
   "metadata": {},
   "outputs": [
    {
     "name": "stdout",
     "output_type": "stream",
     "text": [
      "<class 'pandas.core.frame.DataFrame'>\n",
      "Int64Index: 11795210 entries, 0 to 14088337\n",
      "Data columns (total 15 columns):\n",
      " #   Column                  Dtype\n",
      "---  ------                  -----\n",
      " 0   loan_type               int8 \n",
      " 1   property_type           int8 \n",
      " 2   loan_purpose            int8 \n",
      " 3   loan_amount_000s        int64\n",
      " 4   preapproval             int8 \n",
      " 5   action_taken            int8 \n",
      " 6   state_code              int8 \n",
      " 7   applicant_ethnicity     int8 \n",
      " 8   co_applicant_ethnicity  int8 \n",
      " 9   applicant_race_1        int8 \n",
      " 10  co_applicant_race_1     int8 \n",
      " 11  applicant_sex           int8 \n",
      " 12  co_applicant_sex        int8 \n",
      " 13  applicant_income_000s   int64\n",
      " 14  purchaser_type          int8 \n",
      "dtypes: int64(2), int8(13)\n",
      "memory usage: 416.2 MB\n"
     ]
    }
   ],
   "source": [
    "df17.info()"
   ]
  },
  {
   "cell_type": "code",
   "execution_count": 14,
   "id": "1b7af054",
   "metadata": {},
   "outputs": [
    {
     "name": "stdout",
     "output_type": "stream",
     "text": [
      "2017: Imported records: 14285496 Final records: 11795210 Dropped records: 2490286\n"
     ]
    }
   ],
   "source": [
    "fin17= len(df17.index)\n",
    "dropped17= (start17-fin17)\n",
    "print(f\"2017: Imported records: {start17} Final records: {fin17} Dropped records: {dropped17}\")"
   ]
  },
  {
   "cell_type": "markdown",
   "id": "17f99bcd",
   "metadata": {},
   "source": [
    "## 2016 Cleaning"
   ]
  },
  {
   "cell_type": "code",
   "execution_count": 15,
   "id": "07ce77e1",
   "metadata": {},
   "outputs": [],
   "source": [
    "df16=pd.read_csv('../resources/hmda_2016_nationwide_all-records_codes.csv', usecols=req_col)"
   ]
  },
  {
   "cell_type": "code",
   "execution_count": 16,
   "id": "c5412c20",
   "metadata": {},
   "outputs": [],
   "source": [
    "start16= len(df16.index)"
   ]
  },
  {
   "cell_type": "code",
   "execution_count": 17,
   "id": "7239e0b2",
   "metadata": {},
   "outputs": [],
   "source": [
    "df16= df16.apply(pd.to_numeric, errors=\"coerce\")"
   ]
  },
  {
   "cell_type": "code",
   "execution_count": 18,
   "id": "76caf231",
   "metadata": {},
   "outputs": [
    {
     "data": {
      "text/plain": [
       "2744663"
      ]
     },
     "execution_count": 18,
     "metadata": {},
     "output_type": "execute_result"
    }
   ],
   "source": [
    "df16.isnull().sum().sum()"
   ]
  },
  {
   "cell_type": "code",
   "execution_count": 19,
   "id": "21f0c274",
   "metadata": {},
   "outputs": [],
   "source": [
    "df16=df16.dropna()"
   ]
  },
  {
   "cell_type": "code",
   "execution_count": 20,
   "id": "fce31981",
   "metadata": {},
   "outputs": [
    {
     "data": {
      "text/plain": [
       "581086"
      ]
     },
     "execution_count": 20,
     "metadata": {},
     "output_type": "execute_result"
    }
   ],
   "source": [
    "df16.duplicated().sum()"
   ]
  },
  {
   "cell_type": "code",
   "execution_count": 21,
   "id": "413283ca",
   "metadata": {},
   "outputs": [],
   "source": [
    "df16=df16.drop_duplicates()"
   ]
  },
  {
   "cell_type": "code",
   "execution_count": 22,
   "id": "a0b160fa",
   "metadata": {},
   "outputs": [],
   "source": [
    "df16 = df16.astype(set_dtypes)"
   ]
  },
  {
   "cell_type": "code",
   "execution_count": 23,
   "id": "fb8cdc80",
   "metadata": {},
   "outputs": [
    {
     "name": "stdout",
     "output_type": "stream",
     "text": [
      "2016: Imported records: 16332987 Final records: 13023252 Dropped records: 3309735\n"
     ]
    }
   ],
   "source": [
    "fin16= len(df16.index)\n",
    "dropped16= (start16-fin16)\n",
    "print(f\"2016: Imported records: {start16} Final records: {fin16} Dropped records: {dropped16}\")"
   ]
  },
  {
   "cell_type": "markdown",
   "id": "1fbd23da",
   "metadata": {},
   "source": [
    "## 2015 Cleaning"
   ]
  },
  {
   "cell_type": "code",
   "execution_count": 24,
   "id": "0a807c9b",
   "metadata": {},
   "outputs": [],
   "source": [
    "df15=pd.read_csv('../resources/hmda_2015_nationwide_all-records_codes.csv', usecols=req_col)"
   ]
  },
  {
   "cell_type": "code",
   "execution_count": 25,
   "id": "365f3cf0",
   "metadata": {},
   "outputs": [],
   "source": [
    "start15= len(df15.index)"
   ]
  },
  {
   "cell_type": "code",
   "execution_count": 26,
   "id": "13dabc79",
   "metadata": {},
   "outputs": [],
   "source": [
    "df15= df15.apply(pd.to_numeric, errors=\"coerce\")"
   ]
  },
  {
   "cell_type": "code",
   "execution_count": 27,
   "id": "67644866",
   "metadata": {},
   "outputs": [
    {
     "data": {
      "text/plain": [
       "2679676"
      ]
     },
     "execution_count": 27,
     "metadata": {},
     "output_type": "execute_result"
    }
   ],
   "source": [
    "df15.isna().sum().sum()"
   ]
  },
  {
   "cell_type": "code",
   "execution_count": 28,
   "id": "659b6402",
   "metadata": {},
   "outputs": [],
   "source": [
    "df15=df15.dropna()"
   ]
  },
  {
   "cell_type": "code",
   "execution_count": 29,
   "id": "fcc24837",
   "metadata": {},
   "outputs": [
    {
     "data": {
      "text/plain": [
       "466284"
      ]
     },
     "execution_count": 29,
     "metadata": {},
     "output_type": "execute_result"
    }
   ],
   "source": [
    "df15.duplicated().sum()"
   ]
  },
  {
   "cell_type": "code",
   "execution_count": 30,
   "id": "fcc368d1",
   "metadata": {},
   "outputs": [],
   "source": [
    "df15=df15.drop_duplicates()"
   ]
  },
  {
   "cell_type": "code",
   "execution_count": 31,
   "id": "73d649d0",
   "metadata": {},
   "outputs": [],
   "source": [
    "df15 = df15.astype(set_dtypes)"
   ]
  },
  {
   "cell_type": "code",
   "execution_count": 32,
   "id": "6a7800d6",
   "metadata": {},
   "outputs": [
    {
     "name": "stdout",
     "output_type": "stream",
     "text": [
      "2015: Imported records: 14374184 Final records: 11240974 Dropped records: 3133210\n"
     ]
    }
   ],
   "source": [
    "fin15= len(df15.index)\n",
    "dropped15= (start15-fin15)\n",
    "print(f\"2015: Imported records: {start15} Final records: {fin15} Dropped records: {dropped15}\")"
   ]
  },
  {
   "cell_type": "markdown",
   "id": "27a8d9ed",
   "metadata": {},
   "source": [
    "## 2014 Cleaning"
   ]
  },
  {
   "cell_type": "code",
   "execution_count": 33,
   "id": "af7219bd",
   "metadata": {},
   "outputs": [],
   "source": [
    "df14=pd.read_csv('../resources/hmda_2014_nationwide_all-records_codes.csv', usecols=req_col)"
   ]
  },
  {
   "cell_type": "code",
   "execution_count": 34,
   "id": "521a7878",
   "metadata": {},
   "outputs": [],
   "source": [
    "start14= len(df14.index)"
   ]
  },
  {
   "cell_type": "code",
   "execution_count": 35,
   "id": "0b4767c7",
   "metadata": {},
   "outputs": [
    {
     "data": {
      "text/plain": [
       "1939476"
      ]
     },
     "execution_count": 35,
     "metadata": {},
     "output_type": "execute_result"
    }
   ],
   "source": [
    "df14.isna().sum().sum()"
   ]
  },
  {
   "cell_type": "code",
   "execution_count": 36,
   "id": "1b5cd394",
   "metadata": {},
   "outputs": [],
   "source": [
    "df14=df14.dropna()"
   ]
  },
  {
   "cell_type": "code",
   "execution_count": 37,
   "id": "30de9478",
   "metadata": {},
   "outputs": [
    {
     "data": {
      "text/plain": [
       "410002"
      ]
     },
     "execution_count": 37,
     "metadata": {},
     "output_type": "execute_result"
    }
   ],
   "source": [
    "df14.duplicated().sum()"
   ]
  },
  {
   "cell_type": "code",
   "execution_count": 38,
   "id": "07d5aaf7",
   "metadata": {},
   "outputs": [],
   "source": [
    "df14=df14.drop_duplicates()"
   ]
  },
  {
   "cell_type": "code",
   "execution_count": 39,
   "id": "59f56dba",
   "metadata": {},
   "outputs": [],
   "source": [
    "df14 = df14.astype(set_dtypes)"
   ]
  },
  {
   "cell_type": "code",
   "execution_count": 40,
   "id": "3ec99761",
   "metadata": {},
   "outputs": [
    {
     "name": "stdout",
     "output_type": "stream",
     "text": [
      "2014: Imported records: 12049341 Final records: 9709603 Dropped records: 2339738\n"
     ]
    }
   ],
   "source": [
    "fin14= len(df14.index)\n",
    "dropped14= (start14-fin14)\n",
    "print(f\"2014: Imported records: {start14} Final records: {fin14} Dropped records: {dropped14}\")"
   ]
  },
  {
   "cell_type": "code",
   "execution_count": 41,
   "id": "e64199a8",
   "metadata": {},
   "outputs": [
    {
     "name": "stdout",
     "output_type": "stream",
     "text": [
      "2014-2017 Count:     Imported records: 57,042,008     Dropped records: 11,272,969    Final records: 45,769,039\n"
     ]
    }
   ],
   "source": [
    "print(f\"2014-2017 Count: \\\n",
    "    Imported records: {start14 + start15 + start16 +start17:,d} \\\n",
    "    Dropped records: {dropped14 + dropped15 + dropped16 + dropped17:,d}\\\n",
    "    Final records: {fin14 + fin15 + fin16 + fin17:,d}\")"
   ]
  },
  {
   "cell_type": "markdown",
   "id": "f2a52b43",
   "metadata": {},
   "source": [
    "### Create new DF "
   ]
  },
  {
   "cell_type": "code",
   "execution_count": 42,
   "id": "63e4c09d",
   "metadata": {},
   "outputs": [],
   "source": [
    "df1=pd.concat([df16, df17], ignore_index=True)"
   ]
  },
  {
   "cell_type": "code",
   "execution_count": 43,
   "id": "4756706f",
   "metadata": {},
   "outputs": [],
   "source": [
    "df2=pd.concat([df15, df14], ignore_index=True)"
   ]
  },
  {
   "cell_type": "code",
   "execution_count": 44,
   "id": "c27d2d92",
   "metadata": {},
   "outputs": [],
   "source": [
    "dataset=pd.concat([df1, df2], ignore_index=True)"
   ]
  },
  {
   "cell_type": "markdown",
   "id": "dcac2d26",
   "metadata": {},
   "source": [
    "### Correctly classify target data"
   ]
  },
  {
   "cell_type": "code",
   "execution_count": 45,
   "id": "735f1417",
   "metadata": {},
   "outputs": [],
   "source": [
    "# Remove 4 -- Application withdrawn by applicant & 5 -- File closed for incompleteness\t& 6 -- Loan purchased by the institution\n",
    "dataset=dataset[(dataset.action_taken !=4) & (dataset.action_taken !=5) &(dataset.action_taken !=6)]"
   ]
  },
  {
   "cell_type": "code",
   "execution_count": 46,
   "id": "106bc2da",
   "metadata": {},
   "outputs": [],
   "source": [
    "#Classify remaining columns as Success (1) or Fail (0)\n",
    "#(1) # 1 -- Loan originated\t2 -- Application approved but not accepted\t8 -- Preapproval request approved but not accepted (optional reporting) \n",
    "#(0) # 3 -- Application denied by financial institution 7 -- Preapproval request denied by financial institution\n",
    "dataset['action_taken'].replace({2:1, 3:0, 7:0, 8:1}, inplace=True)"
   ]
  },
  {
   "cell_type": "code",
   "execution_count": 47,
   "id": "6e9df889",
   "metadata": {
    "scrolled": true
   },
   "outputs": [
    {
     "data": {
      "text/plain": [
       "1    27460393\n",
       "0     7803447\n",
       "Name: action_taken, dtype: int64"
      ]
     },
     "execution_count": 47,
     "metadata": {},
     "output_type": "execute_result"
    }
   ],
   "source": [
    "dataset['action_taken'].value_counts()"
   ]
  },
  {
   "cell_type": "markdown",
   "id": "911efeb0",
   "metadata": {},
   "source": [
    "### Filtering"
   ]
  },
  {
   "cell_type": "code",
   "execution_count": 48,
   "id": "47bd36f0",
   "metadata": {},
   "outputs": [],
   "source": [
    "# Only loans for new home purchase\n",
    "# 'loan_purpose' 1 -- Home purchase\t2 -- Home improvement\t 3 -- Refinancing \n",
    "dataset=dataset[dataset['loan_purpose']== 1]"
   ]
  },
  {
   "cell_type": "code",
   "execution_count": 49,
   "id": "a1714cef",
   "metadata": {},
   "outputs": [],
   "source": [
    "# Look at 'property_type'\n",
    "# 1 -- One to four-family (other than manufactured housing) 2-- Manufactured housing\n",
    "# +95% were 1 so drop 2 to help focus our model\n",
    "dataset=dataset[dataset['property_type'] == 1]"
   ]
  },
  {
   "cell_type": "code",
   "execution_count": 50,
   "id": "752f19e3",
   "metadata": {},
   "outputs": [
    {
     "data": {
      "text/plain": [
       "3    10087503\n",
       "2     5393843\n",
       "1     1105603\n",
       "Name: preapproval, dtype: int64"
      ]
     },
     "execution_count": 50,
     "metadata": {},
     "output_type": "execute_result"
    }
   ],
   "source": [
    "# 1 -- Preapproval was requested\n",
    "# 2 -- Preapproval was not requested \n",
    "# 3 -- Not applicable\n",
    "\n",
    "# most are not applicable or not requested- Drop\n",
    "dataset['preapproval'].value_counts()"
   ]
  },
  {
   "cell_type": "code",
   "execution_count": 51,
   "id": "cf632b81",
   "metadata": {},
   "outputs": [],
   "source": [
    "dataset= dataset.drop(columns=['loan_purpose', 'property_type', 'preapproval'])"
   ]
  },
  {
   "cell_type": "code",
   "execution_count": 52,
   "id": "9f8ce4a9",
   "metadata": {},
   "outputs": [
    {
     "data": {
      "text/plain": [
       "1    10883515\n",
       "2     3594337\n",
       "3     1529662\n",
       "4      579435\n",
       "Name: loan_type, dtype: int64"
      ]
     },
     "execution_count": 52,
     "metadata": {},
     "output_type": "execute_result"
    }
   ],
   "source": [
    "# 1 -- Conventional \n",
    "# 2 -- FHA-insured \n",
    "#3 -- VA-guaranteed\n",
    "# 4 -- FSA/RHS (Farm Service Agency or Rural Housing Service)\n",
    "loan_type_count=dataset['loan_type'].value_counts()\n",
    "loan_type_count"
   ]
  },
  {
   "cell_type": "code",
   "execution_count": 53,
   "id": "63855d2d",
   "metadata": {},
   "outputs": [
    {
     "data": {
      "text/plain": [
       "0    5296108\n",
       "1    2472614\n",
       "2    1976849\n",
       "6    1931227\n",
       "7    1858876\n",
       "3    1632012\n",
       "9    1119994\n",
       "8     188534\n",
       "5     108332\n",
       "4       2403\n",
       "Name: purchaser_type, dtype: int64"
      ]
     },
     "execution_count": 53,
     "metadata": {},
     "output_type": "execute_result"
    }
   ],
   "source": [
    "# 0 -- Loan was not originated or was not sold in calendar year covered by register \n",
    "# 1 -- Fannie Mae (FNMA)\n",
    "# 2 -- Ginnie Mae (GNMA)\n",
    "# 3 -- Freddie Mac (FHLMC)\n",
    "# 4 -- Farmer Mac (FAMC)\n",
    "# 5 -- Private securitization\n",
    "# 6 -- Commercial bank, savings bank or savings association\n",
    "# 7 -- Life insurance company, credit union, mortgage bank, or finance company \n",
    "# 8 -- Affiliate institution\n",
    "# 9 -- Other type of purchaser\n",
    "purchaser_type=dataset['purchaser_type'].value_counts()\n",
    "purchaser_type"
   ]
  },
  {
   "cell_type": "code",
   "execution_count": 54,
   "id": "39c95f66",
   "metadata": {},
   "outputs": [],
   "source": [
    "# # Remove # 0 -- Loan was not originated or was not sold in calendar year covered by register\n",
    "# loans=loans[loans['purchaser_type'] != 0]\n",
    "\n",
    "#doing this means we only wind up with loans that were successful\n",
    "#basically giving us a duplicate of our target, the whole column need to be removed\n",
    "\n",
    "loans=dataset.drop(columns=['purchaser_type'])"
   ]
  },
  {
   "cell_type": "code",
   "execution_count": 55,
   "id": "5a524ca5",
   "metadata": {},
   "outputs": [
    {
     "name": "stdout",
     "output_type": "stream",
     "text": [
      "Total_records: 16,586,949\n"
     ]
    }
   ],
   "source": [
    "records=len(loans)\n",
    "print(f'Total_records: {records:,d}')"
   ]
  },
  {
   "cell_type": "markdown",
   "id": "3aa5d1f1",
   "metadata": {},
   "source": [
    "### Remove Unknowns\n",
    "\n",
    "#### Several of our chosen columns had unreported/not known/not required options and these were all removed"
   ]
  },
  {
   "cell_type": "code",
   "execution_count": 56,
   "id": "260250e6",
   "metadata": {},
   "outputs": [
    {
     "data": {
      "text/plain": [
       "2    13426682\n",
       "1     1720172\n",
       "3     1432427\n",
       "4        7668\n",
       "Name: applicant_ethnicity, dtype: int64"
      ]
     },
     "execution_count": 56,
     "metadata": {},
     "output_type": "execute_result"
    }
   ],
   "source": [
    "# 1 -- Hispanic or Latino\n",
    "# 2 -- Not Hispanic or Latino\n",
    "# 3 -- Information not provided by applicant in mail, Internet, or telephone application \n",
    "# 4 -- Not applicable\n",
    "# 5 -- No co-applicant\n",
    "loans['applicant_ethnicity'].value_counts()"
   ]
  },
  {
   "cell_type": "code",
   "execution_count": 58,
   "id": "c7b9bfc0",
   "metadata": {},
   "outputs": [],
   "source": [
    "loans=loans[(loans.applicant_ethnicity != 3) & (loans.applicant_ethnicity != 4)]"
   ]
  },
  {
   "cell_type": "code",
   "execution_count": 59,
   "id": "96a1b838",
   "metadata": {},
   "outputs": [
    {
     "data": {
      "text/plain": [
       "5    8317584\n",
       "2    6022735\n",
       "1     690159\n",
       "3     110447\n",
       "4       5929\n",
       "Name: co_applicant_ethnicity, dtype: int64"
      ]
     },
     "execution_count": 59,
     "metadata": {},
     "output_type": "execute_result"
    }
   ],
   "source": [
    "# 1 -- Hispanic or Latino\n",
    "# 2 -- Not Hispanic or Latino\n",
    "# 3 -- Information not provided by applicant in mail, Internet, or telephone application \n",
    "# 4 -- Not applicable\n",
    "# 5 -- No co-applicant\n",
    "\n",
    "loans['co_applicant_ethnicity'].value_counts()"
   ]
  },
  {
   "cell_type": "code",
   "execution_count": 60,
   "id": "64ed9545",
   "metadata": {},
   "outputs": [],
   "source": [
    "loans=loans[(loans.co_applicant_ethnicity != 3) & (loans.co_applicant_ethnicity != 4)]"
   ]
  },
  {
   "cell_type": "code",
   "execution_count": 61,
   "id": "1e3b712f",
   "metadata": {},
   "outputs": [
    {
     "data": {
      "text/plain": [
       "2    13324327\n",
       "1     1706151\n",
       "Name: applicant_ethnicity, dtype: int64"
      ]
     },
     "execution_count": 61,
     "metadata": {},
     "output_type": "execute_result"
    }
   ],
   "source": [
    "loans['applicant_ethnicity'].value_counts()"
   ]
  },
  {
   "cell_type": "code",
   "execution_count": 62,
   "id": "ff86809f",
   "metadata": {},
   "outputs": [
    {
     "data": {
      "text/plain": [
       "5    8317584\n",
       "2    6022735\n",
       "1     690159\n",
       "Name: co_applicant_ethnicity, dtype: int64"
      ]
     },
     "execution_count": 62,
     "metadata": {},
     "output_type": "execute_result"
    }
   ],
   "source": [
    "loans['co_applicant_ethnicity'].value_counts()"
   ]
  },
  {
   "cell_type": "code",
   "execution_count": 63,
   "id": "a1ec7c7d",
   "metadata": {},
   "outputs": [
    {
     "data": {
      "text/plain": [
       "5    12547950\n",
       "3     1058566\n",
       "2     1050788\n",
       "6      211226\n",
       "1       98177\n",
       "4       63771\n",
       "Name: applicant_race_1, dtype: int64"
      ]
     },
     "execution_count": 63,
     "metadata": {},
     "output_type": "execute_result"
    }
   ],
   "source": [
    "# 1 -- American Indian or Alaska Native\n",
    "# 2 -- Asian\n",
    "# 3 -- Black or African American\n",
    "# 4 -- Native Hawaiian or Other Pacific Islander\n",
    "# 5 -- White\n",
    "# 6 -- Information not provided by applicant in mail, Internet, or telephone application \n",
    "#7 -- Not applicable\n",
    "\n",
    "loans['applicant_race_1'].value_counts()"
   ]
  },
  {
   "cell_type": "code",
   "execution_count": 64,
   "id": "5d0882e3",
   "metadata": {},
   "outputs": [],
   "source": [
    "loans=loans[(loans.applicant_race_1 != 6) & (loans.applicant_race_1 != 7)]"
   ]
  },
  {
   "cell_type": "code",
   "execution_count": 65,
   "id": "05d7d244",
   "metadata": {},
   "outputs": [
    {
     "data": {
      "text/plain": [
       "8    8188893\n",
       "5    5793771\n",
       "2     474769\n",
       "3     261880\n",
       "6      34328\n",
       "1      33595\n",
       "4      32016\n",
       "Name: co_applicant_race_1, dtype: int64"
      ]
     },
     "execution_count": 65,
     "metadata": {},
     "output_type": "execute_result"
    }
   ],
   "source": [
    "# 1 -- American Indian or Alaska Native\n",
    "# 2 -- Asian\n",
    "# 3 -- Black or African American\n",
    "# 4 -- Native Hawaiian or Other Pacific Islander\n",
    "# 5 -- White\n",
    "# 6 -- Information not provided by applicant in mail, Internet, or telephone application 7 -- Not applicable\n",
    "# 8 -- No co-applicant\n",
    "loans['co_applicant_race_1'].value_counts()"
   ]
  },
  {
   "cell_type": "code",
   "execution_count": 66,
   "id": "bbcb57e5",
   "metadata": {},
   "outputs": [],
   "source": [
    "loans=loans[(loans.co_applicant_race_1 != 6) & (loans.co_applicant_race_1 != 7)]"
   ]
  },
  {
   "cell_type": "code",
   "execution_count": 67,
   "id": "82653610",
   "metadata": {},
   "outputs": [
    {
     "data": {
      "text/plain": [
       "1    10326558\n",
       "2     4438166\n",
       "3       19807\n",
       "4         393\n",
       "Name: applicant_sex, dtype: int64"
      ]
     },
     "execution_count": 67,
     "metadata": {},
     "output_type": "execute_result"
    }
   ],
   "source": [
    "# 1 -- Male\n",
    "# 2 -- Female\n",
    "# 3 -- Information not provided by applicant in mail, Internet, or telephone application \n",
    "# 4 -- Not applicable\n",
    "# 5 -- No co-applicant\n",
    "loans['applicant_sex'].value_counts()"
   ]
  },
  {
   "cell_type": "code",
   "execution_count": 68,
   "id": "93a9596c",
   "metadata": {},
   "outputs": [],
   "source": [
    "loans=loans[(loans.applicant_sex != 3) & (loans.applicant_sex != 4)]"
   ]
  },
  {
   "cell_type": "code",
   "execution_count": 70,
   "id": "5707e023",
   "metadata": {},
   "outputs": [
    {
     "data": {
      "text/plain": [
       "1    10326558\n",
       "2     4438166\n",
       "Name: applicant_sex, dtype: int64"
      ]
     },
     "execution_count": 70,
     "metadata": {},
     "output_type": "execute_result"
    }
   ],
   "source": [
    "loans['applicant_sex'].value_counts()"
   ]
  },
  {
   "cell_type": "code",
   "execution_count": 72,
   "id": "7aa68808",
   "metadata": {},
   "outputs": [
    {
     "data": {
      "text/plain": [
       "5    8175776\n",
       "2    5210120\n",
       "1    1372770\n",
       "3       5898\n",
       "Name: co_applicant_sex, dtype: int64"
      ]
     },
     "execution_count": 72,
     "metadata": {},
     "output_type": "execute_result"
    }
   ],
   "source": [
    "# 1 -- Male\n",
    "# 2 -- Female\n",
    "# 3 -- Information not provided by applicant in mail, Internet, or telephone application \n",
    "# 4 -- Not applicable\n",
    "# 5 -- No co-applicant\n",
    "loans['co_applicant_sex'].value_counts()"
   ]
  },
  {
   "cell_type": "code",
   "execution_count": 73,
   "id": "31d1ef1d",
   "metadata": {},
   "outputs": [],
   "source": [
    "loans=loans[(loans.co_applicant_sex != 3) & (loans.co_applicant_sex != 4)]"
   ]
  },
  {
   "cell_type": "code",
   "execution_count": 74,
   "id": "129fd2a9",
   "metadata": {},
   "outputs": [
    {
     "data": {
      "text/plain": [
       "5    8175776\n",
       "2    5210120\n",
       "1    1372770\n",
       "Name: co_applicant_sex, dtype: int64"
      ]
     },
     "execution_count": 74,
     "metadata": {},
     "output_type": "execute_result"
    }
   ],
   "source": [
    "loans['co_applicant_sex'].value_counts()"
   ]
  },
  {
   "cell_type": "code",
   "execution_count": 75,
   "id": "5c902d06",
   "metadata": {},
   "outputs": [
    {
     "name": "stdout",
     "output_type": "stream",
     "text": [
      "Total_records: 14,758,666\n"
     ]
    }
   ],
   "source": [
    "tight_records=len(loans)\n",
    "print(f'Total_records: {tight_records:,d}')"
   ]
  },
  {
   "cell_type": "code",
   "execution_count": 77,
   "id": "9234cfce",
   "metadata": {
    "scrolled": true
   },
   "outputs": [],
   "source": [
    "loans.to_csv(\"../resources/loans_final_state.csv\")"
   ]
  },
  {
   "cell_type": "code",
   "execution_count": null,
   "id": "fe30ee4a",
   "metadata": {},
   "outputs": [],
   "source": [
    "# loans=loans.drop(columns=['state_code'])\n",
    "# loans.head()"
   ]
  },
  {
   "cell_type": "code",
   "execution_count": null,
   "id": "364a4df9",
   "metadata": {},
   "outputs": [],
   "source": [
    "# loans.to_csv(\"resources/loans_final.csv\")"
   ]
  },
  {
   "cell_type": "markdown",
   "id": "447136bb",
   "metadata": {},
   "source": [
    "#### Make datasets to speed up training/testing"
   ]
  },
  {
   "cell_type": "code",
   "execution_count": 78,
   "id": "f29f6492",
   "metadata": {},
   "outputs": [],
   "source": [
    "medium= loans.sample(n = 500000, random_state = 1)"
   ]
  },
  {
   "cell_type": "code",
   "execution_count": 79,
   "id": "a35474a8",
   "metadata": {},
   "outputs": [],
   "source": [
    "medium.to_csv(\"../resources/medium_loans_final_state.csv\")"
   ]
  },
  {
   "cell_type": "code",
   "execution_count": 80,
   "id": "936c91a9",
   "metadata": {},
   "outputs": [],
   "source": [
    "# small= loans.sample(n = 50000, random_state = 1)"
   ]
  },
  {
   "cell_type": "code",
   "execution_count": 81,
   "id": "8857e794",
   "metadata": {},
   "outputs": [],
   "source": [
    "# small.to_csv(\"resources/small_loans_final.csv\")"
   ]
  },
  {
   "cell_type": "code",
   "execution_count": 83,
   "id": "a2800b72",
   "metadata": {},
   "outputs": [],
   "source": [
    "rest_of_data=loans.drop(medium.index)"
   ]
  },
  {
   "cell_type": "code",
   "execution_count": 84,
   "id": "da815685",
   "metadata": {},
   "outputs": [],
   "source": [
    "rest_of_data.to_csv(\"../resources/leftovers_to_test.csv\")"
   ]
  },
  {
   "cell_type": "code",
   "execution_count": null,
   "id": "8350b068",
   "metadata": {},
   "outputs": [],
   "source": []
  }
 ],
 "metadata": {
  "kernelspec": {
   "display_name": "Python 3 (ipykernel)",
   "language": "python",
   "name": "python3"
  },
  "language_info": {
   "codemirror_mode": {
    "name": "ipython",
    "version": 3
   },
   "file_extension": ".py",
   "mimetype": "text/x-python",
   "name": "python",
   "nbconvert_exporter": "python",
   "pygments_lexer": "ipython3",
   "version": "3.8.12"
  }
 },
 "nbformat": 4,
 "nbformat_minor": 5
}
