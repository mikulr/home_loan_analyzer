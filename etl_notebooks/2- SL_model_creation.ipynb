{
 "cells": [
  {
   "cell_type": "code",
   "execution_count": 2,
   "id": "80a3e6ac",
   "metadata": {},
   "outputs": [],
   "source": [
    "import pandas as pd\n",
    "from sklearn.model_selection import train_test_split\n",
    "from sklearn.preprocessing import StandardScaler, MinMaxScaler, LabelEncoder\n",
    "import numpy as np\n",
    "from matplotlib import pyplot as plt\n",
    "from sklearn.linear_model import LogisticRegression\n",
    "from sklearn.ensemble import RandomForestClassifier, AdaBoostClassifier\n",
    "from sklearn.neighbors import KNeighborsClassifier\n",
    "from sklearn.svm import SVC, LinearSVC\n",
    "from sklearn.model_selection import GridSearchCV\n",
    "from sklearn.tree import DecisionTreeClassifier\n",
    "from sklearn.ensemble import ExtraTreesClassifier\n",
    "import pickle"
   ]
  },
  {
   "cell_type": "code",
   "execution_count": 3,
   "id": "4e93cb84",
   "metadata": {},
   "outputs": [],
   "source": [
    "df=pd.read_csv(\"../resources/medium_loans_final_state.csv\")"
   ]
  },
  {
   "cell_type": "code",
   "execution_count": 4,
   "id": "8125b651",
   "metadata": {},
   "outputs": [
    {
     "data": {
      "text/html": [
       "<div>\n",
       "<style scoped>\n",
       "    .dataframe tbody tr th:only-of-type {\n",
       "        vertical-align: middle;\n",
       "    }\n",
       "\n",
       "    .dataframe tbody tr th {\n",
       "        vertical-align: top;\n",
       "    }\n",
       "\n",
       "    .dataframe thead th {\n",
       "        text-align: right;\n",
       "    }\n",
       "</style>\n",
       "<table border=\"1\" class=\"dataframe\">\n",
       "  <thead>\n",
       "    <tr style=\"text-align: right;\">\n",
       "      <th></th>\n",
       "      <th>Unnamed: 0</th>\n",
       "      <th>loan_type</th>\n",
       "      <th>loan_amount_000s</th>\n",
       "      <th>action_taken</th>\n",
       "      <th>state_code</th>\n",
       "      <th>applicant_ethnicity</th>\n",
       "      <th>co_applicant_ethnicity</th>\n",
       "      <th>applicant_race_1</th>\n",
       "      <th>co_applicant_race_1</th>\n",
       "      <th>applicant_sex</th>\n",
       "      <th>co_applicant_sex</th>\n",
       "      <th>applicant_income_000s</th>\n",
       "    </tr>\n",
       "  </thead>\n",
       "  <tbody>\n",
       "    <tr>\n",
       "      <th>0</th>\n",
       "      <td>31132844</td>\n",
       "      <td>2</td>\n",
       "      <td>82</td>\n",
       "      <td>1</td>\n",
       "      <td>39</td>\n",
       "      <td>2</td>\n",
       "      <td>5</td>\n",
       "      <td>5</td>\n",
       "      <td>8</td>\n",
       "      <td>2</td>\n",
       "      <td>5</td>\n",
       "      <td>36</td>\n",
       "    </tr>\n",
       "    <tr>\n",
       "      <th>1</th>\n",
       "      <td>32078094</td>\n",
       "      <td>1</td>\n",
       "      <td>81</td>\n",
       "      <td>1</td>\n",
       "      <td>48</td>\n",
       "      <td>2</td>\n",
       "      <td>5</td>\n",
       "      <td>5</td>\n",
       "      <td>8</td>\n",
       "      <td>2</td>\n",
       "      <td>5</td>\n",
       "      <td>31</td>\n",
       "    </tr>\n",
       "    <tr>\n",
       "      <th>2</th>\n",
       "      <td>31119033</td>\n",
       "      <td>2</td>\n",
       "      <td>63</td>\n",
       "      <td>1</td>\n",
       "      <td>39</td>\n",
       "      <td>2</td>\n",
       "      <td>2</td>\n",
       "      <td>5</td>\n",
       "      <td>5</td>\n",
       "      <td>2</td>\n",
       "      <td>1</td>\n",
       "      <td>82</td>\n",
       "    </tr>\n",
       "    <tr>\n",
       "      <th>3</th>\n",
       "      <td>24811761</td>\n",
       "      <td>2</td>\n",
       "      <td>135</td>\n",
       "      <td>1</td>\n",
       "      <td>72</td>\n",
       "      <td>1</td>\n",
       "      <td>5</td>\n",
       "      <td>3</td>\n",
       "      <td>8</td>\n",
       "      <td>1</td>\n",
       "      <td>5</td>\n",
       "      <td>28</td>\n",
       "    </tr>\n",
       "    <tr>\n",
       "      <th>4</th>\n",
       "      <td>463658</td>\n",
       "      <td>1</td>\n",
       "      <td>932</td>\n",
       "      <td>1</td>\n",
       "      <td>6</td>\n",
       "      <td>2</td>\n",
       "      <td>2</td>\n",
       "      <td>2</td>\n",
       "      <td>2</td>\n",
       "      <td>1</td>\n",
       "      <td>2</td>\n",
       "      <td>194</td>\n",
       "    </tr>\n",
       "  </tbody>\n",
       "</table>\n",
       "</div>"
      ],
      "text/plain": [
       "   Unnamed: 0  loan_type  loan_amount_000s  action_taken  state_code  \\\n",
       "0    31132844          2                82             1          39   \n",
       "1    32078094          1                81             1          48   \n",
       "2    31119033          2                63             1          39   \n",
       "3    24811761          2               135             1          72   \n",
       "4      463658          1               932             1           6   \n",
       "\n",
       "   applicant_ethnicity  co_applicant_ethnicity  applicant_race_1  \\\n",
       "0                    2                       5                 5   \n",
       "1                    2                       5                 5   \n",
       "2                    2                       2                 5   \n",
       "3                    1                       5                 3   \n",
       "4                    2                       2                 2   \n",
       "\n",
       "   co_applicant_race_1  applicant_sex  co_applicant_sex  applicant_income_000s  \n",
       "0                    8              2                 5                     36  \n",
       "1                    8              2                 5                     31  \n",
       "2                    5              2                 1                     82  \n",
       "3                    8              1                 5                     28  \n",
       "4                    2              1                 2                    194  "
      ]
     },
     "execution_count": 4,
     "metadata": {},
     "output_type": "execute_result"
    }
   ],
   "source": [
    "df.head()"
   ]
  },
  {
   "cell_type": "code",
   "execution_count": 5,
   "id": "f701c9c6",
   "metadata": {},
   "outputs": [],
   "source": [
    "retypes={'state_code':'str'\n",
    ",'loan_type':'str'\n",
    ",'loan_amount_000s':'int64'\n",
    ",'action_taken':'int8'\n",
    ",'applicant_ethnicity':'str'\n",
    ",'co_applicant_ethnicity':'str'\n",
    ",'applicant_race_1':'str'\n",
    ",'co_applicant_race_1':'str'\n",
    ",'applicant_sex':'str'\n",
    ",'co_applicant_sex':'str'\n",
    ",'applicant_income_000s':'int64'}"
   ]
  },
  {
   "cell_type": "code",
   "execution_count": 6,
   "id": "9741763b",
   "metadata": {},
   "outputs": [],
   "source": [
    "# categorical fields to strings for one-hot encoding\n",
    "df = df.astype(retypes)\n"
   ]
  },
  {
   "cell_type": "code",
   "execution_count": 7,
   "id": "33eafc1b",
   "metadata": {},
   "outputs": [],
   "source": [
    "X = df.drop(columns=['action_taken','Unnamed: 0'])\n"
   ]
  },
  {
   "cell_type": "code",
   "execution_count": 8,
   "id": "52f65f1c",
   "metadata": {},
   "outputs": [
    {
     "name": "stdout",
     "output_type": "stream",
     "text": [
      "Index(['loan_amount_000s', 'applicant_income_000s', 'loan_type_1',\n",
      "       'loan_type_2', 'loan_type_3', 'loan_type_4', 'state_code_1',\n",
      "       'state_code_10', 'state_code_11', 'state_code_12', 'state_code_13',\n",
      "       'state_code_15', 'state_code_16', 'state_code_17', 'state_code_18',\n",
      "       'state_code_19', 'state_code_2', 'state_code_20', 'state_code_21',\n",
      "       'state_code_22', 'state_code_23', 'state_code_24', 'state_code_25',\n",
      "       'state_code_26', 'state_code_27', 'state_code_28', 'state_code_29',\n",
      "       'state_code_30', 'state_code_31', 'state_code_32', 'state_code_33',\n",
      "       'state_code_34', 'state_code_35', 'state_code_36', 'state_code_37',\n",
      "       'state_code_38', 'state_code_39', 'state_code_4', 'state_code_40',\n",
      "       'state_code_41', 'state_code_42', 'state_code_44', 'state_code_45',\n",
      "       'state_code_46', 'state_code_47', 'state_code_48', 'state_code_49',\n",
      "       'state_code_5', 'state_code_50', 'state_code_51', 'state_code_53',\n",
      "       'state_code_54', 'state_code_55', 'state_code_56', 'state_code_6',\n",
      "       'state_code_72', 'state_code_8', 'state_code_9',\n",
      "       'applicant_ethnicity_1', 'applicant_ethnicity_2',\n",
      "       'co_applicant_ethnicity_1', 'co_applicant_ethnicity_2',\n",
      "       'co_applicant_ethnicity_5', 'applicant_race_1_1', 'applicant_race_1_2',\n",
      "       'applicant_race_1_3', 'applicant_race_1_4', 'applicant_race_1_5',\n",
      "       'co_applicant_race_1_1', 'co_applicant_race_1_2',\n",
      "       'co_applicant_race_1_3', 'co_applicant_race_1_4',\n",
      "       'co_applicant_race_1_5', 'co_applicant_race_1_8', 'applicant_sex_1',\n",
      "       'applicant_sex_2', 'co_applicant_sex_1', 'co_applicant_sex_2',\n",
      "       'co_applicant_sex_5'],\n",
      "      dtype='object')\n"
     ]
    },
    {
     "data": {
      "text/html": [
       "<div>\n",
       "<style scoped>\n",
       "    .dataframe tbody tr th:only-of-type {\n",
       "        vertical-align: middle;\n",
       "    }\n",
       "\n",
       "    .dataframe tbody tr th {\n",
       "        vertical-align: top;\n",
       "    }\n",
       "\n",
       "    .dataframe thead th {\n",
       "        text-align: right;\n",
       "    }\n",
       "</style>\n",
       "<table border=\"1\" class=\"dataframe\">\n",
       "  <thead>\n",
       "    <tr style=\"text-align: right;\">\n",
       "      <th></th>\n",
       "      <th>loan_amount_000s</th>\n",
       "      <th>applicant_income_000s</th>\n",
       "      <th>loan_type_1</th>\n",
       "      <th>loan_type_2</th>\n",
       "      <th>loan_type_3</th>\n",
       "      <th>loan_type_4</th>\n",
       "      <th>state_code_1</th>\n",
       "      <th>state_code_10</th>\n",
       "      <th>state_code_11</th>\n",
       "      <th>state_code_12</th>\n",
       "      <th>...</th>\n",
       "      <th>co_applicant_race_1_2</th>\n",
       "      <th>co_applicant_race_1_3</th>\n",
       "      <th>co_applicant_race_1_4</th>\n",
       "      <th>co_applicant_race_1_5</th>\n",
       "      <th>co_applicant_race_1_8</th>\n",
       "      <th>applicant_sex_1</th>\n",
       "      <th>applicant_sex_2</th>\n",
       "      <th>co_applicant_sex_1</th>\n",
       "      <th>co_applicant_sex_2</th>\n",
       "      <th>co_applicant_sex_5</th>\n",
       "    </tr>\n",
       "  </thead>\n",
       "  <tbody>\n",
       "    <tr>\n",
       "      <th>0</th>\n",
       "      <td>82</td>\n",
       "      <td>36</td>\n",
       "      <td>0</td>\n",
       "      <td>1</td>\n",
       "      <td>0</td>\n",
       "      <td>0</td>\n",
       "      <td>0</td>\n",
       "      <td>0</td>\n",
       "      <td>0</td>\n",
       "      <td>0</td>\n",
       "      <td>...</td>\n",
       "      <td>0</td>\n",
       "      <td>0</td>\n",
       "      <td>0</td>\n",
       "      <td>0</td>\n",
       "      <td>1</td>\n",
       "      <td>0</td>\n",
       "      <td>1</td>\n",
       "      <td>0</td>\n",
       "      <td>0</td>\n",
       "      <td>1</td>\n",
       "    </tr>\n",
       "    <tr>\n",
       "      <th>1</th>\n",
       "      <td>81</td>\n",
       "      <td>31</td>\n",
       "      <td>1</td>\n",
       "      <td>0</td>\n",
       "      <td>0</td>\n",
       "      <td>0</td>\n",
       "      <td>0</td>\n",
       "      <td>0</td>\n",
       "      <td>0</td>\n",
       "      <td>0</td>\n",
       "      <td>...</td>\n",
       "      <td>0</td>\n",
       "      <td>0</td>\n",
       "      <td>0</td>\n",
       "      <td>0</td>\n",
       "      <td>1</td>\n",
       "      <td>0</td>\n",
       "      <td>1</td>\n",
       "      <td>0</td>\n",
       "      <td>0</td>\n",
       "      <td>1</td>\n",
       "    </tr>\n",
       "    <tr>\n",
       "      <th>2</th>\n",
       "      <td>63</td>\n",
       "      <td>82</td>\n",
       "      <td>0</td>\n",
       "      <td>1</td>\n",
       "      <td>0</td>\n",
       "      <td>0</td>\n",
       "      <td>0</td>\n",
       "      <td>0</td>\n",
       "      <td>0</td>\n",
       "      <td>0</td>\n",
       "      <td>...</td>\n",
       "      <td>0</td>\n",
       "      <td>0</td>\n",
       "      <td>0</td>\n",
       "      <td>1</td>\n",
       "      <td>0</td>\n",
       "      <td>0</td>\n",
       "      <td>1</td>\n",
       "      <td>1</td>\n",
       "      <td>0</td>\n",
       "      <td>0</td>\n",
       "    </tr>\n",
       "    <tr>\n",
       "      <th>3</th>\n",
       "      <td>135</td>\n",
       "      <td>28</td>\n",
       "      <td>0</td>\n",
       "      <td>1</td>\n",
       "      <td>0</td>\n",
       "      <td>0</td>\n",
       "      <td>0</td>\n",
       "      <td>0</td>\n",
       "      <td>0</td>\n",
       "      <td>0</td>\n",
       "      <td>...</td>\n",
       "      <td>0</td>\n",
       "      <td>0</td>\n",
       "      <td>0</td>\n",
       "      <td>0</td>\n",
       "      <td>1</td>\n",
       "      <td>1</td>\n",
       "      <td>0</td>\n",
       "      <td>0</td>\n",
       "      <td>0</td>\n",
       "      <td>1</td>\n",
       "    </tr>\n",
       "    <tr>\n",
       "      <th>4</th>\n",
       "      <td>932</td>\n",
       "      <td>194</td>\n",
       "      <td>1</td>\n",
       "      <td>0</td>\n",
       "      <td>0</td>\n",
       "      <td>0</td>\n",
       "      <td>0</td>\n",
       "      <td>0</td>\n",
       "      <td>0</td>\n",
       "      <td>0</td>\n",
       "      <td>...</td>\n",
       "      <td>1</td>\n",
       "      <td>0</td>\n",
       "      <td>0</td>\n",
       "      <td>0</td>\n",
       "      <td>0</td>\n",
       "      <td>1</td>\n",
       "      <td>0</td>\n",
       "      <td>0</td>\n",
       "      <td>1</td>\n",
       "      <td>0</td>\n",
       "    </tr>\n",
       "    <tr>\n",
       "      <th>...</th>\n",
       "      <td>...</td>\n",
       "      <td>...</td>\n",
       "      <td>...</td>\n",
       "      <td>...</td>\n",
       "      <td>...</td>\n",
       "      <td>...</td>\n",
       "      <td>...</td>\n",
       "      <td>...</td>\n",
       "      <td>...</td>\n",
       "      <td>...</td>\n",
       "      <td>...</td>\n",
       "      <td>...</td>\n",
       "      <td>...</td>\n",
       "      <td>...</td>\n",
       "      <td>...</td>\n",
       "      <td>...</td>\n",
       "      <td>...</td>\n",
       "      <td>...</td>\n",
       "      <td>...</td>\n",
       "      <td>...</td>\n",
       "      <td>...</td>\n",
       "    </tr>\n",
       "    <tr>\n",
       "      <th>499995</th>\n",
       "      <td>236</td>\n",
       "      <td>126</td>\n",
       "      <td>0</td>\n",
       "      <td>1</td>\n",
       "      <td>0</td>\n",
       "      <td>0</td>\n",
       "      <td>0</td>\n",
       "      <td>0</td>\n",
       "      <td>0</td>\n",
       "      <td>0</td>\n",
       "      <td>...</td>\n",
       "      <td>0</td>\n",
       "      <td>0</td>\n",
       "      <td>0</td>\n",
       "      <td>1</td>\n",
       "      <td>0</td>\n",
       "      <td>1</td>\n",
       "      <td>0</td>\n",
       "      <td>0</td>\n",
       "      <td>1</td>\n",
       "      <td>0</td>\n",
       "    </tr>\n",
       "    <tr>\n",
       "      <th>499996</th>\n",
       "      <td>147</td>\n",
       "      <td>54</td>\n",
       "      <td>1</td>\n",
       "      <td>0</td>\n",
       "      <td>0</td>\n",
       "      <td>0</td>\n",
       "      <td>0</td>\n",
       "      <td>0</td>\n",
       "      <td>0</td>\n",
       "      <td>0</td>\n",
       "      <td>...</td>\n",
       "      <td>0</td>\n",
       "      <td>0</td>\n",
       "      <td>0</td>\n",
       "      <td>0</td>\n",
       "      <td>1</td>\n",
       "      <td>1</td>\n",
       "      <td>0</td>\n",
       "      <td>0</td>\n",
       "      <td>0</td>\n",
       "      <td>1</td>\n",
       "    </tr>\n",
       "    <tr>\n",
       "      <th>499997</th>\n",
       "      <td>50</td>\n",
       "      <td>19</td>\n",
       "      <td>1</td>\n",
       "      <td>0</td>\n",
       "      <td>0</td>\n",
       "      <td>0</td>\n",
       "      <td>0</td>\n",
       "      <td>0</td>\n",
       "      <td>0</td>\n",
       "      <td>0</td>\n",
       "      <td>...</td>\n",
       "      <td>0</td>\n",
       "      <td>0</td>\n",
       "      <td>0</td>\n",
       "      <td>0</td>\n",
       "      <td>1</td>\n",
       "      <td>1</td>\n",
       "      <td>0</td>\n",
       "      <td>0</td>\n",
       "      <td>0</td>\n",
       "      <td>1</td>\n",
       "    </tr>\n",
       "    <tr>\n",
       "      <th>499998</th>\n",
       "      <td>40</td>\n",
       "      <td>19</td>\n",
       "      <td>1</td>\n",
       "      <td>0</td>\n",
       "      <td>0</td>\n",
       "      <td>0</td>\n",
       "      <td>0</td>\n",
       "      <td>0</td>\n",
       "      <td>0</td>\n",
       "      <td>0</td>\n",
       "      <td>...</td>\n",
       "      <td>0</td>\n",
       "      <td>0</td>\n",
       "      <td>0</td>\n",
       "      <td>0</td>\n",
       "      <td>1</td>\n",
       "      <td>1</td>\n",
       "      <td>0</td>\n",
       "      <td>0</td>\n",
       "      <td>0</td>\n",
       "      <td>1</td>\n",
       "    </tr>\n",
       "    <tr>\n",
       "      <th>499999</th>\n",
       "      <td>274</td>\n",
       "      <td>532</td>\n",
       "      <td>1</td>\n",
       "      <td>0</td>\n",
       "      <td>0</td>\n",
       "      <td>0</td>\n",
       "      <td>0</td>\n",
       "      <td>0</td>\n",
       "      <td>0</td>\n",
       "      <td>0</td>\n",
       "      <td>...</td>\n",
       "      <td>0</td>\n",
       "      <td>0</td>\n",
       "      <td>0</td>\n",
       "      <td>1</td>\n",
       "      <td>0</td>\n",
       "      <td>1</td>\n",
       "      <td>0</td>\n",
       "      <td>0</td>\n",
       "      <td>1</td>\n",
       "      <td>0</td>\n",
       "    </tr>\n",
       "  </tbody>\n",
       "</table>\n",
       "<p>500000 rows × 79 columns</p>\n",
       "</div>"
      ],
      "text/plain": [
       "        loan_amount_000s  applicant_income_000s  loan_type_1  loan_type_2  \\\n",
       "0                     82                     36            0            1   \n",
       "1                     81                     31            1            0   \n",
       "2                     63                     82            0            1   \n",
       "3                    135                     28            0            1   \n",
       "4                    932                    194            1            0   \n",
       "...                  ...                    ...          ...          ...   \n",
       "499995               236                    126            0            1   \n",
       "499996               147                     54            1            0   \n",
       "499997                50                     19            1            0   \n",
       "499998                40                     19            1            0   \n",
       "499999               274                    532            1            0   \n",
       "\n",
       "        loan_type_3  loan_type_4  state_code_1  state_code_10  state_code_11  \\\n",
       "0                 0            0             0              0              0   \n",
       "1                 0            0             0              0              0   \n",
       "2                 0            0             0              0              0   \n",
       "3                 0            0             0              0              0   \n",
       "4                 0            0             0              0              0   \n",
       "...             ...          ...           ...            ...            ...   \n",
       "499995            0            0             0              0              0   \n",
       "499996            0            0             0              0              0   \n",
       "499997            0            0             0              0              0   \n",
       "499998            0            0             0              0              0   \n",
       "499999            0            0             0              0              0   \n",
       "\n",
       "        state_code_12  ...  co_applicant_race_1_2  co_applicant_race_1_3  \\\n",
       "0                   0  ...                      0                      0   \n",
       "1                   0  ...                      0                      0   \n",
       "2                   0  ...                      0                      0   \n",
       "3                   0  ...                      0                      0   \n",
       "4                   0  ...                      1                      0   \n",
       "...               ...  ...                    ...                    ...   \n",
       "499995              0  ...                      0                      0   \n",
       "499996              0  ...                      0                      0   \n",
       "499997              0  ...                      0                      0   \n",
       "499998              0  ...                      0                      0   \n",
       "499999              0  ...                      0                      0   \n",
       "\n",
       "        co_applicant_race_1_4  co_applicant_race_1_5  co_applicant_race_1_8  \\\n",
       "0                           0                      0                      1   \n",
       "1                           0                      0                      1   \n",
       "2                           0                      1                      0   \n",
       "3                           0                      0                      1   \n",
       "4                           0                      0                      0   \n",
       "...                       ...                    ...                    ...   \n",
       "499995                      0                      1                      0   \n",
       "499996                      0                      0                      1   \n",
       "499997                      0                      0                      1   \n",
       "499998                      0                      0                      1   \n",
       "499999                      0                      1                      0   \n",
       "\n",
       "        applicant_sex_1  applicant_sex_2  co_applicant_sex_1  \\\n",
       "0                     0                1                   0   \n",
       "1                     0                1                   0   \n",
       "2                     0                1                   1   \n",
       "3                     1                0                   0   \n",
       "4                     1                0                   0   \n",
       "...                 ...              ...                 ...   \n",
       "499995                1                0                   0   \n",
       "499996                1                0                   0   \n",
       "499997                1                0                   0   \n",
       "499998                1                0                   0   \n",
       "499999                1                0                   0   \n",
       "\n",
       "        co_applicant_sex_2  co_applicant_sex_5  \n",
       "0                        0                   1  \n",
       "1                        0                   1  \n",
       "2                        0                   0  \n",
       "3                        0                   1  \n",
       "4                        1                   0  \n",
       "...                    ...                 ...  \n",
       "499995                   1                   0  \n",
       "499996                   0                   1  \n",
       "499997                   0                   1  \n",
       "499998                   0                   1  \n",
       "499999                   1                   0  \n",
       "\n",
       "[500000 rows x 79 columns]"
      ]
     },
     "execution_count": 8,
     "metadata": {},
     "output_type": "execute_result"
    }
   ],
   "source": [
    "X_dummies = pd.get_dummies(X)\n",
    "print(X_dummies.columns)\n",
    "X_dummies"
   ]
  },
  {
   "cell_type": "code",
   "execution_count": 9,
   "id": "19c23c53",
   "metadata": {},
   "outputs": [],
   "source": [
    "# Split our preprocessed data into our features and target arrays\n",
    "\n",
    "y = df['action_taken']\n",
    "\n",
    "# Split the preprocessed data into a training and testing dataset\n",
    "X_train, X_test, y_train, y_test = train_test_split(X_dummies, y, random_state=42)"
   ]
  },
  {
   "cell_type": "code",
   "execution_count": 10,
   "id": "457bc722",
   "metadata": {},
   "outputs": [],
   "source": [
    "# Create a StandardScaler instances\n",
    "scaler = StandardScaler()\n",
    "\n",
    "# Fit the StandardScaler\n",
    "X_scaler = scaler.fit(X_train)\n",
    "\n",
    "# Scale the data\n",
    "X_train_scaled = X_scaler.transform(X_train)\n",
    "X_test_scaled = X_scaler.transform(X_test)"
   ]
  },
  {
   "cell_type": "markdown",
   "id": "2cc4666f",
   "metadata": {},
   "source": [
    "## Baseline Testing"
   ]
  },
  {
   "cell_type": "code",
   "execution_count": 12,
   "id": "44046759",
   "metadata": {},
   "outputs": [],
   "source": [
    "data = [X_train_scaled, X_test_scaled, y_train, y_test]"
   ]
  },
  {
   "cell_type": "code",
   "execution_count": 13,
   "id": "c03abb04",
   "metadata": {},
   "outputs": [],
   "source": [
    "def test_model(model, data):\n",
    "    X_train_scaled, X_test_scaled, y_train, y_test = data\n",
    "    reg = model.fit(X_train_scaled, y_train)\n",
    "    print(f'Model: {type(reg).__name__}')\n",
    "    print(f'Train score: {reg.score(X_train_scaled, y_train)}')\n",
    "    print(f'Test Score: {reg.score(X_test_scaled, y_test)}\\n')\n",
    "    plt.show()   "
   ]
  },
  {
   "cell_type": "code",
   "execution_count": 14,
   "id": "bdae2bc9",
   "metadata": {},
   "outputs": [
    {
     "name": "stdout",
     "output_type": "stream",
     "text": [
      "Model: LogisticRegression\n",
      "Train score: 0.8911946666666667\n",
      "Test Score: 0.889776\n",
      "\n",
      "Model: AdaBoostClassifier\n",
      "Train score: 0.8915306666666667\n",
      "Test Score: 0.890344\n",
      "\n",
      "Model: RandomForestClassifier\n",
      "Train score: 0.9966106666666666\n",
      "Test Score: 0.87348\n",
      "\n"
     ]
    },
    {
     "name": "stderr",
     "output_type": "stream",
     "text": [
      "/Users/michaelraines/opt/anaconda3/lib/python3.8/site-packages/sklearn/svm/_base.py:1206: ConvergenceWarning: Liblinear failed to converge, increase the number of iterations.\n",
      "  warnings.warn(\n"
     ]
    },
    {
     "name": "stdout",
     "output_type": "stream",
     "text": [
      "Model: LinearSVC\n",
      "Train score: 0.8909653333333334\n",
      "Test Score: 0.889504\n",
      "\n",
      "Model: DecisionTreeClassifier\n",
      "Train score: 0.9966693333333333\n",
      "Test Score: 0.810392\n",
      "\n",
      "Model: ExtraTreesClassifier\n",
      "Train score: 0.9966693333333333\n",
      "Test Score: 0.857896\n",
      "\n",
      "Model: KNeighborsClassifier\n",
      "Train score: 0.897024\n",
      "Test Score: 0.881592\n",
      "\n"
     ]
    }
   ],
   "source": [
    "#test defaults \n",
    "test_model(LogisticRegression(), data)\n",
    "test_model(AdaBoostClassifier(), data)\n",
    "test_model(RandomForestClassifier(), data)\n",
    "test_model(LinearSVC(), data)\n",
    "test_model(DecisionTreeClassifier(), data)\n",
    "test_model(ExtraTreesClassifier(), data)\n",
    "test_model(KNeighborsClassifier(), data)"
   ]
  },
  {
   "cell_type": "markdown",
   "id": "fd5afc60",
   "metadata": {},
   "source": [
    "### Grid CV of Best Performing Classifiers"
   ]
  },
  {
   "cell_type": "markdown",
   "id": "218ceaba",
   "metadata": {},
   "source": [
    "#### Logistic Regression"
   ]
  },
  {
   "cell_type": "code",
   "execution_count": 18,
   "id": "b9d70169",
   "metadata": {},
   "outputs": [
    {
     "name": "stdout",
     "output_type": "stream",
     "text": [
      "Fitting 5 folds for each of 360 candidates, totalling 1800 fits\n",
      "[CV 1/5] END C=1000, max_iter=100, penalty=l1, solver=newton-cg;, score=nan total time=   0.2s\n",
      "[CV 2/5] END C=1000, max_iter=100, penalty=l1, solver=newton-cg;, score=nan total time=   0.1s\n",
      "[CV 3/5] END C=1000, max_iter=100, penalty=l1, solver=newton-cg;, score=nan total time=   0.1s\n",
      "[CV 4/5] END C=1000, max_iter=100, penalty=l1, solver=newton-cg;, score=nan total time=   0.1s\n",
      "[CV 5/5] END C=1000, max_iter=100, penalty=l1, solver=newton-cg;, score=nan total time=   0.1s\n",
      "[CV 1/5] END C=1000, max_iter=100, penalty=l1, solver=sag;, score=nan total time=   0.1s\n",
      "[CV 2/5] END C=1000, max_iter=100, penalty=l1, solver=sag;, score=nan total time=   0.1s\n",
      "[CV 3/5] END C=1000, max_iter=100, penalty=l1, solver=sag;, score=nan total time=   0.1s\n",
      "[CV 4/5] END C=1000, max_iter=100, penalty=l1, solver=sag;, score=nan total time=   0.1s\n",
      "[CV 5/5] END C=1000, max_iter=100, penalty=l1, solver=sag;, score=nan total time=   0.1s\n",
      "[CV 1/5] END C=1000, max_iter=100, penalty=l1, solver=saga;, score=0.891 total time=  24.1s\n",
      "[CV 2/5] END C=1000, max_iter=100, penalty=l1, solver=saga;, score=0.891 total time=  14.5s\n",
      "[CV 3/5] END C=1000, max_iter=100, penalty=l1, solver=saga;, score=0.891 total time=  14.8s\n",
      "[CV 4/5] END C=1000, max_iter=100, penalty=l1, solver=saga;, score=0.891 total time=  14.9s\n",
      "[CV 5/5] END C=1000, max_iter=100, penalty=l1, solver=saga;, score=0.891 total time=  15.6s\n",
      "[CV 1/5] END C=1000, max_iter=100, penalty=l1, solver=liblinear;, score=0.891 total time=   2.1s\n",
      "[CV 2/5] END C=1000, max_iter=100, penalty=l1, solver=liblinear;, score=0.891 total time=   1.8s\n",
      "[CV 3/5] END C=1000, max_iter=100, penalty=l1, solver=liblinear;, score=0.891 total time=   1.6s\n",
      "[CV 4/5] END C=1000, max_iter=100, penalty=l1, solver=liblinear;, score=0.891 total time=   1.7s\n",
      "[CV 5/5] END C=1000, max_iter=100, penalty=l1, solver=liblinear;, score=0.891 total time=   2.1s\n",
      "[CV 1/5] END C=1000, max_iter=100, penalty=l1, solver=lgbfs;, score=nan total time=   0.1s\n",
      "[CV 2/5] END C=1000, max_iter=100, penalty=l1, solver=lgbfs;, score=nan total time=   0.1s\n",
      "[CV 3/5] END C=1000, max_iter=100, penalty=l1, solver=lgbfs;, score=nan total time=   0.1s\n",
      "[CV 4/5] END C=1000, max_iter=100, penalty=l1, solver=lgbfs;, score=nan total time=   0.1s\n",
      "[CV 5/5] END C=1000, max_iter=100, penalty=l1, solver=lgbfs;, score=nan total time=   0.1s\n",
      "[CV 1/5] END C=1000, max_iter=100, penalty=l2, solver=newton-cg;, score=0.891 total time=   2.8s\n",
      "[CV 2/5] END C=1000, max_iter=100, penalty=l2, solver=newton-cg;, score=0.891 total time=   2.6s\n",
      "[CV 3/5] END C=1000, max_iter=100, penalty=l2, solver=newton-cg;, score=0.891 total time=   2.5s\n",
      "[CV 4/5] END C=1000, max_iter=100, penalty=l2, solver=newton-cg;, score=0.891 total time=   2.4s\n",
      "[CV 5/5] END C=1000, max_iter=100, penalty=l2, solver=newton-cg;, score=0.891 total time=   2.7s\n",
      "[CV 1/5] END C=1000, max_iter=100, penalty=l2, solver=sag;, score=0.891 total time=   9.1s\n",
      "[CV 2/5] END C=1000, max_iter=100, penalty=l2, solver=sag;, score=0.891 total time=   4.7s\n",
      "[CV 3/5] END C=1000, max_iter=100, penalty=l2, solver=sag;, score=0.891 total time=   4.7s\n",
      "[CV 4/5] END C=1000, max_iter=100, penalty=l2, solver=sag;, score=0.891 total time=   4.7s\n",
      "[CV 5/5] END C=1000, max_iter=100, penalty=l2, solver=sag;, score=0.891 total time=   6.4s\n",
      "[CV 1/5] END C=1000, max_iter=100, penalty=l2, solver=saga;, score=0.891 total time=  20.7s\n",
      "[CV 2/5] END C=1000, max_iter=100, penalty=l2, solver=saga;, score=0.891 total time=  12.9s\n",
      "[CV 3/5] END C=1000, max_iter=100, penalty=l2, solver=saga;, score=0.891 total time=  13.1s\n",
      "[CV 4/5] END C=1000, max_iter=100, penalty=l2, solver=saga;, score=0.891 total time=  14.6s\n",
      "[CV 5/5] END C=1000, max_iter=100, penalty=l2, solver=saga;, score=0.891 total time=  14.8s\n",
      "[CV 1/5] END C=1000, max_iter=100, penalty=l2, solver=liblinear;, score=0.891 total time=   2.5s\n",
      "[CV 2/5] END C=1000, max_iter=100, penalty=l2, solver=liblinear;, score=0.891 total time=   2.5s\n",
      "[CV 3/5] END C=1000, max_iter=100, penalty=l2, solver=liblinear;, score=0.891 total time=   2.5s\n",
      "[CV 4/5] END C=1000, max_iter=100, penalty=l2, solver=liblinear;, score=0.891 total time=   3.2s\n",
      "[CV 5/5] END C=1000, max_iter=100, penalty=l2, solver=liblinear;, score=0.891 total time=   3.5s\n",
      "[CV 1/5] END C=1000, max_iter=100, penalty=l2, solver=lgbfs;, score=nan total time=   0.1s\n",
      "[CV 2/5] END C=1000, max_iter=100, penalty=l2, solver=lgbfs;, score=nan total time=   0.1s\n",
      "[CV 3/5] END C=1000, max_iter=100, penalty=l2, solver=lgbfs;, score=nan total time=   0.1s\n",
      "[CV 4/5] END C=1000, max_iter=100, penalty=l2, solver=lgbfs;, score=nan total time=   0.1s\n",
      "[CV 5/5] END C=1000, max_iter=100, penalty=l2, solver=lgbfs;, score=nan total time=   0.1s\n",
      "[CV 1/5] END C=1000, max_iter=100, penalty=elasticnet, solver=newton-cg;, score=nan total time=   0.1s\n",
      "[CV 2/5] END C=1000, max_iter=100, penalty=elasticnet, solver=newton-cg;, score=nan total time=   0.1s\n",
      "[CV 3/5] END C=1000, max_iter=100, penalty=elasticnet, solver=newton-cg;, score=nan total time=   0.1s\n",
      "[CV 4/5] END C=1000, max_iter=100, penalty=elasticnet, solver=newton-cg;, score=nan total time=   0.1s\n",
      "[CV 5/5] END C=1000, max_iter=100, penalty=elasticnet, solver=newton-cg;, score=nan total time=   0.1s\n",
      "[CV 1/5] END C=1000, max_iter=100, penalty=elasticnet, solver=sag;, score=nan total time=   0.1s\n",
      "[CV 2/5] END C=1000, max_iter=100, penalty=elasticnet, solver=sag;, score=nan total time=   0.1s\n",
      "[CV 3/5] END C=1000, max_iter=100, penalty=elasticnet, solver=sag;, score=nan total time=   0.1s\n",
      "[CV 4/5] END C=1000, max_iter=100, penalty=elasticnet, solver=sag;, score=nan total time=   0.1s\n",
      "[CV 5/5] END C=1000, max_iter=100, penalty=elasticnet, solver=sag;, score=nan total time=   0.1s\n",
      "[CV 1/5] END C=1000, max_iter=100, penalty=elasticnet, solver=saga;, score=nan total time=   0.1s\n",
      "[CV 2/5] END C=1000, max_iter=100, penalty=elasticnet, solver=saga;, score=nan total time=   0.1s\n",
      "[CV 3/5] END C=1000, max_iter=100, penalty=elasticnet, solver=saga;, score=nan total time=   0.1s\n",
      "[CV 4/5] END C=1000, max_iter=100, penalty=elasticnet, solver=saga;, score=nan total time=   0.1s\n",
      "[CV 5/5] END C=1000, max_iter=100, penalty=elasticnet, solver=saga;, score=nan total time=   0.1s\n",
      "[CV 1/5] END C=1000, max_iter=100, penalty=elasticnet, solver=liblinear;, score=nan total time=   0.1s\n",
      "[CV 2/5] END C=1000, max_iter=100, penalty=elasticnet, solver=liblinear;, score=nan total time=   0.1s\n",
      "[CV 3/5] END C=1000, max_iter=100, penalty=elasticnet, solver=liblinear;, score=nan total time=   0.1s\n",
      "[CV 4/5] END C=1000, max_iter=100, penalty=elasticnet, solver=liblinear;, score=nan total time=   0.1s\n",
      "[CV 5/5] END C=1000, max_iter=100, penalty=elasticnet, solver=liblinear;, score=nan total time=   0.1s\n",
      "[CV 1/5] END C=1000, max_iter=100, penalty=elasticnet, solver=lgbfs;, score=nan total time=   0.1s\n",
      "[CV 2/5] END C=1000, max_iter=100, penalty=elasticnet, solver=lgbfs;, score=nan total time=   0.1s\n",
      "[CV 3/5] END C=1000, max_iter=100, penalty=elasticnet, solver=lgbfs;, score=nan total time=   0.1s\n",
      "[CV 4/5] END C=1000, max_iter=100, penalty=elasticnet, solver=lgbfs;, score=nan total time=   0.1s\n",
      "[CV 5/5] END C=1000, max_iter=100, penalty=elasticnet, solver=lgbfs;, score=nan total time=   0.1s\n",
      "[CV 1/5] END C=1000, max_iter=500, penalty=l1, solver=newton-cg;, score=nan total time=   0.1s\n",
      "[CV 2/5] END C=1000, max_iter=500, penalty=l1, solver=newton-cg;, score=nan total time=   0.1s\n",
      "[CV 3/5] END C=1000, max_iter=500, penalty=l1, solver=newton-cg;, score=nan total time=   0.1s\n",
      "[CV 4/5] END C=1000, max_iter=500, penalty=l1, solver=newton-cg;, score=nan total time=   0.1s\n",
      "[CV 5/5] END C=1000, max_iter=500, penalty=l1, solver=newton-cg;, score=nan total time=   0.1s\n",
      "[CV 1/5] END C=1000, max_iter=500, penalty=l1, solver=sag;, score=nan total time=   0.1s\n",
      "[CV 2/5] END C=1000, max_iter=500, penalty=l1, solver=sag;, score=nan total time=   0.1s\n",
      "[CV 3/5] END C=1000, max_iter=500, penalty=l1, solver=sag;, score=nan total time=   0.1s\n",
      "[CV 4/5] END C=1000, max_iter=500, penalty=l1, solver=sag;, score=nan total time=   0.1s\n",
      "[CV 5/5] END C=1000, max_iter=500, penalty=l1, solver=sag;, score=nan total time=   0.1s\n",
      "[CV 1/5] END C=1000, max_iter=500, penalty=l1, solver=saga;, score=0.891 total time=  25.9s\n"
     ]
    },
    {
     "name": "stdout",
     "output_type": "stream",
     "text": [
      "[CV 2/5] END C=1000, max_iter=500, penalty=l1, solver=saga;, score=0.891 total time=  16.3s\n",
      "[CV 3/5] END C=1000, max_iter=500, penalty=l1, solver=saga;, score=0.891 total time=  15.9s\n",
      "[CV 4/5] END C=1000, max_iter=500, penalty=l1, solver=saga;, score=0.891 total time=  15.6s\n",
      "[CV 5/5] END C=1000, max_iter=500, penalty=l1, solver=saga;, score=0.891 total time=  16.3s\n",
      "[CV 1/5] END C=1000, max_iter=500, penalty=l1, solver=liblinear;, score=0.891 total time=   2.4s\n",
      "[CV 2/5] END C=1000, max_iter=500, penalty=l1, solver=liblinear;, score=0.891 total time=   2.0s\n",
      "[CV 3/5] END C=1000, max_iter=500, penalty=l1, solver=liblinear;, score=0.891 total time=   1.6s\n",
      "[CV 4/5] END C=1000, max_iter=500, penalty=l1, solver=liblinear;, score=0.891 total time=   1.9s\n",
      "[CV 5/5] END C=1000, max_iter=500, penalty=l1, solver=liblinear;, score=0.891 total time=   1.9s\n",
      "[CV 1/5] END C=1000, max_iter=500, penalty=l1, solver=lgbfs;, score=nan total time=   0.1s\n",
      "[CV 2/5] END C=1000, max_iter=500, penalty=l1, solver=lgbfs;, score=nan total time=   0.1s\n",
      "[CV 3/5] END C=1000, max_iter=500, penalty=l1, solver=lgbfs;, score=nan total time=   0.1s\n",
      "[CV 4/5] END C=1000, max_iter=500, penalty=l1, solver=lgbfs;, score=nan total time=   0.1s\n",
      "[CV 5/5] END C=1000, max_iter=500, penalty=l1, solver=lgbfs;, score=nan total time=   0.1s\n",
      "[CV 1/5] END C=1000, max_iter=500, penalty=l2, solver=newton-cg;, score=0.891 total time=   3.0s\n",
      "[CV 2/5] END C=1000, max_iter=500, penalty=l2, solver=newton-cg;, score=0.891 total time=   2.9s\n",
      "[CV 3/5] END C=1000, max_iter=500, penalty=l2, solver=newton-cg;, score=0.891 total time=   2.9s\n",
      "[CV 4/5] END C=1000, max_iter=500, penalty=l2, solver=newton-cg;, score=0.891 total time=   2.7s\n",
      "[CV 5/5] END C=1000, max_iter=500, penalty=l2, solver=newton-cg;, score=0.891 total time=   2.8s\n",
      "[CV 1/5] END C=1000, max_iter=500, penalty=l2, solver=sag;, score=0.891 total time=   9.4s\n",
      "[CV 2/5] END C=1000, max_iter=500, penalty=l2, solver=sag;, score=0.891 total time=   5.0s\n",
      "[CV 3/5] END C=1000, max_iter=500, penalty=l2, solver=sag;, score=0.891 total time=   4.7s\n",
      "[CV 4/5] END C=1000, max_iter=500, penalty=l2, solver=sag;, score=0.891 total time=   4.8s\n",
      "[CV 5/5] END C=1000, max_iter=500, penalty=l2, solver=sag;, score=0.891 total time=   7.0s\n",
      "[CV 1/5] END C=1000, max_iter=500, penalty=l2, solver=saga;, score=0.891 total time=  21.7s\n",
      "[CV 2/5] END C=1000, max_iter=500, penalty=l2, solver=saga;, score=0.891 total time=  12.9s\n",
      "[CV 3/5] END C=1000, max_iter=500, penalty=l2, solver=saga;, score=0.891 total time=  13.4s\n",
      "[CV 4/5] END C=1000, max_iter=500, penalty=l2, solver=saga;, score=0.891 total time=  13.5s\n",
      "[CV 5/5] END C=1000, max_iter=500, penalty=l2, solver=saga;, score=0.891 total time=  14.2s\n",
      "[CV 1/5] END C=1000, max_iter=500, penalty=l2, solver=liblinear;, score=0.891 total time=   2.5s\n",
      "[CV 2/5] END C=1000, max_iter=500, penalty=l2, solver=liblinear;, score=0.891 total time=   2.5s\n",
      "[CV 3/5] END C=1000, max_iter=500, penalty=l2, solver=liblinear;, score=0.891 total time=   2.8s\n",
      "[CV 4/5] END C=1000, max_iter=500, penalty=l2, solver=liblinear;, score=0.891 total time=   3.4s\n",
      "[CV 5/5] END C=1000, max_iter=500, penalty=l2, solver=liblinear;, score=0.891 total time=   3.6s\n",
      "[CV 1/5] END C=1000, max_iter=500, penalty=l2, solver=lgbfs;, score=nan total time=   0.1s\n",
      "[CV 2/5] END C=1000, max_iter=500, penalty=l2, solver=lgbfs;, score=nan total time=   0.1s\n",
      "[CV 3/5] END C=1000, max_iter=500, penalty=l2, solver=lgbfs;, score=nan total time=   0.1s\n",
      "[CV 4/5] END C=1000, max_iter=500, penalty=l2, solver=lgbfs;, score=nan total time=   0.1s\n",
      "[CV 5/5] END C=1000, max_iter=500, penalty=l2, solver=lgbfs;, score=nan total time=   0.1s\n",
      "[CV 1/5] END C=1000, max_iter=500, penalty=elasticnet, solver=newton-cg;, score=nan total time=   0.1s\n",
      "[CV 2/5] END C=1000, max_iter=500, penalty=elasticnet, solver=newton-cg;, score=nan total time=   0.1s\n",
      "[CV 3/5] END C=1000, max_iter=500, penalty=elasticnet, solver=newton-cg;, score=nan total time=   0.1s\n",
      "[CV 4/5] END C=1000, max_iter=500, penalty=elasticnet, solver=newton-cg;, score=nan total time=   0.1s\n",
      "[CV 5/5] END C=1000, max_iter=500, penalty=elasticnet, solver=newton-cg;, score=nan total time=   0.1s\n",
      "[CV 1/5] END C=1000, max_iter=500, penalty=elasticnet, solver=sag;, score=nan total time=   0.1s\n",
      "[CV 2/5] END C=1000, max_iter=500, penalty=elasticnet, solver=sag;, score=nan total time=   0.1s\n",
      "[CV 3/5] END C=1000, max_iter=500, penalty=elasticnet, solver=sag;, score=nan total time=   0.1s\n",
      "[CV 4/5] END C=1000, max_iter=500, penalty=elasticnet, solver=sag;, score=nan total time=   0.1s\n",
      "[CV 5/5] END C=1000, max_iter=500, penalty=elasticnet, solver=sag;, score=nan total time=   0.1s\n",
      "[CV 1/5] END C=1000, max_iter=500, penalty=elasticnet, solver=saga;, score=nan total time=   0.1s\n",
      "[CV 2/5] END C=1000, max_iter=500, penalty=elasticnet, solver=saga;, score=nan total time=   0.1s\n",
      "[CV 3/5] END C=1000, max_iter=500, penalty=elasticnet, solver=saga;, score=nan total time=   0.1s\n",
      "[CV 4/5] END C=1000, max_iter=500, penalty=elasticnet, solver=saga;, score=nan total time=   0.1s\n",
      "[CV 5/5] END C=1000, max_iter=500, penalty=elasticnet, solver=saga;, score=nan total time=   0.1s\n",
      "[CV 1/5] END C=1000, max_iter=500, penalty=elasticnet, solver=liblinear;, score=nan total time=   0.1s\n",
      "[CV 2/5] END C=1000, max_iter=500, penalty=elasticnet, solver=liblinear;, score=nan total time=   0.1s\n",
      "[CV 3/5] END C=1000, max_iter=500, penalty=elasticnet, solver=liblinear;, score=nan total time=   0.1s\n",
      "[CV 4/5] END C=1000, max_iter=500, penalty=elasticnet, solver=liblinear;, score=nan total time=   0.1s\n",
      "[CV 5/5] END C=1000, max_iter=500, penalty=elasticnet, solver=liblinear;, score=nan total time=   0.1s\n",
      "[CV 1/5] END C=1000, max_iter=500, penalty=elasticnet, solver=lgbfs;, score=nan total time=   0.1s\n",
      "[CV 2/5] END C=1000, max_iter=500, penalty=elasticnet, solver=lgbfs;, score=nan total time=   0.1s\n",
      "[CV 3/5] END C=1000, max_iter=500, penalty=elasticnet, solver=lgbfs;, score=nan total time=   0.1s\n",
      "[CV 4/5] END C=1000, max_iter=500, penalty=elasticnet, solver=lgbfs;, score=nan total time=   0.1s\n",
      "[CV 5/5] END C=1000, max_iter=500, penalty=elasticnet, solver=lgbfs;, score=nan total time=   0.1s\n",
      "[CV 1/5] END C=1000, max_iter=1000, penalty=l1, solver=newton-cg;, score=nan total time=   0.1s\n",
      "[CV 2/5] END C=1000, max_iter=1000, penalty=l1, solver=newton-cg;, score=nan total time=   0.1s\n",
      "[CV 3/5] END C=1000, max_iter=1000, penalty=l1, solver=newton-cg;, score=nan total time=   0.1s\n",
      "[CV 4/5] END C=1000, max_iter=1000, penalty=l1, solver=newton-cg;, score=nan total time=   0.1s\n",
      "[CV 5/5] END C=1000, max_iter=1000, penalty=l1, solver=newton-cg;, score=nan total time=   0.1s\n",
      "[CV 1/5] END C=1000, max_iter=1000, penalty=l1, solver=sag;, score=nan total time=   0.1s\n",
      "[CV 2/5] END C=1000, max_iter=1000, penalty=l1, solver=sag;, score=nan total time=   0.1s\n",
      "[CV 3/5] END C=1000, max_iter=1000, penalty=l1, solver=sag;, score=nan total time=   0.1s\n",
      "[CV 4/5] END C=1000, max_iter=1000, penalty=l1, solver=sag;, score=nan total time=   0.1s\n",
      "[CV 5/5] END C=1000, max_iter=1000, penalty=l1, solver=sag;, score=nan total time=   0.1s\n",
      "[CV 1/5] END C=1000, max_iter=1000, penalty=l1, solver=saga;, score=0.891 total time=  23.6s\n",
      "[CV 2/5] END C=1000, max_iter=1000, penalty=l1, solver=saga;, score=0.891 total time=  14.2s\n",
      "[CV 3/5] END C=1000, max_iter=1000, penalty=l1, solver=saga;, score=0.891 total time=  14.3s\n",
      "[CV 4/5] END C=1000, max_iter=1000, penalty=l1, solver=saga;, score=0.891 total time=  14.5s\n",
      "[CV 5/5] END C=1000, max_iter=1000, penalty=l1, solver=saga;, score=0.891 total time=  15.3s\n",
      "[CV 1/5] END C=1000, max_iter=1000, penalty=l1, solver=liblinear;, score=0.891 total time=   2.1s\n",
      "[CV 2/5] END C=1000, max_iter=1000, penalty=l1, solver=liblinear;, score=0.891 total time=   1.6s\n",
      "[CV 3/5] END C=1000, max_iter=1000, penalty=l1, solver=liblinear;, score=0.891 total time=   1.5s\n",
      "[CV 4/5] END C=1000, max_iter=1000, penalty=l1, solver=liblinear;, score=0.891 total time=   1.6s\n",
      "[CV 5/5] END C=1000, max_iter=1000, penalty=l1, solver=liblinear;, score=0.891 total time=   1.7s\n",
      "[CV 1/5] END C=1000, max_iter=1000, penalty=l1, solver=lgbfs;, score=nan total time=   0.1s\n",
      "[CV 2/5] END C=1000, max_iter=1000, penalty=l1, solver=lgbfs;, score=nan total time=   0.1s\n"
     ]
    },
    {
     "name": "stdout",
     "output_type": "stream",
     "text": [
      "[CV 3/5] END C=1000, max_iter=1000, penalty=l1, solver=lgbfs;, score=nan total time=   0.1s\n",
      "[CV 4/5] END C=1000, max_iter=1000, penalty=l1, solver=lgbfs;, score=nan total time=   0.1s\n",
      "[CV 5/5] END C=1000, max_iter=1000, penalty=l1, solver=lgbfs;, score=nan total time=   0.1s\n",
      "[CV 1/5] END C=1000, max_iter=1000, penalty=l2, solver=newton-cg;, score=0.891 total time=   2.8s\n",
      "[CV 2/5] END C=1000, max_iter=1000, penalty=l2, solver=newton-cg;, score=0.891 total time=   2.6s\n",
      "[CV 3/5] END C=1000, max_iter=1000, penalty=l2, solver=newton-cg;, score=0.891 total time=   2.6s\n",
      "[CV 4/5] END C=1000, max_iter=1000, penalty=l2, solver=newton-cg;, score=0.891 total time=   2.4s\n",
      "[CV 5/5] END C=1000, max_iter=1000, penalty=l2, solver=newton-cg;, score=0.891 total time=   2.7s\n",
      "[CV 1/5] END C=1000, max_iter=1000, penalty=l2, solver=sag;, score=0.891 total time=   8.8s\n",
      "[CV 2/5] END C=1000, max_iter=1000, penalty=l2, solver=sag;, score=0.891 total time=   4.6s\n",
      "[CV 3/5] END C=1000, max_iter=1000, penalty=l2, solver=sag;, score=0.891 total time=   4.6s\n",
      "[CV 4/5] END C=1000, max_iter=1000, penalty=l2, solver=sag;, score=0.891 total time=   4.6s\n",
      "[CV 5/5] END C=1000, max_iter=1000, penalty=l2, solver=sag;, score=0.891 total time=   6.3s\n",
      "[CV 1/5] END C=1000, max_iter=1000, penalty=l2, solver=saga;, score=0.891 total time=  20.1s\n",
      "[CV 2/5] END C=1000, max_iter=1000, penalty=l2, solver=saga;, score=0.891 total time=  12.4s\n",
      "[CV 3/5] END C=1000, max_iter=1000, penalty=l2, solver=saga;, score=0.891 total time=  12.4s\n",
      "[CV 4/5] END C=1000, max_iter=1000, penalty=l2, solver=saga;, score=0.891 total time=  12.6s\n",
      "[CV 5/5] END C=1000, max_iter=1000, penalty=l2, solver=saga;, score=0.891 total time=  13.4s\n",
      "[CV 1/5] END C=1000, max_iter=1000, penalty=l2, solver=liblinear;, score=0.891 total time=   2.5s\n",
      "[CV 2/5] END C=1000, max_iter=1000, penalty=l2, solver=liblinear;, score=0.891 total time=   2.5s\n",
      "[CV 3/5] END C=1000, max_iter=1000, penalty=l2, solver=liblinear;, score=0.891 total time=   2.4s\n",
      "[CV 4/5] END C=1000, max_iter=1000, penalty=l2, solver=liblinear;, score=0.891 total time=   3.2s\n",
      "[CV 5/5] END C=1000, max_iter=1000, penalty=l2, solver=liblinear;, score=0.891 total time=   3.5s\n",
      "[CV 1/5] END C=1000, max_iter=1000, penalty=l2, solver=lgbfs;, score=nan total time=   0.1s\n",
      "[CV 2/5] END C=1000, max_iter=1000, penalty=l2, solver=lgbfs;, score=nan total time=   0.1s\n",
      "[CV 3/5] END C=1000, max_iter=1000, penalty=l2, solver=lgbfs;, score=nan total time=   0.1s\n",
      "[CV 4/5] END C=1000, max_iter=1000, penalty=l2, solver=lgbfs;, score=nan total time=   0.1s\n",
      "[CV 5/5] END C=1000, max_iter=1000, penalty=l2, solver=lgbfs;, score=nan total time=   0.1s\n",
      "[CV 1/5] END C=1000, max_iter=1000, penalty=elasticnet, solver=newton-cg;, score=nan total time=   0.1s\n",
      "[CV 2/5] END C=1000, max_iter=1000, penalty=elasticnet, solver=newton-cg;, score=nan total time=   0.1s\n",
      "[CV 3/5] END C=1000, max_iter=1000, penalty=elasticnet, solver=newton-cg;, score=nan total time=   0.1s\n",
      "[CV 4/5] END C=1000, max_iter=1000, penalty=elasticnet, solver=newton-cg;, score=nan total time=   0.1s\n",
      "[CV 5/5] END C=1000, max_iter=1000, penalty=elasticnet, solver=newton-cg;, score=nan total time=   0.1s\n",
      "[CV 1/5] END C=1000, max_iter=1000, penalty=elasticnet, solver=sag;, score=nan total time=   0.1s\n",
      "[CV 2/5] END C=1000, max_iter=1000, penalty=elasticnet, solver=sag;, score=nan total time=   0.1s\n",
      "[CV 3/5] END C=1000, max_iter=1000, penalty=elasticnet, solver=sag;, score=nan total time=   0.1s\n",
      "[CV 4/5] END C=1000, max_iter=1000, penalty=elasticnet, solver=sag;, score=nan total time=   0.1s\n",
      "[CV 5/5] END C=1000, max_iter=1000, penalty=elasticnet, solver=sag;, score=nan total time=   0.1s\n",
      "[CV 1/5] END C=1000, max_iter=1000, penalty=elasticnet, solver=saga;, score=nan total time=   0.1s\n",
      "[CV 2/5] END C=1000, max_iter=1000, penalty=elasticnet, solver=saga;, score=nan total time=   0.1s\n",
      "[CV 3/5] END C=1000, max_iter=1000, penalty=elasticnet, solver=saga;, score=nan total time=   0.1s\n",
      "[CV 4/5] END C=1000, max_iter=1000, penalty=elasticnet, solver=saga;, score=nan total time=   0.1s\n",
      "[CV 5/5] END C=1000, max_iter=1000, penalty=elasticnet, solver=saga;, score=nan total time=   0.1s\n",
      "[CV 1/5] END C=1000, max_iter=1000, penalty=elasticnet, solver=liblinear;, score=nan total time=   0.1s\n",
      "[CV 2/5] END C=1000, max_iter=1000, penalty=elasticnet, solver=liblinear;, score=nan total time=   0.1s\n",
      "[CV 3/5] END C=1000, max_iter=1000, penalty=elasticnet, solver=liblinear;, score=nan total time=   0.1s\n",
      "[CV 4/5] END C=1000, max_iter=1000, penalty=elasticnet, solver=liblinear;, score=nan total time=   0.1s\n",
      "[CV 5/5] END C=1000, max_iter=1000, penalty=elasticnet, solver=liblinear;, score=nan total time=   0.1s\n",
      "[CV 1/5] END C=1000, max_iter=1000, penalty=elasticnet, solver=lgbfs;, score=nan total time=   0.1s\n",
      "[CV 2/5] END C=1000, max_iter=1000, penalty=elasticnet, solver=lgbfs;, score=nan total time=   0.1s\n",
      "[CV 3/5] END C=1000, max_iter=1000, penalty=elasticnet, solver=lgbfs;, score=nan total time=   0.1s\n",
      "[CV 4/5] END C=1000, max_iter=1000, penalty=elasticnet, solver=lgbfs;, score=nan total time=   0.1s\n",
      "[CV 5/5] END C=1000, max_iter=1000, penalty=elasticnet, solver=lgbfs;, score=nan total time=   0.1s\n",
      "[CV 1/5] END C=1000, max_iter=2000, penalty=l1, solver=newton-cg;, score=nan total time=   0.1s\n",
      "[CV 2/5] END C=1000, max_iter=2000, penalty=l1, solver=newton-cg;, score=nan total time=   0.1s\n",
      "[CV 3/5] END C=1000, max_iter=2000, penalty=l1, solver=newton-cg;, score=nan total time=   0.1s\n",
      "[CV 4/5] END C=1000, max_iter=2000, penalty=l1, solver=newton-cg;, score=nan total time=   0.1s\n",
      "[CV 5/5] END C=1000, max_iter=2000, penalty=l1, solver=newton-cg;, score=nan total time=   0.1s\n",
      "[CV 1/5] END C=1000, max_iter=2000, penalty=l1, solver=sag;, score=nan total time=   0.1s\n",
      "[CV 2/5] END C=1000, max_iter=2000, penalty=l1, solver=sag;, score=nan total time=   0.1s\n",
      "[CV 3/5] END C=1000, max_iter=2000, penalty=l1, solver=sag;, score=nan total time=   0.1s\n",
      "[CV 4/5] END C=1000, max_iter=2000, penalty=l1, solver=sag;, score=nan total time=   0.1s\n",
      "[CV 5/5] END C=1000, max_iter=2000, penalty=l1, solver=sag;, score=nan total time=   0.1s\n",
      "[CV 1/5] END C=1000, max_iter=2000, penalty=l1, solver=saga;, score=0.891 total time=  23.4s\n",
      "[CV 2/5] END C=1000, max_iter=2000, penalty=l1, solver=saga;, score=0.891 total time=  15.6s\n",
      "[CV 3/5] END C=1000, max_iter=2000, penalty=l1, solver=saga;, score=0.891 total time=  15.4s\n",
      "[CV 4/5] END C=1000, max_iter=2000, penalty=l1, solver=saga;, score=0.891 total time=  15.3s\n",
      "[CV 5/5] END C=1000, max_iter=2000, penalty=l1, solver=saga;, score=0.891 total time=  15.7s\n",
      "[CV 1/5] END C=1000, max_iter=2000, penalty=l1, solver=liblinear;, score=0.891 total time=   2.1s\n",
      "[CV 2/5] END C=1000, max_iter=2000, penalty=l1, solver=liblinear;, score=0.891 total time=   1.6s\n",
      "[CV 3/5] END C=1000, max_iter=2000, penalty=l1, solver=liblinear;, score=0.891 total time=   1.5s\n",
      "[CV 4/5] END C=1000, max_iter=2000, penalty=l1, solver=liblinear;, score=0.891 total time=   1.6s\n",
      "[CV 5/5] END C=1000, max_iter=2000, penalty=l1, solver=liblinear;, score=0.891 total time=   1.8s\n",
      "[CV 1/5] END C=1000, max_iter=2000, penalty=l1, solver=lgbfs;, score=nan total time=   0.1s\n",
      "[CV 2/5] END C=1000, max_iter=2000, penalty=l1, solver=lgbfs;, score=nan total time=   0.1s\n",
      "[CV 3/5] END C=1000, max_iter=2000, penalty=l1, solver=lgbfs;, score=nan total time=   0.1s\n",
      "[CV 4/5] END C=1000, max_iter=2000, penalty=l1, solver=lgbfs;, score=nan total time=   0.1s\n",
      "[CV 5/5] END C=1000, max_iter=2000, penalty=l1, solver=lgbfs;, score=nan total time=   0.1s\n",
      "[CV 1/5] END C=1000, max_iter=2000, penalty=l2, solver=newton-cg;, score=0.891 total time=   2.8s\n",
      "[CV 2/5] END C=1000, max_iter=2000, penalty=l2, solver=newton-cg;, score=0.891 total time=   2.7s\n",
      "[CV 3/5] END C=1000, max_iter=2000, penalty=l2, solver=newton-cg;, score=0.891 total time=   2.6s\n",
      "[CV 4/5] END C=1000, max_iter=2000, penalty=l2, solver=newton-cg;, score=0.891 total time=   3.0s\n",
      "[CV 5/5] END C=1000, max_iter=2000, penalty=l2, solver=newton-cg;, score=0.891 total time=   3.2s\n",
      "[CV 1/5] END C=1000, max_iter=2000, penalty=l2, solver=sag;, score=0.891 total time=  10.7s\n",
      "[CV 2/5] END C=1000, max_iter=2000, penalty=l2, solver=sag;, score=0.891 total time=   5.1s\n",
      "[CV 3/5] END C=1000, max_iter=2000, penalty=l2, solver=sag;, score=0.891 total time=   4.9s\n"
     ]
    },
    {
     "name": "stdout",
     "output_type": "stream",
     "text": [
      "[CV 4/5] END C=1000, max_iter=2000, penalty=l2, solver=sag;, score=0.891 total time=   4.7s\n",
      "[CV 5/5] END C=1000, max_iter=2000, penalty=l2, solver=sag;, score=0.891 total time=   6.7s\n",
      "[CV 1/5] END C=1000, max_iter=2000, penalty=l2, solver=saga;, score=0.891 total time=  20.6s\n",
      "[CV 2/5] END C=1000, max_iter=2000, penalty=l2, solver=saga;, score=0.891 total time=  12.6s\n",
      "[CV 3/5] END C=1000, max_iter=2000, penalty=l2, solver=saga;, score=0.891 total time=  12.5s\n",
      "[CV 4/5] END C=1000, max_iter=2000, penalty=l2, solver=saga;, score=0.891 total time=  12.8s\n",
      "[CV 5/5] END C=1000, max_iter=2000, penalty=l2, solver=saga;, score=0.891 total time=  13.4s\n",
      "[CV 1/5] END C=1000, max_iter=2000, penalty=l2, solver=liblinear;, score=0.891 total time=   2.4s\n",
      "[CV 2/5] END C=1000, max_iter=2000, penalty=l2, solver=liblinear;, score=0.891 total time=   2.5s\n",
      "[CV 3/5] END C=1000, max_iter=2000, penalty=l2, solver=liblinear;, score=0.891 total time=   2.4s\n",
      "[CV 4/5] END C=1000, max_iter=2000, penalty=l2, solver=liblinear;, score=0.891 total time=   3.0s\n",
      "[CV 5/5] END C=1000, max_iter=2000, penalty=l2, solver=liblinear;, score=0.891 total time=   3.5s\n",
      "[CV 1/5] END C=1000, max_iter=2000, penalty=l2, solver=lgbfs;, score=nan total time=   0.1s\n",
      "[CV 2/5] END C=1000, max_iter=2000, penalty=l2, solver=lgbfs;, score=nan total time=   0.1s\n",
      "[CV 3/5] END C=1000, max_iter=2000, penalty=l2, solver=lgbfs;, score=nan total time=   0.1s\n",
      "[CV 4/5] END C=1000, max_iter=2000, penalty=l2, solver=lgbfs;, score=nan total time=   0.1s\n",
      "[CV 5/5] END C=1000, max_iter=2000, penalty=l2, solver=lgbfs;, score=nan total time=   0.1s\n",
      "[CV 1/5] END C=1000, max_iter=2000, penalty=elasticnet, solver=newton-cg;, score=nan total time=   0.1s\n",
      "[CV 2/5] END C=1000, max_iter=2000, penalty=elasticnet, solver=newton-cg;, score=nan total time=   0.1s\n",
      "[CV 3/5] END C=1000, max_iter=2000, penalty=elasticnet, solver=newton-cg;, score=nan total time=   0.1s\n",
      "[CV 4/5] END C=1000, max_iter=2000, penalty=elasticnet, solver=newton-cg;, score=nan total time=   0.1s\n",
      "[CV 5/5] END C=1000, max_iter=2000, penalty=elasticnet, solver=newton-cg;, score=nan total time=   0.1s\n",
      "[CV 1/5] END C=1000, max_iter=2000, penalty=elasticnet, solver=sag;, score=nan total time=   0.1s\n",
      "[CV 2/5] END C=1000, max_iter=2000, penalty=elasticnet, solver=sag;, score=nan total time=   0.1s\n",
      "[CV 3/5] END C=1000, max_iter=2000, penalty=elasticnet, solver=sag;, score=nan total time=   0.1s\n",
      "[CV 4/5] END C=1000, max_iter=2000, penalty=elasticnet, solver=sag;, score=nan total time=   0.1s\n",
      "[CV 5/5] END C=1000, max_iter=2000, penalty=elasticnet, solver=sag;, score=nan total time=   0.1s\n",
      "[CV 1/5] END C=1000, max_iter=2000, penalty=elasticnet, solver=saga;, score=nan total time=   0.1s\n",
      "[CV 2/5] END C=1000, max_iter=2000, penalty=elasticnet, solver=saga;, score=nan total time=   0.1s\n",
      "[CV 3/5] END C=1000, max_iter=2000, penalty=elasticnet, solver=saga;, score=nan total time=   0.1s\n",
      "[CV 4/5] END C=1000, max_iter=2000, penalty=elasticnet, solver=saga;, score=nan total time=   0.1s\n",
      "[CV 5/5] END C=1000, max_iter=2000, penalty=elasticnet, solver=saga;, score=nan total time=   0.1s\n",
      "[CV 1/5] END C=1000, max_iter=2000, penalty=elasticnet, solver=liblinear;, score=nan total time=   0.1s\n",
      "[CV 2/5] END C=1000, max_iter=2000, penalty=elasticnet, solver=liblinear;, score=nan total time=   0.1s\n",
      "[CV 3/5] END C=1000, max_iter=2000, penalty=elasticnet, solver=liblinear;, score=nan total time=   0.1s\n",
      "[CV 4/5] END C=1000, max_iter=2000, penalty=elasticnet, solver=liblinear;, score=nan total time=   0.1s\n",
      "[CV 5/5] END C=1000, max_iter=2000, penalty=elasticnet, solver=liblinear;, score=nan total time=   0.1s\n",
      "[CV 1/5] END C=1000, max_iter=2000, penalty=elasticnet, solver=lgbfs;, score=nan total time=   0.1s\n",
      "[CV 2/5] END C=1000, max_iter=2000, penalty=elasticnet, solver=lgbfs;, score=nan total time=   0.1s\n",
      "[CV 3/5] END C=1000, max_iter=2000, penalty=elasticnet, solver=lgbfs;, score=nan total time=   0.1s\n",
      "[CV 4/5] END C=1000, max_iter=2000, penalty=elasticnet, solver=lgbfs;, score=nan total time=   0.1s\n",
      "[CV 5/5] END C=1000, max_iter=2000, penalty=elasticnet, solver=lgbfs;, score=nan total time=   0.1s\n",
      "[CV 1/5] END C=100, max_iter=100, penalty=l1, solver=newton-cg;, score=nan total time=   0.1s\n",
      "[CV 2/5] END C=100, max_iter=100, penalty=l1, solver=newton-cg;, score=nan total time=   0.1s\n",
      "[CV 3/5] END C=100, max_iter=100, penalty=l1, solver=newton-cg;, score=nan total time=   0.1s\n",
      "[CV 4/5] END C=100, max_iter=100, penalty=l1, solver=newton-cg;, score=nan total time=   0.1s\n",
      "[CV 5/5] END C=100, max_iter=100, penalty=l1, solver=newton-cg;, score=nan total time=   0.1s\n",
      "[CV 1/5] END C=100, max_iter=100, penalty=l1, solver=sag;, score=nan total time=   0.1s\n",
      "[CV 2/5] END C=100, max_iter=100, penalty=l1, solver=sag;, score=nan total time=   0.1s\n",
      "[CV 3/5] END C=100, max_iter=100, penalty=l1, solver=sag;, score=nan total time=   0.1s\n",
      "[CV 4/5] END C=100, max_iter=100, penalty=l1, solver=sag;, score=nan total time=   0.1s\n",
      "[CV 5/5] END C=100, max_iter=100, penalty=l1, solver=sag;, score=nan total time=   0.1s\n",
      "[CV 1/5] END C=100, max_iter=100, penalty=l1, solver=saga;, score=0.891 total time=  24.0s\n",
      "[CV 2/5] END C=100, max_iter=100, penalty=l1, solver=saga;, score=0.891 total time=  15.1s\n",
      "[CV 3/5] END C=100, max_iter=100, penalty=l1, solver=saga;, score=0.891 total time=  15.0s\n",
      "[CV 4/5] END C=100, max_iter=100, penalty=l1, solver=saga;, score=0.891 total time=  15.0s\n",
      "[CV 5/5] END C=100, max_iter=100, penalty=l1, solver=saga;, score=0.891 total time=  15.6s\n",
      "[CV 1/5] END C=100, max_iter=100, penalty=l1, solver=liblinear;, score=0.891 total time=   2.1s\n",
      "[CV 2/5] END C=100, max_iter=100, penalty=l1, solver=liblinear;, score=0.891 total time=   1.8s\n",
      "[CV 3/5] END C=100, max_iter=100, penalty=l1, solver=liblinear;, score=0.891 total time=   1.5s\n",
      "[CV 4/5] END C=100, max_iter=100, penalty=l1, solver=liblinear;, score=0.891 total time=   1.7s\n",
      "[CV 5/5] END C=100, max_iter=100, penalty=l1, solver=liblinear;, score=0.891 total time=   1.8s\n",
      "[CV 1/5] END C=100, max_iter=100, penalty=l1, solver=lgbfs;, score=nan total time=   0.1s\n",
      "[CV 2/5] END C=100, max_iter=100, penalty=l1, solver=lgbfs;, score=nan total time=   0.1s\n",
      "[CV 3/5] END C=100, max_iter=100, penalty=l1, solver=lgbfs;, score=nan total time=   0.1s\n",
      "[CV 4/5] END C=100, max_iter=100, penalty=l1, solver=lgbfs;, score=nan total time=   0.1s\n",
      "[CV 5/5] END C=100, max_iter=100, penalty=l1, solver=lgbfs;, score=nan total time=   0.1s\n",
      "[CV 1/5] END C=100, max_iter=100, penalty=l2, solver=newton-cg;, score=0.891 total time=   2.8s\n",
      "[CV 2/5] END C=100, max_iter=100, penalty=l2, solver=newton-cg;, score=0.891 total time=   2.6s\n",
      "[CV 3/5] END C=100, max_iter=100, penalty=l2, solver=newton-cg;, score=0.891 total time=   2.5s\n",
      "[CV 4/5] END C=100, max_iter=100, penalty=l2, solver=newton-cg;, score=0.891 total time=   2.4s\n",
      "[CV 5/5] END C=100, max_iter=100, penalty=l2, solver=newton-cg;, score=0.891 total time=   2.6s\n",
      "[CV 1/5] END C=100, max_iter=100, penalty=l2, solver=sag;, score=0.891 total time=   8.9s\n",
      "[CV 2/5] END C=100, max_iter=100, penalty=l2, solver=sag;, score=0.891 total time=   4.6s\n",
      "[CV 3/5] END C=100, max_iter=100, penalty=l2, solver=sag;, score=0.891 total time=   4.6s\n",
      "[CV 4/5] END C=100, max_iter=100, penalty=l2, solver=sag;, score=0.891 total time=   4.6s\n",
      "[CV 5/5] END C=100, max_iter=100, penalty=l2, solver=sag;, score=0.891 total time=   6.3s\n",
      "[CV 1/5] END C=100, max_iter=100, penalty=l2, solver=saga;, score=0.891 total time=  21.7s\n",
      "[CV 2/5] END C=100, max_iter=100, penalty=l2, solver=saga;, score=0.891 total time=  13.0s\n",
      "[CV 3/5] END C=100, max_iter=100, penalty=l2, solver=saga;, score=0.891 total time=  12.8s\n",
      "[CV 4/5] END C=100, max_iter=100, penalty=l2, solver=saga;, score=0.891 total time=  13.8s\n",
      "[CV 5/5] END C=100, max_iter=100, penalty=l2, solver=saga;, score=0.891 total time=  13.8s\n",
      "[CV 1/5] END C=100, max_iter=100, penalty=l2, solver=liblinear;, score=0.891 total time=   2.4s\n",
      "[CV 2/5] END C=100, max_iter=100, penalty=l2, solver=liblinear;, score=0.891 total time=   2.5s\n",
      "[CV 3/5] END C=100, max_iter=100, penalty=l2, solver=liblinear;, score=0.891 total time=   2.5s\n",
      "[CV 4/5] END C=100, max_iter=100, penalty=l2, solver=liblinear;, score=0.891 total time=   3.1s\n",
      "[CV 5/5] END C=100, max_iter=100, penalty=l2, solver=liblinear;, score=0.891 total time=   3.5s\n",
      "[CV 1/5] END C=100, max_iter=100, penalty=l2, solver=lgbfs;, score=nan total time=   0.1s\n",
      "[CV 2/5] END C=100, max_iter=100, penalty=l2, solver=lgbfs;, score=nan total time=   0.1s\n"
     ]
    },
    {
     "name": "stdout",
     "output_type": "stream",
     "text": [
      "[CV 3/5] END C=100, max_iter=100, penalty=l2, solver=lgbfs;, score=nan total time=   0.1s\n",
      "[CV 4/5] END C=100, max_iter=100, penalty=l2, solver=lgbfs;, score=nan total time=   0.1s\n",
      "[CV 5/5] END C=100, max_iter=100, penalty=l2, solver=lgbfs;, score=nan total time=   0.1s\n",
      "[CV 1/5] END C=100, max_iter=100, penalty=elasticnet, solver=newton-cg;, score=nan total time=   0.1s\n",
      "[CV 2/5] END C=100, max_iter=100, penalty=elasticnet, solver=newton-cg;, score=nan total time=   0.1s\n",
      "[CV 3/5] END C=100, max_iter=100, penalty=elasticnet, solver=newton-cg;, score=nan total time=   0.1s\n",
      "[CV 4/5] END C=100, max_iter=100, penalty=elasticnet, solver=newton-cg;, score=nan total time=   0.1s\n",
      "[CV 5/5] END C=100, max_iter=100, penalty=elasticnet, solver=newton-cg;, score=nan total time=   0.1s\n",
      "[CV 1/5] END C=100, max_iter=100, penalty=elasticnet, solver=sag;, score=nan total time=   0.1s\n",
      "[CV 2/5] END C=100, max_iter=100, penalty=elasticnet, solver=sag;, score=nan total time=   0.1s\n",
      "[CV 3/5] END C=100, max_iter=100, penalty=elasticnet, solver=sag;, score=nan total time=   0.1s\n",
      "[CV 4/5] END C=100, max_iter=100, penalty=elasticnet, solver=sag;, score=nan total time=   0.1s\n",
      "[CV 5/5] END C=100, max_iter=100, penalty=elasticnet, solver=sag;, score=nan total time=   0.1s\n",
      "[CV 1/5] END C=100, max_iter=100, penalty=elasticnet, solver=saga;, score=nan total time=   0.1s\n",
      "[CV 2/5] END C=100, max_iter=100, penalty=elasticnet, solver=saga;, score=nan total time=   0.1s\n",
      "[CV 3/5] END C=100, max_iter=100, penalty=elasticnet, solver=saga;, score=nan total time=   0.1s\n",
      "[CV 4/5] END C=100, max_iter=100, penalty=elasticnet, solver=saga;, score=nan total time=   0.1s\n",
      "[CV 5/5] END C=100, max_iter=100, penalty=elasticnet, solver=saga;, score=nan total time=   0.1s\n",
      "[CV 1/5] END C=100, max_iter=100, penalty=elasticnet, solver=liblinear;, score=nan total time=   0.1s\n",
      "[CV 2/5] END C=100, max_iter=100, penalty=elasticnet, solver=liblinear;, score=nan total time=   0.1s\n",
      "[CV 3/5] END C=100, max_iter=100, penalty=elasticnet, solver=liblinear;, score=nan total time=   0.1s\n",
      "[CV 4/5] END C=100, max_iter=100, penalty=elasticnet, solver=liblinear;, score=nan total time=   0.1s\n",
      "[CV 5/5] END C=100, max_iter=100, penalty=elasticnet, solver=liblinear;, score=nan total time=   0.1s\n",
      "[CV 1/5] END C=100, max_iter=100, penalty=elasticnet, solver=lgbfs;, score=nan total time=   0.1s\n",
      "[CV 2/5] END C=100, max_iter=100, penalty=elasticnet, solver=lgbfs;, score=nan total time=   0.1s\n",
      "[CV 3/5] END C=100, max_iter=100, penalty=elasticnet, solver=lgbfs;, score=nan total time=   0.1s\n",
      "[CV 4/5] END C=100, max_iter=100, penalty=elasticnet, solver=lgbfs;, score=nan total time=   0.1s\n",
      "[CV 5/5] END C=100, max_iter=100, penalty=elasticnet, solver=lgbfs;, score=nan total time=   0.1s\n",
      "[CV 1/5] END C=100, max_iter=500, penalty=l1, solver=newton-cg;, score=nan total time=   0.1s\n",
      "[CV 2/5] END C=100, max_iter=500, penalty=l1, solver=newton-cg;, score=nan total time=   0.1s\n",
      "[CV 3/5] END C=100, max_iter=500, penalty=l1, solver=newton-cg;, score=nan total time=   0.1s\n",
      "[CV 4/5] END C=100, max_iter=500, penalty=l1, solver=newton-cg;, score=nan total time=   0.1s\n",
      "[CV 5/5] END C=100, max_iter=500, penalty=l1, solver=newton-cg;, score=nan total time=   0.1s\n",
      "[CV 1/5] END C=100, max_iter=500, penalty=l1, solver=sag;, score=nan total time=   0.1s\n",
      "[CV 2/5] END C=100, max_iter=500, penalty=l1, solver=sag;, score=nan total time=   0.1s\n",
      "[CV 3/5] END C=100, max_iter=500, penalty=l1, solver=sag;, score=nan total time=   0.1s\n",
      "[CV 4/5] END C=100, max_iter=500, penalty=l1, solver=sag;, score=nan total time=   0.1s\n",
      "[CV 5/5] END C=100, max_iter=500, penalty=l1, solver=sag;, score=nan total time=   0.1s\n",
      "[CV 1/5] END C=100, max_iter=500, penalty=l1, solver=saga;, score=0.891 total time=  24.3s\n",
      "[CV 2/5] END C=100, max_iter=500, penalty=l1, solver=saga;, score=0.891 total time=  14.8s\n",
      "[CV 3/5] END C=100, max_iter=500, penalty=l1, solver=saga;, score=0.891 total time=  14.8s\n",
      "[CV 4/5] END C=100, max_iter=500, penalty=l1, solver=saga;, score=0.891 total time=  15.1s\n",
      "[CV 5/5] END C=100, max_iter=500, penalty=l1, solver=saga;, score=0.891 total time=  15.9s\n",
      "[CV 1/5] END C=100, max_iter=500, penalty=l1, solver=liblinear;, score=0.891 total time=   2.2s\n",
      "[CV 2/5] END C=100, max_iter=500, penalty=l1, solver=liblinear;, score=0.891 total time=   1.8s\n",
      "[CV 3/5] END C=100, max_iter=500, penalty=l1, solver=liblinear;, score=0.891 total time=   1.5s\n",
      "[CV 4/5] END C=100, max_iter=500, penalty=l1, solver=liblinear;, score=0.891 total time=   1.6s\n",
      "[CV 5/5] END C=100, max_iter=500, penalty=l1, solver=liblinear;, score=0.891 total time=   1.8s\n",
      "[CV 1/5] END C=100, max_iter=500, penalty=l1, solver=lgbfs;, score=nan total time=   0.1s\n",
      "[CV 2/5] END C=100, max_iter=500, penalty=l1, solver=lgbfs;, score=nan total time=   0.1s\n",
      "[CV 3/5] END C=100, max_iter=500, penalty=l1, solver=lgbfs;, score=nan total time=   0.1s\n",
      "[CV 4/5] END C=100, max_iter=500, penalty=l1, solver=lgbfs;, score=nan total time=   0.1s\n",
      "[CV 5/5] END C=100, max_iter=500, penalty=l1, solver=lgbfs;, score=nan total time=   0.1s\n",
      "[CV 1/5] END C=100, max_iter=500, penalty=l2, solver=newton-cg;, score=0.891 total time=   2.8s\n",
      "[CV 2/5] END C=100, max_iter=500, penalty=l2, solver=newton-cg;, score=0.891 total time=   2.6s\n",
      "[CV 3/5] END C=100, max_iter=500, penalty=l2, solver=newton-cg;, score=0.891 total time=   2.5s\n",
      "[CV 4/5] END C=100, max_iter=500, penalty=l2, solver=newton-cg;, score=0.891 total time=   2.5s\n",
      "[CV 5/5] END C=100, max_iter=500, penalty=l2, solver=newton-cg;, score=0.891 total time=   2.7s\n",
      "[CV 1/5] END C=100, max_iter=500, penalty=l2, solver=sag;, score=0.891 total time=   9.0s\n",
      "[CV 2/5] END C=100, max_iter=500, penalty=l2, solver=sag;, score=0.891 total time=   4.7s\n",
      "[CV 3/5] END C=100, max_iter=500, penalty=l2, solver=sag;, score=0.891 total time=   4.7s\n",
      "[CV 4/5] END C=100, max_iter=500, penalty=l2, solver=sag;, score=0.891 total time=   4.7s\n",
      "[CV 5/5] END C=100, max_iter=500, penalty=l2, solver=sag;, score=0.891 total time=   6.4s\n",
      "[CV 1/5] END C=100, max_iter=500, penalty=l2, solver=saga;, score=0.891 total time=  20.5s\n",
      "[CV 2/5] END C=100, max_iter=500, penalty=l2, solver=saga;, score=0.891 total time=  13.2s\n",
      "[CV 3/5] END C=100, max_iter=500, penalty=l2, solver=saga;, score=0.891 total time=  12.7s\n",
      "[CV 4/5] END C=100, max_iter=500, penalty=l2, solver=saga;, score=0.891 total time=  13.0s\n",
      "[CV 5/5] END C=100, max_iter=500, penalty=l2, solver=saga;, score=0.891 total time=  14.3s\n",
      "[CV 1/5] END C=100, max_iter=500, penalty=l2, solver=liblinear;, score=0.891 total time=   2.6s\n",
      "[CV 2/5] END C=100, max_iter=500, penalty=l2, solver=liblinear;, score=0.891 total time=   2.4s\n",
      "[CV 3/5] END C=100, max_iter=500, penalty=l2, solver=liblinear;, score=0.891 total time=   2.5s\n",
      "[CV 4/5] END C=100, max_iter=500, penalty=l2, solver=liblinear;, score=0.891 total time=   3.1s\n",
      "[CV 5/5] END C=100, max_iter=500, penalty=l2, solver=liblinear;, score=0.891 total time=   3.5s\n",
      "[CV 1/5] END C=100, max_iter=500, penalty=l2, solver=lgbfs;, score=nan total time=   0.1s\n",
      "[CV 2/5] END C=100, max_iter=500, penalty=l2, solver=lgbfs;, score=nan total time=   0.1s\n",
      "[CV 3/5] END C=100, max_iter=500, penalty=l2, solver=lgbfs;, score=nan total time=   0.1s\n",
      "[CV 4/5] END C=100, max_iter=500, penalty=l2, solver=lgbfs;, score=nan total time=   0.1s\n",
      "[CV 5/5] END C=100, max_iter=500, penalty=l2, solver=lgbfs;, score=nan total time=   0.1s\n",
      "[CV 1/5] END C=100, max_iter=500, penalty=elasticnet, solver=newton-cg;, score=nan total time=   0.1s\n",
      "[CV 2/5] END C=100, max_iter=500, penalty=elasticnet, solver=newton-cg;, score=nan total time=   0.1s\n",
      "[CV 3/5] END C=100, max_iter=500, penalty=elasticnet, solver=newton-cg;, score=nan total time=   0.1s\n",
      "[CV 4/5] END C=100, max_iter=500, penalty=elasticnet, solver=newton-cg;, score=nan total time=   0.1s\n",
      "[CV 5/5] END C=100, max_iter=500, penalty=elasticnet, solver=newton-cg;, score=nan total time=   0.1s\n",
      "[CV 1/5] END C=100, max_iter=500, penalty=elasticnet, solver=sag;, score=nan total time=   0.1s\n",
      "[CV 2/5] END C=100, max_iter=500, penalty=elasticnet, solver=sag;, score=nan total time=   0.1s\n",
      "[CV 3/5] END C=100, max_iter=500, penalty=elasticnet, solver=sag;, score=nan total time=   0.1s\n",
      "[CV 4/5] END C=100, max_iter=500, penalty=elasticnet, solver=sag;, score=nan total time=   0.1s\n"
     ]
    },
    {
     "name": "stdout",
     "output_type": "stream",
     "text": [
      "[CV 5/5] END C=100, max_iter=500, penalty=elasticnet, solver=sag;, score=nan total time=   0.1s\n",
      "[CV 1/5] END C=100, max_iter=500, penalty=elasticnet, solver=saga;, score=nan total time=   0.1s\n",
      "[CV 2/5] END C=100, max_iter=500, penalty=elasticnet, solver=saga;, score=nan total time=   0.1s\n",
      "[CV 3/5] END C=100, max_iter=500, penalty=elasticnet, solver=saga;, score=nan total time=   0.1s\n",
      "[CV 4/5] END C=100, max_iter=500, penalty=elasticnet, solver=saga;, score=nan total time=   0.1s\n",
      "[CV 5/5] END C=100, max_iter=500, penalty=elasticnet, solver=saga;, score=nan total time=   0.1s\n",
      "[CV 1/5] END C=100, max_iter=500, penalty=elasticnet, solver=liblinear;, score=nan total time=   0.1s\n",
      "[CV 2/5] END C=100, max_iter=500, penalty=elasticnet, solver=liblinear;, score=nan total time=   0.1s\n",
      "[CV 3/5] END C=100, max_iter=500, penalty=elasticnet, solver=liblinear;, score=nan total time=   0.1s\n",
      "[CV 4/5] END C=100, max_iter=500, penalty=elasticnet, solver=liblinear;, score=nan total time=   0.1s\n",
      "[CV 5/5] END C=100, max_iter=500, penalty=elasticnet, solver=liblinear;, score=nan total time=   0.1s\n",
      "[CV 1/5] END C=100, max_iter=500, penalty=elasticnet, solver=lgbfs;, score=nan total time=   0.1s\n",
      "[CV 2/5] END C=100, max_iter=500, penalty=elasticnet, solver=lgbfs;, score=nan total time=   0.1s\n",
      "[CV 3/5] END C=100, max_iter=500, penalty=elasticnet, solver=lgbfs;, score=nan total time=   0.1s\n",
      "[CV 4/5] END C=100, max_iter=500, penalty=elasticnet, solver=lgbfs;, score=nan total time=   0.1s\n",
      "[CV 5/5] END C=100, max_iter=500, penalty=elasticnet, solver=lgbfs;, score=nan total time=   0.1s\n",
      "[CV 1/5] END C=100, max_iter=1000, penalty=l1, solver=newton-cg;, score=nan total time=   0.1s\n",
      "[CV 2/5] END C=100, max_iter=1000, penalty=l1, solver=newton-cg;, score=nan total time=   0.1s\n",
      "[CV 3/5] END C=100, max_iter=1000, penalty=l1, solver=newton-cg;, score=nan total time=   0.1s\n",
      "[CV 4/5] END C=100, max_iter=1000, penalty=l1, solver=newton-cg;, score=nan total time=   0.1s\n",
      "[CV 5/5] END C=100, max_iter=1000, penalty=l1, solver=newton-cg;, score=nan total time=   0.1s\n",
      "[CV 1/5] END C=100, max_iter=1000, penalty=l1, solver=sag;, score=nan total time=   0.1s\n",
      "[CV 2/5] END C=100, max_iter=1000, penalty=l1, solver=sag;, score=nan total time=   0.1s\n",
      "[CV 3/5] END C=100, max_iter=1000, penalty=l1, solver=sag;, score=nan total time=   0.1s\n",
      "[CV 4/5] END C=100, max_iter=1000, penalty=l1, solver=sag;, score=nan total time=   0.1s\n",
      "[CV 5/5] END C=100, max_iter=1000, penalty=l1, solver=sag;, score=nan total time=   0.1s\n",
      "[CV 1/5] END C=100, max_iter=1000, penalty=l1, solver=saga;, score=0.891 total time=  24.4s\n",
      "[CV 2/5] END C=100, max_iter=1000, penalty=l1, solver=saga;, score=0.891 total time=  15.9s\n",
      "[CV 3/5] END C=100, max_iter=1000, penalty=l1, solver=saga;, score=0.891 total time=  16.9s\n",
      "[CV 4/5] END C=100, max_iter=1000, penalty=l1, solver=saga;, score=0.891 total time=  16.6s\n",
      "[CV 5/5] END C=100, max_iter=1000, penalty=l1, solver=saga;, score=0.891 total time=  16.8s\n",
      "[CV 1/5] END C=100, max_iter=1000, penalty=l1, solver=liblinear;, score=0.891 total time=   2.2s\n",
      "[CV 2/5] END C=100, max_iter=1000, penalty=l1, solver=liblinear;, score=0.891 total time=   1.6s\n",
      "[CV 3/5] END C=100, max_iter=1000, penalty=l1, solver=liblinear;, score=0.891 total time=   1.4s\n",
      "[CV 4/5] END C=100, max_iter=1000, penalty=l1, solver=liblinear;, score=0.891 total time=   1.7s\n",
      "[CV 5/5] END C=100, max_iter=1000, penalty=l1, solver=liblinear;, score=0.891 total time=   2.0s\n",
      "[CV 1/5] END C=100, max_iter=1000, penalty=l1, solver=lgbfs;, score=nan total time=   0.1s\n",
      "[CV 2/5] END C=100, max_iter=1000, penalty=l1, solver=lgbfs;, score=nan total time=   0.1s\n",
      "[CV 3/5] END C=100, max_iter=1000, penalty=l1, solver=lgbfs;, score=nan total time=   0.1s\n",
      "[CV 4/5] END C=100, max_iter=1000, penalty=l1, solver=lgbfs;, score=nan total time=   0.1s\n",
      "[CV 5/5] END C=100, max_iter=1000, penalty=l1, solver=lgbfs;, score=nan total time=   0.1s\n",
      "[CV 1/5] END C=100, max_iter=1000, penalty=l2, solver=newton-cg;, score=0.891 total time=   3.5s\n",
      "[CV 2/5] END C=100, max_iter=1000, penalty=l2, solver=newton-cg;, score=0.891 total time=   3.3s\n",
      "[CV 3/5] END C=100, max_iter=1000, penalty=l2, solver=newton-cg;, score=0.891 total time=   3.1s\n",
      "[CV 4/5] END C=100, max_iter=1000, penalty=l2, solver=newton-cg;, score=0.891 total time=   3.0s\n",
      "[CV 5/5] END C=100, max_iter=1000, penalty=l2, solver=newton-cg;, score=0.891 total time=   3.1s\n",
      "[CV 1/5] END C=100, max_iter=1000, penalty=l2, solver=sag;, score=0.891 total time=  10.0s\n",
      "[CV 2/5] END C=100, max_iter=1000, penalty=l2, solver=sag;, score=0.891 total time=   4.8s\n",
      "[CV 3/5] END C=100, max_iter=1000, penalty=l2, solver=sag;, score=0.891 total time=   4.6s\n",
      "[CV 4/5] END C=100, max_iter=1000, penalty=l2, solver=sag;, score=0.891 total time=   4.7s\n",
      "[CV 5/5] END C=100, max_iter=1000, penalty=l2, solver=sag;, score=0.891 total time=   6.7s\n",
      "[CV 1/5] END C=100, max_iter=1000, penalty=l2, solver=saga;, score=0.891 total time=  21.1s\n",
      "[CV 2/5] END C=100, max_iter=1000, penalty=l2, solver=saga;, score=0.891 total time=  13.9s\n",
      "[CV 3/5] END C=100, max_iter=1000, penalty=l2, solver=saga;, score=0.891 total time=  13.9s\n",
      "[CV 4/5] END C=100, max_iter=1000, penalty=l2, solver=saga;, score=0.891 total time=  14.4s\n",
      "[CV 5/5] END C=100, max_iter=1000, penalty=l2, solver=saga;, score=0.891 total time=  14.0s\n",
      "[CV 1/5] END C=100, max_iter=1000, penalty=l2, solver=liblinear;, score=0.891 total time=   2.6s\n",
      "[CV 2/5] END C=100, max_iter=1000, penalty=l2, solver=liblinear;, score=0.891 total time=   2.5s\n",
      "[CV 3/5] END C=100, max_iter=1000, penalty=l2, solver=liblinear;, score=0.891 total time=   2.6s\n",
      "[CV 4/5] END C=100, max_iter=1000, penalty=l2, solver=liblinear;, score=0.891 total time=   3.2s\n",
      "[CV 5/5] END C=100, max_iter=1000, penalty=l2, solver=liblinear;, score=0.891 total time=   3.6s\n",
      "[CV 1/5] END C=100, max_iter=1000, penalty=l2, solver=lgbfs;, score=nan total time=   0.1s\n",
      "[CV 2/5] END C=100, max_iter=1000, penalty=l2, solver=lgbfs;, score=nan total time=   0.1s\n",
      "[CV 3/5] END C=100, max_iter=1000, penalty=l2, solver=lgbfs;, score=nan total time=   0.1s\n",
      "[CV 4/5] END C=100, max_iter=1000, penalty=l2, solver=lgbfs;, score=nan total time=   0.1s\n",
      "[CV 5/5] END C=100, max_iter=1000, penalty=l2, solver=lgbfs;, score=nan total time=   0.1s\n",
      "[CV 1/5] END C=100, max_iter=1000, penalty=elasticnet, solver=newton-cg;, score=nan total time=   0.1s\n",
      "[CV 2/5] END C=100, max_iter=1000, penalty=elasticnet, solver=newton-cg;, score=nan total time=   0.1s\n",
      "[CV 3/5] END C=100, max_iter=1000, penalty=elasticnet, solver=newton-cg;, score=nan total time=   0.1s\n",
      "[CV 4/5] END C=100, max_iter=1000, penalty=elasticnet, solver=newton-cg;, score=nan total time=   0.1s\n",
      "[CV 5/5] END C=100, max_iter=1000, penalty=elasticnet, solver=newton-cg;, score=nan total time=   0.1s\n",
      "[CV 1/5] END C=100, max_iter=1000, penalty=elasticnet, solver=sag;, score=nan total time=   0.1s\n",
      "[CV 2/5] END C=100, max_iter=1000, penalty=elasticnet, solver=sag;, score=nan total time=   0.1s\n",
      "[CV 3/5] END C=100, max_iter=1000, penalty=elasticnet, solver=sag;, score=nan total time=   0.1s\n",
      "[CV 4/5] END C=100, max_iter=1000, penalty=elasticnet, solver=sag;, score=nan total time=   0.1s\n",
      "[CV 5/5] END C=100, max_iter=1000, penalty=elasticnet, solver=sag;, score=nan total time=   0.1s\n",
      "[CV 1/5] END C=100, max_iter=1000, penalty=elasticnet, solver=saga;, score=nan total time=   0.1s\n",
      "[CV 2/5] END C=100, max_iter=1000, penalty=elasticnet, solver=saga;, score=nan total time=   0.1s\n",
      "[CV 3/5] END C=100, max_iter=1000, penalty=elasticnet, solver=saga;, score=nan total time=   0.1s\n",
      "[CV 4/5] END C=100, max_iter=1000, penalty=elasticnet, solver=saga;, score=nan total time=   0.1s\n",
      "[CV 5/5] END C=100, max_iter=1000, penalty=elasticnet, solver=saga;, score=nan total time=   0.1s\n",
      "[CV 1/5] END C=100, max_iter=1000, penalty=elasticnet, solver=liblinear;, score=nan total time=   0.1s\n",
      "[CV 2/5] END C=100, max_iter=1000, penalty=elasticnet, solver=liblinear;, score=nan total time=   0.1s\n",
      "[CV 3/5] END C=100, max_iter=1000, penalty=elasticnet, solver=liblinear;, score=nan total time=   0.1s\n",
      "[CV 4/5] END C=100, max_iter=1000, penalty=elasticnet, solver=liblinear;, score=nan total time=   0.1s\n",
      "[CV 5/5] END C=100, max_iter=1000, penalty=elasticnet, solver=liblinear;, score=nan total time=   0.1s\n",
      "[CV 1/5] END C=100, max_iter=1000, penalty=elasticnet, solver=lgbfs;, score=nan total time=   0.1s\n"
     ]
    },
    {
     "name": "stdout",
     "output_type": "stream",
     "text": [
      "[CV 2/5] END C=100, max_iter=1000, penalty=elasticnet, solver=lgbfs;, score=nan total time=   0.1s\n",
      "[CV 3/5] END C=100, max_iter=1000, penalty=elasticnet, solver=lgbfs;, score=nan total time=   0.1s\n",
      "[CV 4/5] END C=100, max_iter=1000, penalty=elasticnet, solver=lgbfs;, score=nan total time=   0.1s\n",
      "[CV 5/5] END C=100, max_iter=1000, penalty=elasticnet, solver=lgbfs;, score=nan total time=   0.1s\n",
      "[CV 1/5] END C=100, max_iter=2000, penalty=l1, solver=newton-cg;, score=nan total time=   0.1s\n",
      "[CV 2/5] END C=100, max_iter=2000, penalty=l1, solver=newton-cg;, score=nan total time=   0.1s\n",
      "[CV 3/5] END C=100, max_iter=2000, penalty=l1, solver=newton-cg;, score=nan total time=   0.1s\n",
      "[CV 4/5] END C=100, max_iter=2000, penalty=l1, solver=newton-cg;, score=nan total time=   0.1s\n",
      "[CV 5/5] END C=100, max_iter=2000, penalty=l1, solver=newton-cg;, score=nan total time=   0.1s\n",
      "[CV 1/5] END C=100, max_iter=2000, penalty=l1, solver=sag;, score=nan total time=   0.1s\n",
      "[CV 2/5] END C=100, max_iter=2000, penalty=l1, solver=sag;, score=nan total time=   0.1s\n",
      "[CV 3/5] END C=100, max_iter=2000, penalty=l1, solver=sag;, score=nan total time=   0.1s\n",
      "[CV 4/5] END C=100, max_iter=2000, penalty=l1, solver=sag;, score=nan total time=   0.1s\n",
      "[CV 5/5] END C=100, max_iter=2000, penalty=l1, solver=sag;, score=nan total time=   0.1s\n",
      "[CV 1/5] END C=100, max_iter=2000, penalty=l1, solver=saga;, score=0.891 total time=  26.2s\n",
      "[CV 2/5] END C=100, max_iter=2000, penalty=l1, solver=saga;, score=0.891 total time=  15.3s\n",
      "[CV 3/5] END C=100, max_iter=2000, penalty=l1, solver=saga;, score=0.891 total time=  15.2s\n",
      "[CV 4/5] END C=100, max_iter=2000, penalty=l1, solver=saga;, score=0.891 total time=  14.9s\n",
      "[CV 5/5] END C=100, max_iter=2000, penalty=l1, solver=saga;, score=0.891 total time=  15.8s\n",
      "[CV 1/5] END C=100, max_iter=2000, penalty=l1, solver=liblinear;, score=0.891 total time=   2.0s\n",
      "[CV 2/5] END C=100, max_iter=2000, penalty=l1, solver=liblinear;, score=0.891 total time=   1.7s\n",
      "[CV 3/5] END C=100, max_iter=2000, penalty=l1, solver=liblinear;, score=0.891 total time=   1.4s\n",
      "[CV 4/5] END C=100, max_iter=2000, penalty=l1, solver=liblinear;, score=0.891 total time=   1.7s\n",
      "[CV 5/5] END C=100, max_iter=2000, penalty=l1, solver=liblinear;, score=0.891 total time=   1.7s\n",
      "[CV 1/5] END C=100, max_iter=2000, penalty=l1, solver=lgbfs;, score=nan total time=   0.1s\n",
      "[CV 2/5] END C=100, max_iter=2000, penalty=l1, solver=lgbfs;, score=nan total time=   0.1s\n",
      "[CV 3/5] END C=100, max_iter=2000, penalty=l1, solver=lgbfs;, score=nan total time=   0.1s\n",
      "[CV 4/5] END C=100, max_iter=2000, penalty=l1, solver=lgbfs;, score=nan total time=   0.1s\n",
      "[CV 5/5] END C=100, max_iter=2000, penalty=l1, solver=lgbfs;, score=nan total time=   0.1s\n",
      "[CV 1/5] END C=100, max_iter=2000, penalty=l2, solver=newton-cg;, score=0.891 total time=   3.0s\n",
      "[CV 2/5] END C=100, max_iter=2000, penalty=l2, solver=newton-cg;, score=0.891 total time=   2.8s\n",
      "[CV 3/5] END C=100, max_iter=2000, penalty=l2, solver=newton-cg;, score=0.891 total time=   3.3s\n",
      "[CV 4/5] END C=100, max_iter=2000, penalty=l2, solver=newton-cg;, score=0.891 total time=   2.7s\n",
      "[CV 5/5] END C=100, max_iter=2000, penalty=l2, solver=newton-cg;, score=0.891 total time=   2.9s\n",
      "[CV 1/5] END C=100, max_iter=2000, penalty=l2, solver=sag;, score=0.891 total time=   9.5s\n",
      "[CV 2/5] END C=100, max_iter=2000, penalty=l2, solver=sag;, score=0.891 total time=   5.0s\n",
      "[CV 3/5] END C=100, max_iter=2000, penalty=l2, solver=sag;, score=0.891 total time=   4.7s\n",
      "[CV 4/5] END C=100, max_iter=2000, penalty=l2, solver=sag;, score=0.891 total time=   5.3s\n",
      "[CV 5/5] END C=100, max_iter=2000, penalty=l2, solver=sag;, score=0.891 total time=   6.6s\n",
      "[CV 1/5] END C=100, max_iter=2000, penalty=l2, solver=saga;, score=0.891 total time=  21.0s\n",
      "[CV 2/5] END C=100, max_iter=2000, penalty=l2, solver=saga;, score=0.891 total time=  12.7s\n",
      "[CV 3/5] END C=100, max_iter=2000, penalty=l2, solver=saga;, score=0.891 total time=  12.9s\n",
      "[CV 4/5] END C=100, max_iter=2000, penalty=l2, solver=saga;, score=0.891 total time=  13.7s\n",
      "[CV 5/5] END C=100, max_iter=2000, penalty=l2, solver=saga;, score=0.891 total time=  13.9s\n",
      "[CV 1/5] END C=100, max_iter=2000, penalty=l2, solver=liblinear;, score=0.891 total time=   2.5s\n",
      "[CV 2/5] END C=100, max_iter=2000, penalty=l2, solver=liblinear;, score=0.891 total time=   2.7s\n",
      "[CV 3/5] END C=100, max_iter=2000, penalty=l2, solver=liblinear;, score=0.891 total time=   2.5s\n",
      "[CV 4/5] END C=100, max_iter=2000, penalty=l2, solver=liblinear;, score=0.891 total time=   3.2s\n",
      "[CV 5/5] END C=100, max_iter=2000, penalty=l2, solver=liblinear;, score=0.891 total time=   3.9s\n",
      "[CV 1/5] END C=100, max_iter=2000, penalty=l2, solver=lgbfs;, score=nan total time=   0.3s\n",
      "[CV 2/5] END C=100, max_iter=2000, penalty=l2, solver=lgbfs;, score=nan total time=   0.1s\n",
      "[CV 3/5] END C=100, max_iter=2000, penalty=l2, solver=lgbfs;, score=nan total time=   0.1s\n",
      "[CV 4/5] END C=100, max_iter=2000, penalty=l2, solver=lgbfs;, score=nan total time=   0.1s\n",
      "[CV 5/5] END C=100, max_iter=2000, penalty=l2, solver=lgbfs;, score=nan total time=   0.1s\n",
      "[CV 1/5] END C=100, max_iter=2000, penalty=elasticnet, solver=newton-cg;, score=nan total time=   0.1s\n",
      "[CV 2/5] END C=100, max_iter=2000, penalty=elasticnet, solver=newton-cg;, score=nan total time=   0.1s\n",
      "[CV 3/5] END C=100, max_iter=2000, penalty=elasticnet, solver=newton-cg;, score=nan total time=   0.1s\n",
      "[CV 4/5] END C=100, max_iter=2000, penalty=elasticnet, solver=newton-cg;, score=nan total time=   0.1s\n",
      "[CV 5/5] END C=100, max_iter=2000, penalty=elasticnet, solver=newton-cg;, score=nan total time=   0.1s\n",
      "[CV 1/5] END C=100, max_iter=2000, penalty=elasticnet, solver=sag;, score=nan total time=   0.1s\n",
      "[CV 2/5] END C=100, max_iter=2000, penalty=elasticnet, solver=sag;, score=nan total time=   0.1s\n",
      "[CV 3/5] END C=100, max_iter=2000, penalty=elasticnet, solver=sag;, score=nan total time=   0.1s\n",
      "[CV 4/5] END C=100, max_iter=2000, penalty=elasticnet, solver=sag;, score=nan total time=   0.1s\n",
      "[CV 5/5] END C=100, max_iter=2000, penalty=elasticnet, solver=sag;, score=nan total time=   0.1s\n",
      "[CV 1/5] END C=100, max_iter=2000, penalty=elasticnet, solver=saga;, score=nan total time=   0.1s\n",
      "[CV 2/5] END C=100, max_iter=2000, penalty=elasticnet, solver=saga;, score=nan total time=   0.1s\n",
      "[CV 3/5] END C=100, max_iter=2000, penalty=elasticnet, solver=saga;, score=nan total time=   0.1s\n",
      "[CV 4/5] END C=100, max_iter=2000, penalty=elasticnet, solver=saga;, score=nan total time=   0.1s\n",
      "[CV 5/5] END C=100, max_iter=2000, penalty=elasticnet, solver=saga;, score=nan total time=   0.1s\n",
      "[CV 1/5] END C=100, max_iter=2000, penalty=elasticnet, solver=liblinear;, score=nan total time=   0.1s\n",
      "[CV 2/5] END C=100, max_iter=2000, penalty=elasticnet, solver=liblinear;, score=nan total time=   0.1s\n",
      "[CV 3/5] END C=100, max_iter=2000, penalty=elasticnet, solver=liblinear;, score=nan total time=   0.1s\n",
      "[CV 4/5] END C=100, max_iter=2000, penalty=elasticnet, solver=liblinear;, score=nan total time=   0.1s\n",
      "[CV 5/5] END C=100, max_iter=2000, penalty=elasticnet, solver=liblinear;, score=nan total time=   0.1s\n",
      "[CV 1/5] END C=100, max_iter=2000, penalty=elasticnet, solver=lgbfs;, score=nan total time=   0.1s\n",
      "[CV 2/5] END C=100, max_iter=2000, penalty=elasticnet, solver=lgbfs;, score=nan total time=   0.1s\n",
      "[CV 3/5] END C=100, max_iter=2000, penalty=elasticnet, solver=lgbfs;, score=nan total time=   0.1s\n",
      "[CV 4/5] END C=100, max_iter=2000, penalty=elasticnet, solver=lgbfs;, score=nan total time=   0.1s\n",
      "[CV 5/5] END C=100, max_iter=2000, penalty=elasticnet, solver=lgbfs;, score=nan total time=   0.1s\n",
      "[CV 1/5] END C=10, max_iter=100, penalty=l1, solver=newton-cg;, score=nan total time=   0.1s\n",
      "[CV 2/5] END C=10, max_iter=100, penalty=l1, solver=newton-cg;, score=nan total time=   0.1s\n",
      "[CV 3/5] END C=10, max_iter=100, penalty=l1, solver=newton-cg;, score=nan total time=   0.1s\n",
      "[CV 4/5] END C=10, max_iter=100, penalty=l1, solver=newton-cg;, score=nan total time=   0.1s\n",
      "[CV 5/5] END C=10, max_iter=100, penalty=l1, solver=newton-cg;, score=nan total time=   0.1s\n",
      "[CV 1/5] END C=10, max_iter=100, penalty=l1, solver=sag;, score=nan total time=   0.1s\n",
      "[CV 2/5] END C=10, max_iter=100, penalty=l1, solver=sag;, score=nan total time=   0.1s\n",
      "[CV 3/5] END C=10, max_iter=100, penalty=l1, solver=sag;, score=nan total time=   0.1s\n"
     ]
    },
    {
     "name": "stdout",
     "output_type": "stream",
     "text": [
      "[CV 4/5] END C=10, max_iter=100, penalty=l1, solver=sag;, score=nan total time=   0.1s\n",
      "[CV 5/5] END C=10, max_iter=100, penalty=l1, solver=sag;, score=nan total time=   0.1s\n",
      "[CV 1/5] END C=10, max_iter=100, penalty=l1, solver=saga;, score=0.891 total time=  24.2s\n",
      "[CV 2/5] END C=10, max_iter=100, penalty=l1, solver=saga;, score=0.891 total time=  15.0s\n",
      "[CV 3/5] END C=10, max_iter=100, penalty=l1, solver=saga;, score=0.891 total time=  15.0s\n",
      "[CV 4/5] END C=10, max_iter=100, penalty=l1, solver=saga;, score=0.891 total time=  15.2s\n",
      "[CV 5/5] END C=10, max_iter=100, penalty=l1, solver=saga;, score=0.891 total time=  16.3s\n",
      "[CV 1/5] END C=10, max_iter=100, penalty=l1, solver=liblinear;, score=0.891 total time=   2.3s\n",
      "[CV 2/5] END C=10, max_iter=100, penalty=l1, solver=liblinear;, score=0.891 total time=   1.8s\n",
      "[CV 3/5] END C=10, max_iter=100, penalty=l1, solver=liblinear;, score=0.891 total time=   1.6s\n",
      "[CV 4/5] END C=10, max_iter=100, penalty=l1, solver=liblinear;, score=0.891 total time=   2.1s\n",
      "[CV 5/5] END C=10, max_iter=100, penalty=l1, solver=liblinear;, score=0.891 total time=   2.2s\n",
      "[CV 1/5] END C=10, max_iter=100, penalty=l1, solver=lgbfs;, score=nan total time=   0.2s\n",
      "[CV 2/5] END C=10, max_iter=100, penalty=l1, solver=lgbfs;, score=nan total time=   0.1s\n",
      "[CV 3/5] END C=10, max_iter=100, penalty=l1, solver=lgbfs;, score=nan total time=   0.1s\n",
      "[CV 4/5] END C=10, max_iter=100, penalty=l1, solver=lgbfs;, score=nan total time=   0.1s\n",
      "[CV 5/5] END C=10, max_iter=100, penalty=l1, solver=lgbfs;, score=nan total time=   0.1s\n",
      "[CV 1/5] END C=10, max_iter=100, penalty=l2, solver=newton-cg;, score=0.891 total time=   3.0s\n",
      "[CV 2/5] END C=10, max_iter=100, penalty=l2, solver=newton-cg;, score=0.891 total time=   3.0s\n",
      "[CV 3/5] END C=10, max_iter=100, penalty=l2, solver=newton-cg;, score=0.891 total time=   3.4s\n",
      "[CV 4/5] END C=10, max_iter=100, penalty=l2, solver=newton-cg;, score=0.891 total time=   2.7s\n"
     ]
    },
    {
     "name": "stderr",
     "output_type": "stream",
     "text": [
      "/Users/michaelraines/opt/anaconda3/lib/python3.8/site-packages/scipy/optimize/linesearch.py:327: LineSearchWarning: The line search algorithm did not converge\n",
      "  warn('The line search algorithm did not converge', LineSearchWarning)\n",
      "/Users/michaelraines/opt/anaconda3/lib/python3.8/site-packages/sklearn/utils/optimize.py:203: UserWarning: Line Search failed\n",
      "  warnings.warn(\"Line Search failed\")\n"
     ]
    },
    {
     "name": "stdout",
     "output_type": "stream",
     "text": [
      "[CV 5/5] END C=10, max_iter=100, penalty=l2, solver=newton-cg;, score=0.891 total time=   3.0s\n",
      "[CV 1/5] END C=10, max_iter=100, penalty=l2, solver=sag;, score=0.891 total time=   9.1s\n",
      "[CV 2/5] END C=10, max_iter=100, penalty=l2, solver=sag;, score=0.891 total time=   4.7s\n",
      "[CV 3/5] END C=10, max_iter=100, penalty=l2, solver=sag;, score=0.891 total time=   4.7s\n",
      "[CV 4/5] END C=10, max_iter=100, penalty=l2, solver=sag;, score=0.891 total time=   4.8s\n",
      "[CV 5/5] END C=10, max_iter=100, penalty=l2, solver=sag;, score=0.891 total time=   6.9s\n",
      "[CV 1/5] END C=10, max_iter=100, penalty=l2, solver=saga;, score=0.891 total time=  22.0s\n",
      "[CV 2/5] END C=10, max_iter=100, penalty=l2, solver=saga;, score=0.891 total time=  13.0s\n",
      "[CV 3/5] END C=10, max_iter=100, penalty=l2, solver=saga;, score=0.891 total time=  13.3s\n",
      "[CV 4/5] END C=10, max_iter=100, penalty=l2, solver=saga;, score=0.891 total time=  13.5s\n",
      "[CV 5/5] END C=10, max_iter=100, penalty=l2, solver=saga;, score=0.891 total time=  13.7s\n",
      "[CV 1/5] END C=10, max_iter=100, penalty=l2, solver=liblinear;, score=0.891 total time=   2.5s\n",
      "[CV 2/5] END C=10, max_iter=100, penalty=l2, solver=liblinear;, score=0.891 total time=   2.5s\n",
      "[CV 3/5] END C=10, max_iter=100, penalty=l2, solver=liblinear;, score=0.891 total time=   2.5s\n",
      "[CV 4/5] END C=10, max_iter=100, penalty=l2, solver=liblinear;, score=0.891 total time=   3.1s\n",
      "[CV 5/5] END C=10, max_iter=100, penalty=l2, solver=liblinear;, score=0.891 total time=   3.5s\n",
      "[CV 1/5] END C=10, max_iter=100, penalty=l2, solver=lgbfs;, score=nan total time=   0.1s\n",
      "[CV 2/5] END C=10, max_iter=100, penalty=l2, solver=lgbfs;, score=nan total time=   0.1s\n",
      "[CV 3/5] END C=10, max_iter=100, penalty=l2, solver=lgbfs;, score=nan total time=   0.1s\n",
      "[CV 4/5] END C=10, max_iter=100, penalty=l2, solver=lgbfs;, score=nan total time=   0.1s\n",
      "[CV 5/5] END C=10, max_iter=100, penalty=l2, solver=lgbfs;, score=nan total time=   0.1s\n",
      "[CV 1/5] END C=10, max_iter=100, penalty=elasticnet, solver=newton-cg;, score=nan total time=   0.1s\n",
      "[CV 2/5] END C=10, max_iter=100, penalty=elasticnet, solver=newton-cg;, score=nan total time=   0.1s\n",
      "[CV 3/5] END C=10, max_iter=100, penalty=elasticnet, solver=newton-cg;, score=nan total time=   0.1s\n",
      "[CV 4/5] END C=10, max_iter=100, penalty=elasticnet, solver=newton-cg;, score=nan total time=   0.1s\n",
      "[CV 5/5] END C=10, max_iter=100, penalty=elasticnet, solver=newton-cg;, score=nan total time=   0.1s\n",
      "[CV 1/5] END C=10, max_iter=100, penalty=elasticnet, solver=sag;, score=nan total time=   0.1s\n",
      "[CV 2/5] END C=10, max_iter=100, penalty=elasticnet, solver=sag;, score=nan total time=   0.1s\n",
      "[CV 3/5] END C=10, max_iter=100, penalty=elasticnet, solver=sag;, score=nan total time=   0.1s\n",
      "[CV 4/5] END C=10, max_iter=100, penalty=elasticnet, solver=sag;, score=nan total time=   0.1s\n",
      "[CV 5/5] END C=10, max_iter=100, penalty=elasticnet, solver=sag;, score=nan total time=   0.1s\n",
      "[CV 1/5] END C=10, max_iter=100, penalty=elasticnet, solver=saga;, score=nan total time=   0.1s\n",
      "[CV 2/5] END C=10, max_iter=100, penalty=elasticnet, solver=saga;, score=nan total time=   0.1s\n",
      "[CV 3/5] END C=10, max_iter=100, penalty=elasticnet, solver=saga;, score=nan total time=   0.1s\n",
      "[CV 4/5] END C=10, max_iter=100, penalty=elasticnet, solver=saga;, score=nan total time=   0.1s\n",
      "[CV 5/5] END C=10, max_iter=100, penalty=elasticnet, solver=saga;, score=nan total time=   0.1s\n",
      "[CV 1/5] END C=10, max_iter=100, penalty=elasticnet, solver=liblinear;, score=nan total time=   0.1s\n",
      "[CV 2/5] END C=10, max_iter=100, penalty=elasticnet, solver=liblinear;, score=nan total time=   0.1s\n",
      "[CV 3/5] END C=10, max_iter=100, penalty=elasticnet, solver=liblinear;, score=nan total time=   0.1s\n",
      "[CV 4/5] END C=10, max_iter=100, penalty=elasticnet, solver=liblinear;, score=nan total time=   0.1s\n",
      "[CV 5/5] END C=10, max_iter=100, penalty=elasticnet, solver=liblinear;, score=nan total time=   0.1s\n",
      "[CV 1/5] END C=10, max_iter=100, penalty=elasticnet, solver=lgbfs;, score=nan total time=   0.1s\n",
      "[CV 2/5] END C=10, max_iter=100, penalty=elasticnet, solver=lgbfs;, score=nan total time=   0.1s\n",
      "[CV 3/5] END C=10, max_iter=100, penalty=elasticnet, solver=lgbfs;, score=nan total time=   0.1s\n",
      "[CV 4/5] END C=10, max_iter=100, penalty=elasticnet, solver=lgbfs;, score=nan total time=   0.1s\n",
      "[CV 5/5] END C=10, max_iter=100, penalty=elasticnet, solver=lgbfs;, score=nan total time=   0.1s\n",
      "[CV 1/5] END C=10, max_iter=500, penalty=l1, solver=newton-cg;, score=nan total time=   0.1s\n",
      "[CV 2/5] END C=10, max_iter=500, penalty=l1, solver=newton-cg;, score=nan total time=   0.1s\n",
      "[CV 3/5] END C=10, max_iter=500, penalty=l1, solver=newton-cg;, score=nan total time=   0.1s\n",
      "[CV 4/5] END C=10, max_iter=500, penalty=l1, solver=newton-cg;, score=nan total time=   0.1s\n",
      "[CV 5/5] END C=10, max_iter=500, penalty=l1, solver=newton-cg;, score=nan total time=   0.1s\n",
      "[CV 1/5] END C=10, max_iter=500, penalty=l1, solver=sag;, score=nan total time=   0.1s\n",
      "[CV 2/5] END C=10, max_iter=500, penalty=l1, solver=sag;, score=nan total time=   0.1s\n",
      "[CV 3/5] END C=10, max_iter=500, penalty=l1, solver=sag;, score=nan total time=   0.1s\n",
      "[CV 4/5] END C=10, max_iter=500, penalty=l1, solver=sag;, score=nan total time=   0.1s\n",
      "[CV 5/5] END C=10, max_iter=500, penalty=l1, solver=sag;, score=nan total time=   0.1s\n",
      "[CV 1/5] END C=10, max_iter=500, penalty=l1, solver=saga;, score=0.891 total time=  24.7s\n",
      "[CV 2/5] END C=10, max_iter=500, penalty=l1, solver=saga;, score=0.891 total time=  15.5s\n",
      "[CV 3/5] END C=10, max_iter=500, penalty=l1, solver=saga;, score=0.891 total time=  15.4s\n",
      "[CV 4/5] END C=10, max_iter=500, penalty=l1, solver=saga;, score=0.891 total time=  15.6s\n",
      "[CV 5/5] END C=10, max_iter=500, penalty=l1, solver=saga;, score=0.891 total time=  16.4s\n",
      "[CV 1/5] END C=10, max_iter=500, penalty=l1, solver=liblinear;, score=0.891 total time=   2.3s\n",
      "[CV 2/5] END C=10, max_iter=500, penalty=l1, solver=liblinear;, score=0.891 total time=   1.8s\n",
      "[CV 3/5] END C=10, max_iter=500, penalty=l1, solver=liblinear;, score=0.891 total time=   1.8s\n",
      "[CV 4/5] END C=10, max_iter=500, penalty=l1, solver=liblinear;, score=0.891 total time=   1.8s\n",
      "[CV 5/5] END C=10, max_iter=500, penalty=l1, solver=liblinear;, score=0.891 total time=   1.8s\n",
      "[CV 1/5] END C=10, max_iter=500, penalty=l1, solver=lgbfs;, score=nan total time=   0.1s\n",
      "[CV 2/5] END C=10, max_iter=500, penalty=l1, solver=lgbfs;, score=nan total time=   0.1s\n",
      "[CV 3/5] END C=10, max_iter=500, penalty=l1, solver=lgbfs;, score=nan total time=   0.1s\n",
      "[CV 4/5] END C=10, max_iter=500, penalty=l1, solver=lgbfs;, score=nan total time=   0.1s\n",
      "[CV 5/5] END C=10, max_iter=500, penalty=l1, solver=lgbfs;, score=nan total time=   0.1s\n",
      "[CV 1/5] END C=10, max_iter=500, penalty=l2, solver=newton-cg;, score=0.891 total time=   2.8s\n",
      "[CV 2/5] END C=10, max_iter=500, penalty=l2, solver=newton-cg;, score=0.891 total time=   2.6s\n",
      "[CV 3/5] END C=10, max_iter=500, penalty=l2, solver=newton-cg;, score=0.891 total time=   2.5s\n",
      "[CV 4/5] END C=10, max_iter=500, penalty=l2, solver=newton-cg;, score=0.891 total time=   2.4s\n"
     ]
    },
    {
     "name": "stderr",
     "output_type": "stream",
     "text": [
      "/Users/michaelraines/opt/anaconda3/lib/python3.8/site-packages/scipy/optimize/linesearch.py:327: LineSearchWarning: The line search algorithm did not converge\n",
      "  warn('The line search algorithm did not converge', LineSearchWarning)\n",
      "/Users/michaelraines/opt/anaconda3/lib/python3.8/site-packages/sklearn/utils/optimize.py:203: UserWarning: Line Search failed\n",
      "  warnings.warn(\"Line Search failed\")\n"
     ]
    },
    {
     "name": "stdout",
     "output_type": "stream",
     "text": [
      "[CV 5/5] END C=10, max_iter=500, penalty=l2, solver=newton-cg;, score=0.891 total time=   2.8s\n",
      "[CV 1/5] END C=10, max_iter=500, penalty=l2, solver=sag;, score=0.891 total time=   9.0s\n",
      "[CV 2/5] END C=10, max_iter=500, penalty=l2, solver=sag;, score=0.891 total time=   4.7s\n",
      "[CV 3/5] END C=10, max_iter=500, penalty=l2, solver=sag;, score=0.891 total time=   4.7s\n",
      "[CV 4/5] END C=10, max_iter=500, penalty=l2, solver=sag;, score=0.891 total time=   4.7s\n",
      "[CV 5/5] END C=10, max_iter=500, penalty=l2, solver=sag;, score=0.891 total time=   6.4s\n",
      "[CV 1/5] END C=10, max_iter=500, penalty=l2, solver=saga;, score=0.891 total time=  20.5s\n",
      "[CV 2/5] END C=10, max_iter=500, penalty=l2, solver=saga;, score=0.891 total time=  12.6s\n",
      "[CV 3/5] END C=10, max_iter=500, penalty=l2, solver=saga;, score=0.891 total time=  12.7s\n",
      "[CV 4/5] END C=10, max_iter=500, penalty=l2, solver=saga;, score=0.891 total time=  13.0s\n",
      "[CV 5/5] END C=10, max_iter=500, penalty=l2, solver=saga;, score=0.891 total time=  13.5s\n",
      "[CV 1/5] END C=10, max_iter=500, penalty=l2, solver=liblinear;, score=0.891 total time=   2.3s\n",
      "[CV 2/5] END C=10, max_iter=500, penalty=l2, solver=liblinear;, score=0.891 total time=   2.5s\n",
      "[CV 3/5] END C=10, max_iter=500, penalty=l2, solver=liblinear;, score=0.891 total time=   2.4s\n",
      "[CV 4/5] END C=10, max_iter=500, penalty=l2, solver=liblinear;, score=0.891 total time=   3.1s\n",
      "[CV 5/5] END C=10, max_iter=500, penalty=l2, solver=liblinear;, score=0.891 total time=   3.4s\n",
      "[CV 1/5] END C=10, max_iter=500, penalty=l2, solver=lgbfs;, score=nan total time=   0.1s\n",
      "[CV 2/5] END C=10, max_iter=500, penalty=l2, solver=lgbfs;, score=nan total time=   0.1s\n",
      "[CV 3/5] END C=10, max_iter=500, penalty=l2, solver=lgbfs;, score=nan total time=   0.1s\n",
      "[CV 4/5] END C=10, max_iter=500, penalty=l2, solver=lgbfs;, score=nan total time=   0.1s\n",
      "[CV 5/5] END C=10, max_iter=500, penalty=l2, solver=lgbfs;, score=nan total time=   0.1s\n",
      "[CV 1/5] END C=10, max_iter=500, penalty=elasticnet, solver=newton-cg;, score=nan total time=   0.1s\n",
      "[CV 2/5] END C=10, max_iter=500, penalty=elasticnet, solver=newton-cg;, score=nan total time=   0.1s\n",
      "[CV 3/5] END C=10, max_iter=500, penalty=elasticnet, solver=newton-cg;, score=nan total time=   0.1s\n",
      "[CV 4/5] END C=10, max_iter=500, penalty=elasticnet, solver=newton-cg;, score=nan total time=   0.1s\n",
      "[CV 5/5] END C=10, max_iter=500, penalty=elasticnet, solver=newton-cg;, score=nan total time=   0.1s\n",
      "[CV 1/5] END C=10, max_iter=500, penalty=elasticnet, solver=sag;, score=nan total time=   0.1s\n",
      "[CV 2/5] END C=10, max_iter=500, penalty=elasticnet, solver=sag;, score=nan total time=   0.1s\n",
      "[CV 3/5] END C=10, max_iter=500, penalty=elasticnet, solver=sag;, score=nan total time=   0.1s\n",
      "[CV 4/5] END C=10, max_iter=500, penalty=elasticnet, solver=sag;, score=nan total time=   0.1s\n",
      "[CV 5/5] END C=10, max_iter=500, penalty=elasticnet, solver=sag;, score=nan total time=   0.1s\n",
      "[CV 1/5] END C=10, max_iter=500, penalty=elasticnet, solver=saga;, score=nan total time=   0.1s\n",
      "[CV 2/5] END C=10, max_iter=500, penalty=elasticnet, solver=saga;, score=nan total time=   0.1s\n",
      "[CV 3/5] END C=10, max_iter=500, penalty=elasticnet, solver=saga;, score=nan total time=   0.1s\n",
      "[CV 4/5] END C=10, max_iter=500, penalty=elasticnet, solver=saga;, score=nan total time=   0.1s\n",
      "[CV 5/5] END C=10, max_iter=500, penalty=elasticnet, solver=saga;, score=nan total time=   0.1s\n",
      "[CV 1/5] END C=10, max_iter=500, penalty=elasticnet, solver=liblinear;, score=nan total time=   0.1s\n",
      "[CV 2/5] END C=10, max_iter=500, penalty=elasticnet, solver=liblinear;, score=nan total time=   0.1s\n",
      "[CV 3/5] END C=10, max_iter=500, penalty=elasticnet, solver=liblinear;, score=nan total time=   0.1s\n",
      "[CV 4/5] END C=10, max_iter=500, penalty=elasticnet, solver=liblinear;, score=nan total time=   0.1s\n",
      "[CV 5/5] END C=10, max_iter=500, penalty=elasticnet, solver=liblinear;, score=nan total time=   0.1s\n",
      "[CV 1/5] END C=10, max_iter=500, penalty=elasticnet, solver=lgbfs;, score=nan total time=   0.1s\n",
      "[CV 2/5] END C=10, max_iter=500, penalty=elasticnet, solver=lgbfs;, score=nan total time=   0.1s\n",
      "[CV 3/5] END C=10, max_iter=500, penalty=elasticnet, solver=lgbfs;, score=nan total time=   0.1s\n",
      "[CV 4/5] END C=10, max_iter=500, penalty=elasticnet, solver=lgbfs;, score=nan total time=   0.1s\n",
      "[CV 5/5] END C=10, max_iter=500, penalty=elasticnet, solver=lgbfs;, score=nan total time=   0.1s\n",
      "[CV 1/5] END C=10, max_iter=1000, penalty=l1, solver=newton-cg;, score=nan total time=   0.1s\n",
      "[CV 2/5] END C=10, max_iter=1000, penalty=l1, solver=newton-cg;, score=nan total time=   0.1s\n",
      "[CV 3/5] END C=10, max_iter=1000, penalty=l1, solver=newton-cg;, score=nan total time=   0.1s\n",
      "[CV 4/5] END C=10, max_iter=1000, penalty=l1, solver=newton-cg;, score=nan total time=   0.1s\n",
      "[CV 5/5] END C=10, max_iter=1000, penalty=l1, solver=newton-cg;, score=nan total time=   0.1s\n",
      "[CV 1/5] END C=10, max_iter=1000, penalty=l1, solver=sag;, score=nan total time=   0.1s\n",
      "[CV 2/5] END C=10, max_iter=1000, penalty=l1, solver=sag;, score=nan total time=   0.1s\n",
      "[CV 3/5] END C=10, max_iter=1000, penalty=l1, solver=sag;, score=nan total time=   0.1s\n",
      "[CV 4/5] END C=10, max_iter=1000, penalty=l1, solver=sag;, score=nan total time=   0.1s\n",
      "[CV 5/5] END C=10, max_iter=1000, penalty=l1, solver=sag;, score=nan total time=   0.1s\n",
      "[CV 1/5] END C=10, max_iter=1000, penalty=l1, solver=saga;, score=0.891 total time=  23.4s\n",
      "[CV 2/5] END C=10, max_iter=1000, penalty=l1, solver=saga;, score=0.891 total time=  14.6s\n",
      "[CV 3/5] END C=10, max_iter=1000, penalty=l1, solver=saga;, score=0.891 total time=  14.6s\n",
      "[CV 4/5] END C=10, max_iter=1000, penalty=l1, solver=saga;, score=0.891 total time=  14.9s\n",
      "[CV 5/5] END C=10, max_iter=1000, penalty=l1, solver=saga;, score=0.891 total time=  15.7s\n",
      "[CV 1/5] END C=10, max_iter=1000, penalty=l1, solver=liblinear;, score=0.891 total time=   2.2s\n",
      "[CV 2/5] END C=10, max_iter=1000, penalty=l1, solver=liblinear;, score=0.891 total time=   1.9s\n",
      "[CV 3/5] END C=10, max_iter=1000, penalty=l1, solver=liblinear;, score=0.891 total time=   1.6s\n",
      "[CV 4/5] END C=10, max_iter=1000, penalty=l1, solver=liblinear;, score=0.891 total time=   1.9s\n",
      "[CV 5/5] END C=10, max_iter=1000, penalty=l1, solver=liblinear;, score=0.891 total time=   1.8s\n",
      "[CV 1/5] END C=10, max_iter=1000, penalty=l1, solver=lgbfs;, score=nan total time=   0.1s\n",
      "[CV 2/5] END C=10, max_iter=1000, penalty=l1, solver=lgbfs;, score=nan total time=   0.1s\n",
      "[CV 3/5] END C=10, max_iter=1000, penalty=l1, solver=lgbfs;, score=nan total time=   0.1s\n",
      "[CV 4/5] END C=10, max_iter=1000, penalty=l1, solver=lgbfs;, score=nan total time=   0.1s\n",
      "[CV 5/5] END C=10, max_iter=1000, penalty=l1, solver=lgbfs;, score=nan total time=   0.1s\n",
      "[CV 1/5] END C=10, max_iter=1000, penalty=l2, solver=newton-cg;, score=0.891 total time=   2.8s\n",
      "[CV 2/5] END C=10, max_iter=1000, penalty=l2, solver=newton-cg;, score=0.891 total time=   2.6s\n",
      "[CV 3/5] END C=10, max_iter=1000, penalty=l2, solver=newton-cg;, score=0.891 total time=   2.5s\n",
      "[CV 4/5] END C=10, max_iter=1000, penalty=l2, solver=newton-cg;, score=0.891 total time=   2.4s\n"
     ]
    },
    {
     "name": "stderr",
     "output_type": "stream",
     "text": [
      "/Users/michaelraines/opt/anaconda3/lib/python3.8/site-packages/scipy/optimize/linesearch.py:327: LineSearchWarning: The line search algorithm did not converge\n",
      "  warn('The line search algorithm did not converge', LineSearchWarning)\n",
      "/Users/michaelraines/opt/anaconda3/lib/python3.8/site-packages/sklearn/utils/optimize.py:203: UserWarning: Line Search failed\n",
      "  warnings.warn(\"Line Search failed\")\n"
     ]
    },
    {
     "name": "stdout",
     "output_type": "stream",
     "text": [
      "[CV 5/5] END C=10, max_iter=1000, penalty=l2, solver=newton-cg;, score=0.891 total time=   2.8s\n",
      "[CV 1/5] END C=10, max_iter=1000, penalty=l2, solver=sag;, score=0.891 total time=   9.0s\n",
      "[CV 2/5] END C=10, max_iter=1000, penalty=l2, solver=sag;, score=0.891 total time=   4.7s\n",
      "[CV 3/5] END C=10, max_iter=1000, penalty=l2, solver=sag;, score=0.891 total time=   4.7s\n",
      "[CV 4/5] END C=10, max_iter=1000, penalty=l2, solver=sag;, score=0.891 total time=   4.7s\n",
      "[CV 5/5] END C=10, max_iter=1000, penalty=l2, solver=sag;, score=0.891 total time=   6.5s\n",
      "[CV 1/5] END C=10, max_iter=1000, penalty=l2, solver=saga;, score=0.891 total time=  20.7s\n",
      "[CV 2/5] END C=10, max_iter=1000, penalty=l2, solver=saga;, score=0.891 total time=  12.9s\n",
      "[CV 3/5] END C=10, max_iter=1000, penalty=l2, solver=saga;, score=0.891 total time=  13.1s\n",
      "[CV 4/5] END C=10, max_iter=1000, penalty=l2, solver=saga;, score=0.891 total time=  13.0s\n",
      "[CV 5/5] END C=10, max_iter=1000, penalty=l2, solver=saga;, score=0.891 total time=  13.6s\n",
      "[CV 1/5] END C=10, max_iter=1000, penalty=l2, solver=liblinear;, score=0.891 total time=   2.5s\n",
      "[CV 2/5] END C=10, max_iter=1000, penalty=l2, solver=liblinear;, score=0.891 total time=   2.5s\n",
      "[CV 3/5] END C=10, max_iter=1000, penalty=l2, solver=liblinear;, score=0.891 total time=   2.5s\n",
      "[CV 4/5] END C=10, max_iter=1000, penalty=l2, solver=liblinear;, score=0.891 total time=   3.1s\n",
      "[CV 5/5] END C=10, max_iter=1000, penalty=l2, solver=liblinear;, score=0.891 total time=   3.5s\n",
      "[CV 1/5] END C=10, max_iter=1000, penalty=l2, solver=lgbfs;, score=nan total time=   0.1s\n",
      "[CV 2/5] END C=10, max_iter=1000, penalty=l2, solver=lgbfs;, score=nan total time=   0.1s\n",
      "[CV 3/5] END C=10, max_iter=1000, penalty=l2, solver=lgbfs;, score=nan total time=   0.1s\n",
      "[CV 4/5] END C=10, max_iter=1000, penalty=l2, solver=lgbfs;, score=nan total time=   0.1s\n",
      "[CV 5/5] END C=10, max_iter=1000, penalty=l2, solver=lgbfs;, score=nan total time=   0.1s\n",
      "[CV 1/5] END C=10, max_iter=1000, penalty=elasticnet, solver=newton-cg;, score=nan total time=   0.1s\n",
      "[CV 2/5] END C=10, max_iter=1000, penalty=elasticnet, solver=newton-cg;, score=nan total time=   0.1s\n",
      "[CV 3/5] END C=10, max_iter=1000, penalty=elasticnet, solver=newton-cg;, score=nan total time=   0.1s\n",
      "[CV 4/5] END C=10, max_iter=1000, penalty=elasticnet, solver=newton-cg;, score=nan total time=   0.1s\n",
      "[CV 5/5] END C=10, max_iter=1000, penalty=elasticnet, solver=newton-cg;, score=nan total time=   0.1s\n",
      "[CV 1/5] END C=10, max_iter=1000, penalty=elasticnet, solver=sag;, score=nan total time=   0.1s\n",
      "[CV 2/5] END C=10, max_iter=1000, penalty=elasticnet, solver=sag;, score=nan total time=   0.1s\n",
      "[CV 3/5] END C=10, max_iter=1000, penalty=elasticnet, solver=sag;, score=nan total time=   0.1s\n",
      "[CV 4/5] END C=10, max_iter=1000, penalty=elasticnet, solver=sag;, score=nan total time=   0.1s\n",
      "[CV 5/5] END C=10, max_iter=1000, penalty=elasticnet, solver=sag;, score=nan total time=   0.1s\n",
      "[CV 1/5] END C=10, max_iter=1000, penalty=elasticnet, solver=saga;, score=nan total time=   0.1s\n",
      "[CV 2/5] END C=10, max_iter=1000, penalty=elasticnet, solver=saga;, score=nan total time=   0.1s\n",
      "[CV 3/5] END C=10, max_iter=1000, penalty=elasticnet, solver=saga;, score=nan total time=   0.1s\n",
      "[CV 4/5] END C=10, max_iter=1000, penalty=elasticnet, solver=saga;, score=nan total time=   0.1s\n",
      "[CV 5/5] END C=10, max_iter=1000, penalty=elasticnet, solver=saga;, score=nan total time=   0.1s\n",
      "[CV 1/5] END C=10, max_iter=1000, penalty=elasticnet, solver=liblinear;, score=nan total time=   0.1s\n",
      "[CV 2/5] END C=10, max_iter=1000, penalty=elasticnet, solver=liblinear;, score=nan total time=   0.1s\n",
      "[CV 3/5] END C=10, max_iter=1000, penalty=elasticnet, solver=liblinear;, score=nan total time=   0.1s\n",
      "[CV 4/5] END C=10, max_iter=1000, penalty=elasticnet, solver=liblinear;, score=nan total time=   0.1s\n",
      "[CV 5/5] END C=10, max_iter=1000, penalty=elasticnet, solver=liblinear;, score=nan total time=   0.1s\n",
      "[CV 1/5] END C=10, max_iter=1000, penalty=elasticnet, solver=lgbfs;, score=nan total time=   0.1s\n",
      "[CV 2/5] END C=10, max_iter=1000, penalty=elasticnet, solver=lgbfs;, score=nan total time=   0.1s\n",
      "[CV 3/5] END C=10, max_iter=1000, penalty=elasticnet, solver=lgbfs;, score=nan total time=   0.1s\n",
      "[CV 4/5] END C=10, max_iter=1000, penalty=elasticnet, solver=lgbfs;, score=nan total time=   0.1s\n",
      "[CV 5/5] END C=10, max_iter=1000, penalty=elasticnet, solver=lgbfs;, score=nan total time=   0.1s\n",
      "[CV 1/5] END C=10, max_iter=2000, penalty=l1, solver=newton-cg;, score=nan total time=   0.1s\n",
      "[CV 2/5] END C=10, max_iter=2000, penalty=l1, solver=newton-cg;, score=nan total time=   0.1s\n",
      "[CV 3/5] END C=10, max_iter=2000, penalty=l1, solver=newton-cg;, score=nan total time=   0.1s\n",
      "[CV 4/5] END C=10, max_iter=2000, penalty=l1, solver=newton-cg;, score=nan total time=   0.1s\n",
      "[CV 5/5] END C=10, max_iter=2000, penalty=l1, solver=newton-cg;, score=nan total time=   0.1s\n",
      "[CV 1/5] END C=10, max_iter=2000, penalty=l1, solver=sag;, score=nan total time=   0.1s\n",
      "[CV 2/5] END C=10, max_iter=2000, penalty=l1, solver=sag;, score=nan total time=   0.1s\n",
      "[CV 3/5] END C=10, max_iter=2000, penalty=l1, solver=sag;, score=nan total time=   0.1s\n",
      "[CV 4/5] END C=10, max_iter=2000, penalty=l1, solver=sag;, score=nan total time=   0.1s\n",
      "[CV 5/5] END C=10, max_iter=2000, penalty=l1, solver=sag;, score=nan total time=   0.1s\n",
      "[CV 1/5] END C=10, max_iter=2000, penalty=l1, solver=saga;, score=0.891 total time=  23.5s\n",
      "[CV 2/5] END C=10, max_iter=2000, penalty=l1, solver=saga;, score=0.891 total time=  15.1s\n",
      "[CV 3/5] END C=10, max_iter=2000, penalty=l1, solver=saga;, score=0.891 total time=  15.0s\n",
      "[CV 4/5] END C=10, max_iter=2000, penalty=l1, solver=saga;, score=0.891 total time=  15.1s\n",
      "[CV 5/5] END C=10, max_iter=2000, penalty=l1, solver=saga;, score=0.891 total time=  15.8s\n",
      "[CV 1/5] END C=10, max_iter=2000, penalty=l1, solver=liblinear;, score=0.891 total time=   2.2s\n",
      "[CV 2/5] END C=10, max_iter=2000, penalty=l1, solver=liblinear;, score=0.891 total time=   1.8s\n",
      "[CV 3/5] END C=10, max_iter=2000, penalty=l1, solver=liblinear;, score=0.891 total time=   1.4s\n",
      "[CV 4/5] END C=10, max_iter=2000, penalty=l1, solver=liblinear;, score=0.891 total time=   1.8s\n",
      "[CV 5/5] END C=10, max_iter=2000, penalty=l1, solver=liblinear;, score=0.891 total time=   1.8s\n",
      "[CV 1/5] END C=10, max_iter=2000, penalty=l1, solver=lgbfs;, score=nan total time=   0.1s\n",
      "[CV 2/5] END C=10, max_iter=2000, penalty=l1, solver=lgbfs;, score=nan total time=   0.1s\n",
      "[CV 3/5] END C=10, max_iter=2000, penalty=l1, solver=lgbfs;, score=nan total time=   0.1s\n",
      "[CV 4/5] END C=10, max_iter=2000, penalty=l1, solver=lgbfs;, score=nan total time=   0.1s\n",
      "[CV 5/5] END C=10, max_iter=2000, penalty=l1, solver=lgbfs;, score=nan total time=   0.1s\n",
      "[CV 1/5] END C=10, max_iter=2000, penalty=l2, solver=newton-cg;, score=0.891 total time=   2.8s\n",
      "[CV 2/5] END C=10, max_iter=2000, penalty=l2, solver=newton-cg;, score=0.891 total time=   2.7s\n",
      "[CV 3/5] END C=10, max_iter=2000, penalty=l2, solver=newton-cg;, score=0.891 total time=   2.6s\n",
      "[CV 4/5] END C=10, max_iter=2000, penalty=l2, solver=newton-cg;, score=0.891 total time=   2.5s\n"
     ]
    },
    {
     "name": "stderr",
     "output_type": "stream",
     "text": [
      "/Users/michaelraines/opt/anaconda3/lib/python3.8/site-packages/scipy/optimize/linesearch.py:327: LineSearchWarning: The line search algorithm did not converge\n",
      "  warn('The line search algorithm did not converge', LineSearchWarning)\n",
      "/Users/michaelraines/opt/anaconda3/lib/python3.8/site-packages/sklearn/utils/optimize.py:203: UserWarning: Line Search failed\n",
      "  warnings.warn(\"Line Search failed\")\n"
     ]
    },
    {
     "name": "stdout",
     "output_type": "stream",
     "text": [
      "[CV 5/5] END C=10, max_iter=2000, penalty=l2, solver=newton-cg;, score=0.891 total time=   2.8s\n",
      "[CV 1/5] END C=10, max_iter=2000, penalty=l2, solver=sag;, score=0.891 total time=   9.0s\n",
      "[CV 2/5] END C=10, max_iter=2000, penalty=l2, solver=sag;, score=0.891 total time=   4.7s\n",
      "[CV 3/5] END C=10, max_iter=2000, penalty=l2, solver=sag;, score=0.891 total time=   4.7s\n",
      "[CV 4/5] END C=10, max_iter=2000, penalty=l2, solver=sag;, score=0.891 total time=   4.7s\n",
      "[CV 5/5] END C=10, max_iter=2000, penalty=l2, solver=sag;, score=0.891 total time=   6.5s\n",
      "[CV 1/5] END C=10, max_iter=2000, penalty=l2, solver=saga;, score=0.891 total time=  20.6s\n",
      "[CV 2/5] END C=10, max_iter=2000, penalty=l2, solver=saga;, score=0.891 total time=  12.7s\n",
      "[CV 3/5] END C=10, max_iter=2000, penalty=l2, solver=saga;, score=0.891 total time=  12.7s\n",
      "[CV 4/5] END C=10, max_iter=2000, penalty=l2, solver=saga;, score=0.891 total time=  12.9s\n",
      "[CV 5/5] END C=10, max_iter=2000, penalty=l2, solver=saga;, score=0.891 total time=  13.5s\n",
      "[CV 1/5] END C=10, max_iter=2000, penalty=l2, solver=liblinear;, score=0.891 total time=   2.3s\n",
      "[CV 2/5] END C=10, max_iter=2000, penalty=l2, solver=liblinear;, score=0.891 total time=   2.6s\n",
      "[CV 3/5] END C=10, max_iter=2000, penalty=l2, solver=liblinear;, score=0.891 total time=   2.4s\n",
      "[CV 4/5] END C=10, max_iter=2000, penalty=l2, solver=liblinear;, score=0.891 total time=   3.1s\n",
      "[CV 5/5] END C=10, max_iter=2000, penalty=l2, solver=liblinear;, score=0.891 total time=   3.5s\n",
      "[CV 1/5] END C=10, max_iter=2000, penalty=l2, solver=lgbfs;, score=nan total time=   0.1s\n",
      "[CV 2/5] END C=10, max_iter=2000, penalty=l2, solver=lgbfs;, score=nan total time=   0.1s\n",
      "[CV 3/5] END C=10, max_iter=2000, penalty=l2, solver=lgbfs;, score=nan total time=   0.1s\n",
      "[CV 4/5] END C=10, max_iter=2000, penalty=l2, solver=lgbfs;, score=nan total time=   0.1s\n",
      "[CV 5/5] END C=10, max_iter=2000, penalty=l2, solver=lgbfs;, score=nan total time=   0.1s\n",
      "[CV 1/5] END C=10, max_iter=2000, penalty=elasticnet, solver=newton-cg;, score=nan total time=   0.1s\n",
      "[CV 2/5] END C=10, max_iter=2000, penalty=elasticnet, solver=newton-cg;, score=nan total time=   0.1s\n",
      "[CV 3/5] END C=10, max_iter=2000, penalty=elasticnet, solver=newton-cg;, score=nan total time=   0.1s\n",
      "[CV 4/5] END C=10, max_iter=2000, penalty=elasticnet, solver=newton-cg;, score=nan total time=   0.1s\n",
      "[CV 5/5] END C=10, max_iter=2000, penalty=elasticnet, solver=newton-cg;, score=nan total time=   0.1s\n",
      "[CV 1/5] END C=10, max_iter=2000, penalty=elasticnet, solver=sag;, score=nan total time=   0.1s\n",
      "[CV 2/5] END C=10, max_iter=2000, penalty=elasticnet, solver=sag;, score=nan total time=   0.1s\n",
      "[CV 3/5] END C=10, max_iter=2000, penalty=elasticnet, solver=sag;, score=nan total time=   0.1s\n",
      "[CV 4/5] END C=10, max_iter=2000, penalty=elasticnet, solver=sag;, score=nan total time=   0.1s\n",
      "[CV 5/5] END C=10, max_iter=2000, penalty=elasticnet, solver=sag;, score=nan total time=   0.1s\n",
      "[CV 1/5] END C=10, max_iter=2000, penalty=elasticnet, solver=saga;, score=nan total time=   0.1s\n",
      "[CV 2/5] END C=10, max_iter=2000, penalty=elasticnet, solver=saga;, score=nan total time=   0.1s\n",
      "[CV 3/5] END C=10, max_iter=2000, penalty=elasticnet, solver=saga;, score=nan total time=   0.1s\n",
      "[CV 4/5] END C=10, max_iter=2000, penalty=elasticnet, solver=saga;, score=nan total time=   0.1s\n",
      "[CV 5/5] END C=10, max_iter=2000, penalty=elasticnet, solver=saga;, score=nan total time=   0.1s\n",
      "[CV 1/5] END C=10, max_iter=2000, penalty=elasticnet, solver=liblinear;, score=nan total time=   0.1s\n",
      "[CV 2/5] END C=10, max_iter=2000, penalty=elasticnet, solver=liblinear;, score=nan total time=   0.1s\n",
      "[CV 3/5] END C=10, max_iter=2000, penalty=elasticnet, solver=liblinear;, score=nan total time=   0.1s\n",
      "[CV 4/5] END C=10, max_iter=2000, penalty=elasticnet, solver=liblinear;, score=nan total time=   0.1s\n",
      "[CV 5/5] END C=10, max_iter=2000, penalty=elasticnet, solver=liblinear;, score=nan total time=   0.1s\n",
      "[CV 1/5] END C=10, max_iter=2000, penalty=elasticnet, solver=lgbfs;, score=nan total time=   0.1s\n",
      "[CV 2/5] END C=10, max_iter=2000, penalty=elasticnet, solver=lgbfs;, score=nan total time=   0.1s\n",
      "[CV 3/5] END C=10, max_iter=2000, penalty=elasticnet, solver=lgbfs;, score=nan total time=   0.1s\n",
      "[CV 4/5] END C=10, max_iter=2000, penalty=elasticnet, solver=lgbfs;, score=nan total time=   0.1s\n",
      "[CV 5/5] END C=10, max_iter=2000, penalty=elasticnet, solver=lgbfs;, score=nan total time=   0.1s\n",
      "[CV 1/5] END C=1, max_iter=100, penalty=l1, solver=newton-cg;, score=nan total time=   0.1s\n",
      "[CV 2/5] END C=1, max_iter=100, penalty=l1, solver=newton-cg;, score=nan total time=   0.1s\n",
      "[CV 3/5] END C=1, max_iter=100, penalty=l1, solver=newton-cg;, score=nan total time=   0.1s\n",
      "[CV 4/5] END C=1, max_iter=100, penalty=l1, solver=newton-cg;, score=nan total time=   0.1s\n",
      "[CV 5/5] END C=1, max_iter=100, penalty=l1, solver=newton-cg;, score=nan total time=   0.1s\n",
      "[CV 1/5] END C=1, max_iter=100, penalty=l1, solver=sag;, score=nan total time=   0.1s\n",
      "[CV 2/5] END C=1, max_iter=100, penalty=l1, solver=sag;, score=nan total time=   0.1s\n",
      "[CV 3/5] END C=1, max_iter=100, penalty=l1, solver=sag;, score=nan total time=   0.1s\n",
      "[CV 4/5] END C=1, max_iter=100, penalty=l1, solver=sag;, score=nan total time=   0.1s\n",
      "[CV 5/5] END C=1, max_iter=100, penalty=l1, solver=sag;, score=nan total time=   0.1s\n",
      "[CV 1/5] END C=1, max_iter=100, penalty=l1, solver=saga;, score=0.891 total time=  22.8s\n",
      "[CV 2/5] END C=1, max_iter=100, penalty=l1, solver=saga;, score=0.891 total time=  16.1s\n",
      "[CV 3/5] END C=1, max_iter=100, penalty=l1, solver=saga;, score=0.891 total time=  14.9s\n",
      "[CV 4/5] END C=1, max_iter=100, penalty=l1, solver=saga;, score=0.891 total time=  14.5s\n",
      "[CV 5/5] END C=1, max_iter=100, penalty=l1, solver=saga;, score=0.891 total time= 1.2min\n",
      "[CV 1/5] END C=1, max_iter=100, penalty=l1, solver=liblinear;, score=0.891 total time=10.6min\n",
      "[CV 2/5] END C=1, max_iter=100, penalty=l1, solver=liblinear;, score=0.891 total time= 1.9min\n",
      "[CV 3/5] END C=1, max_iter=100, penalty=l1, solver=liblinear;, score=0.891 total time= 1.8min\n",
      "[CV 4/5] END C=1, max_iter=100, penalty=l1, solver=liblinear;, score=0.891 total time= 1.7min\n",
      "[CV 5/5] END C=1, max_iter=100, penalty=l1, solver=liblinear;, score=0.891 total time= 1.9min\n",
      "[CV 1/5] END C=1, max_iter=100, penalty=l1, solver=lgbfs;, score=nan total time=   0.2s\n",
      "[CV 2/5] END C=1, max_iter=100, penalty=l1, solver=lgbfs;, score=nan total time=   0.1s\n",
      "[CV 3/5] END C=1, max_iter=100, penalty=l1, solver=lgbfs;, score=nan total time=   0.1s\n",
      "[CV 4/5] END C=1, max_iter=100, penalty=l1, solver=lgbfs;, score=nan total time=   0.1s\n",
      "[CV 5/5] END C=1, max_iter=100, penalty=l1, solver=lgbfs;, score=nan total time=   0.1s\n",
      "[CV 1/5] END C=1, max_iter=100, penalty=l2, solver=newton-cg;, score=0.891 total time=   3.4s\n",
      "[CV 2/5] END C=1, max_iter=100, penalty=l2, solver=newton-cg;, score=0.891 total time=   3.4s\n"
     ]
    },
    {
     "name": "stderr",
     "output_type": "stream",
     "text": [
      "/Users/michaelraines/opt/anaconda3/lib/python3.8/site-packages/scipy/optimize/linesearch.py:437: LineSearchWarning: Rounding errors prevent the line search from converging\n",
      "  warn(msg, LineSearchWarning)\n",
      "/Users/michaelraines/opt/anaconda3/lib/python3.8/site-packages/scipy/optimize/linesearch.py:327: LineSearchWarning: The line search algorithm did not converge\n",
      "  warn('The line search algorithm did not converge', LineSearchWarning)\n",
      "/Users/michaelraines/opt/anaconda3/lib/python3.8/site-packages/sklearn/utils/optimize.py:203: UserWarning: Line Search failed\n",
      "  warnings.warn(\"Line Search failed\")\n"
     ]
    },
    {
     "name": "stdout",
     "output_type": "stream",
     "text": [
      "[CV 3/5] END C=1, max_iter=100, penalty=l2, solver=newton-cg;, score=0.891 total time=   3.4s\n"
     ]
    },
    {
     "name": "stderr",
     "output_type": "stream",
     "text": [
      "/Users/michaelraines/opt/anaconda3/lib/python3.8/site-packages/scipy/optimize/linesearch.py:327: LineSearchWarning: The line search algorithm did not converge\n",
      "  warn('The line search algorithm did not converge', LineSearchWarning)\n",
      "/Users/michaelraines/opt/anaconda3/lib/python3.8/site-packages/sklearn/utils/optimize.py:203: UserWarning: Line Search failed\n",
      "  warnings.warn(\"Line Search failed\")\n"
     ]
    },
    {
     "name": "stdout",
     "output_type": "stream",
     "text": [
      "[CV 4/5] END C=1, max_iter=100, penalty=l2, solver=newton-cg;, score=0.891 total time=   4.6s\n",
      "[CV 5/5] END C=1, max_iter=100, penalty=l2, solver=newton-cg;, score=0.891 total time=   3.2s\n",
      "[CV 1/5] END C=1, max_iter=100, penalty=l2, solver=sag;, score=0.891 total time=   9.6s\n",
      "[CV 2/5] END C=1, max_iter=100, penalty=l2, solver=sag;, score=0.891 total time=   5.0s\n",
      "[CV 3/5] END C=1, max_iter=100, penalty=l2, solver=sag;, score=0.891 total time=   4.9s\n",
      "[CV 4/5] END C=1, max_iter=100, penalty=l2, solver=sag;, score=0.891 total time=   4.8s\n",
      "[CV 5/5] END C=1, max_iter=100, penalty=l2, solver=sag;, score=0.891 total time=   6.6s\n",
      "[CV 1/5] END C=1, max_iter=100, penalty=l2, solver=saga;, score=0.891 total time=  21.0s\n",
      "[CV 2/5] END C=1, max_iter=100, penalty=l2, solver=saga;, score=0.891 total time=  13.1s\n",
      "[CV 3/5] END C=1, max_iter=100, penalty=l2, solver=saga;, score=0.891 total time=  12.7s\n",
      "[CV 4/5] END C=1, max_iter=100, penalty=l2, solver=saga;, score=0.891 total time=  13.1s\n",
      "[CV 5/5] END C=1, max_iter=100, penalty=l2, solver=saga;, score=0.891 total time=  14.0s\n",
      "[CV 1/5] END C=1, max_iter=100, penalty=l2, solver=liblinear;, score=0.891 total time=   2.3s\n",
      "[CV 2/5] END C=1, max_iter=100, penalty=l2, solver=liblinear;, score=0.891 total time=   2.6s\n",
      "[CV 3/5] END C=1, max_iter=100, penalty=l2, solver=liblinear;, score=0.891 total time=   2.5s\n",
      "[CV 4/5] END C=1, max_iter=100, penalty=l2, solver=liblinear;, score=0.891 total time=   3.2s\n",
      "[CV 5/5] END C=1, max_iter=100, penalty=l2, solver=liblinear;, score=0.891 total time=   4.0s\n",
      "[CV 1/5] END C=1, max_iter=100, penalty=l2, solver=lgbfs;, score=nan total time=   0.1s\n",
      "[CV 2/5] END C=1, max_iter=100, penalty=l2, solver=lgbfs;, score=nan total time=   0.1s\n",
      "[CV 3/5] END C=1, max_iter=100, penalty=l2, solver=lgbfs;, score=nan total time=   0.1s\n",
      "[CV 4/5] END C=1, max_iter=100, penalty=l2, solver=lgbfs;, score=nan total time=   0.1s\n",
      "[CV 5/5] END C=1, max_iter=100, penalty=l2, solver=lgbfs;, score=nan total time=   0.1s\n",
      "[CV 1/5] END C=1, max_iter=100, penalty=elasticnet, solver=newton-cg;, score=nan total time=   0.1s\n",
      "[CV 2/5] END C=1, max_iter=100, penalty=elasticnet, solver=newton-cg;, score=nan total time=   0.1s\n",
      "[CV 3/5] END C=1, max_iter=100, penalty=elasticnet, solver=newton-cg;, score=nan total time=   0.1s\n",
      "[CV 4/5] END C=1, max_iter=100, penalty=elasticnet, solver=newton-cg;, score=nan total time=   0.1s\n",
      "[CV 5/5] END C=1, max_iter=100, penalty=elasticnet, solver=newton-cg;, score=nan total time=   0.1s\n",
      "[CV 1/5] END C=1, max_iter=100, penalty=elasticnet, solver=sag;, score=nan total time=   0.1s\n",
      "[CV 2/5] END C=1, max_iter=100, penalty=elasticnet, solver=sag;, score=nan total time=   0.1s\n",
      "[CV 3/5] END C=1, max_iter=100, penalty=elasticnet, solver=sag;, score=nan total time=   0.1s\n",
      "[CV 4/5] END C=1, max_iter=100, penalty=elasticnet, solver=sag;, score=nan total time=   0.1s\n",
      "[CV 5/5] END C=1, max_iter=100, penalty=elasticnet, solver=sag;, score=nan total time=   0.1s\n",
      "[CV 1/5] END C=1, max_iter=100, penalty=elasticnet, solver=saga;, score=nan total time=   0.1s\n",
      "[CV 2/5] END C=1, max_iter=100, penalty=elasticnet, solver=saga;, score=nan total time=   0.1s\n",
      "[CV 3/5] END C=1, max_iter=100, penalty=elasticnet, solver=saga;, score=nan total time=   0.1s\n",
      "[CV 4/5] END C=1, max_iter=100, penalty=elasticnet, solver=saga;, score=nan total time=   0.1s\n",
      "[CV 5/5] END C=1, max_iter=100, penalty=elasticnet, solver=saga;, score=nan total time=   0.1s\n",
      "[CV 1/5] END C=1, max_iter=100, penalty=elasticnet, solver=liblinear;, score=nan total time=   0.1s\n",
      "[CV 2/5] END C=1, max_iter=100, penalty=elasticnet, solver=liblinear;, score=nan total time=   0.1s\n",
      "[CV 3/5] END C=1, max_iter=100, penalty=elasticnet, solver=liblinear;, score=nan total time=   0.1s\n",
      "[CV 4/5] END C=1, max_iter=100, penalty=elasticnet, solver=liblinear;, score=nan total time=   0.1s\n",
      "[CV 5/5] END C=1, max_iter=100, penalty=elasticnet, solver=liblinear;, score=nan total time=   0.1s\n",
      "[CV 1/5] END C=1, max_iter=100, penalty=elasticnet, solver=lgbfs;, score=nan total time=   0.1s\n",
      "[CV 2/5] END C=1, max_iter=100, penalty=elasticnet, solver=lgbfs;, score=nan total time=   0.1s\n",
      "[CV 3/5] END C=1, max_iter=100, penalty=elasticnet, solver=lgbfs;, score=nan total time=   0.1s\n",
      "[CV 4/5] END C=1, max_iter=100, penalty=elasticnet, solver=lgbfs;, score=nan total time=   0.1s\n",
      "[CV 5/5] END C=1, max_iter=100, penalty=elasticnet, solver=lgbfs;, score=nan total time=   0.1s\n",
      "[CV 1/5] END C=1, max_iter=500, penalty=l1, solver=newton-cg;, score=nan total time=   0.1s\n",
      "[CV 2/5] END C=1, max_iter=500, penalty=l1, solver=newton-cg;, score=nan total time=   0.1s\n",
      "[CV 3/5] END C=1, max_iter=500, penalty=l1, solver=newton-cg;, score=nan total time=   0.1s\n",
      "[CV 4/5] END C=1, max_iter=500, penalty=l1, solver=newton-cg;, score=nan total time=   0.1s\n",
      "[CV 5/5] END C=1, max_iter=500, penalty=l1, solver=newton-cg;, score=nan total time=   0.1s\n",
      "[CV 1/5] END C=1, max_iter=500, penalty=l1, solver=sag;, score=nan total time=   0.1s\n",
      "[CV 2/5] END C=1, max_iter=500, penalty=l1, solver=sag;, score=nan total time=   0.1s\n",
      "[CV 3/5] END C=1, max_iter=500, penalty=l1, solver=sag;, score=nan total time=   0.1s\n",
      "[CV 4/5] END C=1, max_iter=500, penalty=l1, solver=sag;, score=nan total time=   0.1s\n",
      "[CV 5/5] END C=1, max_iter=500, penalty=l1, solver=sag;, score=nan total time=   0.1s\n",
      "[CV 1/5] END C=1, max_iter=500, penalty=l1, solver=saga;, score=0.891 total time=  26.5s\n",
      "[CV 2/5] END C=1, max_iter=500, penalty=l1, solver=saga;, score=0.891 total time=  17.1s\n",
      "[CV 3/5] END C=1, max_iter=500, penalty=l1, solver=saga;, score=0.891 total time=  16.4s\n",
      "[CV 4/5] END C=1, max_iter=500, penalty=l1, solver=saga;, score=0.891 total time=  16.2s\n",
      "[CV 5/5] END C=1, max_iter=500, penalty=l1, solver=saga;, score=0.891 total time=  17.1s\n",
      "[CV 1/5] END C=1, max_iter=500, penalty=l1, solver=liblinear;, score=0.891 total time= 2.6min\n",
      "[CV 2/5] END C=1, max_iter=500, penalty=l1, solver=liblinear;, score=0.891 total time= 2.1min\n",
      "[CV 3/5] END C=1, max_iter=500, penalty=l1, solver=liblinear;, score=0.891 total time= 2.1min\n",
      "[CV 4/5] END C=1, max_iter=500, penalty=l1, solver=liblinear;, score=0.891 total time= 1.9min\n",
      "[CV 5/5] END C=1, max_iter=500, penalty=l1, solver=liblinear;, score=0.891 total time= 2.1min\n",
      "[CV 1/5] END C=1, max_iter=500, penalty=l1, solver=lgbfs;, score=nan total time=   0.2s\n",
      "[CV 2/5] END C=1, max_iter=500, penalty=l1, solver=lgbfs;, score=nan total time=   0.1s\n",
      "[CV 3/5] END C=1, max_iter=500, penalty=l1, solver=lgbfs;, score=nan total time=   0.1s\n",
      "[CV 4/5] END C=1, max_iter=500, penalty=l1, solver=lgbfs;, score=nan total time=   0.1s\n",
      "[CV 5/5] END C=1, max_iter=500, penalty=l1, solver=lgbfs;, score=nan total time=   0.1s\n",
      "[CV 1/5] END C=1, max_iter=500, penalty=l2, solver=newton-cg;, score=0.891 total time=   3.6s\n",
      "[CV 2/5] END C=1, max_iter=500, penalty=l2, solver=newton-cg;, score=0.891 total time=   3.3s\n"
     ]
    },
    {
     "name": "stderr",
     "output_type": "stream",
     "text": [
      "/Users/michaelraines/opt/anaconda3/lib/python3.8/site-packages/scipy/optimize/linesearch.py:437: LineSearchWarning: Rounding errors prevent the line search from converging\n",
      "  warn(msg, LineSearchWarning)\n",
      "/Users/michaelraines/opt/anaconda3/lib/python3.8/site-packages/scipy/optimize/linesearch.py:327: LineSearchWarning: The line search algorithm did not converge\n",
      "  warn('The line search algorithm did not converge', LineSearchWarning)\n",
      "/Users/michaelraines/opt/anaconda3/lib/python3.8/site-packages/sklearn/utils/optimize.py:203: UserWarning: Line Search failed\n",
      "  warnings.warn(\"Line Search failed\")\n"
     ]
    },
    {
     "name": "stdout",
     "output_type": "stream",
     "text": [
      "[CV 3/5] END C=1, max_iter=500, penalty=l2, solver=newton-cg;, score=0.891 total time=   3.3s\n"
     ]
    },
    {
     "name": "stderr",
     "output_type": "stream",
     "text": [
      "/Users/michaelraines/opt/anaconda3/lib/python3.8/site-packages/scipy/optimize/linesearch.py:327: LineSearchWarning: The line search algorithm did not converge\n",
      "  warn('The line search algorithm did not converge', LineSearchWarning)\n",
      "/Users/michaelraines/opt/anaconda3/lib/python3.8/site-packages/sklearn/utils/optimize.py:203: UserWarning: Line Search failed\n",
      "  warnings.warn(\"Line Search failed\")\n"
     ]
    },
    {
     "name": "stdout",
     "output_type": "stream",
     "text": [
      "[CV 4/5] END C=1, max_iter=500, penalty=l2, solver=newton-cg;, score=0.891 total time=   4.6s\n",
      "[CV 5/5] END C=1, max_iter=500, penalty=l2, solver=newton-cg;, score=0.891 total time=   3.4s\n",
      "[CV 1/5] END C=1, max_iter=500, penalty=l2, solver=sag;, score=0.891 total time=  10.8s\n",
      "[CV 2/5] END C=1, max_iter=500, penalty=l2, solver=sag;, score=0.891 total time=   5.3s\n",
      "[CV 3/5] END C=1, max_iter=500, penalty=l2, solver=sag;, score=0.891 total time=   5.3s\n",
      "[CV 4/5] END C=1, max_iter=500, penalty=l2, solver=sag;, score=0.891 total time=   5.4s\n",
      "[CV 5/5] END C=1, max_iter=500, penalty=l2, solver=sag;, score=0.891 total time=   7.5s\n",
      "[CV 1/5] END C=1, max_iter=500, penalty=l2, solver=saga;, score=0.891 total time=  22.9s\n",
      "[CV 2/5] END C=1, max_iter=500, penalty=l2, solver=saga;, score=0.891 total time=  14.3s\n",
      "[CV 3/5] END C=1, max_iter=500, penalty=l2, solver=saga;, score=0.891 total time=  14.1s\n",
      "[CV 4/5] END C=1, max_iter=500, penalty=l2, solver=saga;, score=0.891 total time=  14.1s\n",
      "[CV 5/5] END C=1, max_iter=500, penalty=l2, solver=saga;, score=0.891 total time=  14.9s\n",
      "[CV 1/5] END C=1, max_iter=500, penalty=l2, solver=liblinear;, score=0.891 total time=   2.6s\n",
      "[CV 2/5] END C=1, max_iter=500, penalty=l2, solver=liblinear;, score=0.891 total time=   3.0s\n",
      "[CV 3/5] END C=1, max_iter=500, penalty=l2, solver=liblinear;, score=0.891 total time=   2.7s\n",
      "[CV 4/5] END C=1, max_iter=500, penalty=l2, solver=liblinear;, score=0.891 total time=   3.5s\n",
      "[CV 5/5] END C=1, max_iter=500, penalty=l2, solver=liblinear;, score=0.891 total time=   4.1s\n",
      "[CV 1/5] END C=1, max_iter=500, penalty=l2, solver=lgbfs;, score=nan total time=   0.1s\n",
      "[CV 2/5] END C=1, max_iter=500, penalty=l2, solver=lgbfs;, score=nan total time=   0.1s\n",
      "[CV 3/5] END C=1, max_iter=500, penalty=l2, solver=lgbfs;, score=nan total time=   0.1s\n",
      "[CV 4/5] END C=1, max_iter=500, penalty=l2, solver=lgbfs;, score=nan total time=   0.1s\n",
      "[CV 5/5] END C=1, max_iter=500, penalty=l2, solver=lgbfs;, score=nan total time=   0.1s\n",
      "[CV 1/5] END C=1, max_iter=500, penalty=elasticnet, solver=newton-cg;, score=nan total time=   0.1s\n",
      "[CV 2/5] END C=1, max_iter=500, penalty=elasticnet, solver=newton-cg;, score=nan total time=   0.1s\n",
      "[CV 3/5] END C=1, max_iter=500, penalty=elasticnet, solver=newton-cg;, score=nan total time=   0.1s\n",
      "[CV 4/5] END C=1, max_iter=500, penalty=elasticnet, solver=newton-cg;, score=nan total time=   0.1s\n",
      "[CV 5/5] END C=1, max_iter=500, penalty=elasticnet, solver=newton-cg;, score=nan total time=   0.1s\n",
      "[CV 1/5] END C=1, max_iter=500, penalty=elasticnet, solver=sag;, score=nan total time=   0.1s\n",
      "[CV 2/5] END C=1, max_iter=500, penalty=elasticnet, solver=sag;, score=nan total time=   0.1s\n",
      "[CV 3/5] END C=1, max_iter=500, penalty=elasticnet, solver=sag;, score=nan total time=   0.1s\n",
      "[CV 4/5] END C=1, max_iter=500, penalty=elasticnet, solver=sag;, score=nan total time=   0.1s\n",
      "[CV 5/5] END C=1, max_iter=500, penalty=elasticnet, solver=sag;, score=nan total time=   0.1s\n",
      "[CV 1/5] END C=1, max_iter=500, penalty=elasticnet, solver=saga;, score=nan total time=   0.1s\n",
      "[CV 2/5] END C=1, max_iter=500, penalty=elasticnet, solver=saga;, score=nan total time=   0.1s\n",
      "[CV 3/5] END C=1, max_iter=500, penalty=elasticnet, solver=saga;, score=nan total time=   0.1s\n",
      "[CV 4/5] END C=1, max_iter=500, penalty=elasticnet, solver=saga;, score=nan total time=   0.1s\n",
      "[CV 5/5] END C=1, max_iter=500, penalty=elasticnet, solver=saga;, score=nan total time=   0.1s\n",
      "[CV 1/5] END C=1, max_iter=500, penalty=elasticnet, solver=liblinear;, score=nan total time=   0.1s\n",
      "[CV 2/5] END C=1, max_iter=500, penalty=elasticnet, solver=liblinear;, score=nan total time=   0.1s\n",
      "[CV 3/5] END C=1, max_iter=500, penalty=elasticnet, solver=liblinear;, score=nan total time=   0.1s\n",
      "[CV 4/5] END C=1, max_iter=500, penalty=elasticnet, solver=liblinear;, score=nan total time=   0.1s\n",
      "[CV 5/5] END C=1, max_iter=500, penalty=elasticnet, solver=liblinear;, score=nan total time=   0.1s\n",
      "[CV 1/5] END C=1, max_iter=500, penalty=elasticnet, solver=lgbfs;, score=nan total time=   0.1s\n",
      "[CV 2/5] END C=1, max_iter=500, penalty=elasticnet, solver=lgbfs;, score=nan total time=   0.1s\n",
      "[CV 3/5] END C=1, max_iter=500, penalty=elasticnet, solver=lgbfs;, score=nan total time=   0.1s\n",
      "[CV 4/5] END C=1, max_iter=500, penalty=elasticnet, solver=lgbfs;, score=nan total time=   0.1s\n",
      "[CV 5/5] END C=1, max_iter=500, penalty=elasticnet, solver=lgbfs;, score=nan total time=   0.1s\n",
      "[CV 1/5] END C=1, max_iter=1000, penalty=l1, solver=newton-cg;, score=nan total time=   0.1s\n",
      "[CV 2/5] END C=1, max_iter=1000, penalty=l1, solver=newton-cg;, score=nan total time=   0.1s\n",
      "[CV 3/5] END C=1, max_iter=1000, penalty=l1, solver=newton-cg;, score=nan total time=   0.1s\n",
      "[CV 4/5] END C=1, max_iter=1000, penalty=l1, solver=newton-cg;, score=nan total time=   0.1s\n",
      "[CV 5/5] END C=1, max_iter=1000, penalty=l1, solver=newton-cg;, score=nan total time=   0.1s\n",
      "[CV 1/5] END C=1, max_iter=1000, penalty=l1, solver=sag;, score=nan total time=   0.1s\n",
      "[CV 2/5] END C=1, max_iter=1000, penalty=l1, solver=sag;, score=nan total time=   0.1s\n",
      "[CV 3/5] END C=1, max_iter=1000, penalty=l1, solver=sag;, score=nan total time=   0.1s\n",
      "[CV 4/5] END C=1, max_iter=1000, penalty=l1, solver=sag;, score=nan total time=   0.1s\n",
      "[CV 5/5] END C=1, max_iter=1000, penalty=l1, solver=sag;, score=nan total time=   0.1s\n",
      "[CV 1/5] END C=1, max_iter=1000, penalty=l1, solver=saga;, score=0.891 total time=  25.5s\n",
      "[CV 2/5] END C=1, max_iter=1000, penalty=l1, solver=saga;, score=0.891 total time=  15.9s\n",
      "[CV 3/5] END C=1, max_iter=1000, penalty=l1, solver=saga;, score=0.891 total time=  16.4s\n",
      "[CV 4/5] END C=1, max_iter=1000, penalty=l1, solver=saga;, score=0.891 total time=  16.1s\n",
      "[CV 5/5] END C=1, max_iter=1000, penalty=l1, solver=saga;, score=0.891 total time=  17.0s\n",
      "[CV 1/5] END C=1, max_iter=1000, penalty=l1, solver=liblinear;, score=0.891 total time= 2.7min\n",
      "[CV 2/5] END C=1, max_iter=1000, penalty=l1, solver=liblinear;, score=0.891 total time= 2.2min\n",
      "[CV 3/5] END C=1, max_iter=1000, penalty=l1, solver=liblinear;, score=0.891 total time= 2.1min\n",
      "[CV 4/5] END C=1, max_iter=1000, penalty=l1, solver=liblinear;, score=0.891 total time= 1.9min\n",
      "[CV 5/5] END C=1, max_iter=1000, penalty=l1, solver=liblinear;, score=0.891 total time= 1.8min\n",
      "[CV 1/5] END C=1, max_iter=1000, penalty=l1, solver=lgbfs;, score=nan total time=   0.2s\n",
      "[CV 2/5] END C=1, max_iter=1000, penalty=l1, solver=lgbfs;, score=nan total time=   0.1s\n",
      "[CV 3/5] END C=1, max_iter=1000, penalty=l1, solver=lgbfs;, score=nan total time=   0.1s\n",
      "[CV 4/5] END C=1, max_iter=1000, penalty=l1, solver=lgbfs;, score=nan total time=   0.1s\n",
      "[CV 5/5] END C=1, max_iter=1000, penalty=l1, solver=lgbfs;, score=nan total time=   0.1s\n",
      "[CV 1/5] END C=1, max_iter=1000, penalty=l2, solver=newton-cg;, score=0.891 total time=   3.3s\n",
      "[CV 2/5] END C=1, max_iter=1000, penalty=l2, solver=newton-cg;, score=0.891 total time=   2.9s\n"
     ]
    },
    {
     "name": "stderr",
     "output_type": "stream",
     "text": [
      "/Users/michaelraines/opt/anaconda3/lib/python3.8/site-packages/scipy/optimize/linesearch.py:437: LineSearchWarning: Rounding errors prevent the line search from converging\n",
      "  warn(msg, LineSearchWarning)\n",
      "/Users/michaelraines/opt/anaconda3/lib/python3.8/site-packages/scipy/optimize/linesearch.py:327: LineSearchWarning: The line search algorithm did not converge\n",
      "  warn('The line search algorithm did not converge', LineSearchWarning)\n",
      "/Users/michaelraines/opt/anaconda3/lib/python3.8/site-packages/sklearn/utils/optimize.py:203: UserWarning: Line Search failed\n",
      "  warnings.warn(\"Line Search failed\")\n"
     ]
    },
    {
     "name": "stdout",
     "output_type": "stream",
     "text": [
      "[CV 3/5] END C=1, max_iter=1000, penalty=l2, solver=newton-cg;, score=0.891 total time=   3.1s\n"
     ]
    },
    {
     "name": "stderr",
     "output_type": "stream",
     "text": [
      "/Users/michaelraines/opt/anaconda3/lib/python3.8/site-packages/scipy/optimize/linesearch.py:327: LineSearchWarning: The line search algorithm did not converge\n",
      "  warn('The line search algorithm did not converge', LineSearchWarning)\n",
      "/Users/michaelraines/opt/anaconda3/lib/python3.8/site-packages/sklearn/utils/optimize.py:203: UserWarning: Line Search failed\n",
      "  warnings.warn(\"Line Search failed\")\n"
     ]
    },
    {
     "name": "stdout",
     "output_type": "stream",
     "text": [
      "[CV 4/5] END C=1, max_iter=1000, penalty=l2, solver=newton-cg;, score=0.891 total time=   4.1s\n",
      "[CV 5/5] END C=1, max_iter=1000, penalty=l2, solver=newton-cg;, score=0.891 total time=   2.9s\n",
      "[CV 1/5] END C=1, max_iter=1000, penalty=l2, solver=sag;, score=0.891 total time=   9.4s\n",
      "[CV 2/5] END C=1, max_iter=1000, penalty=l2, solver=sag;, score=0.891 total time=   4.8s\n",
      "[CV 3/5] END C=1, max_iter=1000, penalty=l2, solver=sag;, score=0.891 total time=   4.8s\n",
      "[CV 4/5] END C=1, max_iter=1000, penalty=l2, solver=sag;, score=0.891 total time=   4.7s\n",
      "[CV 5/5] END C=1, max_iter=1000, penalty=l2, solver=sag;, score=0.891 total time=   6.4s\n",
      "[CV 1/5] END C=1, max_iter=1000, penalty=l2, solver=saga;, score=0.891 total time=  20.7s\n",
      "[CV 2/5] END C=1, max_iter=1000, penalty=l2, solver=saga;, score=0.891 total time=  12.9s\n",
      "[CV 3/5] END C=1, max_iter=1000, penalty=l2, solver=saga;, score=0.891 total time=  12.9s\n",
      "[CV 4/5] END C=1, max_iter=1000, penalty=l2, solver=saga;, score=0.891 total time=  13.3s\n",
      "[CV 5/5] END C=1, max_iter=1000, penalty=l2, solver=saga;, score=0.891 total time=  14.0s\n",
      "[CV 1/5] END C=1, max_iter=1000, penalty=l2, solver=liblinear;, score=0.891 total time=   2.5s\n",
      "[CV 2/5] END C=1, max_iter=1000, penalty=l2, solver=liblinear;, score=0.891 total time=   2.6s\n",
      "[CV 3/5] END C=1, max_iter=1000, penalty=l2, solver=liblinear;, score=0.891 total time=   2.6s\n",
      "[CV 4/5] END C=1, max_iter=1000, penalty=l2, solver=liblinear;, score=0.891 total time=   3.1s\n",
      "[CV 5/5] END C=1, max_iter=1000, penalty=l2, solver=liblinear;, score=0.891 total time=   3.5s\n",
      "[CV 1/5] END C=1, max_iter=1000, penalty=l2, solver=lgbfs;, score=nan total time=   0.1s\n",
      "[CV 2/5] END C=1, max_iter=1000, penalty=l2, solver=lgbfs;, score=nan total time=   0.1s\n",
      "[CV 3/5] END C=1, max_iter=1000, penalty=l2, solver=lgbfs;, score=nan total time=   0.1s\n",
      "[CV 4/5] END C=1, max_iter=1000, penalty=l2, solver=lgbfs;, score=nan total time=   0.1s\n",
      "[CV 5/5] END C=1, max_iter=1000, penalty=l2, solver=lgbfs;, score=nan total time=   0.1s\n",
      "[CV 1/5] END C=1, max_iter=1000, penalty=elasticnet, solver=newton-cg;, score=nan total time=   0.1s\n",
      "[CV 2/5] END C=1, max_iter=1000, penalty=elasticnet, solver=newton-cg;, score=nan total time=   0.1s\n",
      "[CV 3/5] END C=1, max_iter=1000, penalty=elasticnet, solver=newton-cg;, score=nan total time=   0.1s\n",
      "[CV 4/5] END C=1, max_iter=1000, penalty=elasticnet, solver=newton-cg;, score=nan total time=   0.1s\n",
      "[CV 5/5] END C=1, max_iter=1000, penalty=elasticnet, solver=newton-cg;, score=nan total time=   0.1s\n",
      "[CV 1/5] END C=1, max_iter=1000, penalty=elasticnet, solver=sag;, score=nan total time=   0.1s\n",
      "[CV 2/5] END C=1, max_iter=1000, penalty=elasticnet, solver=sag;, score=nan total time=   0.1s\n",
      "[CV 3/5] END C=1, max_iter=1000, penalty=elasticnet, solver=sag;, score=nan total time=   0.1s\n",
      "[CV 4/5] END C=1, max_iter=1000, penalty=elasticnet, solver=sag;, score=nan total time=   0.1s\n",
      "[CV 5/5] END C=1, max_iter=1000, penalty=elasticnet, solver=sag;, score=nan total time=   0.1s\n",
      "[CV 1/5] END C=1, max_iter=1000, penalty=elasticnet, solver=saga;, score=nan total time=   0.1s\n",
      "[CV 2/5] END C=1, max_iter=1000, penalty=elasticnet, solver=saga;, score=nan total time=   0.1s\n",
      "[CV 3/5] END C=1, max_iter=1000, penalty=elasticnet, solver=saga;, score=nan total time=   0.1s\n",
      "[CV 4/5] END C=1, max_iter=1000, penalty=elasticnet, solver=saga;, score=nan total time=   0.1s\n",
      "[CV 5/5] END C=1, max_iter=1000, penalty=elasticnet, solver=saga;, score=nan total time=   0.1s\n",
      "[CV 1/5] END C=1, max_iter=1000, penalty=elasticnet, solver=liblinear;, score=nan total time=   0.1s\n",
      "[CV 2/5] END C=1, max_iter=1000, penalty=elasticnet, solver=liblinear;, score=nan total time=   0.1s\n",
      "[CV 3/5] END C=1, max_iter=1000, penalty=elasticnet, solver=liblinear;, score=nan total time=   0.1s\n",
      "[CV 4/5] END C=1, max_iter=1000, penalty=elasticnet, solver=liblinear;, score=nan total time=   0.1s\n",
      "[CV 5/5] END C=1, max_iter=1000, penalty=elasticnet, solver=liblinear;, score=nan total time=   0.1s\n",
      "[CV 1/5] END C=1, max_iter=1000, penalty=elasticnet, solver=lgbfs;, score=nan total time=   0.1s\n",
      "[CV 2/5] END C=1, max_iter=1000, penalty=elasticnet, solver=lgbfs;, score=nan total time=   0.1s\n",
      "[CV 3/5] END C=1, max_iter=1000, penalty=elasticnet, solver=lgbfs;, score=nan total time=   0.1s\n",
      "[CV 4/5] END C=1, max_iter=1000, penalty=elasticnet, solver=lgbfs;, score=nan total time=   0.1s\n",
      "[CV 5/5] END C=1, max_iter=1000, penalty=elasticnet, solver=lgbfs;, score=nan total time=   0.1s\n",
      "[CV 1/5] END C=1, max_iter=2000, penalty=l1, solver=newton-cg;, score=nan total time=   0.1s\n",
      "[CV 2/5] END C=1, max_iter=2000, penalty=l1, solver=newton-cg;, score=nan total time=   0.1s\n",
      "[CV 3/5] END C=1, max_iter=2000, penalty=l1, solver=newton-cg;, score=nan total time=   0.1s\n",
      "[CV 4/5] END C=1, max_iter=2000, penalty=l1, solver=newton-cg;, score=nan total time=   0.1s\n",
      "[CV 5/5] END C=1, max_iter=2000, penalty=l1, solver=newton-cg;, score=nan total time=   0.1s\n",
      "[CV 1/5] END C=1, max_iter=2000, penalty=l1, solver=sag;, score=nan total time=   0.1s\n",
      "[CV 2/5] END C=1, max_iter=2000, penalty=l1, solver=sag;, score=nan total time=   0.1s\n",
      "[CV 3/5] END C=1, max_iter=2000, penalty=l1, solver=sag;, score=nan total time=   0.1s\n",
      "[CV 4/5] END C=1, max_iter=2000, penalty=l1, solver=sag;, score=nan total time=   0.1s\n",
      "[CV 5/5] END C=1, max_iter=2000, penalty=l1, solver=sag;, score=nan total time=   0.1s\n",
      "[CV 1/5] END C=1, max_iter=2000, penalty=l1, solver=saga;, score=0.891 total time=  23.4s\n",
      "[CV 2/5] END C=1, max_iter=2000, penalty=l1, solver=saga;, score=0.891 total time=  14.8s\n",
      "[CV 3/5] END C=1, max_iter=2000, penalty=l1, solver=saga;, score=0.891 total time=  14.8s\n",
      "[CV 4/5] END C=1, max_iter=2000, penalty=l1, solver=saga;, score=0.891 total time=  15.2s\n",
      "[CV 5/5] END C=1, max_iter=2000, penalty=l1, solver=saga;, score=0.891 total time=  15.7s\n",
      "[CV 1/5] END C=1, max_iter=2000, penalty=l1, solver=liblinear;, score=0.891 total time= 2.4min\n",
      "[CV 2/5] END C=1, max_iter=2000, penalty=l1, solver=liblinear;, score=0.891 total time= 2.0min\n",
      "[CV 3/5] END C=1, max_iter=2000, penalty=l1, solver=liblinear;, score=0.891 total time= 1.9min\n",
      "[CV 4/5] END C=1, max_iter=2000, penalty=l1, solver=liblinear;, score=0.891 total time= 1.8min\n",
      "[CV 5/5] END C=1, max_iter=2000, penalty=l1, solver=liblinear;, score=0.891 total time= 1.9min\n",
      "[CV 1/5] END C=1, max_iter=2000, penalty=l1, solver=lgbfs;, score=nan total time=   0.2s\n",
      "[CV 2/5] END C=1, max_iter=2000, penalty=l1, solver=lgbfs;, score=nan total time=   0.1s\n",
      "[CV 3/5] END C=1, max_iter=2000, penalty=l1, solver=lgbfs;, score=nan total time=   0.1s\n",
      "[CV 4/5] END C=1, max_iter=2000, penalty=l1, solver=lgbfs;, score=nan total time=   0.1s\n",
      "[CV 5/5] END C=1, max_iter=2000, penalty=l1, solver=lgbfs;, score=nan total time=   0.1s\n",
      "[CV 1/5] END C=1, max_iter=2000, penalty=l2, solver=newton-cg;, score=0.891 total time=   3.2s\n",
      "[CV 2/5] END C=1, max_iter=2000, penalty=l2, solver=newton-cg;, score=0.891 total time=   2.8s\n"
     ]
    },
    {
     "name": "stderr",
     "output_type": "stream",
     "text": [
      "/Users/michaelraines/opt/anaconda3/lib/python3.8/site-packages/scipy/optimize/linesearch.py:437: LineSearchWarning: Rounding errors prevent the line search from converging\n",
      "  warn(msg, LineSearchWarning)\n",
      "/Users/michaelraines/opt/anaconda3/lib/python3.8/site-packages/scipy/optimize/linesearch.py:327: LineSearchWarning: The line search algorithm did not converge\n",
      "  warn('The line search algorithm did not converge', LineSearchWarning)\n",
      "/Users/michaelraines/opt/anaconda3/lib/python3.8/site-packages/sklearn/utils/optimize.py:203: UserWarning: Line Search failed\n",
      "  warnings.warn(\"Line Search failed\")\n"
     ]
    },
    {
     "name": "stdout",
     "output_type": "stream",
     "text": [
      "[CV 3/5] END C=1, max_iter=2000, penalty=l2, solver=newton-cg;, score=0.891 total time=   2.9s\n"
     ]
    },
    {
     "name": "stderr",
     "output_type": "stream",
     "text": [
      "/Users/michaelraines/opt/anaconda3/lib/python3.8/site-packages/scipy/optimize/linesearch.py:327: LineSearchWarning: The line search algorithm did not converge\n",
      "  warn('The line search algorithm did not converge', LineSearchWarning)\n",
      "/Users/michaelraines/opt/anaconda3/lib/python3.8/site-packages/sklearn/utils/optimize.py:203: UserWarning: Line Search failed\n",
      "  warnings.warn(\"Line Search failed\")\n"
     ]
    },
    {
     "name": "stdout",
     "output_type": "stream",
     "text": [
      "[CV 4/5] END C=1, max_iter=2000, penalty=l2, solver=newton-cg;, score=0.891 total time=   4.2s\n",
      "[CV 5/5] END C=1, max_iter=2000, penalty=l2, solver=newton-cg;, score=0.891 total time=   2.9s\n",
      "[CV 1/5] END C=1, max_iter=2000, penalty=l2, solver=sag;, score=0.891 total time=   9.3s\n",
      "[CV 2/5] END C=1, max_iter=2000, penalty=l2, solver=sag;, score=0.891 total time=   4.8s\n",
      "[CV 3/5] END C=1, max_iter=2000, penalty=l2, solver=sag;, score=0.891 total time=   4.9s\n",
      "[CV 4/5] END C=1, max_iter=2000, penalty=l2, solver=sag;, score=0.891 total time=   4.8s\n",
      "[CV 5/5] END C=1, max_iter=2000, penalty=l2, solver=sag;, score=0.891 total time=   6.6s\n",
      "[CV 1/5] END C=1, max_iter=2000, penalty=l2, solver=saga;, score=0.891 total time=  22.0s\n",
      "[CV 2/5] END C=1, max_iter=2000, penalty=l2, solver=saga;, score=0.891 total time=  13.4s\n",
      "[CV 3/5] END C=1, max_iter=2000, penalty=l2, solver=saga;, score=0.891 total time=  13.0s\n",
      "[CV 4/5] END C=1, max_iter=2000, penalty=l2, solver=saga;, score=0.891 total time=  13.6s\n",
      "[CV 5/5] END C=1, max_iter=2000, penalty=l2, solver=saga;, score=0.891 total time=  14.0s\n",
      "[CV 1/5] END C=1, max_iter=2000, penalty=l2, solver=liblinear;, score=0.891 total time=   2.5s\n",
      "[CV 2/5] END C=1, max_iter=2000, penalty=l2, solver=liblinear;, score=0.891 total time=   2.6s\n",
      "[CV 3/5] END C=1, max_iter=2000, penalty=l2, solver=liblinear;, score=0.891 total time=   2.5s\n",
      "[CV 4/5] END C=1, max_iter=2000, penalty=l2, solver=liblinear;, score=0.891 total time=   3.2s\n",
      "[CV 5/5] END C=1, max_iter=2000, penalty=l2, solver=liblinear;, score=0.891 total time=   3.5s\n",
      "[CV 1/5] END C=1, max_iter=2000, penalty=l2, solver=lgbfs;, score=nan total time=   0.1s\n",
      "[CV 2/5] END C=1, max_iter=2000, penalty=l2, solver=lgbfs;, score=nan total time=   0.1s\n",
      "[CV 3/5] END C=1, max_iter=2000, penalty=l2, solver=lgbfs;, score=nan total time=   0.1s\n",
      "[CV 4/5] END C=1, max_iter=2000, penalty=l2, solver=lgbfs;, score=nan total time=   0.1s\n",
      "[CV 5/5] END C=1, max_iter=2000, penalty=l2, solver=lgbfs;, score=nan total time=   0.1s\n",
      "[CV 1/5] END C=1, max_iter=2000, penalty=elasticnet, solver=newton-cg;, score=nan total time=   0.1s\n",
      "[CV 2/5] END C=1, max_iter=2000, penalty=elasticnet, solver=newton-cg;, score=nan total time=   0.1s\n",
      "[CV 3/5] END C=1, max_iter=2000, penalty=elasticnet, solver=newton-cg;, score=nan total time=   0.1s\n",
      "[CV 4/5] END C=1, max_iter=2000, penalty=elasticnet, solver=newton-cg;, score=nan total time=   0.1s\n",
      "[CV 5/5] END C=1, max_iter=2000, penalty=elasticnet, solver=newton-cg;, score=nan total time=   0.1s\n",
      "[CV 1/5] END C=1, max_iter=2000, penalty=elasticnet, solver=sag;, score=nan total time=   0.1s\n",
      "[CV 2/5] END C=1, max_iter=2000, penalty=elasticnet, solver=sag;, score=nan total time=   0.1s\n",
      "[CV 3/5] END C=1, max_iter=2000, penalty=elasticnet, solver=sag;, score=nan total time=   0.1s\n",
      "[CV 4/5] END C=1, max_iter=2000, penalty=elasticnet, solver=sag;, score=nan total time=   0.1s\n",
      "[CV 5/5] END C=1, max_iter=2000, penalty=elasticnet, solver=sag;, score=nan total time=   0.1s\n",
      "[CV 1/5] END C=1, max_iter=2000, penalty=elasticnet, solver=saga;, score=nan total time=   0.1s\n",
      "[CV 2/5] END C=1, max_iter=2000, penalty=elasticnet, solver=saga;, score=nan total time=   0.1s\n",
      "[CV 3/5] END C=1, max_iter=2000, penalty=elasticnet, solver=saga;, score=nan total time=   0.1s\n",
      "[CV 4/5] END C=1, max_iter=2000, penalty=elasticnet, solver=saga;, score=nan total time=   0.1s\n",
      "[CV 5/5] END C=1, max_iter=2000, penalty=elasticnet, solver=saga;, score=nan total time=   0.1s\n",
      "[CV 1/5] END C=1, max_iter=2000, penalty=elasticnet, solver=liblinear;, score=nan total time=   0.1s\n",
      "[CV 2/5] END C=1, max_iter=2000, penalty=elasticnet, solver=liblinear;, score=nan total time=   0.1s\n",
      "[CV 3/5] END C=1, max_iter=2000, penalty=elasticnet, solver=liblinear;, score=nan total time=   0.1s\n",
      "[CV 4/5] END C=1, max_iter=2000, penalty=elasticnet, solver=liblinear;, score=nan total time=   0.1s\n",
      "[CV 5/5] END C=1, max_iter=2000, penalty=elasticnet, solver=liblinear;, score=nan total time=   0.1s\n",
      "[CV 1/5] END C=1, max_iter=2000, penalty=elasticnet, solver=lgbfs;, score=nan total time=   0.1s\n",
      "[CV 2/5] END C=1, max_iter=2000, penalty=elasticnet, solver=lgbfs;, score=nan total time=   0.1s\n",
      "[CV 3/5] END C=1, max_iter=2000, penalty=elasticnet, solver=lgbfs;, score=nan total time=   0.1s\n",
      "[CV 4/5] END C=1, max_iter=2000, penalty=elasticnet, solver=lgbfs;, score=nan total time=   0.1s\n",
      "[CV 5/5] END C=1, max_iter=2000, penalty=elasticnet, solver=lgbfs;, score=nan total time=   0.1s\n",
      "[CV 1/5] END C=0.1, max_iter=100, penalty=l1, solver=newton-cg;, score=nan total time=   0.1s\n",
      "[CV 2/5] END C=0.1, max_iter=100, penalty=l1, solver=newton-cg;, score=nan total time=   0.1s\n",
      "[CV 3/5] END C=0.1, max_iter=100, penalty=l1, solver=newton-cg;, score=nan total time=   0.1s\n",
      "[CV 4/5] END C=0.1, max_iter=100, penalty=l1, solver=newton-cg;, score=nan total time=   0.1s\n",
      "[CV 5/5] END C=0.1, max_iter=100, penalty=l1, solver=newton-cg;, score=nan total time=   0.1s\n",
      "[CV 1/5] END C=0.1, max_iter=100, penalty=l1, solver=sag;, score=nan total time=   0.1s\n",
      "[CV 2/5] END C=0.1, max_iter=100, penalty=l1, solver=sag;, score=nan total time=   0.1s\n",
      "[CV 3/5] END C=0.1, max_iter=100, penalty=l1, solver=sag;, score=nan total time=   0.1s\n",
      "[CV 4/5] END C=0.1, max_iter=100, penalty=l1, solver=sag;, score=nan total time=   0.1s\n",
      "[CV 5/5] END C=0.1, max_iter=100, penalty=l1, solver=sag;, score=nan total time=   0.1s\n"
     ]
    },
    {
     "name": "stderr",
     "output_type": "stream",
     "text": [
      "/Users/michaelraines/opt/anaconda3/lib/python3.8/site-packages/sklearn/linear_model/_sag.py:352: ConvergenceWarning: The max_iter was reached which means the coef_ did not converge\n",
      "  warnings.warn(\n"
     ]
    },
    {
     "name": "stdout",
     "output_type": "stream",
     "text": [
      "[CV 1/5] END C=0.1, max_iter=100, penalty=l1, solver=saga;, score=0.891 total time=  25.0s\n"
     ]
    },
    {
     "name": "stderr",
     "output_type": "stream",
     "text": [
      "/Users/michaelraines/opt/anaconda3/lib/python3.8/site-packages/sklearn/linear_model/_sag.py:352: ConvergenceWarning: The max_iter was reached which means the coef_ did not converge\n",
      "  warnings.warn(\n"
     ]
    },
    {
     "name": "stdout",
     "output_type": "stream",
     "text": [
      "[CV 2/5] END C=0.1, max_iter=100, penalty=l1, solver=saga;, score=0.891 total time=  24.8s\n"
     ]
    },
    {
     "name": "stderr",
     "output_type": "stream",
     "text": [
      "/Users/michaelraines/opt/anaconda3/lib/python3.8/site-packages/sklearn/linear_model/_sag.py:352: ConvergenceWarning: The max_iter was reached which means the coef_ did not converge\n",
      "  warnings.warn(\n"
     ]
    },
    {
     "name": "stdout",
     "output_type": "stream",
     "text": [
      "[CV 3/5] END C=0.1, max_iter=100, penalty=l1, solver=saga;, score=0.891 total time=  25.0s\n"
     ]
    },
    {
     "name": "stderr",
     "output_type": "stream",
     "text": [
      "/Users/michaelraines/opt/anaconda3/lib/python3.8/site-packages/sklearn/linear_model/_sag.py:352: ConvergenceWarning: The max_iter was reached which means the coef_ did not converge\n",
      "  warnings.warn(\n"
     ]
    },
    {
     "name": "stdout",
     "output_type": "stream",
     "text": [
      "[CV 4/5] END C=0.1, max_iter=100, penalty=l1, solver=saga;, score=0.891 total time=  25.1s\n"
     ]
    },
    {
     "name": "stderr",
     "output_type": "stream",
     "text": [
      "/Users/michaelraines/opt/anaconda3/lib/python3.8/site-packages/sklearn/linear_model/_sag.py:352: ConvergenceWarning: The max_iter was reached which means the coef_ did not converge\n",
      "  warnings.warn(\n"
     ]
    },
    {
     "name": "stdout",
     "output_type": "stream",
     "text": [
      "[CV 5/5] END C=0.1, max_iter=100, penalty=l1, solver=saga;, score=0.891 total time=  25.1s\n",
      "[CV 1/5] END C=0.1, max_iter=100, penalty=l1, solver=liblinear;, score=0.891 total time=  46.4s\n",
      "[CV 2/5] END C=0.1, max_iter=100, penalty=l1, solver=liblinear;, score=0.891 total time=  46.6s\n",
      "[CV 3/5] END C=0.1, max_iter=100, penalty=l1, solver=liblinear;, score=0.891 total time=  45.8s\n",
      "[CV 4/5] END C=0.1, max_iter=100, penalty=l1, solver=liblinear;, score=0.891 total time=  43.0s\n",
      "[CV 5/5] END C=0.1, max_iter=100, penalty=l1, solver=liblinear;, score=0.891 total time=  45.1s\n",
      "[CV 1/5] END C=0.1, max_iter=100, penalty=l1, solver=lgbfs;, score=nan total time=   0.2s\n",
      "[CV 2/5] END C=0.1, max_iter=100, penalty=l1, solver=lgbfs;, score=nan total time=   0.1s\n",
      "[CV 3/5] END C=0.1, max_iter=100, penalty=l1, solver=lgbfs;, score=nan total time=   0.1s\n",
      "[CV 4/5] END C=0.1, max_iter=100, penalty=l1, solver=lgbfs;, score=nan total time=   0.1s\n",
      "[CV 5/5] END C=0.1, max_iter=100, penalty=l1, solver=lgbfs;, score=nan total time=   0.1s\n",
      "[CV 1/5] END C=0.1, max_iter=100, penalty=l2, solver=newton-cg;, score=0.891 total time=   3.2s\n"
     ]
    },
    {
     "name": "stderr",
     "output_type": "stream",
     "text": [
      "/Users/michaelraines/opt/anaconda3/lib/python3.8/site-packages/scipy/optimize/linesearch.py:437: LineSearchWarning: Rounding errors prevent the line search from converging\n",
      "  warn(msg, LineSearchWarning)\n",
      "/Users/michaelraines/opt/anaconda3/lib/python3.8/site-packages/scipy/optimize/linesearch.py:327: LineSearchWarning: The line search algorithm did not converge\n",
      "  warn('The line search algorithm did not converge', LineSearchWarning)\n",
      "/Users/michaelraines/opt/anaconda3/lib/python3.8/site-packages/sklearn/utils/optimize.py:203: UserWarning: Line Search failed\n",
      "  warnings.warn(\"Line Search failed\")\n"
     ]
    },
    {
     "name": "stdout",
     "output_type": "stream",
     "text": [
      "[CV 2/5] END C=0.1, max_iter=100, penalty=l2, solver=newton-cg;, score=0.891 total time=   3.1s\n",
      "[CV 3/5] END C=0.1, max_iter=100, penalty=l2, solver=newton-cg;, score=0.891 total time=   3.0s\n",
      "[CV 4/5] END C=0.1, max_iter=100, penalty=l2, solver=newton-cg;, score=0.891 total time=   2.7s\n",
      "[CV 5/5] END C=0.1, max_iter=100, penalty=l2, solver=newton-cg;, score=0.891 total time=   3.0s\n",
      "[CV 1/5] END C=0.1, max_iter=100, penalty=l2, solver=sag;, score=0.891 total time=   9.1s\n",
      "[CV 2/5] END C=0.1, max_iter=100, penalty=l2, solver=sag;, score=0.891 total time=   4.7s\n",
      "[CV 3/5] END C=0.1, max_iter=100, penalty=l2, solver=sag;, score=0.891 total time=   4.7s\n",
      "[CV 4/5] END C=0.1, max_iter=100, penalty=l2, solver=sag;, score=0.891 total time=   4.6s\n",
      "[CV 5/5] END C=0.1, max_iter=100, penalty=l2, solver=sag;, score=0.891 total time=   6.4s\n",
      "[CV 1/5] END C=0.1, max_iter=100, penalty=l2, solver=saga;, score=0.891 total time=  20.3s\n",
      "[CV 2/5] END C=0.1, max_iter=100, penalty=l2, solver=saga;, score=0.891 total time=  12.6s\n",
      "[CV 3/5] END C=0.1, max_iter=100, penalty=l2, solver=saga;, score=0.891 total time=  12.7s\n",
      "[CV 4/5] END C=0.1, max_iter=100, penalty=l2, solver=saga;, score=0.891 total time=  13.6s\n",
      "[CV 5/5] END C=0.1, max_iter=100, penalty=l2, solver=saga;, score=0.891 total time=  13.7s\n",
      "[CV 1/5] END C=0.1, max_iter=100, penalty=l2, solver=liblinear;, score=0.891 total time=   2.4s\n",
      "[CV 2/5] END C=0.1, max_iter=100, penalty=l2, solver=liblinear;, score=0.891 total time=   2.5s\n",
      "[CV 3/5] END C=0.1, max_iter=100, penalty=l2, solver=liblinear;, score=0.891 total time=   2.5s\n",
      "[CV 4/5] END C=0.1, max_iter=100, penalty=l2, solver=liblinear;, score=0.891 total time=   3.1s\n",
      "[CV 5/5] END C=0.1, max_iter=100, penalty=l2, solver=liblinear;, score=0.891 total time=   3.5s\n",
      "[CV 1/5] END C=0.1, max_iter=100, penalty=l2, solver=lgbfs;, score=nan total time=   0.1s\n",
      "[CV 2/5] END C=0.1, max_iter=100, penalty=l2, solver=lgbfs;, score=nan total time=   0.1s\n",
      "[CV 3/5] END C=0.1, max_iter=100, penalty=l2, solver=lgbfs;, score=nan total time=   0.1s\n",
      "[CV 4/5] END C=0.1, max_iter=100, penalty=l2, solver=lgbfs;, score=nan total time=   0.1s\n",
      "[CV 5/5] END C=0.1, max_iter=100, penalty=l2, solver=lgbfs;, score=nan total time=   0.1s\n",
      "[CV 1/5] END C=0.1, max_iter=100, penalty=elasticnet, solver=newton-cg;, score=nan total time=   0.1s\n",
      "[CV 2/5] END C=0.1, max_iter=100, penalty=elasticnet, solver=newton-cg;, score=nan total time=   0.1s\n",
      "[CV 3/5] END C=0.1, max_iter=100, penalty=elasticnet, solver=newton-cg;, score=nan total time=   0.1s\n",
      "[CV 4/5] END C=0.1, max_iter=100, penalty=elasticnet, solver=newton-cg;, score=nan total time=   0.1s\n",
      "[CV 5/5] END C=0.1, max_iter=100, penalty=elasticnet, solver=newton-cg;, score=nan total time=   0.1s\n",
      "[CV 1/5] END C=0.1, max_iter=100, penalty=elasticnet, solver=sag;, score=nan total time=   0.1s\n",
      "[CV 2/5] END C=0.1, max_iter=100, penalty=elasticnet, solver=sag;, score=nan total time=   0.1s\n",
      "[CV 3/5] END C=0.1, max_iter=100, penalty=elasticnet, solver=sag;, score=nan total time=   0.1s\n",
      "[CV 4/5] END C=0.1, max_iter=100, penalty=elasticnet, solver=sag;, score=nan total time=   0.1s\n",
      "[CV 5/5] END C=0.1, max_iter=100, penalty=elasticnet, solver=sag;, score=nan total time=   0.1s\n",
      "[CV 1/5] END C=0.1, max_iter=100, penalty=elasticnet, solver=saga;, score=nan total time=   0.1s\n",
      "[CV 2/5] END C=0.1, max_iter=100, penalty=elasticnet, solver=saga;, score=nan total time=   0.1s\n",
      "[CV 3/5] END C=0.1, max_iter=100, penalty=elasticnet, solver=saga;, score=nan total time=   0.1s\n",
      "[CV 4/5] END C=0.1, max_iter=100, penalty=elasticnet, solver=saga;, score=nan total time=   0.1s\n",
      "[CV 5/5] END C=0.1, max_iter=100, penalty=elasticnet, solver=saga;, score=nan total time=   0.1s\n",
      "[CV 1/5] END C=0.1, max_iter=100, penalty=elasticnet, solver=liblinear;, score=nan total time=   0.1s\n",
      "[CV 2/5] END C=0.1, max_iter=100, penalty=elasticnet, solver=liblinear;, score=nan total time=   0.1s\n",
      "[CV 3/5] END C=0.1, max_iter=100, penalty=elasticnet, solver=liblinear;, score=nan total time=   0.1s\n",
      "[CV 4/5] END C=0.1, max_iter=100, penalty=elasticnet, solver=liblinear;, score=nan total time=   0.1s\n",
      "[CV 5/5] END C=0.1, max_iter=100, penalty=elasticnet, solver=liblinear;, score=nan total time=   0.1s\n",
      "[CV 1/5] END C=0.1, max_iter=100, penalty=elasticnet, solver=lgbfs;, score=nan total time=   0.1s\n",
      "[CV 2/5] END C=0.1, max_iter=100, penalty=elasticnet, solver=lgbfs;, score=nan total time=   0.1s\n",
      "[CV 3/5] END C=0.1, max_iter=100, penalty=elasticnet, solver=lgbfs;, score=nan total time=   0.1s\n",
      "[CV 4/5] END C=0.1, max_iter=100, penalty=elasticnet, solver=lgbfs;, score=nan total time=   0.1s\n",
      "[CV 5/5] END C=0.1, max_iter=100, penalty=elasticnet, solver=lgbfs;, score=nan total time=   0.1s\n",
      "[CV 1/5] END C=0.1, max_iter=500, penalty=l1, solver=newton-cg;, score=nan total time=   0.1s\n",
      "[CV 2/5] END C=0.1, max_iter=500, penalty=l1, solver=newton-cg;, score=nan total time=   0.1s\n",
      "[CV 3/5] END C=0.1, max_iter=500, penalty=l1, solver=newton-cg;, score=nan total time=   0.1s\n",
      "[CV 4/5] END C=0.1, max_iter=500, penalty=l1, solver=newton-cg;, score=nan total time=   0.1s\n",
      "[CV 5/5] END C=0.1, max_iter=500, penalty=l1, solver=newton-cg;, score=nan total time=   0.1s\n",
      "[CV 1/5] END C=0.1, max_iter=500, penalty=l1, solver=sag;, score=nan total time=   0.1s\n",
      "[CV 2/5] END C=0.1, max_iter=500, penalty=l1, solver=sag;, score=nan total time=   0.1s\n",
      "[CV 3/5] END C=0.1, max_iter=500, penalty=l1, solver=sag;, score=nan total time=   0.1s\n",
      "[CV 4/5] END C=0.1, max_iter=500, penalty=l1, solver=sag;, score=nan total time=   0.1s\n",
      "[CV 5/5] END C=0.1, max_iter=500, penalty=l1, solver=sag;, score=nan total time=   0.1s\n"
     ]
    },
    {
     "name": "stderr",
     "output_type": "stream",
     "text": [
      "/Users/michaelraines/opt/anaconda3/lib/python3.8/site-packages/sklearn/linear_model/_sag.py:352: ConvergenceWarning: The max_iter was reached which means the coef_ did not converge\n",
      "  warnings.warn(\n"
     ]
    },
    {
     "name": "stdout",
     "output_type": "stream",
     "text": [
      "[CV 1/5] END C=0.1, max_iter=500, penalty=l1, solver=saga;, score=0.891 total time= 2.1min\n"
     ]
    },
    {
     "name": "stderr",
     "output_type": "stream",
     "text": [
      "/Users/michaelraines/opt/anaconda3/lib/python3.8/site-packages/sklearn/linear_model/_sag.py:352: ConvergenceWarning: The max_iter was reached which means the coef_ did not converge\n",
      "  warnings.warn(\n"
     ]
    },
    {
     "name": "stdout",
     "output_type": "stream",
     "text": [
      "[CV 2/5] END C=0.1, max_iter=500, penalty=l1, solver=saga;, score=0.891 total time= 2.1min\n"
     ]
    },
    {
     "name": "stderr",
     "output_type": "stream",
     "text": [
      "/Users/michaelraines/opt/anaconda3/lib/python3.8/site-packages/sklearn/linear_model/_sag.py:352: ConvergenceWarning: The max_iter was reached which means the coef_ did not converge\n",
      "  warnings.warn(\n"
     ]
    },
    {
     "name": "stdout",
     "output_type": "stream",
     "text": [
      "[CV 3/5] END C=0.1, max_iter=500, penalty=l1, solver=saga;, score=0.891 total time= 2.2min\n"
     ]
    },
    {
     "name": "stderr",
     "output_type": "stream",
     "text": [
      "/Users/michaelraines/opt/anaconda3/lib/python3.8/site-packages/sklearn/linear_model/_sag.py:352: ConvergenceWarning: The max_iter was reached which means the coef_ did not converge\n",
      "  warnings.warn(\n"
     ]
    },
    {
     "name": "stdout",
     "output_type": "stream",
     "text": [
      "[CV 4/5] END C=0.1, max_iter=500, penalty=l1, solver=saga;, score=0.891 total time= 2.1min\n"
     ]
    },
    {
     "name": "stderr",
     "output_type": "stream",
     "text": [
      "/Users/michaelraines/opt/anaconda3/lib/python3.8/site-packages/sklearn/linear_model/_sag.py:352: ConvergenceWarning: The max_iter was reached which means the coef_ did not converge\n",
      "  warnings.warn(\n"
     ]
    },
    {
     "name": "stdout",
     "output_type": "stream",
     "text": [
      "[CV 5/5] END C=0.1, max_iter=500, penalty=l1, solver=saga;, score=0.891 total time= 2.1min\n",
      "[CV 1/5] END C=0.1, max_iter=500, penalty=l1, solver=liblinear;, score=0.891 total time=  49.0s\n",
      "[CV 2/5] END C=0.1, max_iter=500, penalty=l1, solver=liblinear;, score=0.891 total time=  47.7s\n",
      "[CV 3/5] END C=0.1, max_iter=500, penalty=l1, solver=liblinear;, score=0.891 total time=  47.2s\n",
      "[CV 4/5] END C=0.1, max_iter=500, penalty=l1, solver=liblinear;, score=0.891 total time=  43.5s\n",
      "[CV 5/5] END C=0.1, max_iter=500, penalty=l1, solver=liblinear;, score=0.891 total time=  46.0s\n",
      "[CV 1/5] END C=0.1, max_iter=500, penalty=l1, solver=lgbfs;, score=nan total time=   0.2s\n",
      "[CV 2/5] END C=0.1, max_iter=500, penalty=l1, solver=lgbfs;, score=nan total time=   0.1s\n",
      "[CV 3/5] END C=0.1, max_iter=500, penalty=l1, solver=lgbfs;, score=nan total time=   0.1s\n",
      "[CV 4/5] END C=0.1, max_iter=500, penalty=l1, solver=lgbfs;, score=nan total time=   0.1s\n",
      "[CV 5/5] END C=0.1, max_iter=500, penalty=l1, solver=lgbfs;, score=nan total time=   0.1s\n",
      "[CV 1/5] END C=0.1, max_iter=500, penalty=l2, solver=newton-cg;, score=0.891 total time=   4.0s\n"
     ]
    },
    {
     "name": "stderr",
     "output_type": "stream",
     "text": [
      "/Users/michaelraines/opt/anaconda3/lib/python3.8/site-packages/scipy/optimize/linesearch.py:437: LineSearchWarning: Rounding errors prevent the line search from converging\n",
      "  warn(msg, LineSearchWarning)\n",
      "/Users/michaelraines/opt/anaconda3/lib/python3.8/site-packages/scipy/optimize/linesearch.py:327: LineSearchWarning: The line search algorithm did not converge\n",
      "  warn('The line search algorithm did not converge', LineSearchWarning)\n",
      "/Users/michaelraines/opt/anaconda3/lib/python3.8/site-packages/sklearn/utils/optimize.py:203: UserWarning: Line Search failed\n",
      "  warnings.warn(\"Line Search failed\")\n"
     ]
    },
    {
     "name": "stdout",
     "output_type": "stream",
     "text": [
      "[CV 2/5] END C=0.1, max_iter=500, penalty=l2, solver=newton-cg;, score=0.891 total time=   3.2s\n",
      "[CV 3/5] END C=0.1, max_iter=500, penalty=l2, solver=newton-cg;, score=0.891 total time=   3.0s\n",
      "[CV 4/5] END C=0.1, max_iter=500, penalty=l2, solver=newton-cg;, score=0.891 total time=   2.7s\n",
      "[CV 5/5] END C=0.1, max_iter=500, penalty=l2, solver=newton-cg;, score=0.891 total time=   2.9s\n",
      "[CV 1/5] END C=0.1, max_iter=500, penalty=l2, solver=sag;, score=0.891 total time=   9.0s\n",
      "[CV 2/5] END C=0.1, max_iter=500, penalty=l2, solver=sag;, score=0.891 total time=   4.7s\n",
      "[CV 3/5] END C=0.1, max_iter=500, penalty=l2, solver=sag;, score=0.891 total time=   4.8s\n",
      "[CV 4/5] END C=0.1, max_iter=500, penalty=l2, solver=sag;, score=0.891 total time=   4.7s\n",
      "[CV 5/5] END C=0.1, max_iter=500, penalty=l2, solver=sag;, score=0.891 total time=   6.5s\n",
      "[CV 1/5] END C=0.1, max_iter=500, penalty=l2, solver=saga;, score=0.891 total time=  20.8s\n",
      "[CV 2/5] END C=0.1, max_iter=500, penalty=l2, solver=saga;, score=0.891 total time=  13.5s\n",
      "[CV 3/5] END C=0.1, max_iter=500, penalty=l2, solver=saga;, score=0.891 total time=  13.0s\n",
      "[CV 4/5] END C=0.1, max_iter=500, penalty=l2, solver=saga;, score=0.891 total time=  13.2s\n",
      "[CV 5/5] END C=0.1, max_iter=500, penalty=l2, solver=saga;, score=0.891 total time=  13.7s\n",
      "[CV 1/5] END C=0.1, max_iter=500, penalty=l2, solver=liblinear;, score=0.891 total time=   2.5s\n",
      "[CV 2/5] END C=0.1, max_iter=500, penalty=l2, solver=liblinear;, score=0.891 total time=   2.6s\n",
      "[CV 3/5] END C=0.1, max_iter=500, penalty=l2, solver=liblinear;, score=0.891 total time=   2.5s\n",
      "[CV 4/5] END C=0.1, max_iter=500, penalty=l2, solver=liblinear;, score=0.891 total time=   3.1s\n",
      "[CV 5/5] END C=0.1, max_iter=500, penalty=l2, solver=liblinear;, score=0.891 total time=   3.5s\n",
      "[CV 1/5] END C=0.1, max_iter=500, penalty=l2, solver=lgbfs;, score=nan total time=   0.1s\n",
      "[CV 2/5] END C=0.1, max_iter=500, penalty=l2, solver=lgbfs;, score=nan total time=   0.1s\n",
      "[CV 3/5] END C=0.1, max_iter=500, penalty=l2, solver=lgbfs;, score=nan total time=   0.1s\n",
      "[CV 4/5] END C=0.1, max_iter=500, penalty=l2, solver=lgbfs;, score=nan total time=   0.1s\n",
      "[CV 5/5] END C=0.1, max_iter=500, penalty=l2, solver=lgbfs;, score=nan total time=   0.1s\n",
      "[CV 1/5] END C=0.1, max_iter=500, penalty=elasticnet, solver=newton-cg;, score=nan total time=   0.1s\n",
      "[CV 2/5] END C=0.1, max_iter=500, penalty=elasticnet, solver=newton-cg;, score=nan total time=   0.1s\n",
      "[CV 3/5] END C=0.1, max_iter=500, penalty=elasticnet, solver=newton-cg;, score=nan total time=   0.1s\n",
      "[CV 4/5] END C=0.1, max_iter=500, penalty=elasticnet, solver=newton-cg;, score=nan total time=   0.1s\n",
      "[CV 5/5] END C=0.1, max_iter=500, penalty=elasticnet, solver=newton-cg;, score=nan total time=   0.1s\n",
      "[CV 1/5] END C=0.1, max_iter=500, penalty=elasticnet, solver=sag;, score=nan total time=   0.1s\n",
      "[CV 2/5] END C=0.1, max_iter=500, penalty=elasticnet, solver=sag;, score=nan total time=   0.1s\n",
      "[CV 3/5] END C=0.1, max_iter=500, penalty=elasticnet, solver=sag;, score=nan total time=   0.1s\n",
      "[CV 4/5] END C=0.1, max_iter=500, penalty=elasticnet, solver=sag;, score=nan total time=   0.1s\n",
      "[CV 5/5] END C=0.1, max_iter=500, penalty=elasticnet, solver=sag;, score=nan total time=   0.1s\n",
      "[CV 1/5] END C=0.1, max_iter=500, penalty=elasticnet, solver=saga;, score=nan total time=   0.1s\n",
      "[CV 2/5] END C=0.1, max_iter=500, penalty=elasticnet, solver=saga;, score=nan total time=   0.1s\n",
      "[CV 3/5] END C=0.1, max_iter=500, penalty=elasticnet, solver=saga;, score=nan total time=   0.1s\n",
      "[CV 4/5] END C=0.1, max_iter=500, penalty=elasticnet, solver=saga;, score=nan total time=   0.1s\n",
      "[CV 5/5] END C=0.1, max_iter=500, penalty=elasticnet, solver=saga;, score=nan total time=   0.1s\n",
      "[CV 1/5] END C=0.1, max_iter=500, penalty=elasticnet, solver=liblinear;, score=nan total time=   0.1s\n",
      "[CV 2/5] END C=0.1, max_iter=500, penalty=elasticnet, solver=liblinear;, score=nan total time=   0.1s\n",
      "[CV 3/5] END C=0.1, max_iter=500, penalty=elasticnet, solver=liblinear;, score=nan total time=   0.1s\n",
      "[CV 4/5] END C=0.1, max_iter=500, penalty=elasticnet, solver=liblinear;, score=nan total time=   0.1s\n",
      "[CV 5/5] END C=0.1, max_iter=500, penalty=elasticnet, solver=liblinear;, score=nan total time=   0.1s\n",
      "[CV 1/5] END C=0.1, max_iter=500, penalty=elasticnet, solver=lgbfs;, score=nan total time=   0.1s\n",
      "[CV 2/5] END C=0.1, max_iter=500, penalty=elasticnet, solver=lgbfs;, score=nan total time=   0.1s\n",
      "[CV 3/5] END C=0.1, max_iter=500, penalty=elasticnet, solver=lgbfs;, score=nan total time=   0.1s\n",
      "[CV 4/5] END C=0.1, max_iter=500, penalty=elasticnet, solver=lgbfs;, score=nan total time=   0.1s\n",
      "[CV 5/5] END C=0.1, max_iter=500, penalty=elasticnet, solver=lgbfs;, score=nan total time=   0.1s\n",
      "[CV 1/5] END C=0.1, max_iter=1000, penalty=l1, solver=newton-cg;, score=nan total time=   0.1s\n",
      "[CV 2/5] END C=0.1, max_iter=1000, penalty=l1, solver=newton-cg;, score=nan total time=   0.1s\n",
      "[CV 3/5] END C=0.1, max_iter=1000, penalty=l1, solver=newton-cg;, score=nan total time=   0.1s\n",
      "[CV 4/5] END C=0.1, max_iter=1000, penalty=l1, solver=newton-cg;, score=nan total time=   0.1s\n",
      "[CV 5/5] END C=0.1, max_iter=1000, penalty=l1, solver=newton-cg;, score=nan total time=   0.1s\n",
      "[CV 1/5] END C=0.1, max_iter=1000, penalty=l1, solver=sag;, score=nan total time=   0.1s\n",
      "[CV 2/5] END C=0.1, max_iter=1000, penalty=l1, solver=sag;, score=nan total time=   0.1s\n",
      "[CV 3/5] END C=0.1, max_iter=1000, penalty=l1, solver=sag;, score=nan total time=   0.1s\n",
      "[CV 4/5] END C=0.1, max_iter=1000, penalty=l1, solver=sag;, score=nan total time=   0.1s\n",
      "[CV 5/5] END C=0.1, max_iter=1000, penalty=l1, solver=sag;, score=nan total time=   0.1s\n"
     ]
    },
    {
     "name": "stderr",
     "output_type": "stream",
     "text": [
      "/Users/michaelraines/opt/anaconda3/lib/python3.8/site-packages/sklearn/linear_model/_sag.py:352: ConvergenceWarning: The max_iter was reached which means the coef_ did not converge\n",
      "  warnings.warn(\n"
     ]
    },
    {
     "name": "stdout",
     "output_type": "stream",
     "text": [
      "[CV 1/5] END C=0.1, max_iter=1000, penalty=l1, solver=saga;, score=0.891 total time= 4.1min\n"
     ]
    },
    {
     "name": "stderr",
     "output_type": "stream",
     "text": [
      "/Users/michaelraines/opt/anaconda3/lib/python3.8/site-packages/sklearn/linear_model/_sag.py:352: ConvergenceWarning: The max_iter was reached which means the coef_ did not converge\n",
      "  warnings.warn(\n"
     ]
    },
    {
     "name": "stdout",
     "output_type": "stream",
     "text": [
      "[CV 2/5] END C=0.1, max_iter=1000, penalty=l1, solver=saga;, score=0.891 total time= 4.1min\n"
     ]
    },
    {
     "name": "stderr",
     "output_type": "stream",
     "text": [
      "/Users/michaelraines/opt/anaconda3/lib/python3.8/site-packages/sklearn/linear_model/_sag.py:352: ConvergenceWarning: The max_iter was reached which means the coef_ did not converge\n",
      "  warnings.warn(\n"
     ]
    },
    {
     "name": "stdout",
     "output_type": "stream",
     "text": [
      "[CV 3/5] END C=0.1, max_iter=1000, penalty=l1, solver=saga;, score=0.891 total time=17.5min\n"
     ]
    },
    {
     "name": "stderr",
     "output_type": "stream",
     "text": [
      "/Users/michaelraines/opt/anaconda3/lib/python3.8/site-packages/sklearn/linear_model/_sag.py:352: ConvergenceWarning: The max_iter was reached which means the coef_ did not converge\n",
      "  warnings.warn(\n"
     ]
    },
    {
     "name": "stdout",
     "output_type": "stream",
     "text": [
      "[CV 4/5] END C=0.1, max_iter=1000, penalty=l1, solver=saga;, score=0.891 total time= 4.1min\n",
      "[CV 5/5] END C=0.1, max_iter=1000, penalty=l1, solver=saga;, score=0.891 total time= 4.2min\n",
      "[CV 1/5] END C=0.1, max_iter=1000, penalty=l1, solver=liblinear;, score=0.891 total time=  48.1s\n",
      "[CV 2/5] END C=0.1, max_iter=1000, penalty=l1, solver=liblinear;, score=0.891 total time=  46.5s\n",
      "[CV 3/5] END C=0.1, max_iter=1000, penalty=l1, solver=liblinear;, score=0.891 total time=  45.4s\n",
      "[CV 4/5] END C=0.1, max_iter=1000, penalty=l1, solver=liblinear;, score=0.891 total time=  44.4s\n",
      "[CV 5/5] END C=0.1, max_iter=1000, penalty=l1, solver=liblinear;, score=0.891 total time=  47.6s\n",
      "[CV 1/5] END C=0.1, max_iter=1000, penalty=l1, solver=lgbfs;, score=nan total time=   0.2s\n",
      "[CV 2/5] END C=0.1, max_iter=1000, penalty=l1, solver=lgbfs;, score=nan total time=   0.1s\n",
      "[CV 3/5] END C=0.1, max_iter=1000, penalty=l1, solver=lgbfs;, score=nan total time=   0.1s\n",
      "[CV 4/5] END C=0.1, max_iter=1000, penalty=l1, solver=lgbfs;, score=nan total time=   0.1s\n",
      "[CV 5/5] END C=0.1, max_iter=1000, penalty=l1, solver=lgbfs;, score=nan total time=   0.1s\n",
      "[CV 1/5] END C=0.1, max_iter=1000, penalty=l2, solver=newton-cg;, score=0.891 total time=   3.4s\n"
     ]
    },
    {
     "name": "stderr",
     "output_type": "stream",
     "text": [
      "/Users/michaelraines/opt/anaconda3/lib/python3.8/site-packages/scipy/optimize/linesearch.py:437: LineSearchWarning: Rounding errors prevent the line search from converging\n",
      "  warn(msg, LineSearchWarning)\n",
      "/Users/michaelraines/opt/anaconda3/lib/python3.8/site-packages/scipy/optimize/linesearch.py:327: LineSearchWarning: The line search algorithm did not converge\n",
      "  warn('The line search algorithm did not converge', LineSearchWarning)\n",
      "/Users/michaelraines/opt/anaconda3/lib/python3.8/site-packages/sklearn/utils/optimize.py:203: UserWarning: Line Search failed\n",
      "  warnings.warn(\"Line Search failed\")\n"
     ]
    },
    {
     "name": "stdout",
     "output_type": "stream",
     "text": [
      "[CV 2/5] END C=0.1, max_iter=1000, penalty=l2, solver=newton-cg;, score=0.891 total time=   3.7s\n",
      "[CV 3/5] END C=0.1, max_iter=1000, penalty=l2, solver=newton-cg;, score=0.891 total time=   3.6s\n",
      "[CV 4/5] END C=0.1, max_iter=1000, penalty=l2, solver=newton-cg;, score=0.891 total time=   3.1s\n",
      "[CV 5/5] END C=0.1, max_iter=1000, penalty=l2, solver=newton-cg;, score=0.891 total time=   3.2s\n",
      "[CV 1/5] END C=0.1, max_iter=1000, penalty=l2, solver=sag;, score=0.891 total time=   9.9s\n",
      "[CV 2/5] END C=0.1, max_iter=1000, penalty=l2, solver=sag;, score=0.891 total time=   4.8s\n",
      "[CV 3/5] END C=0.1, max_iter=1000, penalty=l2, solver=sag;, score=0.891 total time=   4.8s\n",
      "[CV 4/5] END C=0.1, max_iter=1000, penalty=l2, solver=sag;, score=0.891 total time=   4.9s\n",
      "[CV 5/5] END C=0.1, max_iter=1000, penalty=l2, solver=sag;, score=0.891 total time=   6.7s\n",
      "[CV 1/5] END C=0.1, max_iter=1000, penalty=l2, solver=saga;, score=0.891 total time=  21.0s\n",
      "[CV 2/5] END C=0.1, max_iter=1000, penalty=l2, solver=saga;, score=0.891 total time=  13.3s\n",
      "[CV 3/5] END C=0.1, max_iter=1000, penalty=l2, solver=saga;, score=0.891 total time=  12.8s\n",
      "[CV 4/5] END C=0.1, max_iter=1000, penalty=l2, solver=saga;, score=0.891 total time=  14.1s\n",
      "[CV 5/5] END C=0.1, max_iter=1000, penalty=l2, solver=saga;, score=0.891 total time=  14.5s\n",
      "[CV 1/5] END C=0.1, max_iter=1000, penalty=l2, solver=liblinear;, score=0.891 total time=   2.6s\n",
      "[CV 2/5] END C=0.1, max_iter=1000, penalty=l2, solver=liblinear;, score=0.891 total time=   2.6s\n",
      "[CV 3/5] END C=0.1, max_iter=1000, penalty=l2, solver=liblinear;, score=0.891 total time=   2.6s\n",
      "[CV 4/5] END C=0.1, max_iter=1000, penalty=l2, solver=liblinear;, score=0.891 total time=   3.3s\n",
      "[CV 5/5] END C=0.1, max_iter=1000, penalty=l2, solver=liblinear;, score=0.891 total time=   3.6s\n",
      "[CV 1/5] END C=0.1, max_iter=1000, penalty=l2, solver=lgbfs;, score=nan total time=   0.1s\n",
      "[CV 2/5] END C=0.1, max_iter=1000, penalty=l2, solver=lgbfs;, score=nan total time=   0.1s\n",
      "[CV 3/5] END C=0.1, max_iter=1000, penalty=l2, solver=lgbfs;, score=nan total time=   0.1s\n",
      "[CV 4/5] END C=0.1, max_iter=1000, penalty=l2, solver=lgbfs;, score=nan total time=   0.1s\n",
      "[CV 5/5] END C=0.1, max_iter=1000, penalty=l2, solver=lgbfs;, score=nan total time=   0.1s\n",
      "[CV 1/5] END C=0.1, max_iter=1000, penalty=elasticnet, solver=newton-cg;, score=nan total time=   0.1s\n",
      "[CV 2/5] END C=0.1, max_iter=1000, penalty=elasticnet, solver=newton-cg;, score=nan total time=   0.1s\n",
      "[CV 3/5] END C=0.1, max_iter=1000, penalty=elasticnet, solver=newton-cg;, score=nan total time=   0.1s\n",
      "[CV 4/5] END C=0.1, max_iter=1000, penalty=elasticnet, solver=newton-cg;, score=nan total time=   0.1s\n",
      "[CV 5/5] END C=0.1, max_iter=1000, penalty=elasticnet, solver=newton-cg;, score=nan total time=   0.1s\n",
      "[CV 1/5] END C=0.1, max_iter=1000, penalty=elasticnet, solver=sag;, score=nan total time=   0.1s\n",
      "[CV 2/5] END C=0.1, max_iter=1000, penalty=elasticnet, solver=sag;, score=nan total time=   0.1s\n",
      "[CV 3/5] END C=0.1, max_iter=1000, penalty=elasticnet, solver=sag;, score=nan total time=   0.1s\n",
      "[CV 4/5] END C=0.1, max_iter=1000, penalty=elasticnet, solver=sag;, score=nan total time=   0.1s\n",
      "[CV 5/5] END C=0.1, max_iter=1000, penalty=elasticnet, solver=sag;, score=nan total time=   0.1s\n",
      "[CV 1/5] END C=0.1, max_iter=1000, penalty=elasticnet, solver=saga;, score=nan total time=   0.1s\n",
      "[CV 2/5] END C=0.1, max_iter=1000, penalty=elasticnet, solver=saga;, score=nan total time=   0.1s\n",
      "[CV 3/5] END C=0.1, max_iter=1000, penalty=elasticnet, solver=saga;, score=nan total time=   0.1s\n",
      "[CV 4/5] END C=0.1, max_iter=1000, penalty=elasticnet, solver=saga;, score=nan total time=   0.1s\n",
      "[CV 5/5] END C=0.1, max_iter=1000, penalty=elasticnet, solver=saga;, score=nan total time=   0.1s\n",
      "[CV 1/5] END C=0.1, max_iter=1000, penalty=elasticnet, solver=liblinear;, score=nan total time=   0.1s\n",
      "[CV 2/5] END C=0.1, max_iter=1000, penalty=elasticnet, solver=liblinear;, score=nan total time=   0.1s\n",
      "[CV 3/5] END C=0.1, max_iter=1000, penalty=elasticnet, solver=liblinear;, score=nan total time=   0.1s\n",
      "[CV 4/5] END C=0.1, max_iter=1000, penalty=elasticnet, solver=liblinear;, score=nan total time=   0.1s\n",
      "[CV 5/5] END C=0.1, max_iter=1000, penalty=elasticnet, solver=liblinear;, score=nan total time=   0.1s\n",
      "[CV 1/5] END C=0.1, max_iter=1000, penalty=elasticnet, solver=lgbfs;, score=nan total time=   0.1s\n",
      "[CV 2/5] END C=0.1, max_iter=1000, penalty=elasticnet, solver=lgbfs;, score=nan total time=   0.1s\n",
      "[CV 3/5] END C=0.1, max_iter=1000, penalty=elasticnet, solver=lgbfs;, score=nan total time=   0.1s\n",
      "[CV 4/5] END C=0.1, max_iter=1000, penalty=elasticnet, solver=lgbfs;, score=nan total time=   0.1s\n",
      "[CV 5/5] END C=0.1, max_iter=1000, penalty=elasticnet, solver=lgbfs;, score=nan total time=   0.1s\n",
      "[CV 1/5] END C=0.1, max_iter=2000, penalty=l1, solver=newton-cg;, score=nan total time=   0.1s\n",
      "[CV 2/5] END C=0.1, max_iter=2000, penalty=l1, solver=newton-cg;, score=nan total time=   0.1s\n",
      "[CV 3/5] END C=0.1, max_iter=2000, penalty=l1, solver=newton-cg;, score=nan total time=   0.1s\n",
      "[CV 4/5] END C=0.1, max_iter=2000, penalty=l1, solver=newton-cg;, score=nan total time=   0.1s\n",
      "[CV 5/5] END C=0.1, max_iter=2000, penalty=l1, solver=newton-cg;, score=nan total time=   0.1s\n",
      "[CV 1/5] END C=0.1, max_iter=2000, penalty=l1, solver=sag;, score=nan total time=   0.1s\n",
      "[CV 2/5] END C=0.1, max_iter=2000, penalty=l1, solver=sag;, score=nan total time=   0.1s\n",
      "[CV 3/5] END C=0.1, max_iter=2000, penalty=l1, solver=sag;, score=nan total time=   0.1s\n",
      "[CV 4/5] END C=0.1, max_iter=2000, penalty=l1, solver=sag;, score=nan total time=   0.1s\n",
      "[CV 5/5] END C=0.1, max_iter=2000, penalty=l1, solver=sag;, score=nan total time=   0.1s\n",
      "[CV 1/5] END C=0.1, max_iter=2000, penalty=l1, solver=saga;, score=0.891 total time= 4.4min\n",
      "[CV 2/5] END C=0.1, max_iter=2000, penalty=l1, solver=saga;, score=0.891 total time= 6.9min\n",
      "[CV 3/5] END C=0.1, max_iter=2000, penalty=l1, solver=saga;, score=0.891 total time=32.9min\n",
      "[CV 4/5] END C=0.1, max_iter=2000, penalty=l1, solver=saga;, score=0.891 total time= 7.2min\n",
      "[CV 5/5] END C=0.1, max_iter=2000, penalty=l1, solver=saga;, score=0.891 total time= 3.8min\n",
      "[CV 1/5] END C=0.1, max_iter=2000, penalty=l1, solver=liblinear;, score=0.891 total time=  46.0s\n",
      "[CV 2/5] END C=0.1, max_iter=2000, penalty=l1, solver=liblinear;, score=0.891 total time=  45.4s\n",
      "[CV 3/5] END C=0.1, max_iter=2000, penalty=l1, solver=liblinear;, score=0.891 total time=  44.3s\n",
      "[CV 4/5] END C=0.1, max_iter=2000, penalty=l1, solver=liblinear;, score=0.891 total time=  42.3s\n",
      "[CV 5/5] END C=0.1, max_iter=2000, penalty=l1, solver=liblinear;, score=0.891 total time=  44.1s\n",
      "[CV 1/5] END C=0.1, max_iter=2000, penalty=l1, solver=lgbfs;, score=nan total time=   0.1s\n",
      "[CV 2/5] END C=0.1, max_iter=2000, penalty=l1, solver=lgbfs;, score=nan total time=   0.1s\n",
      "[CV 3/5] END C=0.1, max_iter=2000, penalty=l1, solver=lgbfs;, score=nan total time=   0.1s\n",
      "[CV 4/5] END C=0.1, max_iter=2000, penalty=l1, solver=lgbfs;, score=nan total time=   0.1s\n",
      "[CV 5/5] END C=0.1, max_iter=2000, penalty=l1, solver=lgbfs;, score=nan total time=   0.1s\n",
      "[CV 1/5] END C=0.1, max_iter=2000, penalty=l2, solver=newton-cg;, score=0.891 total time=   3.2s\n"
     ]
    },
    {
     "name": "stderr",
     "output_type": "stream",
     "text": [
      "/Users/michaelraines/opt/anaconda3/lib/python3.8/site-packages/scipy/optimize/linesearch.py:437: LineSearchWarning: Rounding errors prevent the line search from converging\n",
      "  warn(msg, LineSearchWarning)\n",
      "/Users/michaelraines/opt/anaconda3/lib/python3.8/site-packages/scipy/optimize/linesearch.py:327: LineSearchWarning: The line search algorithm did not converge\n",
      "  warn('The line search algorithm did not converge', LineSearchWarning)\n",
      "/Users/michaelraines/opt/anaconda3/lib/python3.8/site-packages/sklearn/utils/optimize.py:203: UserWarning: Line Search failed\n",
      "  warnings.warn(\"Line Search failed\")\n"
     ]
    },
    {
     "name": "stdout",
     "output_type": "stream",
     "text": [
      "[CV 2/5] END C=0.1, max_iter=2000, penalty=l2, solver=newton-cg;, score=0.891 total time=   2.9s\n",
      "[CV 3/5] END C=0.1, max_iter=2000, penalty=l2, solver=newton-cg;, score=0.891 total time=   2.7s\n",
      "[CV 4/5] END C=0.1, max_iter=2000, penalty=l2, solver=newton-cg;, score=0.891 total time=   2.9s\n",
      "[CV 5/5] END C=0.1, max_iter=2000, penalty=l2, solver=newton-cg;, score=0.891 total time=   3.6s\n",
      "[CV 1/5] END C=0.1, max_iter=2000, penalty=l2, solver=sag;, score=0.891 total time=   9.0s\n",
      "[CV 2/5] END C=0.1, max_iter=2000, penalty=l2, solver=sag;, score=0.891 total time=   4.6s\n",
      "[CV 3/5] END C=0.1, max_iter=2000, penalty=l2, solver=sag;, score=0.891 total time=   4.6s\n",
      "[CV 4/5] END C=0.1, max_iter=2000, penalty=l2, solver=sag;, score=0.891 total time=   4.6s\n",
      "[CV 5/5] END C=0.1, max_iter=2000, penalty=l2, solver=sag;, score=0.891 total time=   6.4s\n",
      "[CV 1/5] END C=0.1, max_iter=2000, penalty=l2, solver=saga;, score=0.891 total time=  20.3s\n",
      "[CV 2/5] END C=0.1, max_iter=2000, penalty=l2, solver=saga;, score=0.891 total time=  12.5s\n",
      "[CV 3/5] END C=0.1, max_iter=2000, penalty=l2, solver=saga;, score=0.891 total time=  12.5s\n",
      "[CV 4/5] END C=0.1, max_iter=2000, penalty=l2, solver=saga;, score=0.891 total time=  12.6s\n",
      "[CV 5/5] END C=0.1, max_iter=2000, penalty=l2, solver=saga;, score=0.891 total time=  13.1s\n",
      "[CV 1/5] END C=0.1, max_iter=2000, penalty=l2, solver=liblinear;, score=0.891 total time=   2.2s\n",
      "[CV 2/5] END C=0.1, max_iter=2000, penalty=l2, solver=liblinear;, score=0.891 total time=   2.4s\n",
      "[CV 3/5] END C=0.1, max_iter=2000, penalty=l2, solver=liblinear;, score=0.891 total time=   2.5s\n",
      "[CV 4/5] END C=0.1, max_iter=2000, penalty=l2, solver=liblinear;, score=0.891 total time=   3.0s\n",
      "[CV 5/5] END C=0.1, max_iter=2000, penalty=l2, solver=liblinear;, score=0.891 total time=   3.5s\n",
      "[CV 1/5] END C=0.1, max_iter=2000, penalty=l2, solver=lgbfs;, score=nan total time=   0.1s\n",
      "[CV 2/5] END C=0.1, max_iter=2000, penalty=l2, solver=lgbfs;, score=nan total time=   0.1s\n",
      "[CV 3/5] END C=0.1, max_iter=2000, penalty=l2, solver=lgbfs;, score=nan total time=   0.1s\n",
      "[CV 4/5] END C=0.1, max_iter=2000, penalty=l2, solver=lgbfs;, score=nan total time=   0.1s\n",
      "[CV 5/5] END C=0.1, max_iter=2000, penalty=l2, solver=lgbfs;, score=nan total time=   0.1s\n",
      "[CV 1/5] END C=0.1, max_iter=2000, penalty=elasticnet, solver=newton-cg;, score=nan total time=   0.1s\n",
      "[CV 2/5] END C=0.1, max_iter=2000, penalty=elasticnet, solver=newton-cg;, score=nan total time=   0.1s\n",
      "[CV 3/5] END C=0.1, max_iter=2000, penalty=elasticnet, solver=newton-cg;, score=nan total time=   0.1s\n",
      "[CV 4/5] END C=0.1, max_iter=2000, penalty=elasticnet, solver=newton-cg;, score=nan total time=   0.1s\n",
      "[CV 5/5] END C=0.1, max_iter=2000, penalty=elasticnet, solver=newton-cg;, score=nan total time=   0.1s\n",
      "[CV 1/5] END C=0.1, max_iter=2000, penalty=elasticnet, solver=sag;, score=nan total time=   0.1s\n",
      "[CV 2/5] END C=0.1, max_iter=2000, penalty=elasticnet, solver=sag;, score=nan total time=   0.1s\n",
      "[CV 3/5] END C=0.1, max_iter=2000, penalty=elasticnet, solver=sag;, score=nan total time=   0.1s\n",
      "[CV 4/5] END C=0.1, max_iter=2000, penalty=elasticnet, solver=sag;, score=nan total time=   0.1s\n",
      "[CV 5/5] END C=0.1, max_iter=2000, penalty=elasticnet, solver=sag;, score=nan total time=   0.1s\n",
      "[CV 1/5] END C=0.1, max_iter=2000, penalty=elasticnet, solver=saga;, score=nan total time=   0.1s\n",
      "[CV 2/5] END C=0.1, max_iter=2000, penalty=elasticnet, solver=saga;, score=nan total time=   0.1s\n",
      "[CV 3/5] END C=0.1, max_iter=2000, penalty=elasticnet, solver=saga;, score=nan total time=   0.1s\n",
      "[CV 4/5] END C=0.1, max_iter=2000, penalty=elasticnet, solver=saga;, score=nan total time=   0.1s\n",
      "[CV 5/5] END C=0.1, max_iter=2000, penalty=elasticnet, solver=saga;, score=nan total time=   0.1s\n",
      "[CV 1/5] END C=0.1, max_iter=2000, penalty=elasticnet, solver=liblinear;, score=nan total time=   0.1s\n",
      "[CV 2/5] END C=0.1, max_iter=2000, penalty=elasticnet, solver=liblinear;, score=nan total time=   0.1s\n",
      "[CV 3/5] END C=0.1, max_iter=2000, penalty=elasticnet, solver=liblinear;, score=nan total time=   0.1s\n",
      "[CV 4/5] END C=0.1, max_iter=2000, penalty=elasticnet, solver=liblinear;, score=nan total time=   0.1s\n",
      "[CV 5/5] END C=0.1, max_iter=2000, penalty=elasticnet, solver=liblinear;, score=nan total time=   0.1s\n",
      "[CV 1/5] END C=0.1, max_iter=2000, penalty=elasticnet, solver=lgbfs;, score=nan total time=   0.1s\n",
      "[CV 2/5] END C=0.1, max_iter=2000, penalty=elasticnet, solver=lgbfs;, score=nan total time=   0.1s\n",
      "[CV 3/5] END C=0.1, max_iter=2000, penalty=elasticnet, solver=lgbfs;, score=nan total time=   0.1s\n",
      "[CV 4/5] END C=0.1, max_iter=2000, penalty=elasticnet, solver=lgbfs;, score=nan total time=   0.1s\n",
      "[CV 5/5] END C=0.1, max_iter=2000, penalty=elasticnet, solver=lgbfs;, score=nan total time=   0.1s\n",
      "[CV 1/5] END C=0.01, max_iter=100, penalty=l1, solver=newton-cg;, score=nan total time=   0.1s\n",
      "[CV 2/5] END C=0.01, max_iter=100, penalty=l1, solver=newton-cg;, score=nan total time=   0.1s\n",
      "[CV 3/5] END C=0.01, max_iter=100, penalty=l1, solver=newton-cg;, score=nan total time=   0.1s\n",
      "[CV 4/5] END C=0.01, max_iter=100, penalty=l1, solver=newton-cg;, score=nan total time=   0.1s\n",
      "[CV 5/5] END C=0.01, max_iter=100, penalty=l1, solver=newton-cg;, score=nan total time=   0.1s\n",
      "[CV 1/5] END C=0.01, max_iter=100, penalty=l1, solver=sag;, score=nan total time=   0.1s\n",
      "[CV 2/5] END C=0.01, max_iter=100, penalty=l1, solver=sag;, score=nan total time=   0.1s\n",
      "[CV 3/5] END C=0.01, max_iter=100, penalty=l1, solver=sag;, score=nan total time=   0.1s\n",
      "[CV 4/5] END C=0.01, max_iter=100, penalty=l1, solver=sag;, score=nan total time=   0.1s\n",
      "[CV 5/5] END C=0.01, max_iter=100, penalty=l1, solver=sag;, score=nan total time=   0.1s\n"
     ]
    },
    {
     "name": "stderr",
     "output_type": "stream",
     "text": [
      "/Users/michaelraines/opt/anaconda3/lib/python3.8/site-packages/sklearn/linear_model/_sag.py:352: ConvergenceWarning: The max_iter was reached which means the coef_ did not converge\n",
      "  warnings.warn(\n"
     ]
    },
    {
     "name": "stdout",
     "output_type": "stream",
     "text": [
      "[CV 1/5] END C=0.01, max_iter=100, penalty=l1, solver=saga;, score=0.891 total time=  24.9s\n"
     ]
    },
    {
     "name": "stderr",
     "output_type": "stream",
     "text": [
      "/Users/michaelraines/opt/anaconda3/lib/python3.8/site-packages/sklearn/linear_model/_sag.py:352: ConvergenceWarning: The max_iter was reached which means the coef_ did not converge\n",
      "  warnings.warn(\n"
     ]
    },
    {
     "name": "stdout",
     "output_type": "stream",
     "text": [
      "[CV 2/5] END C=0.01, max_iter=100, penalty=l1, solver=saga;, score=0.891 total time=  23.8s\n"
     ]
    },
    {
     "name": "stderr",
     "output_type": "stream",
     "text": [
      "/Users/michaelraines/opt/anaconda3/lib/python3.8/site-packages/sklearn/linear_model/_sag.py:352: ConvergenceWarning: The max_iter was reached which means the coef_ did not converge\n",
      "  warnings.warn(\n"
     ]
    },
    {
     "name": "stdout",
     "output_type": "stream",
     "text": [
      "[CV 3/5] END C=0.01, max_iter=100, penalty=l1, solver=saga;, score=0.891 total time=  23.8s\n"
     ]
    },
    {
     "name": "stderr",
     "output_type": "stream",
     "text": [
      "/Users/michaelraines/opt/anaconda3/lib/python3.8/site-packages/sklearn/linear_model/_sag.py:352: ConvergenceWarning: The max_iter was reached which means the coef_ did not converge\n",
      "  warnings.warn(\n"
     ]
    },
    {
     "name": "stdout",
     "output_type": "stream",
     "text": [
      "[CV 4/5] END C=0.01, max_iter=100, penalty=l1, solver=saga;, score=0.891 total time=  23.9s\n"
     ]
    },
    {
     "name": "stderr",
     "output_type": "stream",
     "text": [
      "/Users/michaelraines/opt/anaconda3/lib/python3.8/site-packages/sklearn/linear_model/_sag.py:352: ConvergenceWarning: The max_iter was reached which means the coef_ did not converge\n",
      "  warnings.warn(\n"
     ]
    },
    {
     "name": "stdout",
     "output_type": "stream",
     "text": [
      "[CV 5/5] END C=0.01, max_iter=100, penalty=l1, solver=saga;, score=0.891 total time=  24.1s\n",
      "[CV 1/5] END C=0.01, max_iter=100, penalty=l1, solver=liblinear;, score=0.891 total time=   5.1s\n",
      "[CV 2/5] END C=0.01, max_iter=100, penalty=l1, solver=liblinear;, score=0.891 total time=  11.5s\n",
      "[CV 3/5] END C=0.01, max_iter=100, penalty=l1, solver=liblinear;, score=0.891 total time=  15.2s\n",
      "[CV 4/5] END C=0.01, max_iter=100, penalty=l1, solver=liblinear;, score=0.891 total time=   8.2s\n",
      "[CV 5/5] END C=0.01, max_iter=100, penalty=l1, solver=liblinear;, score=0.891 total time=   7.4s\n",
      "[CV 1/5] END C=0.01, max_iter=100, penalty=l1, solver=lgbfs;, score=nan total time=   0.1s\n",
      "[CV 2/5] END C=0.01, max_iter=100, penalty=l1, solver=lgbfs;, score=nan total time=   0.1s\n",
      "[CV 3/5] END C=0.01, max_iter=100, penalty=l1, solver=lgbfs;, score=nan total time=   0.1s\n",
      "[CV 4/5] END C=0.01, max_iter=100, penalty=l1, solver=lgbfs;, score=nan total time=   0.1s\n",
      "[CV 5/5] END C=0.01, max_iter=100, penalty=l1, solver=lgbfs;, score=nan total time=   0.1s\n",
      "[CV 1/5] END C=0.01, max_iter=100, penalty=l2, solver=newton-cg;, score=0.891 total time=   2.9s\n",
      "[CV 2/5] END C=0.01, max_iter=100, penalty=l2, solver=newton-cg;, score=0.891 total time=   2.7s\n"
     ]
    },
    {
     "name": "stderr",
     "output_type": "stream",
     "text": [
      "/Users/michaelraines/opt/anaconda3/lib/python3.8/site-packages/scipy/optimize/linesearch.py:327: LineSearchWarning: The line search algorithm did not converge\n",
      "  warn('The line search algorithm did not converge', LineSearchWarning)\n",
      "/Users/michaelraines/opt/anaconda3/lib/python3.8/site-packages/sklearn/utils/optimize.py:203: UserWarning: Line Search failed\n",
      "  warnings.warn(\"Line Search failed\")\n"
     ]
    },
    {
     "name": "stdout",
     "output_type": "stream",
     "text": [
      "[CV 3/5] END C=0.01, max_iter=100, penalty=l2, solver=newton-cg;, score=0.891 total time=   3.0s\n",
      "[CV 4/5] END C=0.01, max_iter=100, penalty=l2, solver=newton-cg;, score=0.891 total time=   2.9s\n",
      "[CV 5/5] END C=0.01, max_iter=100, penalty=l2, solver=newton-cg;, score=0.891 total time=   2.7s\n",
      "[CV 1/5] END C=0.01, max_iter=100, penalty=l2, solver=sag;, score=0.891 total time=12.7min\n",
      "[CV 2/5] END C=0.01, max_iter=100, penalty=l2, solver=sag;, score=0.891 total time=   5.4s\n",
      "[CV 3/5] END C=0.01, max_iter=100, penalty=l2, solver=sag;, score=0.891 total time=   4.6s\n",
      "[CV 4/5] END C=0.01, max_iter=100, penalty=l2, solver=sag;, score=0.891 total time=   4.3s\n",
      "[CV 5/5] END C=0.01, max_iter=100, penalty=l2, solver=sag;, score=0.891 total time=   6.3s\n",
      "[CV 1/5] END C=0.01, max_iter=100, penalty=l2, solver=saga;, score=0.891 total time=  18.9s\n",
      "[CV 2/5] END C=0.01, max_iter=100, penalty=l2, solver=saga;, score=0.891 total time=  11.9s\n",
      "[CV 3/5] END C=0.01, max_iter=100, penalty=l2, solver=saga;, score=0.891 total time= 1.7min\n",
      "[CV 4/5] END C=0.01, max_iter=100, penalty=l2, solver=saga;, score=0.891 total time=  12.3s\n",
      "[CV 5/5] END C=0.01, max_iter=100, penalty=l2, solver=saga;, score=0.891 total time=  12.8s\n",
      "[CV 1/5] END C=0.01, max_iter=100, penalty=l2, solver=liblinear;, score=0.891 total time=   2.8s\n",
      "[CV 2/5] END C=0.01, max_iter=100, penalty=l2, solver=liblinear;, score=0.891 total time=   2.5s\n",
      "[CV 3/5] END C=0.01, max_iter=100, penalty=l2, solver=liblinear;, score=0.891 total time=   2.4s\n",
      "[CV 4/5] END C=0.01, max_iter=100, penalty=l2, solver=liblinear;, score=0.891 total time=   2.9s\n",
      "[CV 5/5] END C=0.01, max_iter=100, penalty=l2, solver=liblinear;, score=0.891 total time=   3.4s\n",
      "[CV 1/5] END C=0.01, max_iter=100, penalty=l2, solver=lgbfs;, score=nan total time=   0.1s\n",
      "[CV 2/5] END C=0.01, max_iter=100, penalty=l2, solver=lgbfs;, score=nan total time=   0.1s\n",
      "[CV 3/5] END C=0.01, max_iter=100, penalty=l2, solver=lgbfs;, score=nan total time=   0.1s\n",
      "[CV 4/5] END C=0.01, max_iter=100, penalty=l2, solver=lgbfs;, score=nan total time=   0.1s\n",
      "[CV 5/5] END C=0.01, max_iter=100, penalty=l2, solver=lgbfs;, score=nan total time=   0.1s\n",
      "[CV 1/5] END C=0.01, max_iter=100, penalty=elasticnet, solver=newton-cg;, score=nan total time=   0.1s\n",
      "[CV 2/5] END C=0.01, max_iter=100, penalty=elasticnet, solver=newton-cg;, score=nan total time=   0.1s\n",
      "[CV 3/5] END C=0.01, max_iter=100, penalty=elasticnet, solver=newton-cg;, score=nan total time=   0.1s\n",
      "[CV 4/5] END C=0.01, max_iter=100, penalty=elasticnet, solver=newton-cg;, score=nan total time=   0.1s\n",
      "[CV 5/5] END C=0.01, max_iter=100, penalty=elasticnet, solver=newton-cg;, score=nan total time=   0.1s\n",
      "[CV 1/5] END C=0.01, max_iter=100, penalty=elasticnet, solver=sag;, score=nan total time=   0.1s\n",
      "[CV 2/5] END C=0.01, max_iter=100, penalty=elasticnet, solver=sag;, score=nan total time=   0.1s\n",
      "[CV 3/5] END C=0.01, max_iter=100, penalty=elasticnet, solver=sag;, score=nan total time=   0.1s\n",
      "[CV 4/5] END C=0.01, max_iter=100, penalty=elasticnet, solver=sag;, score=nan total time=   0.1s\n",
      "[CV 5/5] END C=0.01, max_iter=100, penalty=elasticnet, solver=sag;, score=nan total time=   0.1s\n",
      "[CV 1/5] END C=0.01, max_iter=100, penalty=elasticnet, solver=saga;, score=nan total time=   0.1s\n",
      "[CV 2/5] END C=0.01, max_iter=100, penalty=elasticnet, solver=saga;, score=nan total time=   0.1s\n",
      "[CV 3/5] END C=0.01, max_iter=100, penalty=elasticnet, solver=saga;, score=nan total time=   0.1s\n",
      "[CV 4/5] END C=0.01, max_iter=100, penalty=elasticnet, solver=saga;, score=nan total time=   0.1s\n",
      "[CV 5/5] END C=0.01, max_iter=100, penalty=elasticnet, solver=saga;, score=nan total time=   0.1s\n",
      "[CV 1/5] END C=0.01, max_iter=100, penalty=elasticnet, solver=liblinear;, score=nan total time=   0.1s\n",
      "[CV 2/5] END C=0.01, max_iter=100, penalty=elasticnet, solver=liblinear;, score=nan total time=   0.1s\n",
      "[CV 3/5] END C=0.01, max_iter=100, penalty=elasticnet, solver=liblinear;, score=nan total time=   0.1s\n",
      "[CV 4/5] END C=0.01, max_iter=100, penalty=elasticnet, solver=liblinear;, score=nan total time=   0.1s\n",
      "[CV 5/5] END C=0.01, max_iter=100, penalty=elasticnet, solver=liblinear;, score=nan total time=   0.1s\n",
      "[CV 1/5] END C=0.01, max_iter=100, penalty=elasticnet, solver=lgbfs;, score=nan total time=   0.1s\n",
      "[CV 2/5] END C=0.01, max_iter=100, penalty=elasticnet, solver=lgbfs;, score=nan total time=   0.1s\n",
      "[CV 3/5] END C=0.01, max_iter=100, penalty=elasticnet, solver=lgbfs;, score=nan total time=   0.1s\n",
      "[CV 4/5] END C=0.01, max_iter=100, penalty=elasticnet, solver=lgbfs;, score=nan total time=   0.1s\n",
      "[CV 5/5] END C=0.01, max_iter=100, penalty=elasticnet, solver=lgbfs;, score=nan total time=   0.1s\n",
      "[CV 1/5] END C=0.01, max_iter=500, penalty=l1, solver=newton-cg;, score=nan total time=   0.1s\n",
      "[CV 2/5] END C=0.01, max_iter=500, penalty=l1, solver=newton-cg;, score=nan total time=   0.1s\n",
      "[CV 3/5] END C=0.01, max_iter=500, penalty=l1, solver=newton-cg;, score=nan total time=   0.1s\n",
      "[CV 4/5] END C=0.01, max_iter=500, penalty=l1, solver=newton-cg;, score=nan total time=   0.1s\n",
      "[CV 5/5] END C=0.01, max_iter=500, penalty=l1, solver=newton-cg;, score=nan total time=   0.1s\n",
      "[CV 1/5] END C=0.01, max_iter=500, penalty=l1, solver=sag;, score=nan total time=   0.1s\n",
      "[CV 2/5] END C=0.01, max_iter=500, penalty=l1, solver=sag;, score=nan total time=   0.1s\n",
      "[CV 3/5] END C=0.01, max_iter=500, penalty=l1, solver=sag;, score=nan total time=   0.1s\n",
      "[CV 4/5] END C=0.01, max_iter=500, penalty=l1, solver=sag;, score=nan total time=   0.1s\n",
      "[CV 5/5] END C=0.01, max_iter=500, penalty=l1, solver=sag;, score=nan total time=   0.1s\n",
      "[CV 1/5] END C=0.01, max_iter=500, penalty=l1, solver=saga;, score=0.891 total time= 1.3min\n",
      "[CV 2/5] END C=0.01, max_iter=500, penalty=l1, solver=saga;, score=0.891 total time= 1.1min\n",
      "[CV 3/5] END C=0.01, max_iter=500, penalty=l1, solver=saga;, score=0.891 total time= 1.1min\n",
      "[CV 4/5] END C=0.01, max_iter=500, penalty=l1, solver=saga;, score=0.891 total time=  57.9s\n",
      "[CV 5/5] END C=0.01, max_iter=500, penalty=l1, solver=saga;, score=0.891 total time= 1.2min\n",
      "[CV 1/5] END C=0.01, max_iter=500, penalty=l1, solver=liblinear;, score=0.891 total time=   5.4s\n",
      "[CV 2/5] END C=0.01, max_iter=500, penalty=l1, solver=liblinear;, score=0.891 total time=  11.7s\n",
      "[CV 3/5] END C=0.01, max_iter=500, penalty=l1, solver=liblinear;, score=0.891 total time=  15.6s\n",
      "[CV 4/5] END C=0.01, max_iter=500, penalty=l1, solver=liblinear;, score=0.891 total time=   8.3s\n",
      "[CV 5/5] END C=0.01, max_iter=500, penalty=l1, solver=liblinear;, score=0.891 total time=   7.5s\n",
      "[CV 1/5] END C=0.01, max_iter=500, penalty=l1, solver=lgbfs;, score=nan total time=   0.1s\n",
      "[CV 2/5] END C=0.01, max_iter=500, penalty=l1, solver=lgbfs;, score=nan total time=   0.1s\n",
      "[CV 3/5] END C=0.01, max_iter=500, penalty=l1, solver=lgbfs;, score=nan total time=   0.1s\n",
      "[CV 4/5] END C=0.01, max_iter=500, penalty=l1, solver=lgbfs;, score=nan total time=   0.1s\n",
      "[CV 5/5] END C=0.01, max_iter=500, penalty=l1, solver=lgbfs;, score=nan total time=   0.1s\n",
      "[CV 1/5] END C=0.01, max_iter=500, penalty=l2, solver=newton-cg;, score=0.891 total time=   2.9s\n",
      "[CV 2/5] END C=0.01, max_iter=500, penalty=l2, solver=newton-cg;, score=0.891 total time=   2.8s\n"
     ]
    },
    {
     "name": "stderr",
     "output_type": "stream",
     "text": [
      "/Users/michaelraines/opt/anaconda3/lib/python3.8/site-packages/scipy/optimize/linesearch.py:327: LineSearchWarning: The line search algorithm did not converge\n",
      "  warn('The line search algorithm did not converge', LineSearchWarning)\n",
      "/Users/michaelraines/opt/anaconda3/lib/python3.8/site-packages/sklearn/utils/optimize.py:203: UserWarning: Line Search failed\n",
      "  warnings.warn(\"Line Search failed\")\n"
     ]
    },
    {
     "name": "stdout",
     "output_type": "stream",
     "text": [
      "[CV 3/5] END C=0.01, max_iter=500, penalty=l2, solver=newton-cg;, score=0.891 total time=   3.0s\n",
      "[CV 4/5] END C=0.01, max_iter=500, penalty=l2, solver=newton-cg;, score=0.891 total time=   3.0s\n",
      "[CV 5/5] END C=0.01, max_iter=500, penalty=l2, solver=newton-cg;, score=0.891 total time=   2.9s\n",
      "[CV 1/5] END C=0.01, max_iter=500, penalty=l2, solver=sag;, score=0.891 total time=   9.5s\n",
      "[CV 2/5] END C=0.01, max_iter=500, penalty=l2, solver=sag;, score=0.891 total time=   4.9s\n",
      "[CV 3/5] END C=0.01, max_iter=500, penalty=l2, solver=sag;, score=0.891 total time=   4.8s\n",
      "[CV 4/5] END C=0.01, max_iter=500, penalty=l2, solver=sag;, score=0.891 total time=   4.8s\n",
      "[CV 5/5] END C=0.01, max_iter=500, penalty=l2, solver=sag;, score=0.891 total time=   6.7s\n",
      "[CV 1/5] END C=0.01, max_iter=500, penalty=l2, solver=saga;, score=0.891 total time=  20.3s\n",
      "[CV 2/5] END C=0.01, max_iter=500, penalty=l2, solver=saga;, score=0.891 total time=  14.2s\n",
      "[CV 3/5] END C=0.01, max_iter=500, penalty=l2, solver=saga;, score=0.891 total time=  14.1s\n",
      "[CV 4/5] END C=0.01, max_iter=500, penalty=l2, solver=saga;, score=0.891 total time=  13.6s\n",
      "[CV 5/5] END C=0.01, max_iter=500, penalty=l2, solver=saga;, score=0.891 total time=  14.3s\n",
      "[CV 1/5] END C=0.01, max_iter=500, penalty=l2, solver=liblinear;, score=0.891 total time=   2.6s\n",
      "[CV 2/5] END C=0.01, max_iter=500, penalty=l2, solver=liblinear;, score=0.891 total time=   2.6s\n",
      "[CV 3/5] END C=0.01, max_iter=500, penalty=l2, solver=liblinear;, score=0.891 total time=   2.5s\n",
      "[CV 4/5] END C=0.01, max_iter=500, penalty=l2, solver=liblinear;, score=0.891 total time=   3.2s\n",
      "[CV 5/5] END C=0.01, max_iter=500, penalty=l2, solver=liblinear;, score=0.891 total time=   3.7s\n",
      "[CV 1/5] END C=0.01, max_iter=500, penalty=l2, solver=lgbfs;, score=nan total time=   0.1s\n",
      "[CV 2/5] END C=0.01, max_iter=500, penalty=l2, solver=lgbfs;, score=nan total time=   0.1s\n",
      "[CV 3/5] END C=0.01, max_iter=500, penalty=l2, solver=lgbfs;, score=nan total time=   0.1s\n",
      "[CV 4/5] END C=0.01, max_iter=500, penalty=l2, solver=lgbfs;, score=nan total time=   0.1s\n",
      "[CV 5/5] END C=0.01, max_iter=500, penalty=l2, solver=lgbfs;, score=nan total time=   0.1s\n",
      "[CV 1/5] END C=0.01, max_iter=500, penalty=elasticnet, solver=newton-cg;, score=nan total time=   0.1s\n",
      "[CV 2/5] END C=0.01, max_iter=500, penalty=elasticnet, solver=newton-cg;, score=nan total time=   0.1s\n",
      "[CV 3/5] END C=0.01, max_iter=500, penalty=elasticnet, solver=newton-cg;, score=nan total time=   0.1s\n",
      "[CV 4/5] END C=0.01, max_iter=500, penalty=elasticnet, solver=newton-cg;, score=nan total time=   0.1s\n",
      "[CV 5/5] END C=0.01, max_iter=500, penalty=elasticnet, solver=newton-cg;, score=nan total time=   0.1s\n",
      "[CV 1/5] END C=0.01, max_iter=500, penalty=elasticnet, solver=sag;, score=nan total time=   0.1s\n",
      "[CV 2/5] END C=0.01, max_iter=500, penalty=elasticnet, solver=sag;, score=nan total time=   0.1s\n",
      "[CV 3/5] END C=0.01, max_iter=500, penalty=elasticnet, solver=sag;, score=nan total time=   0.1s\n",
      "[CV 4/5] END C=0.01, max_iter=500, penalty=elasticnet, solver=sag;, score=nan total time=   0.1s\n",
      "[CV 5/5] END C=0.01, max_iter=500, penalty=elasticnet, solver=sag;, score=nan total time=   0.1s\n",
      "[CV 1/5] END C=0.01, max_iter=500, penalty=elasticnet, solver=saga;, score=nan total time=   0.1s\n",
      "[CV 2/5] END C=0.01, max_iter=500, penalty=elasticnet, solver=saga;, score=nan total time=   0.1s\n",
      "[CV 3/5] END C=0.01, max_iter=500, penalty=elasticnet, solver=saga;, score=nan total time=   0.1s\n",
      "[CV 4/5] END C=0.01, max_iter=500, penalty=elasticnet, solver=saga;, score=nan total time=   0.1s\n",
      "[CV 5/5] END C=0.01, max_iter=500, penalty=elasticnet, solver=saga;, score=nan total time=   0.1s\n",
      "[CV 1/5] END C=0.01, max_iter=500, penalty=elasticnet, solver=liblinear;, score=nan total time=   0.1s\n",
      "[CV 2/5] END C=0.01, max_iter=500, penalty=elasticnet, solver=liblinear;, score=nan total time=   0.1s\n",
      "[CV 3/5] END C=0.01, max_iter=500, penalty=elasticnet, solver=liblinear;, score=nan total time=   0.1s\n",
      "[CV 4/5] END C=0.01, max_iter=500, penalty=elasticnet, solver=liblinear;, score=nan total time=   0.1s\n",
      "[CV 5/5] END C=0.01, max_iter=500, penalty=elasticnet, solver=liblinear;, score=nan total time=   0.1s\n",
      "[CV 1/5] END C=0.01, max_iter=500, penalty=elasticnet, solver=lgbfs;, score=nan total time=   0.1s\n",
      "[CV 2/5] END C=0.01, max_iter=500, penalty=elasticnet, solver=lgbfs;, score=nan total time=   0.1s\n",
      "[CV 3/5] END C=0.01, max_iter=500, penalty=elasticnet, solver=lgbfs;, score=nan total time=   0.1s\n",
      "[CV 4/5] END C=0.01, max_iter=500, penalty=elasticnet, solver=lgbfs;, score=nan total time=   0.1s\n",
      "[CV 5/5] END C=0.01, max_iter=500, penalty=elasticnet, solver=lgbfs;, score=nan total time=   0.1s\n",
      "[CV 1/5] END C=0.01, max_iter=1000, penalty=l1, solver=newton-cg;, score=nan total time=   0.1s\n",
      "[CV 2/5] END C=0.01, max_iter=1000, penalty=l1, solver=newton-cg;, score=nan total time=   0.1s\n",
      "[CV 3/5] END C=0.01, max_iter=1000, penalty=l1, solver=newton-cg;, score=nan total time=   0.1s\n",
      "[CV 4/5] END C=0.01, max_iter=1000, penalty=l1, solver=newton-cg;, score=nan total time=   0.1s\n",
      "[CV 5/5] END C=0.01, max_iter=1000, penalty=l1, solver=newton-cg;, score=nan total time=   0.1s\n",
      "[CV 1/5] END C=0.01, max_iter=1000, penalty=l1, solver=sag;, score=nan total time=   0.1s\n",
      "[CV 2/5] END C=0.01, max_iter=1000, penalty=l1, solver=sag;, score=nan total time=   0.1s\n",
      "[CV 3/5] END C=0.01, max_iter=1000, penalty=l1, solver=sag;, score=nan total time=   0.1s\n",
      "[CV 4/5] END C=0.01, max_iter=1000, penalty=l1, solver=sag;, score=nan total time=   0.1s\n",
      "[CV 5/5] END C=0.01, max_iter=1000, penalty=l1, solver=sag;, score=nan total time=   0.1s\n",
      "[CV 1/5] END C=0.01, max_iter=1000, penalty=l1, solver=saga;, score=0.891 total time= 1.3min\n",
      "[CV 2/5] END C=0.01, max_iter=1000, penalty=l1, solver=saga;, score=0.891 total time= 1.1min\n",
      "[CV 3/5] END C=0.01, max_iter=1000, penalty=l1, solver=saga;, score=0.891 total time= 1.1min\n",
      "[CV 4/5] END C=0.01, max_iter=1000, penalty=l1, solver=saga;, score=0.891 total time=  57.9s\n",
      "[CV 5/5] END C=0.01, max_iter=1000, penalty=l1, solver=saga;, score=0.891 total time= 1.2min\n",
      "[CV 1/5] END C=0.01, max_iter=1000, penalty=l1, solver=liblinear;, score=0.891 total time=   4.5s\n",
      "[CV 2/5] END C=0.01, max_iter=1000, penalty=l1, solver=liblinear;, score=0.891 total time=  11.4s\n",
      "[CV 3/5] END C=0.01, max_iter=1000, penalty=l1, solver=liblinear;, score=0.891 total time=  14.8s\n",
      "[CV 4/5] END C=0.01, max_iter=1000, penalty=l1, solver=liblinear;, score=0.891 total time=   7.8s\n",
      "[CV 5/5] END C=0.01, max_iter=1000, penalty=l1, solver=liblinear;, score=0.891 total time=   7.0s\n",
      "[CV 1/5] END C=0.01, max_iter=1000, penalty=l1, solver=lgbfs;, score=nan total time=   0.1s\n",
      "[CV 2/5] END C=0.01, max_iter=1000, penalty=l1, solver=lgbfs;, score=nan total time=   0.1s\n",
      "[CV 3/5] END C=0.01, max_iter=1000, penalty=l1, solver=lgbfs;, score=nan total time=   0.1s\n",
      "[CV 4/5] END C=0.01, max_iter=1000, penalty=l1, solver=lgbfs;, score=nan total time=   0.1s\n",
      "[CV 5/5] END C=0.01, max_iter=1000, penalty=l1, solver=lgbfs;, score=nan total time=   0.1s\n",
      "[CV 1/5] END C=0.01, max_iter=1000, penalty=l2, solver=newton-cg;, score=0.891 total time=   2.7s\n",
      "[CV 2/5] END C=0.01, max_iter=1000, penalty=l2, solver=newton-cg;, score=0.891 total time=   2.6s\n"
     ]
    },
    {
     "name": "stderr",
     "output_type": "stream",
     "text": [
      "/Users/michaelraines/opt/anaconda3/lib/python3.8/site-packages/scipy/optimize/linesearch.py:327: LineSearchWarning: The line search algorithm did not converge\n",
      "  warn('The line search algorithm did not converge', LineSearchWarning)\n",
      "/Users/michaelraines/opt/anaconda3/lib/python3.8/site-packages/sklearn/utils/optimize.py:203: UserWarning: Line Search failed\n",
      "  warnings.warn(\"Line Search failed\")\n"
     ]
    },
    {
     "name": "stdout",
     "output_type": "stream",
     "text": [
      "[CV 3/5] END C=0.01, max_iter=1000, penalty=l2, solver=newton-cg;, score=0.891 total time=   2.8s\n",
      "[CV 4/5] END C=0.01, max_iter=1000, penalty=l2, solver=newton-cg;, score=0.891 total time=   3.0s\n",
      "[CV 5/5] END C=0.01, max_iter=1000, penalty=l2, solver=newton-cg;, score=0.891 total time=   3.2s\n",
      "[CV 1/5] END C=0.01, max_iter=1000, penalty=l2, solver=sag;, score=0.891 total time=   8.4s\n",
      "[CV 2/5] END C=0.01, max_iter=1000, penalty=l2, solver=sag;, score=0.891 total time=   4.5s\n",
      "[CV 3/5] END C=0.01, max_iter=1000, penalty=l2, solver=sag;, score=0.891 total time=   4.6s\n",
      "[CV 4/5] END C=0.01, max_iter=1000, penalty=l2, solver=sag;, score=0.891 total time=   4.3s\n",
      "[CV 5/5] END C=0.01, max_iter=1000, penalty=l2, solver=sag;, score=0.891 total time=   6.2s\n",
      "[CV 1/5] END C=0.01, max_iter=1000, penalty=l2, solver=saga;, score=0.891 total time=  19.0s\n",
      "[CV 2/5] END C=0.01, max_iter=1000, penalty=l2, solver=saga;, score=0.891 total time=  12.0s\n",
      "[CV 3/5] END C=0.01, max_iter=1000, penalty=l2, solver=saga;, score=0.891 total time=  12.1s\n",
      "[CV 4/5] END C=0.01, max_iter=1000, penalty=l2, solver=saga;, score=0.891 total time=  12.3s\n",
      "[CV 5/5] END C=0.01, max_iter=1000, penalty=l2, solver=saga;, score=0.891 total time=  12.9s\n",
      "[CV 1/5] END C=0.01, max_iter=1000, penalty=l2, solver=liblinear;, score=0.891 total time=   2.1s\n",
      "[CV 2/5] END C=0.01, max_iter=1000, penalty=l2, solver=liblinear;, score=0.891 total time=   2.5s\n",
      "[CV 3/5] END C=0.01, max_iter=1000, penalty=l2, solver=liblinear;, score=0.891 total time=   2.5s\n",
      "[CV 4/5] END C=0.01, max_iter=1000, penalty=l2, solver=liblinear;, score=0.891 total time=   3.0s\n",
      "[CV 5/5] END C=0.01, max_iter=1000, penalty=l2, solver=liblinear;, score=0.891 total time=   3.4s\n",
      "[CV 1/5] END C=0.01, max_iter=1000, penalty=l2, solver=lgbfs;, score=nan total time=   0.1s\n",
      "[CV 2/5] END C=0.01, max_iter=1000, penalty=l2, solver=lgbfs;, score=nan total time=   0.1s\n",
      "[CV 3/5] END C=0.01, max_iter=1000, penalty=l2, solver=lgbfs;, score=nan total time=   0.1s\n",
      "[CV 4/5] END C=0.01, max_iter=1000, penalty=l2, solver=lgbfs;, score=nan total time=   0.1s\n",
      "[CV 5/5] END C=0.01, max_iter=1000, penalty=l2, solver=lgbfs;, score=nan total time=   0.1s\n",
      "[CV 1/5] END C=0.01, max_iter=1000, penalty=elasticnet, solver=newton-cg;, score=nan total time=   0.1s\n",
      "[CV 2/5] END C=0.01, max_iter=1000, penalty=elasticnet, solver=newton-cg;, score=nan total time=   0.1s\n",
      "[CV 3/5] END C=0.01, max_iter=1000, penalty=elasticnet, solver=newton-cg;, score=nan total time=   0.1s\n",
      "[CV 4/5] END C=0.01, max_iter=1000, penalty=elasticnet, solver=newton-cg;, score=nan total time=   0.1s\n",
      "[CV 5/5] END C=0.01, max_iter=1000, penalty=elasticnet, solver=newton-cg;, score=nan total time=   0.1s\n",
      "[CV 1/5] END C=0.01, max_iter=1000, penalty=elasticnet, solver=sag;, score=nan total time=   0.1s\n",
      "[CV 2/5] END C=0.01, max_iter=1000, penalty=elasticnet, solver=sag;, score=nan total time=   0.1s\n",
      "[CV 3/5] END C=0.01, max_iter=1000, penalty=elasticnet, solver=sag;, score=nan total time=   0.1s\n",
      "[CV 4/5] END C=0.01, max_iter=1000, penalty=elasticnet, solver=sag;, score=nan total time=   0.1s\n",
      "[CV 5/5] END C=0.01, max_iter=1000, penalty=elasticnet, solver=sag;, score=nan total time=   0.1s\n",
      "[CV 1/5] END C=0.01, max_iter=1000, penalty=elasticnet, solver=saga;, score=nan total time=   0.1s\n",
      "[CV 2/5] END C=0.01, max_iter=1000, penalty=elasticnet, solver=saga;, score=nan total time=   0.1s\n",
      "[CV 3/5] END C=0.01, max_iter=1000, penalty=elasticnet, solver=saga;, score=nan total time=   0.1s\n",
      "[CV 4/5] END C=0.01, max_iter=1000, penalty=elasticnet, solver=saga;, score=nan total time=   0.1s\n",
      "[CV 5/5] END C=0.01, max_iter=1000, penalty=elasticnet, solver=saga;, score=nan total time=   0.1s\n",
      "[CV 1/5] END C=0.01, max_iter=1000, penalty=elasticnet, solver=liblinear;, score=nan total time=   0.1s\n",
      "[CV 2/5] END C=0.01, max_iter=1000, penalty=elasticnet, solver=liblinear;, score=nan total time=   0.1s\n",
      "[CV 3/5] END C=0.01, max_iter=1000, penalty=elasticnet, solver=liblinear;, score=nan total time=   0.1s\n",
      "[CV 4/5] END C=0.01, max_iter=1000, penalty=elasticnet, solver=liblinear;, score=nan total time=   0.1s\n",
      "[CV 5/5] END C=0.01, max_iter=1000, penalty=elasticnet, solver=liblinear;, score=nan total time=   0.1s\n",
      "[CV 1/5] END C=0.01, max_iter=1000, penalty=elasticnet, solver=lgbfs;, score=nan total time=   0.1s\n",
      "[CV 2/5] END C=0.01, max_iter=1000, penalty=elasticnet, solver=lgbfs;, score=nan total time=   0.1s\n",
      "[CV 3/5] END C=0.01, max_iter=1000, penalty=elasticnet, solver=lgbfs;, score=nan total time=   0.1s\n",
      "[CV 4/5] END C=0.01, max_iter=1000, penalty=elasticnet, solver=lgbfs;, score=nan total time=   0.1s\n",
      "[CV 5/5] END C=0.01, max_iter=1000, penalty=elasticnet, solver=lgbfs;, score=nan total time=   0.1s\n",
      "[CV 1/5] END C=0.01, max_iter=2000, penalty=l1, solver=newton-cg;, score=nan total time=   0.1s\n",
      "[CV 2/5] END C=0.01, max_iter=2000, penalty=l1, solver=newton-cg;, score=nan total time=   0.1s\n",
      "[CV 3/5] END C=0.01, max_iter=2000, penalty=l1, solver=newton-cg;, score=nan total time=   0.1s\n",
      "[CV 4/5] END C=0.01, max_iter=2000, penalty=l1, solver=newton-cg;, score=nan total time=   0.1s\n",
      "[CV 5/5] END C=0.01, max_iter=2000, penalty=l1, solver=newton-cg;, score=nan total time=   0.1s\n",
      "[CV 1/5] END C=0.01, max_iter=2000, penalty=l1, solver=sag;, score=nan total time=   0.1s\n",
      "[CV 2/5] END C=0.01, max_iter=2000, penalty=l1, solver=sag;, score=nan total time=   0.1s\n",
      "[CV 3/5] END C=0.01, max_iter=2000, penalty=l1, solver=sag;, score=nan total time=   0.1s\n",
      "[CV 4/5] END C=0.01, max_iter=2000, penalty=l1, solver=sag;, score=nan total time=   0.1s\n",
      "[CV 5/5] END C=0.01, max_iter=2000, penalty=l1, solver=sag;, score=nan total time=   0.1s\n",
      "[CV 1/5] END C=0.01, max_iter=2000, penalty=l1, solver=saga;, score=0.891 total time= 1.3min\n",
      "[CV 2/5] END C=0.01, max_iter=2000, penalty=l1, solver=saga;, score=0.891 total time= 1.1min\n",
      "[CV 3/5] END C=0.01, max_iter=2000, penalty=l1, solver=saga;, score=0.891 total time= 1.1min\n",
      "[CV 4/5] END C=0.01, max_iter=2000, penalty=l1, solver=saga;, score=0.891 total time=  58.0s\n",
      "[CV 5/5] END C=0.01, max_iter=2000, penalty=l1, solver=saga;, score=0.891 total time= 1.2min\n",
      "[CV 1/5] END C=0.01, max_iter=2000, penalty=l1, solver=liblinear;, score=0.891 total time=   4.6s\n",
      "[CV 2/5] END C=0.01, max_iter=2000, penalty=l1, solver=liblinear;, score=0.891 total time=  11.5s\n",
      "[CV 3/5] END C=0.01, max_iter=2000, penalty=l1, solver=liblinear;, score=0.891 total time=  15.0s\n",
      "[CV 4/5] END C=0.01, max_iter=2000, penalty=l1, solver=liblinear;, score=0.891 total time=   7.6s\n",
      "[CV 5/5] END C=0.01, max_iter=2000, penalty=l1, solver=liblinear;, score=0.891 total time=   7.4s\n",
      "[CV 1/5] END C=0.01, max_iter=2000, penalty=l1, solver=lgbfs;, score=nan total time=   0.1s\n",
      "[CV 2/5] END C=0.01, max_iter=2000, penalty=l1, solver=lgbfs;, score=nan total time=   0.1s\n",
      "[CV 3/5] END C=0.01, max_iter=2000, penalty=l1, solver=lgbfs;, score=nan total time=   0.1s\n",
      "[CV 4/5] END C=0.01, max_iter=2000, penalty=l1, solver=lgbfs;, score=nan total time=   0.1s\n",
      "[CV 5/5] END C=0.01, max_iter=2000, penalty=l1, solver=lgbfs;, score=nan total time=   0.1s\n",
      "[CV 1/5] END C=0.01, max_iter=2000, penalty=l2, solver=newton-cg;, score=0.891 total time=   2.7s\n",
      "[CV 2/5] END C=0.01, max_iter=2000, penalty=l2, solver=newton-cg;, score=0.891 total time=   2.7s\n"
     ]
    },
    {
     "name": "stderr",
     "output_type": "stream",
     "text": [
      "/Users/michaelraines/opt/anaconda3/lib/python3.8/site-packages/scipy/optimize/linesearch.py:327: LineSearchWarning: The line search algorithm did not converge\n",
      "  warn('The line search algorithm did not converge', LineSearchWarning)\n",
      "/Users/michaelraines/opt/anaconda3/lib/python3.8/site-packages/sklearn/utils/optimize.py:203: UserWarning: Line Search failed\n",
      "  warnings.warn(\"Line Search failed\")\n"
     ]
    },
    {
     "name": "stdout",
     "output_type": "stream",
     "text": [
      "[CV 3/5] END C=0.01, max_iter=2000, penalty=l2, solver=newton-cg;, score=0.891 total time=   2.9s\n",
      "[CV 4/5] END C=0.01, max_iter=2000, penalty=l2, solver=newton-cg;, score=0.891 total time=   2.9s\n",
      "[CV 5/5] END C=0.01, max_iter=2000, penalty=l2, solver=newton-cg;, score=0.891 total time=   2.8s\n",
      "[CV 1/5] END C=0.01, max_iter=2000, penalty=l2, solver=sag;, score=0.891 total time=   8.3s\n",
      "[CV 2/5] END C=0.01, max_iter=2000, penalty=l2, solver=sag;, score=0.891 total time=   4.5s\n",
      "[CV 3/5] END C=0.01, max_iter=2000, penalty=l2, solver=sag;, score=0.891 total time=   4.5s\n",
      "[CV 4/5] END C=0.01, max_iter=2000, penalty=l2, solver=sag;, score=0.891 total time=   4.3s\n",
      "[CV 5/5] END C=0.01, max_iter=2000, penalty=l2, solver=sag;, score=0.891 total time=   6.2s\n",
      "[CV 1/5] END C=0.01, max_iter=2000, penalty=l2, solver=saga;, score=0.891 total time=  19.0s\n",
      "[CV 2/5] END C=0.01, max_iter=2000, penalty=l2, solver=saga;, score=0.891 total time=  12.0s\n",
      "[CV 3/5] END C=0.01, max_iter=2000, penalty=l2, solver=saga;, score=0.891 total time=  12.0s\n",
      "[CV 4/5] END C=0.01, max_iter=2000, penalty=l2, solver=saga;, score=0.891 total time=  12.2s\n",
      "[CV 5/5] END C=0.01, max_iter=2000, penalty=l2, solver=saga;, score=0.891 total time=  12.8s\n",
      "[CV 1/5] END C=0.01, max_iter=2000, penalty=l2, solver=liblinear;, score=0.891 total time=   2.1s\n",
      "[CV 2/5] END C=0.01, max_iter=2000, penalty=l2, solver=liblinear;, score=0.891 total time=   2.5s\n",
      "[CV 3/5] END C=0.01, max_iter=2000, penalty=l2, solver=liblinear;, score=0.891 total time=   2.4s\n",
      "[CV 4/5] END C=0.01, max_iter=2000, penalty=l2, solver=liblinear;, score=0.891 total time=   3.0s\n",
      "[CV 5/5] END C=0.01, max_iter=2000, penalty=l2, solver=liblinear;, score=0.891 total time=   3.5s\n",
      "[CV 1/5] END C=0.01, max_iter=2000, penalty=l2, solver=lgbfs;, score=nan total time=   0.1s\n",
      "[CV 2/5] END C=0.01, max_iter=2000, penalty=l2, solver=lgbfs;, score=nan total time=   0.1s\n",
      "[CV 3/5] END C=0.01, max_iter=2000, penalty=l2, solver=lgbfs;, score=nan total time=   0.1s\n",
      "[CV 4/5] END C=0.01, max_iter=2000, penalty=l2, solver=lgbfs;, score=nan total time=   0.1s\n",
      "[CV 5/5] END C=0.01, max_iter=2000, penalty=l2, solver=lgbfs;, score=nan total time=   0.1s\n",
      "[CV 1/5] END C=0.01, max_iter=2000, penalty=elasticnet, solver=newton-cg;, score=nan total time=   0.1s\n",
      "[CV 2/5] END C=0.01, max_iter=2000, penalty=elasticnet, solver=newton-cg;, score=nan total time=   0.1s\n",
      "[CV 3/5] END C=0.01, max_iter=2000, penalty=elasticnet, solver=newton-cg;, score=nan total time=   0.1s\n",
      "[CV 4/5] END C=0.01, max_iter=2000, penalty=elasticnet, solver=newton-cg;, score=nan total time=   0.1s\n",
      "[CV 5/5] END C=0.01, max_iter=2000, penalty=elasticnet, solver=newton-cg;, score=nan total time=   0.1s\n",
      "[CV 1/5] END C=0.01, max_iter=2000, penalty=elasticnet, solver=sag;, score=nan total time=   0.1s\n",
      "[CV 2/5] END C=0.01, max_iter=2000, penalty=elasticnet, solver=sag;, score=nan total time=   0.1s\n",
      "[CV 3/5] END C=0.01, max_iter=2000, penalty=elasticnet, solver=sag;, score=nan total time=   0.1s\n",
      "[CV 4/5] END C=0.01, max_iter=2000, penalty=elasticnet, solver=sag;, score=nan total time=   0.1s\n",
      "[CV 5/5] END C=0.01, max_iter=2000, penalty=elasticnet, solver=sag;, score=nan total time=   0.1s\n",
      "[CV 1/5] END C=0.01, max_iter=2000, penalty=elasticnet, solver=saga;, score=nan total time=   0.1s\n",
      "[CV 2/5] END C=0.01, max_iter=2000, penalty=elasticnet, solver=saga;, score=nan total time=   0.1s\n",
      "[CV 3/5] END C=0.01, max_iter=2000, penalty=elasticnet, solver=saga;, score=nan total time=   0.1s\n",
      "[CV 4/5] END C=0.01, max_iter=2000, penalty=elasticnet, solver=saga;, score=nan total time=   0.1s\n",
      "[CV 5/5] END C=0.01, max_iter=2000, penalty=elasticnet, solver=saga;, score=nan total time=   0.1s\n",
      "[CV 1/5] END C=0.01, max_iter=2000, penalty=elasticnet, solver=liblinear;, score=nan total time=   0.1s\n",
      "[CV 2/5] END C=0.01, max_iter=2000, penalty=elasticnet, solver=liblinear;, score=nan total time=   0.1s\n",
      "[CV 3/5] END C=0.01, max_iter=2000, penalty=elasticnet, solver=liblinear;, score=nan total time=   0.1s\n",
      "[CV 4/5] END C=0.01, max_iter=2000, penalty=elasticnet, solver=liblinear;, score=nan total time=   0.1s\n",
      "[CV 5/5] END C=0.01, max_iter=2000, penalty=elasticnet, solver=liblinear;, score=nan total time=   0.1s\n",
      "[CV 1/5] END C=0.01, max_iter=2000, penalty=elasticnet, solver=lgbfs;, score=nan total time=   0.1s\n",
      "[CV 2/5] END C=0.01, max_iter=2000, penalty=elasticnet, solver=lgbfs;, score=nan total time=   0.1s\n",
      "[CV 3/5] END C=0.01, max_iter=2000, penalty=elasticnet, solver=lgbfs;, score=nan total time=   0.1s\n",
      "[CV 4/5] END C=0.01, max_iter=2000, penalty=elasticnet, solver=lgbfs;, score=nan total time=   0.1s\n",
      "[CV 5/5] END C=0.01, max_iter=2000, penalty=elasticnet, solver=lgbfs;, score=nan total time=   0.1s\n"
     ]
    },
    {
     "name": "stderr",
     "output_type": "stream",
     "text": [
      "/Users/michaelraines/opt/anaconda3/lib/python3.8/site-packages/sklearn/model_selection/_validation.py:372: FitFailedWarning: \n",
      "1080 fits failed out of a total of 1800.\n",
      "The score on these train-test partitions for these parameters will be set to nan.\n",
      "If these failures are not expected, you can try to debug them by setting error_score='raise'.\n",
      "\n",
      "Below are more details about the failures:\n",
      "--------------------------------------------------------------------------------\n",
      "120 fits failed with the following error:\n",
      "Traceback (most recent call last):\n",
      "  File \"/Users/michaelraines/opt/anaconda3/lib/python3.8/site-packages/sklearn/model_selection/_validation.py\", line 680, in _fit_and_score\n",
      "    estimator.fit(X_train, y_train, **fit_params)\n",
      "  File \"/Users/michaelraines/opt/anaconda3/lib/python3.8/site-packages/sklearn/linear_model/_logistic.py\", line 1461, in fit\n",
      "    solver = _check_solver(self.solver, self.penalty, self.dual)\n",
      "  File \"/Users/michaelraines/opt/anaconda3/lib/python3.8/site-packages/sklearn/linear_model/_logistic.py\", line 447, in _check_solver\n",
      "    raise ValueError(\n",
      "ValueError: Solver newton-cg supports only 'l2' or 'none' penalties, got l1 penalty.\n",
      "\n",
      "--------------------------------------------------------------------------------\n",
      "120 fits failed with the following error:\n",
      "Traceback (most recent call last):\n",
      "  File \"/Users/michaelraines/opt/anaconda3/lib/python3.8/site-packages/sklearn/model_selection/_validation.py\", line 680, in _fit_and_score\n",
      "    estimator.fit(X_train, y_train, **fit_params)\n",
      "  File \"/Users/michaelraines/opt/anaconda3/lib/python3.8/site-packages/sklearn/linear_model/_logistic.py\", line 1461, in fit\n",
      "    solver = _check_solver(self.solver, self.penalty, self.dual)\n",
      "  File \"/Users/michaelraines/opt/anaconda3/lib/python3.8/site-packages/sklearn/linear_model/_logistic.py\", line 447, in _check_solver\n",
      "    raise ValueError(\n",
      "ValueError: Solver sag supports only 'l2' or 'none' penalties, got l1 penalty.\n",
      "\n",
      "--------------------------------------------------------------------------------\n",
      "360 fits failed with the following error:\n",
      "Traceback (most recent call last):\n",
      "  File \"/Users/michaelraines/opt/anaconda3/lib/python3.8/site-packages/sklearn/model_selection/_validation.py\", line 680, in _fit_and_score\n",
      "    estimator.fit(X_train, y_train, **fit_params)\n",
      "  File \"/Users/michaelraines/opt/anaconda3/lib/python3.8/site-packages/sklearn/linear_model/_logistic.py\", line 1461, in fit\n",
      "    solver = _check_solver(self.solver, self.penalty, self.dual)\n",
      "  File \"/Users/michaelraines/opt/anaconda3/lib/python3.8/site-packages/sklearn/linear_model/_logistic.py\", line 434, in _check_solver\n",
      "    raise ValueError(\n",
      "ValueError: Logistic Regression supports only solvers in ['liblinear', 'newton-cg', 'lbfgs', 'sag', 'saga'], got lgbfs.\n",
      "\n",
      "--------------------------------------------------------------------------------\n",
      "120 fits failed with the following error:\n",
      "Traceback (most recent call last):\n",
      "  File \"/Users/michaelraines/opt/anaconda3/lib/python3.8/site-packages/sklearn/model_selection/_validation.py\", line 680, in _fit_and_score\n",
      "    estimator.fit(X_train, y_train, **fit_params)\n",
      "  File \"/Users/michaelraines/opt/anaconda3/lib/python3.8/site-packages/sklearn/linear_model/_logistic.py\", line 1461, in fit\n",
      "    solver = _check_solver(self.solver, self.penalty, self.dual)\n",
      "  File \"/Users/michaelraines/opt/anaconda3/lib/python3.8/site-packages/sklearn/linear_model/_logistic.py\", line 447, in _check_solver\n",
      "    raise ValueError(\n",
      "ValueError: Solver newton-cg supports only 'l2' or 'none' penalties, got elasticnet penalty.\n",
      "\n",
      "--------------------------------------------------------------------------------\n",
      "120 fits failed with the following error:\n",
      "Traceback (most recent call last):\n",
      "  File \"/Users/michaelraines/opt/anaconda3/lib/python3.8/site-packages/sklearn/model_selection/_validation.py\", line 680, in _fit_and_score\n",
      "    estimator.fit(X_train, y_train, **fit_params)\n",
      "  File \"/Users/michaelraines/opt/anaconda3/lib/python3.8/site-packages/sklearn/linear_model/_logistic.py\", line 1461, in fit\n",
      "    solver = _check_solver(self.solver, self.penalty, self.dual)\n",
      "  File \"/Users/michaelraines/opt/anaconda3/lib/python3.8/site-packages/sklearn/linear_model/_logistic.py\", line 447, in _check_solver\n",
      "    raise ValueError(\n",
      "ValueError: Solver sag supports only 'l2' or 'none' penalties, got elasticnet penalty.\n",
      "\n",
      "--------------------------------------------------------------------------------\n",
      "120 fits failed with the following error:\n",
      "Traceback (most recent call last):\n",
      "  File \"/Users/michaelraines/opt/anaconda3/lib/python3.8/site-packages/sklearn/model_selection/_validation.py\", line 680, in _fit_and_score\n",
      "    estimator.fit(X_train, y_train, **fit_params)\n",
      "  File \"/Users/michaelraines/opt/anaconda3/lib/python3.8/site-packages/sklearn/linear_model/_logistic.py\", line 1471, in fit\n",
      "    raise ValueError(\n",
      "ValueError: l1_ratio must be between 0 and 1; got (l1_ratio=None)\n",
      "\n",
      "--------------------------------------------------------------------------------\n",
      "120 fits failed with the following error:\n",
      "Traceback (most recent call last):\n",
      "  File \"/Users/michaelraines/opt/anaconda3/lib/python3.8/site-packages/sklearn/model_selection/_validation.py\", line 680, in _fit_and_score\n",
      "    estimator.fit(X_train, y_train, **fit_params)\n",
      "  File \"/Users/michaelraines/opt/anaconda3/lib/python3.8/site-packages/sklearn/linear_model/_logistic.py\", line 1461, in fit\n",
      "    solver = _check_solver(self.solver, self.penalty, self.dual)\n",
      "  File \"/Users/michaelraines/opt/anaconda3/lib/python3.8/site-packages/sklearn/linear_model/_logistic.py\", line 457, in _check_solver\n",
      "    raise ValueError(\n",
      "ValueError: Only 'saga' solver supports elasticnet penalty, got solver=liblinear.\n",
      "\n",
      "  warnings.warn(some_fits_failed_message, FitFailedWarning)\n",
      "/Users/michaelraines/opt/anaconda3/lib/python3.8/site-packages/sklearn/model_selection/_search.py:969: UserWarning: One or more of the test scores are non-finite: [       nan        nan 0.89119467 0.89119467        nan 0.89119467\n",
      " 0.89119467 0.89119467 0.89119467        nan        nan        nan\n",
      "        nan        nan        nan        nan        nan 0.89119467\n",
      " 0.89119467        nan 0.89119467 0.89119467 0.89119467 0.89119467\n",
      "        nan        nan        nan        nan        nan        nan\n",
      "        nan        nan 0.89119467 0.89119467        nan 0.89119467\n",
      " 0.89119467 0.89119467 0.89119467        nan        nan        nan\n",
      "        nan        nan        nan        nan        nan 0.89119467\n",
      " 0.89119467        nan 0.89119467 0.89119467 0.89119467 0.89119467\n",
      "        nan        nan        nan        nan        nan        nan\n",
      "        nan        nan 0.89119467 0.89119467        nan 0.89119467\n",
      " 0.89119467 0.89119467 0.89119467        nan        nan        nan\n",
      "        nan        nan        nan        nan        nan 0.89119467\n",
      " 0.89119467        nan 0.89119467 0.89119467 0.89119467 0.89119467\n",
      "        nan        nan        nan        nan        nan        nan\n",
      "        nan        nan 0.89119467 0.89119467        nan 0.89119467\n",
      " 0.89119467 0.89119467 0.89119467        nan        nan        nan\n",
      "        nan        nan        nan        nan        nan 0.89119467\n",
      " 0.89119467        nan 0.89119467 0.89119467 0.89119467 0.89119467\n",
      "        nan        nan        nan        nan        nan        nan\n",
      "        nan        nan 0.89119467 0.89119467        nan 0.89119467\n",
      " 0.89119467 0.89119467 0.89119467        nan        nan        nan\n",
      "        nan        nan        nan        nan        nan 0.89119467\n",
      " 0.89119467        nan 0.89119467 0.89119467 0.89119467 0.89119467\n",
      "        nan        nan        nan        nan        nan        nan\n",
      "        nan        nan 0.89119467 0.89119467        nan 0.89119467\n",
      " 0.89119467 0.89119467 0.89119467        nan        nan        nan\n",
      "        nan        nan        nan        nan        nan 0.89119467\n",
      " 0.89119467        nan 0.89119467 0.89119467 0.89119467 0.89119467\n",
      "        nan        nan        nan        nan        nan        nan\n",
      "        nan        nan 0.89119467 0.89119467        nan 0.89119467\n",
      " 0.89119467 0.89119467 0.89119467        nan        nan        nan\n",
      "        nan        nan        nan        nan        nan 0.89119467\n",
      " 0.89119467        nan 0.89119467 0.89119467 0.89119467 0.89119467\n",
      "        nan        nan        nan        nan        nan        nan\n",
      "        nan        nan 0.89119467 0.89119467        nan 0.89119467\n",
      " 0.89119467 0.89119467 0.89119467        nan        nan        nan\n",
      "        nan        nan        nan        nan        nan 0.89119467\n",
      " 0.89119467        nan 0.89119467 0.89119467 0.89119467 0.89119467\n",
      "        nan        nan        nan        nan        nan        nan\n",
      "        nan        nan 0.89119467 0.89119467        nan 0.89119467\n",
      " 0.89119467 0.89119467 0.89119467        nan        nan        nan\n",
      "        nan        nan        nan        nan        nan 0.89119467\n",
      " 0.89119467        nan 0.89119467 0.89119467 0.89119467 0.89119467\n",
      "        nan        nan        nan        nan        nan        nan\n",
      "        nan        nan 0.89119467 0.89119467        nan 0.89119467\n",
      " 0.89119467 0.89119467 0.89119467        nan        nan        nan\n",
      "        nan        nan        nan        nan        nan 0.89119467\n",
      " 0.89119467        nan 0.89119467 0.89119467 0.89119467 0.89119467\n",
      "        nan        nan        nan        nan        nan        nan\n",
      "        nan        nan 0.891192   0.891192          nan 0.89119467\n",
      " 0.89119467 0.89119467 0.89119467        nan        nan        nan\n",
      "        nan        nan        nan        nan        nan 0.891192\n",
      " 0.891192          nan 0.89119467 0.89119467 0.89119467 0.89119467\n",
      "        nan        nan        nan        nan        nan        nan\n",
      "        nan        nan 0.891192   0.891192          nan 0.89119467\n",
      " 0.89119467 0.89119467 0.89119467        nan        nan        nan\n",
      "        nan        nan        nan        nan        nan 0.891192\n",
      " 0.891192          nan 0.89119467 0.89119467 0.89119467 0.89119467\n",
      "        nan        nan        nan        nan        nan        nan]\n",
      "  warnings.warn(\n"
     ]
    },
    {
     "data": {
      "text/plain": [
       "GridSearchCV(estimator=LogisticRegression(random_state=1),\n",
       "             param_grid={'C': [1000, 100, 10, 1, 0.1, 0.01],\n",
       "                         'max_iter': [100, 500, 1000, 2000],\n",
       "                         'penalty': ['l1', 'l2', 'elasticnet'],\n",
       "                         'solver': ['newton-cg', 'sag', 'saga', 'liblinear',\n",
       "                                    'lgbfs']},\n",
       "             verbose=3)"
      ]
     },
     "execution_count": 18,
     "metadata": {},
     "output_type": "execute_result"
    }
   ],
   "source": [
    "model= LogisticRegression(random_state=1)\n",
    "param_grid = {\n",
    "   'penalty':['l1', 'l2', 'elasticnet'],\n",
    "    'C': [1000, 100 ,10, 1, 0.1, 0.01],\n",
    "    'solver': ['newton-cg', 'sag', 'saga', 'liblinear', 'lgbfs'],\n",
    "              'max_iter': [100, 500, 1000, 2000]}\n",
    "lr_grid_clf = GridSearchCV(model, param_grid, verbose=3)\n",
    "lr_grid_clf.fit(X_train_scaled, y_train)"
   ]
  },
  {
   "cell_type": "code",
   "execution_count": 19,
   "id": "231496cd",
   "metadata": {},
   "outputs": [
    {
     "name": "stdout",
     "output_type": "stream",
     "text": [
      "{'C': 1000, 'max_iter': 100, 'penalty': 'l1', 'solver': 'saga'}\n",
      "0.8911946666666666\n"
     ]
    }
   ],
   "source": [
    "print(lr_grid_clf.best_params_)\n",
    "print(lr_grid_clf.best_score_)"
   ]
  },
  {
   "cell_type": "code",
   "execution_count": 20,
   "id": "37164245",
   "metadata": {},
   "outputs": [
    {
     "name": "stdout",
     "output_type": "stream",
     "text": [
      "Training Data Score: 0.8911946666666667\n",
      "Testing Data Score: 0.889776\n"
     ]
    }
   ],
   "source": [
    "lr_best_params=lr_grid_clf.best_params_\n",
    "lr_classifier= LogisticRegression(**lr_best_params, random_state=1).fit(X_train_scaled, y_train)\n",
    "print(f\"Training Data Score: {lr_classifier.score(X_train_scaled, y_train)}\")\n",
    "print(f\"Testing Data Score: {lr_classifier.score(X_test_scaled, y_test)}\")\n"
   ]
  },
  {
   "cell_type": "code",
   "execution_count": 21,
   "id": "e751132e",
   "metadata": {},
   "outputs": [],
   "source": [
    "# export best to compare vs entire dataset\n",
    "pickle.dump(lr_classifier, open('../resources/lr_classifier.pkl','wb'))"
   ]
  },
  {
   "cell_type": "markdown",
   "id": "86b69f6f",
   "metadata": {},
   "source": [
    "#### Random Forest"
   ]
  },
  {
   "cell_type": "code",
   "execution_count": 22,
   "id": "545318c6",
   "metadata": {},
   "outputs": [
    {
     "name": "stdout",
     "output_type": "stream",
     "text": [
      "Fitting 5 folds for each of 12 candidates, totalling 60 fits\n",
      "[CV 1/5] END bootstrap=True, max_features=sqrt, n_estimators=100;, score=0.877 total time=  39.2s\n",
      "[CV 2/5] END bootstrap=True, max_features=sqrt, n_estimators=100;, score=0.875 total time=  39.0s\n",
      "[CV 3/5] END bootstrap=True, max_features=sqrt, n_estimators=100;, score=0.874 total time=  38.7s\n",
      "[CV 4/5] END bootstrap=True, max_features=sqrt, n_estimators=100;, score=0.875 total time=  38.5s\n",
      "[CV 5/5] END bootstrap=True, max_features=sqrt, n_estimators=100;, score=0.876 total time=  38.1s\n",
      "[CV 1/5] END bootstrap=True, max_features=sqrt, n_estimators=150;, score=0.877 total time=  57.3s\n",
      "[CV 2/5] END bootstrap=True, max_features=sqrt, n_estimators=150;, score=0.876 total time=  57.3s\n",
      "[CV 3/5] END bootstrap=True, max_features=sqrt, n_estimators=150;, score=0.875 total time=  57.5s\n",
      "[CV 4/5] END bootstrap=True, max_features=sqrt, n_estimators=150;, score=0.876 total time=  57.4s\n",
      "[CV 5/5] END bootstrap=True, max_features=sqrt, n_estimators=150;, score=0.876 total time=  57.5s\n",
      "[CV 1/5] END bootstrap=True, max_features=sqrt, n_estimators=200;, score=0.877 total time= 1.3min\n",
      "[CV 2/5] END bootstrap=True, max_features=sqrt, n_estimators=200;, score=0.876 total time= 1.3min\n",
      "[CV 3/5] END bootstrap=True, max_features=sqrt, n_estimators=200;, score=0.875 total time= 1.4min\n",
      "[CV 4/5] END bootstrap=True, max_features=sqrt, n_estimators=200;, score=0.876 total time= 1.4min\n",
      "[CV 5/5] END bootstrap=True, max_features=sqrt, n_estimators=200;, score=0.877 total time= 1.4min\n",
      "[CV 1/5] END bootstrap=True, max_features=log2, n_estimators=100;, score=0.876 total time=  36.9s\n",
      "[CV 2/5] END bootstrap=True, max_features=log2, n_estimators=100;, score=0.874 total time=  37.4s\n",
      "[CV 3/5] END bootstrap=True, max_features=log2, n_estimators=100;, score=0.873 total time=  38.7s\n",
      "[CV 4/5] END bootstrap=True, max_features=log2, n_estimators=100;, score=0.874 total time=  38.5s\n",
      "[CV 5/5] END bootstrap=True, max_features=log2, n_estimators=100;, score=0.874 total time=  36.6s\n",
      "[CV 1/5] END bootstrap=True, max_features=log2, n_estimators=150;, score=0.876 total time=  55.4s\n",
      "[CV 2/5] END bootstrap=True, max_features=log2, n_estimators=150;, score=0.875 total time=  54.7s\n",
      "[CV 3/5] END bootstrap=True, max_features=log2, n_estimators=150;, score=0.874 total time=  54.1s\n",
      "[CV 4/5] END bootstrap=True, max_features=log2, n_estimators=150;, score=0.874 total time=  53.3s\n",
      "[CV 5/5] END bootstrap=True, max_features=log2, n_estimators=150;, score=0.875 total time=  53.7s\n",
      "[CV 1/5] END bootstrap=True, max_features=log2, n_estimators=200;, score=0.876 total time= 1.2min\n",
      "[CV 2/5] END bootstrap=True, max_features=log2, n_estimators=200;, score=0.875 total time= 1.2min\n",
      "[CV 3/5] END bootstrap=True, max_features=log2, n_estimators=200;, score=0.874 total time= 4.9min\n",
      "[CV 4/5] END bootstrap=True, max_features=log2, n_estimators=200;, score=0.875 total time=12.8min\n",
      "[CV 5/5] END bootstrap=True, max_features=log2, n_estimators=200;, score=0.876 total time= 1.7min\n",
      "[CV 1/5] END bootstrap=False, max_features=sqrt, n_estimators=100;, score=0.852 total time= 2.9min\n",
      "[CV 2/5] END bootstrap=False, max_features=sqrt, n_estimators=100;, score=0.851 total time=  59.0s\n",
      "[CV 3/5] END bootstrap=False, max_features=sqrt, n_estimators=100;, score=0.851 total time=  58.2s\n",
      "[CV 4/5] END bootstrap=False, max_features=sqrt, n_estimators=100;, score=0.851 total time=15.9min\n",
      "[CV 5/5] END bootstrap=False, max_features=sqrt, n_estimators=100;, score=0.852 total time= 7.1min\n",
      "[CV 1/5] END bootstrap=False, max_features=sqrt, n_estimators=150;, score=0.852 total time=25.0min\n",
      "[CV 2/5] END bootstrap=False, max_features=sqrt, n_estimators=150;, score=0.851 total time= 2.0min\n",
      "[CV 3/5] END bootstrap=False, max_features=sqrt, n_estimators=150;, score=0.852 total time=20.0min\n",
      "[CV 4/5] END bootstrap=False, max_features=sqrt, n_estimators=150;, score=0.852 total time= 1.6min\n",
      "[CV 5/5] END bootstrap=False, max_features=sqrt, n_estimators=150;, score=0.852 total time= 1.6min\n",
      "[CV 1/5] END bootstrap=False, max_features=sqrt, n_estimators=200;, score=0.853 total time= 2.1min\n",
      "[CV 2/5] END bootstrap=False, max_features=sqrt, n_estimators=200;, score=0.851 total time= 2.1min\n",
      "[CV 3/5] END bootstrap=False, max_features=sqrt, n_estimators=200;, score=0.852 total time= 2.1min\n",
      "[CV 4/5] END bootstrap=False, max_features=sqrt, n_estimators=200;, score=0.852 total time= 2.1min\n",
      "[CV 5/5] END bootstrap=False, max_features=sqrt, n_estimators=200;, score=0.853 total time= 2.1min\n",
      "[CV 1/5] END bootstrap=False, max_features=log2, n_estimators=100;, score=0.850 total time=  53.9s\n",
      "[CV 2/5] END bootstrap=False, max_features=log2, n_estimators=100;, score=0.848 total time=  54.3s\n",
      "[CV 3/5] END bootstrap=False, max_features=log2, n_estimators=100;, score=0.850 total time=  54.4s\n",
      "[CV 4/5] END bootstrap=False, max_features=log2, n_estimators=100;, score=0.849 total time=  52.9s\n",
      "[CV 5/5] END bootstrap=False, max_features=log2, n_estimators=100;, score=0.849 total time=  53.6s\n",
      "[CV 1/5] END bootstrap=False, max_features=log2, n_estimators=150;, score=0.850 total time= 1.4min\n",
      "[CV 2/5] END bootstrap=False, max_features=log2, n_estimators=150;, score=0.848 total time= 1.4min\n",
      "[CV 3/5] END bootstrap=False, max_features=log2, n_estimators=150;, score=0.850 total time= 1.4min\n",
      "[CV 4/5] END bootstrap=False, max_features=log2, n_estimators=150;, score=0.850 total time= 1.4min\n",
      "[CV 5/5] END bootstrap=False, max_features=log2, n_estimators=150;, score=0.850 total time= 1.4min\n",
      "[CV 1/5] END bootstrap=False, max_features=log2, n_estimators=200;, score=0.850 total time= 1.8min\n",
      "[CV 2/5] END bootstrap=False, max_features=log2, n_estimators=200;, score=0.849 total time= 1.8min\n",
      "[CV 3/5] END bootstrap=False, max_features=log2, n_estimators=200;, score=0.850 total time= 1.8min\n",
      "[CV 4/5] END bootstrap=False, max_features=log2, n_estimators=200;, score=0.850 total time= 1.8min\n",
      "[CV 5/5] END bootstrap=False, max_features=log2, n_estimators=200;, score=0.850 total time= 1.8min\n"
     ]
    },
    {
     "data": {
      "text/plain": [
       "GridSearchCV(estimator=RandomForestClassifier(random_state=1),\n",
       "             param_grid={'bootstrap': [True, False],\n",
       "                         'max_features': ['sqrt', 'log2'],\n",
       "                         'n_estimators': [100, 150, 200]},\n",
       "             verbose=3)"
      ]
     },
     "execution_count": 22,
     "metadata": {},
     "output_type": "execute_result"
    }
   ],
   "source": [
    "model= RandomForestClassifier(random_state=1)\n",
    "\n",
    "param_grid = {\n",
    "    'n_estimators': [100,150,200],\n",
    "    'bootstrap' : [True, False],\n",
    "    'max_features': ['sqrt', 'log2']\n",
    "}\n",
    "rf_grid_clf = GridSearchCV(model, param_grid, verbose=3)\n",
    "rf_grid_clf.fit(X_train_scaled, y_train)"
   ]
  },
  {
   "cell_type": "code",
   "execution_count": 23,
   "id": "8947050b",
   "metadata": {},
   "outputs": [
    {
     "name": "stdout",
     "output_type": "stream",
     "text": [
      "{'bootstrap': True, 'max_features': 'sqrt', 'n_estimators': 200}\n",
      "0.8763573333333333\n"
     ]
    }
   ],
   "source": [
    "print(rf_grid_clf.best_params_)\n",
    "print(rf_grid_clf.best_score_)"
   ]
  },
  {
   "cell_type": "code",
   "execution_count": 24,
   "id": "4044a257",
   "metadata": {},
   "outputs": [
    {
     "name": "stdout",
     "output_type": "stream",
     "text": [
      "Training Data Score: 0.9966693333333333\n",
      "Testing Data Score: 0.874696\n"
     ]
    }
   ],
   "source": [
    "rf_best_params=rf_grid_clf.best_params_\n",
    "rf_classifier= RandomForestClassifier(**rf_best_params, random_state=1).fit(X_train_scaled, y_train)\n",
    "print(f\"Training Data Score: {rf_classifier.score(X_train_scaled, y_train)}\")\n",
    "print(f\"Testing Data Score: {rf_classifier.score(X_test_scaled, y_test)}\")"
   ]
  },
  {
   "cell_type": "code",
   "execution_count": 25,
   "id": "b6cba8a0",
   "metadata": {},
   "outputs": [],
   "source": [
    "pickle.dump(rf_classifier, open('../resources/rf_classifier.pkl','wb'))"
   ]
  },
  {
   "cell_type": "markdown",
   "id": "62d2fa45",
   "metadata": {},
   "source": [
    "#### Ada Boost "
   ]
  },
  {
   "cell_type": "code",
   "execution_count": 26,
   "id": "bb3fff62",
   "metadata": {},
   "outputs": [
    {
     "name": "stdout",
     "output_type": "stream",
     "text": [
      "Fitting 5 folds for each of 30 candidates, totalling 150 fits\n",
      "[CV 1/5] END algorithm=SAMME, learning_rate=0.001, n_estimators=500;, score=0.891 total time= 2.1min\n",
      "[CV 2/5] END algorithm=SAMME, learning_rate=0.001, n_estimators=500;, score=0.891 total time= 2.1min\n",
      "[CV 3/5] END algorithm=SAMME, learning_rate=0.001, n_estimators=500;, score=0.891 total time= 2.1min\n",
      "[CV 4/5] END algorithm=SAMME, learning_rate=0.001, n_estimators=500;, score=0.891 total time= 2.1min\n",
      "[CV 5/5] END algorithm=SAMME, learning_rate=0.001, n_estimators=500;, score=0.891 total time= 2.1min\n",
      "[CV 1/5] END algorithm=SAMME, learning_rate=0.001, n_estimators=1000;, score=0.891 total time= 4.2min\n",
      "[CV 2/5] END algorithm=SAMME, learning_rate=0.001, n_estimators=1000;, score=0.891 total time= 4.2min\n",
      "[CV 3/5] END algorithm=SAMME, learning_rate=0.001, n_estimators=1000;, score=0.891 total time= 4.4min\n",
      "[CV 4/5] END algorithm=SAMME, learning_rate=0.001, n_estimators=1000;, score=0.891 total time= 4.6min\n",
      "[CV 5/5] END algorithm=SAMME, learning_rate=0.001, n_estimators=1000;, score=0.891 total time= 4.2min\n",
      "[CV 1/5] END algorithm=SAMME, learning_rate=0.001, n_estimators=1500;, score=0.891 total time=11.4min\n",
      "[CV 2/5] END algorithm=SAMME, learning_rate=0.001, n_estimators=1500;, score=0.891 total time=11.2min\n",
      "[CV 3/5] END algorithm=SAMME, learning_rate=0.001, n_estimators=1500;, score=0.891 total time= 6.3min\n",
      "[CV 4/5] END algorithm=SAMME, learning_rate=0.001, n_estimators=1500;, score=0.891 total time= 6.3min\n",
      "[CV 5/5] END algorithm=SAMME, learning_rate=0.001, n_estimators=1500;, score=0.891 total time= 6.3min\n",
      "[CV 1/5] END algorithm=SAMME, learning_rate=0.01, n_estimators=500;, score=0.891 total time= 2.1min\n",
      "[CV 2/5] END algorithm=SAMME, learning_rate=0.01, n_estimators=500;, score=0.891 total time= 2.1min\n",
      "[CV 3/5] END algorithm=SAMME, learning_rate=0.01, n_estimators=500;, score=0.891 total time= 2.1min\n",
      "[CV 4/5] END algorithm=SAMME, learning_rate=0.01, n_estimators=500;, score=0.891 total time= 2.1min\n",
      "[CV 5/5] END algorithm=SAMME, learning_rate=0.01, n_estimators=500;, score=0.891 total time= 2.1min\n",
      "[CV 1/5] END algorithm=SAMME, learning_rate=0.01, n_estimators=1000;, score=0.891 total time= 4.2min\n",
      "[CV 2/5] END algorithm=SAMME, learning_rate=0.01, n_estimators=1000;, score=0.891 total time= 4.4min\n",
      "[CV 3/5] END algorithm=SAMME, learning_rate=0.01, n_estimators=1000;, score=0.891 total time= 4.3min\n",
      "[CV 4/5] END algorithm=SAMME, learning_rate=0.01, n_estimators=1000;, score=0.891 total time= 4.2min\n",
      "[CV 5/5] END algorithm=SAMME, learning_rate=0.01, n_estimators=1000;, score=0.891 total time= 4.2min\n",
      "[CV 1/5] END algorithm=SAMME, learning_rate=0.01, n_estimators=1500;, score=0.891 total time= 6.3min\n",
      "[CV 2/5] END algorithm=SAMME, learning_rate=0.01, n_estimators=1500;, score=0.891 total time= 6.3min\n",
      "[CV 3/5] END algorithm=SAMME, learning_rate=0.01, n_estimators=1500;, score=0.891 total time= 6.3min\n",
      "[CV 4/5] END algorithm=SAMME, learning_rate=0.01, n_estimators=1500;, score=0.891 total time= 6.3min\n",
      "[CV 5/5] END algorithm=SAMME, learning_rate=0.01, n_estimators=1500;, score=0.891 total time= 6.3min\n",
      "[CV 1/5] END algorithm=SAMME, learning_rate=0.1, n_estimators=500;, score=0.891 total time= 2.1min\n",
      "[CV 2/5] END algorithm=SAMME, learning_rate=0.1, n_estimators=500;, score=0.891 total time= 2.1min\n",
      "[CV 3/5] END algorithm=SAMME, learning_rate=0.1, n_estimators=500;, score=0.891 total time= 2.1min\n",
      "[CV 4/5] END algorithm=SAMME, learning_rate=0.1, n_estimators=500;, score=0.891 total time= 2.1min\n",
      "[CV 5/5] END algorithm=SAMME, learning_rate=0.1, n_estimators=500;, score=0.891 total time= 2.1min\n",
      "[CV 1/5] END algorithm=SAMME, learning_rate=0.1, n_estimators=1000;, score=0.891 total time= 4.3min\n",
      "[CV 2/5] END algorithm=SAMME, learning_rate=0.1, n_estimators=1000;, score=0.891 total time= 4.6min\n",
      "[CV 3/5] END algorithm=SAMME, learning_rate=0.1, n_estimators=1000;, score=0.891 total time= 4.3min\n",
      "[CV 4/5] END algorithm=SAMME, learning_rate=0.1, n_estimators=1000;, score=0.891 total time= 4.2min\n",
      "[CV 5/5] END algorithm=SAMME, learning_rate=0.1, n_estimators=1000;, score=0.891 total time= 4.2min\n",
      "[CV 1/5] END algorithm=SAMME, learning_rate=0.1, n_estimators=1500;, score=0.891 total time= 6.3min\n",
      "[CV 2/5] END algorithm=SAMME, learning_rate=0.1, n_estimators=1500;, score=0.891 total time= 6.3min\n",
      "[CV 3/5] END algorithm=SAMME, learning_rate=0.1, n_estimators=1500;, score=0.891 total time= 6.3min\n",
      "[CV 4/5] END algorithm=SAMME, learning_rate=0.1, n_estimators=1500;, score=0.891 total time= 6.2min\n",
      "[CV 5/5] END algorithm=SAMME, learning_rate=0.1, n_estimators=1500;, score=0.891 total time= 6.2min\n",
      "[CV 1/5] END algorithm=SAMME, learning_rate=0.5, n_estimators=500;, score=0.892 total time= 2.1min\n",
      "[CV 2/5] END algorithm=SAMME, learning_rate=0.5, n_estimators=500;, score=0.891 total time= 2.1min\n",
      "[CV 3/5] END algorithm=SAMME, learning_rate=0.5, n_estimators=500;, score=0.892 total time= 2.1min\n",
      "[CV 4/5] END algorithm=SAMME, learning_rate=0.5, n_estimators=500;, score=0.892 total time= 2.1min\n",
      "[CV 5/5] END algorithm=SAMME, learning_rate=0.5, n_estimators=500;, score=0.892 total time= 2.1min\n",
      "[CV 1/5] END algorithm=SAMME, learning_rate=0.5, n_estimators=1000;, score=0.892 total time= 4.5min\n",
      "[CV 2/5] END algorithm=SAMME, learning_rate=0.5, n_estimators=1000;, score=0.892 total time= 4.5min\n",
      "[CV 3/5] END algorithm=SAMME, learning_rate=0.5, n_estimators=1000;, score=0.892 total time= 4.2min\n",
      "[CV 4/5] END algorithm=SAMME, learning_rate=0.5, n_estimators=1000;, score=0.892 total time= 4.2min\n",
      "[CV 5/5] END algorithm=SAMME, learning_rate=0.5, n_estimators=1000;, score=0.892 total time= 4.2min\n",
      "[CV 1/5] END algorithm=SAMME, learning_rate=0.5, n_estimators=1500;, score=0.892 total time= 6.3min\n",
      "[CV 2/5] END algorithm=SAMME, learning_rate=0.5, n_estimators=1500;, score=0.892 total time= 6.3min\n",
      "[CV 3/5] END algorithm=SAMME, learning_rate=0.5, n_estimators=1500;, score=0.892 total time= 6.3min\n",
      "[CV 4/5] END algorithm=SAMME, learning_rate=0.5, n_estimators=1500;, score=0.892 total time= 6.3min\n",
      "[CV 5/5] END algorithm=SAMME, learning_rate=0.5, n_estimators=1500;, score=0.892 total time= 6.3min\n",
      "[CV 1/5] END algorithm=SAMME, learning_rate=0.7, n_estimators=500;, score=0.892 total time= 2.1min\n",
      "[CV 2/5] END algorithm=SAMME, learning_rate=0.7, n_estimators=500;, score=0.892 total time= 2.1min\n",
      "[CV 3/5] END algorithm=SAMME, learning_rate=0.7, n_estimators=500;, score=0.892 total time= 2.1min\n",
      "[CV 4/5] END algorithm=SAMME, learning_rate=0.7, n_estimators=500;, score=0.892 total time= 2.2min\n",
      "[CV 5/5] END algorithm=SAMME, learning_rate=0.7, n_estimators=500;, score=0.892 total time= 2.3min\n",
      "[CV 1/5] END algorithm=SAMME, learning_rate=0.7, n_estimators=1000;, score=0.892 total time= 4.5min\n",
      "[CV 2/5] END algorithm=SAMME, learning_rate=0.7, n_estimators=1000;, score=0.892 total time= 4.2min\n",
      "[CV 3/5] END algorithm=SAMME, learning_rate=0.7, n_estimators=1000;, score=0.892 total time= 4.2min\n",
      "[CV 4/5] END algorithm=SAMME, learning_rate=0.7, n_estimators=1000;, score=0.892 total time= 4.2min\n",
      "[CV 5/5] END algorithm=SAMME, learning_rate=0.7, n_estimators=1000;, score=0.892 total time= 4.2min\n",
      "[CV 1/5] END algorithm=SAMME, learning_rate=0.7, n_estimators=1500;, score=0.892 total time= 6.3min\n",
      "[CV 2/5] END algorithm=SAMME, learning_rate=0.7, n_estimators=1500;, score=0.892 total time= 6.3min\n",
      "[CV 3/5] END algorithm=SAMME, learning_rate=0.7, n_estimators=1500;, score=0.892 total time= 6.3min\n",
      "[CV 4/5] END algorithm=SAMME, learning_rate=0.7, n_estimators=1500;, score=0.892 total time= 6.3min\n",
      "[CV 5/5] END algorithm=SAMME, learning_rate=0.7, n_estimators=1500;, score=0.892 total time= 6.2min\n",
      "[CV 1/5] END algorithm=SAMME.R, learning_rate=0.001, n_estimators=500;, score=0.891 total time= 2.3min\n",
      "[CV 2/5] END algorithm=SAMME.R, learning_rate=0.001, n_estimators=500;, score=0.891 total time= 2.3min\n",
      "[CV 3/5] END algorithm=SAMME.R, learning_rate=0.001, n_estimators=500;, score=0.891 total time= 2.4min\n",
      "[CV 4/5] END algorithm=SAMME.R, learning_rate=0.001, n_estimators=500;, score=0.891 total time= 2.4min\n",
      "[CV 5/5] END algorithm=SAMME.R, learning_rate=0.001, n_estimators=500;, score=0.891 total time= 2.4min\n",
      "[CV 1/5] END algorithm=SAMME.R, learning_rate=0.001, n_estimators=1000;, score=0.891 total time= 4.7min\n"
     ]
    },
    {
     "name": "stdout",
     "output_type": "stream",
     "text": [
      "[CV 2/5] END algorithm=SAMME.R, learning_rate=0.001, n_estimators=1000;, score=0.891 total time= 4.5min\n",
      "[CV 3/5] END algorithm=SAMME.R, learning_rate=0.001, n_estimators=1000;, score=0.891 total time= 4.5min\n",
      "[CV 4/5] END algorithm=SAMME.R, learning_rate=0.001, n_estimators=1000;, score=0.891 total time= 4.5min\n",
      "[CV 5/5] END algorithm=SAMME.R, learning_rate=0.001, n_estimators=1000;, score=0.891 total time= 4.5min\n",
      "[CV 1/5] END algorithm=SAMME.R, learning_rate=0.001, n_estimators=1500;, score=0.891 total time= 6.8min\n",
      "[CV 2/5] END algorithm=SAMME.R, learning_rate=0.001, n_estimators=1500;, score=0.891 total time= 6.8min\n",
      "[CV 3/5] END algorithm=SAMME.R, learning_rate=0.001, n_estimators=1500;, score=0.891 total time= 6.8min\n",
      "[CV 4/5] END algorithm=SAMME.R, learning_rate=0.001, n_estimators=1500;, score=0.891 total time= 6.8min\n",
      "[CV 5/5] END algorithm=SAMME.R, learning_rate=0.001, n_estimators=1500;, score=0.891 total time= 7.1min\n",
      "[CV 1/5] END algorithm=SAMME.R, learning_rate=0.01, n_estimators=500;, score=0.891 total time= 2.4min\n",
      "[CV 2/5] END algorithm=SAMME.R, learning_rate=0.01, n_estimators=500;, score=0.891 total time= 2.3min\n",
      "[CV 3/5] END algorithm=SAMME.R, learning_rate=0.01, n_estimators=500;, score=0.891 total time= 2.3min\n",
      "[CV 4/5] END algorithm=SAMME.R, learning_rate=0.01, n_estimators=500;, score=0.891 total time= 2.3min\n",
      "[CV 5/5] END algorithm=SAMME.R, learning_rate=0.01, n_estimators=500;, score=0.891 total time= 2.3min\n",
      "[CV 1/5] END algorithm=SAMME.R, learning_rate=0.01, n_estimators=1000;, score=0.891 total time= 4.5min\n",
      "[CV 2/5] END algorithm=SAMME.R, learning_rate=0.01, n_estimators=1000;, score=0.891 total time= 4.5min\n",
      "[CV 3/5] END algorithm=SAMME.R, learning_rate=0.01, n_estimators=1000;, score=0.892 total time= 4.5min\n",
      "[CV 4/5] END algorithm=SAMME.R, learning_rate=0.01, n_estimators=1000;, score=0.892 total time= 4.5min\n",
      "[CV 5/5] END algorithm=SAMME.R, learning_rate=0.01, n_estimators=1000;, score=0.891 total time= 4.5min\n",
      "[CV 1/5] END algorithm=SAMME.R, learning_rate=0.01, n_estimators=1500;, score=0.892 total time= 6.8min\n",
      "[CV 2/5] END algorithm=SAMME.R, learning_rate=0.01, n_estimators=1500;, score=0.892 total time= 6.7min\n",
      "[CV 3/5] END algorithm=SAMME.R, learning_rate=0.01, n_estimators=1500;, score=0.892 total time= 6.7min\n",
      "[CV 4/5] END algorithm=SAMME.R, learning_rate=0.01, n_estimators=1500;, score=0.892 total time= 6.9min\n",
      "[CV 5/5] END algorithm=SAMME.R, learning_rate=0.01, n_estimators=1500;, score=0.892 total time= 6.8min\n",
      "[CV 1/5] END algorithm=SAMME.R, learning_rate=0.1, n_estimators=500;, score=0.892 total time= 2.3min\n",
      "[CV 2/5] END algorithm=SAMME.R, learning_rate=0.1, n_estimators=500;, score=0.892 total time= 2.3min\n",
      "[CV 3/5] END algorithm=SAMME.R, learning_rate=0.1, n_estimators=500;, score=0.892 total time= 2.3min\n",
      "[CV 4/5] END algorithm=SAMME.R, learning_rate=0.1, n_estimators=500;, score=0.892 total time= 2.3min\n",
      "[CV 5/5] END algorithm=SAMME.R, learning_rate=0.1, n_estimators=500;, score=0.892 total time= 2.3min\n",
      "[CV 1/5] END algorithm=SAMME.R, learning_rate=0.1, n_estimators=1000;, score=0.892 total time= 4.5min\n",
      "[CV 2/5] END algorithm=SAMME.R, learning_rate=0.1, n_estimators=1000;, score=0.891 total time= 4.5min\n",
      "[CV 3/5] END algorithm=SAMME.R, learning_rate=0.1, n_estimators=1000;, score=0.892 total time= 4.5min\n",
      "[CV 4/5] END algorithm=SAMME.R, learning_rate=0.1, n_estimators=1000;, score=0.892 total time= 4.5min\n",
      "[CV 5/5] END algorithm=SAMME.R, learning_rate=0.1, n_estimators=1000;, score=0.892 total time= 4.5min\n",
      "[CV 1/5] END algorithm=SAMME.R, learning_rate=0.1, n_estimators=1500;, score=0.892 total time= 6.8min\n",
      "[CV 2/5] END algorithm=SAMME.R, learning_rate=0.1, n_estimators=1500;, score=0.891 total time= 6.8min\n",
      "[CV 3/5] END algorithm=SAMME.R, learning_rate=0.1, n_estimators=1500;, score=0.892 total time= 7.3min\n",
      "[CV 4/5] END algorithm=SAMME.R, learning_rate=0.1, n_estimators=1500;, score=0.892 total time= 7.0min\n",
      "[CV 5/5] END algorithm=SAMME.R, learning_rate=0.1, n_estimators=1500;, score=0.892 total time= 7.0min\n",
      "[CV 1/5] END algorithm=SAMME.R, learning_rate=0.5, n_estimators=500;, score=0.892 total time= 2.3min\n",
      "[CV 2/5] END algorithm=SAMME.R, learning_rate=0.5, n_estimators=500;, score=0.891 total time= 2.3min\n",
      "[CV 3/5] END algorithm=SAMME.R, learning_rate=0.5, n_estimators=500;, score=0.892 total time= 2.3min\n",
      "[CV 4/5] END algorithm=SAMME.R, learning_rate=0.5, n_estimators=500;, score=0.892 total time= 2.3min\n",
      "[CV 5/5] END algorithm=SAMME.R, learning_rate=0.5, n_estimators=500;, score=0.892 total time= 2.3min\n",
      "[CV 1/5] END algorithm=SAMME.R, learning_rate=0.5, n_estimators=1000;, score=0.892 total time= 4.6min\n",
      "[CV 2/5] END algorithm=SAMME.R, learning_rate=0.5, n_estimators=1000;, score=0.891 total time= 4.6min\n",
      "[CV 3/5] END algorithm=SAMME.R, learning_rate=0.5, n_estimators=1000;, score=0.892 total time= 4.7min\n",
      "[CV 4/5] END algorithm=SAMME.R, learning_rate=0.5, n_estimators=1000;, score=0.892 total time= 4.6min\n",
      "[CV 5/5] END algorithm=SAMME.R, learning_rate=0.5, n_estimators=1000;, score=0.892 total time= 4.6min\n",
      "[CV 1/5] END algorithm=SAMME.R, learning_rate=0.5, n_estimators=1500;, score=0.892 total time= 7.0min\n",
      "[CV 2/5] END algorithm=SAMME.R, learning_rate=0.5, n_estimators=1500;, score=0.891 total time= 7.0min\n",
      "[CV 3/5] END algorithm=SAMME.R, learning_rate=0.5, n_estimators=1500;, score=0.892 total time= 6.9min\n",
      "[CV 4/5] END algorithm=SAMME.R, learning_rate=0.5, n_estimators=1500;, score=0.892 total time= 6.9min\n",
      "[CV 5/5] END algorithm=SAMME.R, learning_rate=0.5, n_estimators=1500;, score=0.892 total time= 6.8min\n",
      "[CV 1/5] END algorithm=SAMME.R, learning_rate=0.7, n_estimators=500;, score=0.892 total time= 2.3min\n",
      "[CV 2/5] END algorithm=SAMME.R, learning_rate=0.7, n_estimators=500;, score=0.891 total time= 2.3min\n",
      "[CV 3/5] END algorithm=SAMME.R, learning_rate=0.7, n_estimators=500;, score=0.892 total time= 2.3min\n",
      "[CV 4/5] END algorithm=SAMME.R, learning_rate=0.7, n_estimators=500;, score=0.892 total time= 2.4min\n",
      "[CV 5/5] END algorithm=SAMME.R, learning_rate=0.7, n_estimators=500;, score=0.892 total time= 2.3min\n",
      "[CV 1/5] END algorithm=SAMME.R, learning_rate=0.7, n_estimators=1000;, score=0.892 total time= 4.6min\n",
      "[CV 2/5] END algorithm=SAMME.R, learning_rate=0.7, n_estimators=1000;, score=0.891 total time= 4.6min\n",
      "[CV 3/5] END algorithm=SAMME.R, learning_rate=0.7, n_estimators=1000;, score=0.892 total time= 4.7min\n",
      "[CV 4/5] END algorithm=SAMME.R, learning_rate=0.7, n_estimators=1000;, score=0.892 total time= 4.6min\n",
      "[CV 5/5] END algorithm=SAMME.R, learning_rate=0.7, n_estimators=1000;, score=0.892 total time= 4.6min\n",
      "[CV 1/5] END algorithm=SAMME.R, learning_rate=0.7, n_estimators=1500;, score=0.892 total time= 6.9min\n",
      "[CV 2/5] END algorithm=SAMME.R, learning_rate=0.7, n_estimators=1500;, score=0.891 total time= 6.9min\n",
      "[CV 3/5] END algorithm=SAMME.R, learning_rate=0.7, n_estimators=1500;, score=0.892 total time= 6.9min\n",
      "[CV 4/5] END algorithm=SAMME.R, learning_rate=0.7, n_estimators=1500;, score=0.892 total time= 8.3min\n",
      "[CV 5/5] END algorithm=SAMME.R, learning_rate=0.7, n_estimators=1500;, score=0.892 total time= 7.0min\n"
     ]
    },
    {
     "data": {
      "text/plain": [
       "GridSearchCV(estimator=AdaBoostClassifier(random_state=1),\n",
       "             param_grid={'algorithm': ['SAMME', 'SAMME.R'],\n",
       "                         'learning_rate': [0.001, 0.01, 0.1, 0.5, 0.7],\n",
       "                         'n_estimators': [500, 1000, 1500]},\n",
       "             verbose=3)"
      ]
     },
     "execution_count": 26,
     "metadata": {},
     "output_type": "execute_result"
    }
   ],
   "source": [
    "model= AdaBoostClassifier(random_state=1)\n",
    "\n",
    "param_grid = {\n",
    "    'learning_rate': [0.001, 0.01, 0.1, 0.5, 0.7],\n",
    "    'algorithm':['SAMME', 'SAMME.R'],\n",
    "    'n_estimators': [500, 1000, 1500]\n",
    "}\n",
    "ab_grid_clf = GridSearchCV(model, param_grid, verbose=3)\n",
    "ab_grid_clf.fit(X_train_scaled, y_train)"
   ]
  },
  {
   "cell_type": "code",
   "execution_count": 27,
   "id": "e74473f0",
   "metadata": {},
   "outputs": [
    {
     "name": "stdout",
     "output_type": "stream",
     "text": [
      "{'algorithm': 'SAMME', 'learning_rate': 0.7, 'n_estimators': 1000}\n",
      "0.8917733333333333\n"
     ]
    }
   ],
   "source": [
    "print(ab_grid_clf.best_params_)\n",
    "print(ab_grid_clf.best_score_)"
   ]
  },
  {
   "cell_type": "code",
   "execution_count": 28,
   "id": "b24ce990",
   "metadata": {},
   "outputs": [
    {
     "name": "stdout",
     "output_type": "stream",
     "text": [
      "Training Data Score: 0.8917786666666667\n",
      "Testing Data Score: 0.89048\n"
     ]
    }
   ],
   "source": [
    "ab_best_params=ab_grid_clf.best_params_\n",
    "ab_classifier= AdaBoostClassifier(**ab_best_params, random_state=1).fit(X_train_scaled, y_train)\n",
    "print(f\"Training Data Score: {ab_classifier.score(X_train_scaled, y_train)}\")\n",
    "print(f\"Testing Data Score: {ab_classifier.score(X_test_scaled, y_test)}\")"
   ]
  },
  {
   "cell_type": "code",
   "execution_count": 29,
   "id": "4ae87648",
   "metadata": {},
   "outputs": [],
   "source": [
    "pickle.dump(ab_classifier, open('../resources/ab_classifier.pkl','wb'))"
   ]
  },
  {
   "cell_type": "markdown",
   "id": "bc5a9470",
   "metadata": {},
   "source": [
    "#### SVC"
   ]
  },
  {
   "cell_type": "code",
   "execution_count": 31,
   "id": "1e7b9ac7",
   "metadata": {},
   "outputs": [
    {
     "name": "stdout",
     "output_type": "stream",
     "text": [
      "Fitting 5 folds for each of 16 candidates, totalling 80 fits\n",
      "[CV 1/5] END ....C=100, max_iter=1000, penalty=l1;, score=nan total time=   4.3s\n",
      "[CV 2/5] END ....C=100, max_iter=1000, penalty=l1;, score=nan total time=   0.7s\n",
      "[CV 3/5] END ....C=100, max_iter=1000, penalty=l1;, score=nan total time=   0.4s\n",
      "[CV 4/5] END ....C=100, max_iter=1000, penalty=l1;, score=nan total time=   0.2s\n",
      "[CV 5/5] END ....C=100, max_iter=1000, penalty=l1;, score=nan total time=   1.0s\n"
     ]
    },
    {
     "name": "stderr",
     "output_type": "stream",
     "text": [
      "/Users/michaelraines/opt/anaconda3/lib/python3.8/site-packages/sklearn/svm/_base.py:1206: ConvergenceWarning: Liblinear failed to converge, increase the number of iterations.\n",
      "  warnings.warn(\n"
     ]
    },
    {
     "name": "stdout",
     "output_type": "stream",
     "text": [
      "[CV 1/5] END ..C=100, max_iter=1000, penalty=l2;, score=0.820 total time= 3.6min\n"
     ]
    },
    {
     "name": "stderr",
     "output_type": "stream",
     "text": [
      "/Users/michaelraines/opt/anaconda3/lib/python3.8/site-packages/sklearn/svm/_base.py:1206: ConvergenceWarning: Liblinear failed to converge, increase the number of iterations.\n",
      "  warnings.warn(\n"
     ]
    },
    {
     "name": "stdout",
     "output_type": "stream",
     "text": [
      "[CV 2/5] END ..C=100, max_iter=1000, penalty=l2;, score=0.837 total time= 3.4min\n"
     ]
    },
    {
     "name": "stderr",
     "output_type": "stream",
     "text": [
      "/Users/michaelraines/opt/anaconda3/lib/python3.8/site-packages/sklearn/svm/_base.py:1206: ConvergenceWarning: Liblinear failed to converge, increase the number of iterations.\n",
      "  warnings.warn(\n"
     ]
    },
    {
     "name": "stdout",
     "output_type": "stream",
     "text": [
      "[CV 3/5] END ..C=100, max_iter=1000, penalty=l2;, score=0.827 total time= 2.9min\n"
     ]
    },
    {
     "name": "stderr",
     "output_type": "stream",
     "text": [
      "/Users/michaelraines/opt/anaconda3/lib/python3.8/site-packages/sklearn/svm/_base.py:1206: ConvergenceWarning: Liblinear failed to converge, increase the number of iterations.\n",
      "  warnings.warn(\n"
     ]
    },
    {
     "name": "stdout",
     "output_type": "stream",
     "text": [
      "[CV 4/5] END ..C=100, max_iter=1000, penalty=l2;, score=0.800 total time= 3.4min\n"
     ]
    },
    {
     "name": "stderr",
     "output_type": "stream",
     "text": [
      "/Users/michaelraines/opt/anaconda3/lib/python3.8/site-packages/sklearn/svm/_base.py:1206: ConvergenceWarning: Liblinear failed to converge, increase the number of iterations.\n",
      "  warnings.warn(\n"
     ]
    },
    {
     "name": "stdout",
     "output_type": "stream",
     "text": [
      "[CV 5/5] END ..C=100, max_iter=1000, penalty=l2;, score=0.829 total time= 4.5min\n",
      "[CV 1/5] END ....C=100, max_iter=1500, penalty=l1;, score=nan total time=   6.7s\n",
      "[CV 2/5] END ....C=100, max_iter=1500, penalty=l1;, score=nan total time=   2.4s\n",
      "[CV 3/5] END ....C=100, max_iter=1500, penalty=l1;, score=nan total time=   1.5s\n",
      "[CV 4/5] END ....C=100, max_iter=1500, penalty=l1;, score=nan total time=   0.8s\n",
      "[CV 5/5] END ....C=100, max_iter=1500, penalty=l1;, score=nan total time=   1.7s\n"
     ]
    },
    {
     "name": "stderr",
     "output_type": "stream",
     "text": [
      "/Users/michaelraines/opt/anaconda3/lib/python3.8/site-packages/sklearn/svm/_base.py:1206: ConvergenceWarning: Liblinear failed to converge, increase the number of iterations.\n",
      "  warnings.warn(\n"
     ]
    },
    {
     "name": "stdout",
     "output_type": "stream",
     "text": [
      "[CV 1/5] END ..C=100, max_iter=1500, penalty=l2;, score=0.806 total time= 6.5min\n"
     ]
    },
    {
     "name": "stderr",
     "output_type": "stream",
     "text": [
      "/Users/michaelraines/opt/anaconda3/lib/python3.8/site-packages/sklearn/svm/_base.py:1206: ConvergenceWarning: Liblinear failed to converge, increase the number of iterations.\n",
      "  warnings.warn(\n"
     ]
    },
    {
     "name": "stdout",
     "output_type": "stream",
     "text": [
      "[CV 2/5] END ..C=100, max_iter=1500, penalty=l2;, score=0.798 total time= 6.8min\n"
     ]
    },
    {
     "name": "stderr",
     "output_type": "stream",
     "text": [
      "/Users/michaelraines/opt/anaconda3/lib/python3.8/site-packages/sklearn/svm/_base.py:1206: ConvergenceWarning: Liblinear failed to converge, increase the number of iterations.\n",
      "  warnings.warn(\n"
     ]
    },
    {
     "name": "stdout",
     "output_type": "stream",
     "text": [
      "[CV 3/5] END ..C=100, max_iter=1500, penalty=l2;, score=0.822 total time= 7.0min\n"
     ]
    },
    {
     "name": "stderr",
     "output_type": "stream",
     "text": [
      "/Users/michaelraines/opt/anaconda3/lib/python3.8/site-packages/sklearn/svm/_base.py:1206: ConvergenceWarning: Liblinear failed to converge, increase the number of iterations.\n",
      "  warnings.warn(\n"
     ]
    },
    {
     "name": "stdout",
     "output_type": "stream",
     "text": [
      "[CV 4/5] END ..C=100, max_iter=1500, penalty=l2;, score=0.780 total time= 7.0min\n"
     ]
    },
    {
     "name": "stderr",
     "output_type": "stream",
     "text": [
      "/Users/michaelraines/opt/anaconda3/lib/python3.8/site-packages/sklearn/svm/_base.py:1206: ConvergenceWarning: Liblinear failed to converge, increase the number of iterations.\n",
      "  warnings.warn(\n"
     ]
    },
    {
     "name": "stdout",
     "output_type": "stream",
     "text": [
      "[CV 5/5] END ..C=100, max_iter=1500, penalty=l2;, score=0.838 total time= 7.2min\n",
      "[CV 1/5] END .....C=10, max_iter=1000, penalty=l1;, score=nan total time=  11.6s\n",
      "[CV 2/5] END .....C=10, max_iter=1000, penalty=l1;, score=nan total time=   1.0s\n",
      "[CV 3/5] END .....C=10, max_iter=1000, penalty=l1;, score=nan total time=   0.5s\n",
      "[CV 4/5] END .....C=10, max_iter=1000, penalty=l1;, score=nan total time=   1.9s\n",
      "[CV 5/5] END .....C=10, max_iter=1000, penalty=l1;, score=nan total time=   1.1s\n"
     ]
    },
    {
     "name": "stderr",
     "output_type": "stream",
     "text": [
      "/Users/michaelraines/opt/anaconda3/lib/python3.8/site-packages/sklearn/svm/_base.py:1206: ConvergenceWarning: Liblinear failed to converge, increase the number of iterations.\n",
      "  warnings.warn(\n"
     ]
    },
    {
     "name": "stdout",
     "output_type": "stream",
     "text": [
      "[CV 1/5] END ...C=10, max_iter=1000, penalty=l2;, score=0.876 total time= 4.8min\n"
     ]
    },
    {
     "name": "stderr",
     "output_type": "stream",
     "text": [
      "/Users/michaelraines/opt/anaconda3/lib/python3.8/site-packages/sklearn/svm/_base.py:1206: ConvergenceWarning: Liblinear failed to converge, increase the number of iterations.\n",
      "  warnings.warn(\n"
     ]
    },
    {
     "name": "stdout",
     "output_type": "stream",
     "text": [
      "[CV 2/5] END ...C=10, max_iter=1000, penalty=l2;, score=0.863 total time= 4.7min\n"
     ]
    },
    {
     "name": "stderr",
     "output_type": "stream",
     "text": [
      "/Users/michaelraines/opt/anaconda3/lib/python3.8/site-packages/sklearn/svm/_base.py:1206: ConvergenceWarning: Liblinear failed to converge, increase the number of iterations.\n",
      "  warnings.warn(\n"
     ]
    },
    {
     "name": "stdout",
     "output_type": "stream",
     "text": [
      "[CV 3/5] END ...C=10, max_iter=1000, penalty=l2;, score=0.874 total time= 4.9min\n"
     ]
    },
    {
     "name": "stderr",
     "output_type": "stream",
     "text": [
      "/Users/michaelraines/opt/anaconda3/lib/python3.8/site-packages/sklearn/svm/_base.py:1206: ConvergenceWarning: Liblinear failed to converge, increase the number of iterations.\n",
      "  warnings.warn(\n"
     ]
    },
    {
     "name": "stdout",
     "output_type": "stream",
     "text": [
      "[CV 4/5] END ...C=10, max_iter=1000, penalty=l2;, score=0.851 total time= 5.2min\n"
     ]
    },
    {
     "name": "stderr",
     "output_type": "stream",
     "text": [
      "/Users/michaelraines/opt/anaconda3/lib/python3.8/site-packages/sklearn/svm/_base.py:1206: ConvergenceWarning: Liblinear failed to converge, increase the number of iterations.\n",
      "  warnings.warn(\n"
     ]
    },
    {
     "name": "stdout",
     "output_type": "stream",
     "text": [
      "[CV 5/5] END ...C=10, max_iter=1000, penalty=l2;, score=0.852 total time= 4.7min\n",
      "[CV 1/5] END .....C=10, max_iter=1500, penalty=l1;, score=nan total time=   4.6s\n",
      "[CV 2/5] END .....C=10, max_iter=1500, penalty=l1;, score=nan total time=   1.2s\n",
      "[CV 3/5] END .....C=10, max_iter=1500, penalty=l1;, score=nan total time=   2.6s\n",
      "[CV 4/5] END .....C=10, max_iter=1500, penalty=l1;, score=nan total time=   2.4s\n",
      "[CV 5/5] END .....C=10, max_iter=1500, penalty=l1;, score=nan total time=   0.9s\n"
     ]
    },
    {
     "name": "stderr",
     "output_type": "stream",
     "text": [
      "/Users/michaelraines/opt/anaconda3/lib/python3.8/site-packages/sklearn/svm/_base.py:1206: ConvergenceWarning: Liblinear failed to converge, increase the number of iterations.\n",
      "  warnings.warn(\n"
     ]
    },
    {
     "name": "stdout",
     "output_type": "stream",
     "text": [
      "[CV 1/5] END ...C=10, max_iter=1500, penalty=l2;, score=0.886 total time= 6.7min\n"
     ]
    },
    {
     "name": "stderr",
     "output_type": "stream",
     "text": [
      "/Users/michaelraines/opt/anaconda3/lib/python3.8/site-packages/sklearn/svm/_base.py:1206: ConvergenceWarning: Liblinear failed to converge, increase the number of iterations.\n",
      "  warnings.warn(\n"
     ]
    },
    {
     "name": "stdout",
     "output_type": "stream",
     "text": [
      "[CV 2/5] END ...C=10, max_iter=1500, penalty=l2;, score=0.889 total time= 6.9min\n"
     ]
    },
    {
     "name": "stderr",
     "output_type": "stream",
     "text": [
      "/Users/michaelraines/opt/anaconda3/lib/python3.8/site-packages/sklearn/svm/_base.py:1206: ConvergenceWarning: Liblinear failed to converge, increase the number of iterations.\n",
      "  warnings.warn(\n"
     ]
    },
    {
     "name": "stdout",
     "output_type": "stream",
     "text": [
      "[CV 3/5] END ...C=10, max_iter=1500, penalty=l2;, score=0.891 total time= 7.0min\n"
     ]
    },
    {
     "name": "stderr",
     "output_type": "stream",
     "text": [
      "/Users/michaelraines/opt/anaconda3/lib/python3.8/site-packages/sklearn/svm/_base.py:1206: ConvergenceWarning: Liblinear failed to converge, increase the number of iterations.\n",
      "  warnings.warn(\n"
     ]
    },
    {
     "name": "stdout",
     "output_type": "stream",
     "text": [
      "[CV 4/5] END ...C=10, max_iter=1500, penalty=l2;, score=0.885 total time= 7.8min\n"
     ]
    },
    {
     "name": "stderr",
     "output_type": "stream",
     "text": [
      "/Users/michaelraines/opt/anaconda3/lib/python3.8/site-packages/sklearn/svm/_base.py:1206: ConvergenceWarning: Liblinear failed to converge, increase the number of iterations.\n",
      "  warnings.warn(\n"
     ]
    },
    {
     "name": "stdout",
     "output_type": "stream",
     "text": [
      "[CV 5/5] END ...C=10, max_iter=1500, penalty=l2;, score=0.884 total time= 7.6min\n",
      "[CV 1/5] END ....C=1.0, max_iter=1000, penalty=l1;, score=nan total time=   7.2s\n",
      "[CV 2/5] END ....C=1.0, max_iter=1000, penalty=l1;, score=nan total time=   0.4s\n",
      "[CV 3/5] END ....C=1.0, max_iter=1000, penalty=l1;, score=nan total time=   2.2s\n",
      "[CV 4/5] END ....C=1.0, max_iter=1000, penalty=l1;, score=nan total time=   2.3s\n",
      "[CV 5/5] END ....C=1.0, max_iter=1000, penalty=l1;, score=nan total time=   1.2s\n"
     ]
    },
    {
     "name": "stderr",
     "output_type": "stream",
     "text": [
      "/Users/michaelraines/opt/anaconda3/lib/python3.8/site-packages/sklearn/svm/_base.py:1206: ConvergenceWarning: Liblinear failed to converge, increase the number of iterations.\n",
      "  warnings.warn(\n"
     ]
    },
    {
     "name": "stdout",
     "output_type": "stream",
     "text": [
      "[CV 1/5] END ..C=1.0, max_iter=1000, penalty=l2;, score=0.891 total time= 4.1min\n"
     ]
    },
    {
     "name": "stderr",
     "output_type": "stream",
     "text": [
      "/Users/michaelraines/opt/anaconda3/lib/python3.8/site-packages/sklearn/svm/_base.py:1206: ConvergenceWarning: Liblinear failed to converge, increase the number of iterations.\n",
      "  warnings.warn(\n"
     ]
    },
    {
     "name": "stdout",
     "output_type": "stream",
     "text": [
      "[CV 2/5] END ..C=1.0, max_iter=1000, penalty=l2;, score=0.891 total time= 4.3min\n"
     ]
    },
    {
     "name": "stderr",
     "output_type": "stream",
     "text": [
      "/Users/michaelraines/opt/anaconda3/lib/python3.8/site-packages/sklearn/svm/_base.py:1206: ConvergenceWarning: Liblinear failed to converge, increase the number of iterations.\n",
      "  warnings.warn(\n"
     ]
    },
    {
     "name": "stdout",
     "output_type": "stream",
     "text": [
      "[CV 3/5] END ..C=1.0, max_iter=1000, penalty=l2;, score=0.891 total time= 4.5min\n"
     ]
    },
    {
     "name": "stderr",
     "output_type": "stream",
     "text": [
      "/Users/michaelraines/opt/anaconda3/lib/python3.8/site-packages/sklearn/svm/_base.py:1206: ConvergenceWarning: Liblinear failed to converge, increase the number of iterations.\n",
      "  warnings.warn(\n"
     ]
    },
    {
     "name": "stdout",
     "output_type": "stream",
     "text": [
      "[CV 4/5] END ..C=1.0, max_iter=1000, penalty=l2;, score=0.891 total time= 4.5min\n"
     ]
    },
    {
     "name": "stderr",
     "output_type": "stream",
     "text": [
      "/Users/michaelraines/opt/anaconda3/lib/python3.8/site-packages/sklearn/svm/_base.py:1206: ConvergenceWarning: Liblinear failed to converge, increase the number of iterations.\n",
      "  warnings.warn(\n"
     ]
    },
    {
     "name": "stdout",
     "output_type": "stream",
     "text": [
      "[CV 5/5] END ..C=1.0, max_iter=1000, penalty=l2;, score=0.891 total time= 4.4min\n",
      "[CV 1/5] END ....C=1.0, max_iter=1500, penalty=l1;, score=nan total time=   6.1s\n",
      "[CV 2/5] END ....C=1.0, max_iter=1500, penalty=l1;, score=nan total time=   1.6s\n",
      "[CV 3/5] END ....C=1.0, max_iter=1500, penalty=l1;, score=nan total time=   1.0s\n",
      "[CV 4/5] END ....C=1.0, max_iter=1500, penalty=l1;, score=nan total time=   0.7s\n",
      "[CV 5/5] END ....C=1.0, max_iter=1500, penalty=l1;, score=nan total time=   0.5s\n"
     ]
    },
    {
     "name": "stderr",
     "output_type": "stream",
     "text": [
      "/Users/michaelraines/opt/anaconda3/lib/python3.8/site-packages/sklearn/svm/_base.py:1206: ConvergenceWarning: Liblinear failed to converge, increase the number of iterations.\n",
      "  warnings.warn(\n"
     ]
    },
    {
     "name": "stdout",
     "output_type": "stream",
     "text": [
      "[CV 1/5] END ..C=1.0, max_iter=1500, penalty=l2;, score=0.891 total time= 6.6min\n"
     ]
    },
    {
     "name": "stderr",
     "output_type": "stream",
     "text": [
      "/Users/michaelraines/opt/anaconda3/lib/python3.8/site-packages/sklearn/svm/_base.py:1206: ConvergenceWarning: Liblinear failed to converge, increase the number of iterations.\n",
      "  warnings.warn(\n"
     ]
    },
    {
     "name": "stdout",
     "output_type": "stream",
     "text": [
      "[CV 2/5] END ..C=1.0, max_iter=1500, penalty=l2;, score=0.891 total time= 6.9min\n"
     ]
    },
    {
     "name": "stderr",
     "output_type": "stream",
     "text": [
      "/Users/michaelraines/opt/anaconda3/lib/python3.8/site-packages/sklearn/svm/_base.py:1206: ConvergenceWarning: Liblinear failed to converge, increase the number of iterations.\n",
      "  warnings.warn(\n"
     ]
    },
    {
     "name": "stdout",
     "output_type": "stream",
     "text": [
      "[CV 3/5] END ..C=1.0, max_iter=1500, penalty=l2;, score=0.891 total time= 7.0min\n"
     ]
    },
    {
     "name": "stderr",
     "output_type": "stream",
     "text": [
      "/Users/michaelraines/opt/anaconda3/lib/python3.8/site-packages/sklearn/svm/_base.py:1206: ConvergenceWarning: Liblinear failed to converge, increase the number of iterations.\n",
      "  warnings.warn(\n"
     ]
    },
    {
     "name": "stdout",
     "output_type": "stream",
     "text": [
      "[CV 4/5] END ..C=1.0, max_iter=1500, penalty=l2;, score=0.891 total time= 6.9min\n"
     ]
    },
    {
     "name": "stderr",
     "output_type": "stream",
     "text": [
      "/Users/michaelraines/opt/anaconda3/lib/python3.8/site-packages/sklearn/svm/_base.py:1206: ConvergenceWarning: Liblinear failed to converge, increase the number of iterations.\n",
      "  warnings.warn(\n"
     ]
    },
    {
     "name": "stdout",
     "output_type": "stream",
     "text": [
      "[CV 5/5] END ..C=1.0, max_iter=1500, penalty=l2;, score=0.891 total time= 6.7min\n",
      "[CV 1/5] END ....C=0.1, max_iter=1000, penalty=l1;, score=nan total time=   8.3s\n",
      "[CV 2/5] END ....C=0.1, max_iter=1000, penalty=l1;, score=nan total time=   2.6s\n",
      "[CV 3/5] END ....C=0.1, max_iter=1000, penalty=l1;, score=nan total time=   1.2s\n",
      "[CV 4/5] END ....C=0.1, max_iter=1000, penalty=l1;, score=nan total time=   1.5s\n",
      "[CV 5/5] END ....C=0.1, max_iter=1000, penalty=l1;, score=nan total time=   0.9s\n"
     ]
    },
    {
     "name": "stderr",
     "output_type": "stream",
     "text": [
      "/Users/michaelraines/opt/anaconda3/lib/python3.8/site-packages/sklearn/svm/_base.py:1206: ConvergenceWarning: Liblinear failed to converge, increase the number of iterations.\n",
      "  warnings.warn(\n"
     ]
    },
    {
     "name": "stdout",
     "output_type": "stream",
     "text": [
      "[CV 1/5] END ..C=0.1, max_iter=1000, penalty=l2;, score=0.891 total time= 4.6min\n"
     ]
    },
    {
     "name": "stderr",
     "output_type": "stream",
     "text": [
      "/Users/michaelraines/opt/anaconda3/lib/python3.8/site-packages/sklearn/svm/_base.py:1206: ConvergenceWarning: Liblinear failed to converge, increase the number of iterations.\n",
      "  warnings.warn(\n"
     ]
    },
    {
     "name": "stdout",
     "output_type": "stream",
     "text": [
      "[CV 2/5] END ..C=0.1, max_iter=1000, penalty=l2;, score=0.891 total time= 4.5min\n"
     ]
    },
    {
     "name": "stderr",
     "output_type": "stream",
     "text": [
      "/Users/michaelraines/opt/anaconda3/lib/python3.8/site-packages/sklearn/svm/_base.py:1206: ConvergenceWarning: Liblinear failed to converge, increase the number of iterations.\n",
      "  warnings.warn(\n"
     ]
    },
    {
     "name": "stdout",
     "output_type": "stream",
     "text": [
      "[CV 3/5] END ..C=0.1, max_iter=1000, penalty=l2;, score=0.891 total time= 4.6min\n"
     ]
    },
    {
     "name": "stderr",
     "output_type": "stream",
     "text": [
      "/Users/michaelraines/opt/anaconda3/lib/python3.8/site-packages/sklearn/svm/_base.py:1206: ConvergenceWarning: Liblinear failed to converge, increase the number of iterations.\n",
      "  warnings.warn(\n"
     ]
    },
    {
     "name": "stdout",
     "output_type": "stream",
     "text": [
      "[CV 4/5] END ..C=0.1, max_iter=1000, penalty=l2;, score=0.891 total time= 3.8min\n"
     ]
    },
    {
     "name": "stderr",
     "output_type": "stream",
     "text": [
      "/Users/michaelraines/opt/anaconda3/lib/python3.8/site-packages/sklearn/svm/_base.py:1206: ConvergenceWarning: Liblinear failed to converge, increase the number of iterations.\n",
      "  warnings.warn(\n"
     ]
    },
    {
     "name": "stdout",
     "output_type": "stream",
     "text": [
      "[CV 5/5] END ..C=0.1, max_iter=1000, penalty=l2;, score=0.891 total time= 2.7min\n",
      "[CV 1/5] END ....C=0.1, max_iter=1500, penalty=l1;, score=nan total time=   0.4s\n",
      "[CV 2/5] END ....C=0.1, max_iter=1500, penalty=l1;, score=nan total time=   0.1s\n",
      "[CV 3/5] END ....C=0.1, max_iter=1500, penalty=l1;, score=nan total time=   0.1s\n",
      "[CV 4/5] END ....C=0.1, max_iter=1500, penalty=l1;, score=nan total time=   0.1s\n",
      "[CV 5/5] END ....C=0.1, max_iter=1500, penalty=l1;, score=nan total time=   0.1s\n"
     ]
    },
    {
     "name": "stderr",
     "output_type": "stream",
     "text": [
      "/Users/michaelraines/opt/anaconda3/lib/python3.8/site-packages/sklearn/svm/_base.py:1206: ConvergenceWarning: Liblinear failed to converge, increase the number of iterations.\n",
      "  warnings.warn(\n"
     ]
    },
    {
     "name": "stdout",
     "output_type": "stream",
     "text": [
      "[CV 1/5] END ..C=0.1, max_iter=1500, penalty=l2;, score=0.891 total time= 4.0min\n"
     ]
    },
    {
     "name": "stderr",
     "output_type": "stream",
     "text": [
      "/Users/michaelraines/opt/anaconda3/lib/python3.8/site-packages/sklearn/svm/_base.py:1206: ConvergenceWarning: Liblinear failed to converge, increase the number of iterations.\n",
      "  warnings.warn(\n"
     ]
    },
    {
     "name": "stdout",
     "output_type": "stream",
     "text": [
      "[CV 2/5] END ..C=0.1, max_iter=1500, penalty=l2;, score=0.891 total time= 4.0min\n"
     ]
    },
    {
     "name": "stderr",
     "output_type": "stream",
     "text": [
      "/Users/michaelraines/opt/anaconda3/lib/python3.8/site-packages/sklearn/svm/_base.py:1206: ConvergenceWarning: Liblinear failed to converge, increase the number of iterations.\n",
      "  warnings.warn(\n"
     ]
    },
    {
     "name": "stdout",
     "output_type": "stream",
     "text": [
      "[CV 3/5] END ..C=0.1, max_iter=1500, penalty=l2;, score=0.891 total time= 4.0min\n"
     ]
    },
    {
     "name": "stderr",
     "output_type": "stream",
     "text": [
      "/Users/michaelraines/opt/anaconda3/lib/python3.8/site-packages/sklearn/svm/_base.py:1206: ConvergenceWarning: Liblinear failed to converge, increase the number of iterations.\n",
      "  warnings.warn(\n"
     ]
    },
    {
     "name": "stdout",
     "output_type": "stream",
     "text": [
      "[CV 4/5] END ..C=0.1, max_iter=1500, penalty=l2;, score=0.891 total time=12.5min\n"
     ]
    },
    {
     "name": "stderr",
     "output_type": "stream",
     "text": [
      "/Users/michaelraines/opt/anaconda3/lib/python3.8/site-packages/sklearn/svm/_base.py:1206: ConvergenceWarning: Liblinear failed to converge, increase the number of iterations.\n",
      "  warnings.warn(\n"
     ]
    },
    {
     "name": "stdout",
     "output_type": "stream",
     "text": [
      "[CV 5/5] END ..C=0.1, max_iter=1500, penalty=l2;, score=0.891 total time= 6.0min\n"
     ]
    },
    {
     "name": "stderr",
     "output_type": "stream",
     "text": [
      "/Users/michaelraines/opt/anaconda3/lib/python3.8/site-packages/sklearn/model_selection/_validation.py:372: FitFailedWarning: \n",
      "40 fits failed out of a total of 80.\n",
      "The score on these train-test partitions for these parameters will be set to nan.\n",
      "If these failures are not expected, you can try to debug them by setting error_score='raise'.\n",
      "\n",
      "Below are more details about the failures:\n",
      "--------------------------------------------------------------------------------\n",
      "40 fits failed with the following error:\n",
      "Traceback (most recent call last):\n",
      "  File \"/Users/michaelraines/opt/anaconda3/lib/python3.8/site-packages/sklearn/model_selection/_validation.py\", line 680, in _fit_and_score\n",
      "    estimator.fit(X_train, y_train, **fit_params)\n",
      "  File \"/Users/michaelraines/opt/anaconda3/lib/python3.8/site-packages/sklearn/svm/_classes.py\", line 257, in fit\n",
      "    self.coef_, self.intercept_, self.n_iter_ = _fit_liblinear(\n",
      "  File \"/Users/michaelraines/opt/anaconda3/lib/python3.8/site-packages/sklearn/svm/_base.py\", line 1185, in _fit_liblinear\n",
      "    solver_type = _get_liblinear_solver_type(multi_class, penalty, loss, dual)\n",
      "  File \"/Users/michaelraines/opt/anaconda3/lib/python3.8/site-packages/sklearn/svm/_base.py\", line 1024, in _get_liblinear_solver_type\n",
      "    raise ValueError(\n",
      "ValueError: Unsupported set of arguments: The combination of penalty='l1' and loss='squared_hinge' are not supported when dual=True, Parameters: penalty='l1', loss='squared_hinge', dual=True\n",
      "\n",
      "  warnings.warn(some_fits_failed_message, FitFailedWarning)\n",
      "/Users/michaelraines/opt/anaconda3/lib/python3.8/site-packages/sklearn/model_selection/_search.py:969: UserWarning: One or more of the test scores are non-finite: [       nan 0.82264267        nan 0.80887467        nan 0.863152\n",
      "        nan 0.88692267        nan 0.891112          nan 0.89119467\n",
      "        nan 0.89119467        nan 0.89119467]\n",
      "  warnings.warn(\n",
      "/Users/michaelraines/opt/anaconda3/lib/python3.8/site-packages/sklearn/svm/_base.py:1206: ConvergenceWarning: Liblinear failed to converge, increase the number of iterations.\n",
      "  warnings.warn(\n"
     ]
    },
    {
     "data": {
      "text/plain": [
       "GridSearchCV(estimator=LinearSVC(),\n",
       "             param_grid={'C': [100, 10, 1.0, 0.1], 'max_iter': [1000, 1500],\n",
       "                         'penalty': ['l1', 'l2']},\n",
       "             verbose=3)"
      ]
     },
     "execution_count": 31,
     "metadata": {},
     "output_type": "execute_result"
    }
   ],
   "source": [
    "model= LinearSVC()\n",
    "param_grid = {'C': [100, 10, 1.0, 0.1],\n",
    "              'penalty': ['l1', 'l2'], \n",
    "            'max_iter':[1000, 1500]}\n",
    "svc_grid_clf = GridSearchCV(model, param_grid, verbose=3)\n",
    "svc_grid_clf.fit(X_train_scaled, y_train)"
   ]
  },
  {
   "cell_type": "code",
   "execution_count": 32,
   "id": "402967a6",
   "metadata": {},
   "outputs": [
    {
     "name": "stdout",
     "output_type": "stream",
     "text": [
      "{'C': 1.0, 'max_iter': 1500, 'penalty': 'l2'}\n",
      "0.8911946666666666\n"
     ]
    }
   ],
   "source": [
    "print(svc_grid_clf.best_params_)\n",
    "print(svc_grid_clf.best_score_)"
   ]
  },
  {
   "cell_type": "code",
   "execution_count": 33,
   "id": "44929ac4",
   "metadata": {},
   "outputs": [
    {
     "name": "stderr",
     "output_type": "stream",
     "text": [
      "/Users/michaelraines/opt/anaconda3/lib/python3.8/site-packages/sklearn/svm/_base.py:1206: ConvergenceWarning: Liblinear failed to converge, increase the number of iterations.\n",
      "  warnings.warn(\n"
     ]
    },
    {
     "name": "stdout",
     "output_type": "stream",
     "text": [
      "Training Data Score: 0.8911946666666667\n",
      "Testing Data Score: 0.889776\n"
     ]
    }
   ],
   "source": [
    "svc_best_params=svc_grid_clf.best_params_\n",
    "svc_classifier= LinearSVC(**svc_best_params).fit(X_train_scaled, y_train)\n",
    "print(f\"Training Data Score: {svc_classifier.score(X_train_scaled, y_train)}\")\n",
    "print(f\"Testing Data Score: {svc_classifier.score(X_test_scaled, y_test)}\")"
   ]
  },
  {
   "cell_type": "code",
   "execution_count": 34,
   "id": "59491c42",
   "metadata": {},
   "outputs": [],
   "source": [
    "pickle.dump(svc_classifier, open('../resources/svc_classifier.pkl','wb'))"
   ]
  },
  {
   "cell_type": "markdown",
   "id": "1698049b",
   "metadata": {},
   "source": [
    "#### KNeighbors Classifier"
   ]
  },
  {
   "cell_type": "code",
   "execution_count": 11,
   "id": "c1de667b",
   "metadata": {},
   "outputs": [
    {
     "ename": "KeyboardInterrupt",
     "evalue": "",
     "output_type": "error",
     "traceback": [
      "\u001b[0;31m---------------------------------------------------------------------------\u001b[0m",
      "\u001b[0;31mKeyboardInterrupt\u001b[0m                         Traceback (most recent call last)",
      "\u001b[0;32m/var/folders/qc/_ykx45d102d0nr51ysx4tb4h0000gn/T/ipykernel_1407/3489949500.py\u001b[0m in \u001b[0;36m<module>\u001b[0;34m\u001b[0m\n\u001b[1;32m      6\u001b[0m     \u001b[0mknn\u001b[0m \u001b[0;34m=\u001b[0m \u001b[0mKNeighborsClassifier\u001b[0m\u001b[0;34m(\u001b[0m\u001b[0mn_neighbors\u001b[0m\u001b[0;34m=\u001b[0m\u001b[0mk\u001b[0m\u001b[0;34m)\u001b[0m\u001b[0;34m\u001b[0m\u001b[0;34m\u001b[0m\u001b[0m\n\u001b[1;32m      7\u001b[0m     \u001b[0mknn\u001b[0m\u001b[0;34m.\u001b[0m\u001b[0mfit\u001b[0m\u001b[0;34m(\u001b[0m\u001b[0mX_train_scaled\u001b[0m\u001b[0;34m,\u001b[0m \u001b[0my_train\u001b[0m\u001b[0;34m)\u001b[0m\u001b[0;34m\u001b[0m\u001b[0;34m\u001b[0m\u001b[0m\n\u001b[0;32m----> 8\u001b[0;31m     \u001b[0mtrain_score\u001b[0m \u001b[0;34m=\u001b[0m \u001b[0mknn\u001b[0m\u001b[0;34m.\u001b[0m\u001b[0mscore\u001b[0m\u001b[0;34m(\u001b[0m\u001b[0mX_train_scaled\u001b[0m\u001b[0;34m,\u001b[0m \u001b[0my_train\u001b[0m\u001b[0;34m)\u001b[0m\u001b[0;34m\u001b[0m\u001b[0;34m\u001b[0m\u001b[0m\n\u001b[0m\u001b[1;32m      9\u001b[0m     \u001b[0mtest_score\u001b[0m \u001b[0;34m=\u001b[0m \u001b[0mknn\u001b[0m\u001b[0;34m.\u001b[0m\u001b[0mscore\u001b[0m\u001b[0;34m(\u001b[0m\u001b[0mX_test_scaled\u001b[0m\u001b[0;34m,\u001b[0m \u001b[0my_test\u001b[0m\u001b[0;34m)\u001b[0m\u001b[0;34m\u001b[0m\u001b[0;34m\u001b[0m\u001b[0m\n\u001b[1;32m     10\u001b[0m     \u001b[0mtrain_scores\u001b[0m\u001b[0;34m.\u001b[0m\u001b[0mappend\u001b[0m\u001b[0;34m(\u001b[0m\u001b[0mtrain_score\u001b[0m\u001b[0;34m)\u001b[0m\u001b[0;34m\u001b[0m\u001b[0;34m\u001b[0m\u001b[0m\n",
      "\u001b[0;32m~/opt/anaconda3/lib/python3.8/site-packages/sklearn/base.py\u001b[0m in \u001b[0;36mscore\u001b[0;34m(self, X, y, sample_weight)\u001b[0m\n\u001b[1;32m    649\u001b[0m         \u001b[0;32mfrom\u001b[0m \u001b[0;34m.\u001b[0m\u001b[0mmetrics\u001b[0m \u001b[0;32mimport\u001b[0m \u001b[0maccuracy_score\u001b[0m\u001b[0;34m\u001b[0m\u001b[0;34m\u001b[0m\u001b[0m\n\u001b[1;32m    650\u001b[0m \u001b[0;34m\u001b[0m\u001b[0m\n\u001b[0;32m--> 651\u001b[0;31m         \u001b[0;32mreturn\u001b[0m \u001b[0maccuracy_score\u001b[0m\u001b[0;34m(\u001b[0m\u001b[0my\u001b[0m\u001b[0;34m,\u001b[0m \u001b[0mself\u001b[0m\u001b[0;34m.\u001b[0m\u001b[0mpredict\u001b[0m\u001b[0;34m(\u001b[0m\u001b[0mX\u001b[0m\u001b[0;34m)\u001b[0m\u001b[0;34m,\u001b[0m \u001b[0msample_weight\u001b[0m\u001b[0;34m=\u001b[0m\u001b[0msample_weight\u001b[0m\u001b[0;34m)\u001b[0m\u001b[0;34m\u001b[0m\u001b[0;34m\u001b[0m\u001b[0m\n\u001b[0m\u001b[1;32m    652\u001b[0m \u001b[0;34m\u001b[0m\u001b[0m\n\u001b[1;32m    653\u001b[0m     \u001b[0;32mdef\u001b[0m \u001b[0m_more_tags\u001b[0m\u001b[0;34m(\u001b[0m\u001b[0mself\u001b[0m\u001b[0;34m)\u001b[0m\u001b[0;34m:\u001b[0m\u001b[0;34m\u001b[0m\u001b[0;34m\u001b[0m\u001b[0m\n",
      "\u001b[0;32m~/opt/anaconda3/lib/python3.8/site-packages/sklearn/neighbors/_classification.py\u001b[0m in \u001b[0;36mpredict\u001b[0;34m(self, X)\u001b[0m\n\u001b[1;32m    212\u001b[0m             \u001b[0mClass\u001b[0m \u001b[0mlabels\u001b[0m \u001b[0;32mfor\u001b[0m \u001b[0meach\u001b[0m \u001b[0mdata\u001b[0m \u001b[0msample\u001b[0m\u001b[0;34m.\u001b[0m\u001b[0;34m\u001b[0m\u001b[0;34m\u001b[0m\u001b[0m\n\u001b[1;32m    213\u001b[0m         \"\"\"\n\u001b[0;32m--> 214\u001b[0;31m         \u001b[0mneigh_dist\u001b[0m\u001b[0;34m,\u001b[0m \u001b[0mneigh_ind\u001b[0m \u001b[0;34m=\u001b[0m \u001b[0mself\u001b[0m\u001b[0;34m.\u001b[0m\u001b[0mkneighbors\u001b[0m\u001b[0;34m(\u001b[0m\u001b[0mX\u001b[0m\u001b[0;34m)\u001b[0m\u001b[0;34m\u001b[0m\u001b[0;34m\u001b[0m\u001b[0m\n\u001b[0m\u001b[1;32m    215\u001b[0m         \u001b[0mclasses_\u001b[0m \u001b[0;34m=\u001b[0m \u001b[0mself\u001b[0m\u001b[0;34m.\u001b[0m\u001b[0mclasses_\u001b[0m\u001b[0;34m\u001b[0m\u001b[0;34m\u001b[0m\u001b[0m\n\u001b[1;32m    216\u001b[0m         \u001b[0m_y\u001b[0m \u001b[0;34m=\u001b[0m \u001b[0mself\u001b[0m\u001b[0;34m.\u001b[0m\u001b[0m_y\u001b[0m\u001b[0;34m\u001b[0m\u001b[0;34m\u001b[0m\u001b[0m\n",
      "\u001b[0;32m~/opt/anaconda3/lib/python3.8/site-packages/sklearn/neighbors/_base.py\u001b[0m in \u001b[0;36mkneighbors\u001b[0;34m(self, X, n_neighbors, return_distance)\u001b[0m\n\u001b[1;32m    750\u001b[0m                 \u001b[0mkwds\u001b[0m \u001b[0;34m=\u001b[0m \u001b[0mself\u001b[0m\u001b[0;34m.\u001b[0m\u001b[0meffective_metric_params_\u001b[0m\u001b[0;34m\u001b[0m\u001b[0;34m\u001b[0m\u001b[0m\n\u001b[1;32m    751\u001b[0m \u001b[0;34m\u001b[0m\u001b[0m\n\u001b[0;32m--> 752\u001b[0;31m             chunked_results = list(\n\u001b[0m\u001b[1;32m    753\u001b[0m                 pairwise_distances_chunked(\n\u001b[1;32m    754\u001b[0m                     \u001b[0mX\u001b[0m\u001b[0;34m,\u001b[0m\u001b[0;34m\u001b[0m\u001b[0;34m\u001b[0m\u001b[0m\n",
      "\u001b[0;32m~/opt/anaconda3/lib/python3.8/site-packages/sklearn/metrics/pairwise.py\u001b[0m in \u001b[0;36mpairwise_distances_chunked\u001b[0;34m(X, Y, reduce_func, metric, n_jobs, working_memory, **kwds)\u001b[0m\n\u001b[1;32m   1715\u001b[0m         \u001b[0;32melse\u001b[0m\u001b[0;34m:\u001b[0m\u001b[0;34m\u001b[0m\u001b[0;34m\u001b[0m\u001b[0m\n\u001b[1;32m   1716\u001b[0m             \u001b[0mX_chunk\u001b[0m \u001b[0;34m=\u001b[0m \u001b[0mX\u001b[0m\u001b[0;34m[\u001b[0m\u001b[0msl\u001b[0m\u001b[0;34m]\u001b[0m\u001b[0;34m\u001b[0m\u001b[0;34m\u001b[0m\u001b[0m\n\u001b[0;32m-> 1717\u001b[0;31m         \u001b[0mD_chunk\u001b[0m \u001b[0;34m=\u001b[0m \u001b[0mpairwise_distances\u001b[0m\u001b[0;34m(\u001b[0m\u001b[0mX_chunk\u001b[0m\u001b[0;34m,\u001b[0m \u001b[0mY\u001b[0m\u001b[0;34m,\u001b[0m \u001b[0mmetric\u001b[0m\u001b[0;34m=\u001b[0m\u001b[0mmetric\u001b[0m\u001b[0;34m,\u001b[0m \u001b[0mn_jobs\u001b[0m\u001b[0;34m=\u001b[0m\u001b[0mn_jobs\u001b[0m\u001b[0;34m,\u001b[0m \u001b[0;34m**\u001b[0m\u001b[0mkwds\u001b[0m\u001b[0;34m)\u001b[0m\u001b[0;34m\u001b[0m\u001b[0;34m\u001b[0m\u001b[0m\n\u001b[0m\u001b[1;32m   1718\u001b[0m         if (X is Y or Y is None) and PAIRWISE_DISTANCE_FUNCTIONS.get(\n\u001b[1;32m   1719\u001b[0m             \u001b[0mmetric\u001b[0m\u001b[0;34m,\u001b[0m \u001b[0;32mNone\u001b[0m\u001b[0;34m\u001b[0m\u001b[0;34m\u001b[0m\u001b[0m\n",
      "\u001b[0;32m~/opt/anaconda3/lib/python3.8/site-packages/sklearn/metrics/pairwise.py\u001b[0m in \u001b[0;36mpairwise_distances\u001b[0;34m(X, Y, metric, n_jobs, force_all_finite, **kwds)\u001b[0m\n\u001b[1;32m   1887\u001b[0m         \u001b[0mfunc\u001b[0m \u001b[0;34m=\u001b[0m \u001b[0mpartial\u001b[0m\u001b[0;34m(\u001b[0m\u001b[0mdistance\u001b[0m\u001b[0;34m.\u001b[0m\u001b[0mcdist\u001b[0m\u001b[0;34m,\u001b[0m \u001b[0mmetric\u001b[0m\u001b[0;34m=\u001b[0m\u001b[0mmetric\u001b[0m\u001b[0;34m,\u001b[0m \u001b[0;34m**\u001b[0m\u001b[0mkwds\u001b[0m\u001b[0;34m)\u001b[0m\u001b[0;34m\u001b[0m\u001b[0;34m\u001b[0m\u001b[0m\n\u001b[1;32m   1888\u001b[0m \u001b[0;34m\u001b[0m\u001b[0m\n\u001b[0;32m-> 1889\u001b[0;31m     \u001b[0;32mreturn\u001b[0m \u001b[0m_parallel_pairwise\u001b[0m\u001b[0;34m(\u001b[0m\u001b[0mX\u001b[0m\u001b[0;34m,\u001b[0m \u001b[0mY\u001b[0m\u001b[0;34m,\u001b[0m \u001b[0mfunc\u001b[0m\u001b[0;34m,\u001b[0m \u001b[0mn_jobs\u001b[0m\u001b[0;34m,\u001b[0m \u001b[0;34m**\u001b[0m\u001b[0mkwds\u001b[0m\u001b[0;34m)\u001b[0m\u001b[0;34m\u001b[0m\u001b[0;34m\u001b[0m\u001b[0m\n\u001b[0m\u001b[1;32m   1890\u001b[0m \u001b[0;34m\u001b[0m\u001b[0m\n\u001b[1;32m   1891\u001b[0m \u001b[0;34m\u001b[0m\u001b[0m\n",
      "\u001b[0;32m~/opt/anaconda3/lib/python3.8/site-packages/sklearn/metrics/pairwise.py\u001b[0m in \u001b[0;36m_parallel_pairwise\u001b[0;34m(X, Y, func, n_jobs, **kwds)\u001b[0m\n\u001b[1;32m   1428\u001b[0m \u001b[0;34m\u001b[0m\u001b[0m\n\u001b[1;32m   1429\u001b[0m     \u001b[0;32mif\u001b[0m \u001b[0meffective_n_jobs\u001b[0m\u001b[0;34m(\u001b[0m\u001b[0mn_jobs\u001b[0m\u001b[0;34m)\u001b[0m \u001b[0;34m==\u001b[0m \u001b[0;36m1\u001b[0m\u001b[0;34m:\u001b[0m\u001b[0;34m\u001b[0m\u001b[0;34m\u001b[0m\u001b[0m\n\u001b[0;32m-> 1430\u001b[0;31m         \u001b[0;32mreturn\u001b[0m \u001b[0mfunc\u001b[0m\u001b[0;34m(\u001b[0m\u001b[0mX\u001b[0m\u001b[0;34m,\u001b[0m \u001b[0mY\u001b[0m\u001b[0;34m,\u001b[0m \u001b[0;34m**\u001b[0m\u001b[0mkwds\u001b[0m\u001b[0;34m)\u001b[0m\u001b[0;34m\u001b[0m\u001b[0;34m\u001b[0m\u001b[0m\n\u001b[0m\u001b[1;32m   1431\u001b[0m \u001b[0;34m\u001b[0m\u001b[0m\n\u001b[1;32m   1432\u001b[0m     \u001b[0;31m# enforce a threading backend to prevent data communication overhead\u001b[0m\u001b[0;34m\u001b[0m\u001b[0;34m\u001b[0m\u001b[0;34m\u001b[0m\u001b[0m\n",
      "\u001b[0;32m~/opt/anaconda3/lib/python3.8/site-packages/sklearn/metrics/pairwise.py\u001b[0m in \u001b[0;36meuclidean_distances\u001b[0;34m(X, Y, Y_norm_squared, squared, X_norm_squared)\u001b[0m\n\u001b[1;32m    328\u001b[0m             )\n\u001b[1;32m    329\u001b[0m \u001b[0;34m\u001b[0m\u001b[0m\n\u001b[0;32m--> 330\u001b[0;31m     \u001b[0;32mreturn\u001b[0m \u001b[0m_euclidean_distances\u001b[0m\u001b[0;34m(\u001b[0m\u001b[0mX\u001b[0m\u001b[0;34m,\u001b[0m \u001b[0mY\u001b[0m\u001b[0;34m,\u001b[0m \u001b[0mX_norm_squared\u001b[0m\u001b[0;34m,\u001b[0m \u001b[0mY_norm_squared\u001b[0m\u001b[0;34m,\u001b[0m \u001b[0msquared\u001b[0m\u001b[0;34m)\u001b[0m\u001b[0;34m\u001b[0m\u001b[0;34m\u001b[0m\u001b[0m\n\u001b[0m\u001b[1;32m    331\u001b[0m \u001b[0;34m\u001b[0m\u001b[0m\n\u001b[1;32m    332\u001b[0m \u001b[0;34m\u001b[0m\u001b[0m\n",
      "\u001b[0;32m~/opt/anaconda3/lib/python3.8/site-packages/sklearn/metrics/pairwise.py\u001b[0m in \u001b[0;36m_euclidean_distances\u001b[0;34m(X, Y, X_norm_squared, Y_norm_squared, squared)\u001b[0m\n\u001b[1;32m    369\u001b[0m     \u001b[0;32melse\u001b[0m\u001b[0;34m:\u001b[0m\u001b[0;34m\u001b[0m\u001b[0;34m\u001b[0m\u001b[0m\n\u001b[1;32m    370\u001b[0m         \u001b[0;31m# if dtype is already float64, no need to chunk and upcast\u001b[0m\u001b[0;34m\u001b[0m\u001b[0;34m\u001b[0m\u001b[0;34m\u001b[0m\u001b[0m\n\u001b[0;32m--> 371\u001b[0;31m         \u001b[0mdistances\u001b[0m \u001b[0;34m=\u001b[0m \u001b[0;34m-\u001b[0m\u001b[0;36m2\u001b[0m \u001b[0;34m*\u001b[0m \u001b[0msafe_sparse_dot\u001b[0m\u001b[0;34m(\u001b[0m\u001b[0mX\u001b[0m\u001b[0;34m,\u001b[0m \u001b[0mY\u001b[0m\u001b[0;34m.\u001b[0m\u001b[0mT\u001b[0m\u001b[0;34m,\u001b[0m \u001b[0mdense_output\u001b[0m\u001b[0;34m=\u001b[0m\u001b[0;32mTrue\u001b[0m\u001b[0;34m)\u001b[0m\u001b[0;34m\u001b[0m\u001b[0;34m\u001b[0m\u001b[0m\n\u001b[0m\u001b[1;32m    372\u001b[0m         \u001b[0mdistances\u001b[0m \u001b[0;34m+=\u001b[0m \u001b[0mXX\u001b[0m\u001b[0;34m\u001b[0m\u001b[0;34m\u001b[0m\u001b[0m\n\u001b[1;32m    373\u001b[0m         \u001b[0mdistances\u001b[0m \u001b[0;34m+=\u001b[0m \u001b[0mYY\u001b[0m\u001b[0;34m\u001b[0m\u001b[0;34m\u001b[0m\u001b[0m\n",
      "\u001b[0;32m~/opt/anaconda3/lib/python3.8/site-packages/sklearn/utils/extmath.py\u001b[0m in \u001b[0;36msafe_sparse_dot\u001b[0;34m(a, b, dense_output)\u001b[0m\n\u001b[1;32m    151\u001b[0m             \u001b[0mret\u001b[0m \u001b[0;34m=\u001b[0m \u001b[0mnp\u001b[0m\u001b[0;34m.\u001b[0m\u001b[0mdot\u001b[0m\u001b[0;34m(\u001b[0m\u001b[0ma\u001b[0m\u001b[0;34m,\u001b[0m \u001b[0mb\u001b[0m\u001b[0;34m)\u001b[0m\u001b[0;34m\u001b[0m\u001b[0;34m\u001b[0m\u001b[0m\n\u001b[1;32m    152\u001b[0m     \u001b[0;32melse\u001b[0m\u001b[0;34m:\u001b[0m\u001b[0;34m\u001b[0m\u001b[0;34m\u001b[0m\u001b[0m\n\u001b[0;32m--> 153\u001b[0;31m         \u001b[0mret\u001b[0m \u001b[0;34m=\u001b[0m \u001b[0ma\u001b[0m \u001b[0;34m@\u001b[0m \u001b[0mb\u001b[0m\u001b[0;34m\u001b[0m\u001b[0;34m\u001b[0m\u001b[0m\n\u001b[0m\u001b[1;32m    154\u001b[0m \u001b[0;34m\u001b[0m\u001b[0m\n\u001b[1;32m    155\u001b[0m     if (\n",
      "\u001b[0;31mKeyboardInterrupt\u001b[0m: "
     ]
    }
   ],
   "source": [
    "# Find N value\n",
    "\n",
    "train_scores = []\n",
    "test_scores = []\n",
    "for k in range(1, 20, 2):\n",
    "    knn = KNeighborsClassifier(n_neighbors=k)\n",
    "    knn.fit(X_train_scaled, y_train)\n",
    "    train_score = knn.score(X_train_scaled, y_train)\n",
    "    test_score = knn.score(X_test_scaled, y_test)\n",
    "    train_scores.append(train_score)\n",
    "    test_scores.append(test_score)\n",
    "    print(f\"k: {k}, Train/Test Score: {train_score:.3f}/{test_score:.3f}\")\n",
    "    \n",
    "    \n",
    "plt.plot(range(1, 20, 2), train_scores, marker='o')\n",
    "plt.plot(range(1, 20, 2), test_scores, marker=\"x\")\n",
    "plt.xlabel(\"k neighbors\")\n",
    "plt.ylabel(\"Testing accuracy Score\")\n",
    "plt.show()"
   ]
  },
  {
   "cell_type": "code",
   "execution_count": 11,
   "id": "239ef245",
   "metadata": {},
   "outputs": [
    {
     "name": "stdout",
     "output_type": "stream",
     "text": [
      "Fitting 5 folds for each of 40 candidates, totalling 200 fits\n",
      "[CV 1/5] END leaf_size=30, n_neighbors=5, weights=uniform;, score=0.883 total time= 6.7min\n",
      "[CV 2/5] END leaf_size=30, n_neighbors=5, weights=uniform;, score=0.883 total time= 6.9min\n",
      "[CV 3/5] END leaf_size=30, n_neighbors=5, weights=uniform;, score=0.882 total time= 6.9min\n",
      "[CV 4/5] END leaf_size=30, n_neighbors=5, weights=uniform;, score=0.882 total time=21.4min\n",
      "[CV 5/5] END leaf_size=30, n_neighbors=5, weights=uniform;, score=0.883 total time= 6.8min\n",
      "[CV 1/5] END leaf_size=30, n_neighbors=5, weights=distance;, score=0.869 total time= 6.9min\n",
      "[CV 2/5] END leaf_size=30, n_neighbors=5, weights=distance;, score=0.867 total time= 6.9min\n",
      "[CV 3/5] END leaf_size=30, n_neighbors=5, weights=distance;, score=0.866 total time= 6.9min\n",
      "[CV 4/5] END leaf_size=30, n_neighbors=5, weights=distance;, score=0.868 total time= 6.9min\n",
      "[CV 5/5] END leaf_size=30, n_neighbors=5, weights=distance;, score=0.867 total time= 7.3min\n",
      "[CV 1/5] END leaf_size=30, n_neighbors=9, weights=uniform;, score=0.890 total time= 7.1min\n",
      "[CV 2/5] END leaf_size=30, n_neighbors=9, weights=uniform;, score=0.889 total time= 7.1min\n",
      "[CV 3/5] END leaf_size=30, n_neighbors=9, weights=uniform;, score=0.889 total time= 7.1min\n",
      "[CV 4/5] END leaf_size=30, n_neighbors=9, weights=uniform;, score=0.889 total time= 7.1min\n",
      "[CV 5/5] END leaf_size=30, n_neighbors=9, weights=uniform;, score=0.889 total time= 7.1min\n",
      "[CV 1/5] END leaf_size=30, n_neighbors=9, weights=distance;, score=0.880 total time= 7.0min\n",
      "[CV 2/5] END leaf_size=30, n_neighbors=9, weights=distance;, score=0.879 total time= 7.4min\n",
      "[CV 3/5] END leaf_size=30, n_neighbors=9, weights=distance;, score=0.878 total time= 7.6min\n",
      "[CV 4/5] END leaf_size=30, n_neighbors=9, weights=distance;, score=0.879 total time= 7.9min\n",
      "[CV 5/5] END leaf_size=30, n_neighbors=9, weights=distance;, score=0.878 total time= 7.7min\n",
      "[CV 1/5] END leaf_size=30, n_neighbors=13, weights=uniform;, score=0.891 total time= 7.7min\n",
      "[CV 2/5] END leaf_size=30, n_neighbors=13, weights=uniform;, score=0.891 total time= 7.7min\n",
      "[CV 3/5] END leaf_size=30, n_neighbors=13, weights=uniform;, score=0.890 total time= 7.6min\n",
      "[CV 4/5] END leaf_size=30, n_neighbors=13, weights=uniform;, score=0.890 total time= 7.6min\n",
      "[CV 5/5] END leaf_size=30, n_neighbors=13, weights=uniform;, score=0.890 total time= 7.1min\n",
      "[CV 1/5] END leaf_size=30, n_neighbors=13, weights=distance;, score=0.884 total time= 6.8min\n",
      "[CV 2/5] END leaf_size=30, n_neighbors=13, weights=distance;, score=0.883 total time=18.3min\n",
      "[CV 3/5] END leaf_size=30, n_neighbors=13, weights=distance;, score=0.883 total time= 7.0min\n",
      "[CV 4/5] END leaf_size=30, n_neighbors=13, weights=distance;, score=0.883 total time= 7.3min\n",
      "[CV 5/5] END leaf_size=30, n_neighbors=13, weights=distance;, score=0.882 total time= 7.2min\n",
      "[CV 1/5] END leaf_size=30, n_neighbors=17, weights=uniform;, score=0.891 total time= 7.1min\n",
      "[CV 2/5] END leaf_size=30, n_neighbors=17, weights=uniform;, score=0.891 total time= 7.1min\n",
      "[CV 3/5] END leaf_size=30, n_neighbors=17, weights=uniform;, score=0.891 total time= 7.1min\n",
      "[CV 4/5] END leaf_size=30, n_neighbors=17, weights=uniform;, score=0.891 total time= 7.1min\n",
      "[CV 5/5] END leaf_size=30, n_neighbors=17, weights=uniform;, score=0.891 total time= 7.3min\n",
      "[CV 1/5] END leaf_size=30, n_neighbors=17, weights=distance;, score=0.885 total time= 6.9min\n",
      "[CV 2/5] END leaf_size=30, n_neighbors=17, weights=distance;, score=0.885 total time= 6.9min\n",
      "[CV 3/5] END leaf_size=30, n_neighbors=17, weights=distance;, score=0.885 total time=22.3min\n",
      "[CV 4/5] END leaf_size=30, n_neighbors=17, weights=distance;, score=0.885 total time= 7.1min\n",
      "[CV 5/5] END leaf_size=30, n_neighbors=17, weights=distance;, score=0.885 total time= 7.2min\n",
      "[CV 1/5] END leaf_size=30, n_neighbors=21, weights=uniform;, score=0.891 total time= 7.3min\n",
      "[CV 2/5] END leaf_size=30, n_neighbors=21, weights=uniform;, score=0.891 total time= 7.5min\n",
      "[CV 3/5] END leaf_size=30, n_neighbors=21, weights=uniform;, score=0.891 total time= 7.2min\n",
      "[CV 4/5] END leaf_size=30, n_neighbors=21, weights=uniform;, score=0.891 total time=12.0min\n",
      "[CV 5/5] END leaf_size=30, n_neighbors=21, weights=uniform;, score=0.891 total time=16.8min\n",
      "[CV 1/5] END leaf_size=30, n_neighbors=21, weights=distance;, score=0.886 total time= 7.3min\n",
      "[CV 2/5] END leaf_size=30, n_neighbors=21, weights=distance;, score=0.886 total time= 7.3min\n",
      "[CV 3/5] END leaf_size=30, n_neighbors=21, weights=distance;, score=0.886 total time= 7.4min\n",
      "[CV 4/5] END leaf_size=30, n_neighbors=21, weights=distance;, score=0.886 total time= 7.5min\n",
      "[CV 5/5] END leaf_size=30, n_neighbors=21, weights=distance;, score=0.886 total time= 7.6min\n",
      "[CV 1/5] END leaf_size=50, n_neighbors=5, weights=uniform;, score=0.883 total time= 7.6min\n",
      "[CV 2/5] END leaf_size=50, n_neighbors=5, weights=uniform;, score=0.883 total time= 7.6min\n",
      "[CV 3/5] END leaf_size=50, n_neighbors=5, weights=uniform;, score=0.882 total time= 7.4min\n",
      "[CV 4/5] END leaf_size=50, n_neighbors=5, weights=uniform;, score=0.882 total time= 7.0min\n",
      "[CV 5/5] END leaf_size=50, n_neighbors=5, weights=uniform;, score=0.883 total time=15.9min\n",
      "[CV 1/5] END leaf_size=50, n_neighbors=5, weights=distance;, score=0.869 total time=21.4min\n",
      "[CV 2/5] END leaf_size=50, n_neighbors=5, weights=distance;, score=0.867 total time= 6.9min\n",
      "[CV 3/5] END leaf_size=50, n_neighbors=5, weights=distance;, score=0.866 total time=21.6min\n",
      "[CV 4/5] END leaf_size=50, n_neighbors=5, weights=distance;, score=0.868 total time= 6.9min\n",
      "[CV 5/5] END leaf_size=50, n_neighbors=5, weights=distance;, score=0.867 total time= 7.1min\n",
      "[CV 1/5] END leaf_size=50, n_neighbors=9, weights=uniform;, score=0.890 total time= 7.1min\n",
      "[CV 2/5] END leaf_size=50, n_neighbors=9, weights=uniform;, score=0.889 total time= 7.1min\n",
      "[CV 3/5] END leaf_size=50, n_neighbors=9, weights=uniform;, score=0.889 total time= 7.2min\n",
      "[CV 4/5] END leaf_size=50, n_neighbors=9, weights=uniform;, score=0.889 total time= 7.6min\n",
      "[CV 5/5] END leaf_size=50, n_neighbors=9, weights=uniform;, score=0.889 total time= 7.5min\n",
      "[CV 1/5] END leaf_size=50, n_neighbors=9, weights=distance;, score=0.880 total time= 7.4min\n",
      "[CV 2/5] END leaf_size=50, n_neighbors=9, weights=distance;, score=0.879 total time= 7.5min\n",
      "[CV 3/5] END leaf_size=50, n_neighbors=9, weights=distance;, score=0.878 total time= 7.7min\n",
      "[CV 4/5] END leaf_size=50, n_neighbors=9, weights=distance;, score=0.879 total time= 7.5min\n",
      "[CV 5/5] END leaf_size=50, n_neighbors=9, weights=distance;, score=0.878 total time= 7.5min\n",
      "[CV 1/5] END leaf_size=50, n_neighbors=13, weights=uniform;, score=0.891 total time= 7.5min\n",
      "[CV 2/5] END leaf_size=50, n_neighbors=13, weights=uniform;, score=0.891 total time= 8.0min\n",
      "[CV 3/5] END leaf_size=50, n_neighbors=13, weights=uniform;, score=0.890 total time= 8.0min\n",
      "[CV 4/5] END leaf_size=50, n_neighbors=13, weights=uniform;, score=0.890 total time= 7.8min\n",
      "[CV 5/5] END leaf_size=50, n_neighbors=13, weights=uniform;, score=0.890 total time= 7.9min\n",
      "[CV 1/5] END leaf_size=50, n_neighbors=13, weights=distance;, score=0.884 total time= 8.1min\n",
      "[CV 2/5] END leaf_size=50, n_neighbors=13, weights=distance;, score=0.883 total time= 7.9min\n",
      "[CV 3/5] END leaf_size=50, n_neighbors=13, weights=distance;, score=0.883 total time= 7.8min\n",
      "[CV 4/5] END leaf_size=50, n_neighbors=13, weights=distance;, score=0.883 total time=18.3min\n",
      "[CV 5/5] END leaf_size=50, n_neighbors=13, weights=distance;, score=0.882 total time= 7.0min\n",
      "[CV 1/5] END leaf_size=50, n_neighbors=17, weights=uniform;, score=0.891 total time= 7.1min\n",
      "[CV 2/5] END leaf_size=50, n_neighbors=17, weights=uniform;, score=0.891 total time= 7.1min\n",
      "[CV 3/5] END leaf_size=50, n_neighbors=17, weights=uniform;, score=0.891 total time= 7.1min\n",
      "[CV 4/5] END leaf_size=50, n_neighbors=17, weights=uniform;, score=0.891 total time= 7.0min\n",
      "[CV 5/5] END leaf_size=50, n_neighbors=17, weights=uniform;, score=0.891 total time= 7.3min\n",
      "[CV 1/5] END leaf_size=50, n_neighbors=17, weights=distance;, score=0.885 total time=29.8min\n",
      "[CV 2/5] END leaf_size=50, n_neighbors=17, weights=distance;, score=0.885 total time= 7.3min\n",
      "[CV 3/5] END leaf_size=50, n_neighbors=17, weights=distance;, score=0.885 total time= 7.3min\n",
      "[CV 4/5] END leaf_size=50, n_neighbors=17, weights=distance;, score=0.885 total time= 7.2min\n"
     ]
    },
    {
     "name": "stdout",
     "output_type": "stream",
     "text": [
      "[CV 5/5] END leaf_size=50, n_neighbors=17, weights=distance;, score=0.885 total time= 7.2min\n",
      "[CV 1/5] END leaf_size=50, n_neighbors=21, weights=uniform;, score=0.891 total time=11.4min\n",
      "[CV 2/5] END leaf_size=50, n_neighbors=21, weights=uniform;, score=0.891 total time= 7.2min\n",
      "[CV 3/5] END leaf_size=50, n_neighbors=21, weights=uniform;, score=0.891 total time= 7.0min\n",
      "[CV 4/5] END leaf_size=50, n_neighbors=21, weights=uniform;, score=0.891 total time= 8.1min\n",
      "[CV 5/5] END leaf_size=50, n_neighbors=21, weights=uniform;, score=0.891 total time=15.7min\n",
      "[CV 1/5] END leaf_size=50, n_neighbors=21, weights=distance;, score=0.886 total time= 7.2min\n",
      "[CV 2/5] END leaf_size=50, n_neighbors=21, weights=distance;, score=0.886 total time= 7.4min\n",
      "[CV 3/5] END leaf_size=50, n_neighbors=21, weights=distance;, score=0.886 total time= 7.5min\n",
      "[CV 4/5] END leaf_size=50, n_neighbors=21, weights=distance;, score=0.886 total time= 7.2min\n",
      "[CV 5/5] END leaf_size=50, n_neighbors=21, weights=distance;, score=0.886 total time=13.9min\n",
      "[CV 1/5] END leaf_size=100, n_neighbors=5, weights=uniform;, score=0.883 total time= 8.0min\n",
      "[CV 2/5] END leaf_size=100, n_neighbors=5, weights=uniform;, score=0.883 total time= 9.2min\n",
      "[CV 3/5] END leaf_size=100, n_neighbors=5, weights=uniform;, score=0.882 total time= 7.0min\n",
      "[CV 4/5] END leaf_size=100, n_neighbors=5, weights=uniform;, score=0.882 total time= 7.2min\n",
      "[CV 5/5] END leaf_size=100, n_neighbors=5, weights=uniform;, score=0.883 total time= 7.2min\n",
      "[CV 1/5] END leaf_size=100, n_neighbors=5, weights=distance;, score=0.869 total time= 7.1min\n",
      "[CV 2/5] END leaf_size=100, n_neighbors=5, weights=distance;, score=0.867 total time= 7.1min\n",
      "[CV 3/5] END leaf_size=100, n_neighbors=5, weights=distance;, score=0.866 total time= 7.2min\n",
      "[CV 4/5] END leaf_size=100, n_neighbors=5, weights=distance;, score=0.868 total time= 7.2min\n",
      "[CV 5/5] END leaf_size=100, n_neighbors=5, weights=distance;, score=0.867 total time= 7.2min\n",
      "[CV 1/5] END leaf_size=100, n_neighbors=9, weights=uniform;, score=0.890 total time= 7.1min\n",
      "[CV 2/5] END leaf_size=100, n_neighbors=9, weights=uniform;, score=0.889 total time= 7.4min\n",
      "[CV 3/5] END leaf_size=100, n_neighbors=9, weights=uniform;, score=0.889 total time= 7.0min\n",
      "[CV 4/5] END leaf_size=100, n_neighbors=9, weights=uniform;, score=0.889 total time= 7.1min\n",
      "[CV 5/5] END leaf_size=100, n_neighbors=9, weights=uniform;, score=0.889 total time= 7.3min\n",
      "[CV 1/5] END leaf_size=100, n_neighbors=9, weights=distance;, score=0.880 total time= 7.3min\n",
      "[CV 2/5] END leaf_size=100, n_neighbors=9, weights=distance;, score=0.879 total time= 7.1min\n",
      "[CV 3/5] END leaf_size=100, n_neighbors=9, weights=distance;, score=0.878 total time= 7.2min\n",
      "[CV 4/5] END leaf_size=100, n_neighbors=9, weights=distance;, score=0.879 total time= 7.1min\n",
      "[CV 5/5] END leaf_size=100, n_neighbors=9, weights=distance;, score=0.878 total time= 7.2min\n",
      "[CV 1/5] END leaf_size=100, n_neighbors=13, weights=uniform;, score=0.891 total time= 8.0min\n",
      "[CV 2/5] END leaf_size=100, n_neighbors=13, weights=uniform;, score=0.891 total time=22.4min\n",
      "[CV 3/5] END leaf_size=100, n_neighbors=13, weights=uniform;, score=0.890 total time= 6.9min\n",
      "[CV 4/5] END leaf_size=100, n_neighbors=13, weights=uniform;, score=0.890 total time= 7.0min\n",
      "[CV 5/5] END leaf_size=100, n_neighbors=13, weights=uniform;, score=0.890 total time= 6.9min\n",
      "[CV 1/5] END leaf_size=100, n_neighbors=13, weights=distance;, score=0.884 total time= 6.9min\n",
      "[CV 2/5] END leaf_size=100, n_neighbors=13, weights=distance;, score=0.883 total time= 7.0min\n",
      "[CV 3/5] END leaf_size=100, n_neighbors=13, weights=distance;, score=0.883 total time=10.0min\n",
      "[CV 4/5] END leaf_size=100, n_neighbors=13, weights=distance;, score=0.883 total time= 6.8min\n",
      "[CV 5/5] END leaf_size=100, n_neighbors=13, weights=distance;, score=0.882 total time= 7.1min\n",
      "[CV 1/5] END leaf_size=100, n_neighbors=17, weights=uniform;, score=0.891 total time= 7.2min\n",
      "[CV 2/5] END leaf_size=100, n_neighbors=17, weights=uniform;, score=0.891 total time= 7.1min\n",
      "[CV 3/5] END leaf_size=100, n_neighbors=17, weights=uniform;, score=0.891 total time= 7.2min\n",
      "[CV 4/5] END leaf_size=100, n_neighbors=17, weights=uniform;, score=0.891 total time= 7.0min\n",
      "[CV 5/5] END leaf_size=100, n_neighbors=17, weights=uniform;, score=0.891 total time= 7.0min\n",
      "[CV 1/5] END leaf_size=100, n_neighbors=17, weights=distance;, score=0.885 total time= 7.1min\n",
      "[CV 2/5] END leaf_size=100, n_neighbors=17, weights=distance;, score=0.885 total time= 7.2min\n",
      "[CV 3/5] END leaf_size=100, n_neighbors=17, weights=distance;, score=0.885 total time= 7.0min\n",
      "[CV 4/5] END leaf_size=100, n_neighbors=17, weights=distance;, score=0.885 total time= 7.1min\n",
      "[CV 5/5] END leaf_size=100, n_neighbors=17, weights=distance;, score=0.885 total time= 7.3min\n",
      "[CV 1/5] END leaf_size=100, n_neighbors=21, weights=uniform;, score=0.891 total time= 7.3min\n",
      "[CV 2/5] END leaf_size=100, n_neighbors=21, weights=uniform;, score=0.891 total time= 7.1min\n",
      "[CV 3/5] END leaf_size=100, n_neighbors=21, weights=uniform;, score=0.891 total time= 7.3min\n",
      "[CV 4/5] END leaf_size=100, n_neighbors=21, weights=uniform;, score=0.891 total time= 7.1min\n",
      "[CV 5/5] END leaf_size=100, n_neighbors=21, weights=uniform;, score=0.891 total time= 7.3min\n",
      "[CV 1/5] END leaf_size=100, n_neighbors=21, weights=distance;, score=0.886 total time= 7.1min\n",
      "[CV 2/5] END leaf_size=100, n_neighbors=21, weights=distance;, score=0.886 total time= 7.0min\n",
      "[CV 3/5] END leaf_size=100, n_neighbors=21, weights=distance;, score=0.886 total time= 7.1min\n",
      "[CV 4/5] END leaf_size=100, n_neighbors=21, weights=distance;, score=0.886 total time= 7.3min\n",
      "[CV 5/5] END leaf_size=100, n_neighbors=21, weights=distance;, score=0.886 total time= 7.3min\n",
      "[CV 1/5] END leaf_size=200, n_neighbors=5, weights=uniform;, score=0.883 total time= 7.3min\n",
      "[CV 2/5] END leaf_size=200, n_neighbors=5, weights=uniform;, score=0.883 total time= 7.0min\n",
      "[CV 3/5] END leaf_size=200, n_neighbors=5, weights=uniform;, score=0.882 total time= 7.2min\n",
      "[CV 4/5] END leaf_size=200, n_neighbors=5, weights=uniform;, score=0.882 total time= 7.3min\n",
      "[CV 5/5] END leaf_size=200, n_neighbors=5, weights=uniform;, score=0.883 total time= 7.2min\n",
      "[CV 1/5] END leaf_size=200, n_neighbors=5, weights=distance;, score=0.869 total time= 7.1min\n",
      "[CV 2/5] END leaf_size=200, n_neighbors=5, weights=distance;, score=0.867 total time= 7.2min\n",
      "[CV 3/5] END leaf_size=200, n_neighbors=5, weights=distance;, score=0.866 total time= 7.3min\n",
      "[CV 4/5] END leaf_size=200, n_neighbors=5, weights=distance;, score=0.868 total time= 7.2min\n",
      "[CV 5/5] END leaf_size=200, n_neighbors=5, weights=distance;, score=0.867 total time= 7.3min\n",
      "[CV 1/5] END leaf_size=200, n_neighbors=9, weights=uniform;, score=0.890 total time= 7.1min\n",
      "[CV 2/5] END leaf_size=200, n_neighbors=9, weights=uniform;, score=0.889 total time= 7.2min\n",
      "[CV 3/5] END leaf_size=200, n_neighbors=9, weights=uniform;, score=0.889 total time= 7.2min\n",
      "[CV 4/5] END leaf_size=200, n_neighbors=9, weights=uniform;, score=0.889 total time= 7.3min\n",
      "[CV 5/5] END leaf_size=200, n_neighbors=9, weights=uniform;, score=0.889 total time= 7.4min\n",
      "[CV 1/5] END leaf_size=200, n_neighbors=9, weights=distance;, score=0.880 total time= 7.3min\n",
      "[CV 2/5] END leaf_size=200, n_neighbors=9, weights=distance;, score=0.879 total time= 7.2min\n",
      "[CV 3/5] END leaf_size=200, n_neighbors=9, weights=distance;, score=0.878 total time= 7.3min\n",
      "[CV 4/5] END leaf_size=200, n_neighbors=9, weights=distance;, score=0.879 total time= 7.1min\n",
      "[CV 5/5] END leaf_size=200, n_neighbors=9, weights=distance;, score=0.878 total time= 9.4min\n",
      "[CV 1/5] END leaf_size=200, n_neighbors=13, weights=uniform;, score=0.891 total time=11.7min\n",
      "[CV 2/5] END leaf_size=200, n_neighbors=13, weights=uniform;, score=0.891 total time= 7.0min\n",
      "[CV 3/5] END leaf_size=200, n_neighbors=13, weights=uniform;, score=0.890 total time= 7.0min\n",
      "[CV 4/5] END leaf_size=200, n_neighbors=13, weights=uniform;, score=0.890 total time= 7.0min\n",
      "[CV 5/5] END leaf_size=200, n_neighbors=13, weights=uniform;, score=0.890 total time= 7.1min\n",
      "[CV 1/5] END leaf_size=200, n_neighbors=13, weights=distance;, score=0.884 total time= 7.1min\n",
      "[CV 2/5] END leaf_size=200, n_neighbors=13, weights=distance;, score=0.883 total time= 7.0min\n",
      "[CV 3/5] END leaf_size=200, n_neighbors=13, weights=distance;, score=0.883 total time= 7.1min\n"
     ]
    },
    {
     "name": "stdout",
     "output_type": "stream",
     "text": [
      "[CV 4/5] END leaf_size=200, n_neighbors=13, weights=distance;, score=0.883 total time= 7.3min\n",
      "[CV 5/5] END leaf_size=200, n_neighbors=13, weights=distance;, score=0.882 total time= 7.0min\n",
      "[CV 1/5] END leaf_size=200, n_neighbors=17, weights=uniform;, score=0.891 total time= 7.0min\n",
      "[CV 2/5] END leaf_size=200, n_neighbors=17, weights=uniform;, score=0.891 total time= 7.3min\n",
      "[CV 3/5] END leaf_size=200, n_neighbors=17, weights=uniform;, score=0.891 total time= 7.1min\n",
      "[CV 4/5] END leaf_size=200, n_neighbors=17, weights=uniform;, score=0.891 total time= 7.2min\n",
      "[CV 5/5] END leaf_size=200, n_neighbors=17, weights=uniform;, score=0.891 total time= 7.1min\n",
      "[CV 1/5] END leaf_size=200, n_neighbors=17, weights=distance;, score=0.885 total time= 7.1min\n",
      "[CV 2/5] END leaf_size=200, n_neighbors=17, weights=distance;, score=0.885 total time= 7.3min\n",
      "[CV 3/5] END leaf_size=200, n_neighbors=17, weights=distance;, score=0.885 total time= 7.5min\n",
      "[CV 4/5] END leaf_size=200, n_neighbors=17, weights=distance;, score=0.885 total time= 6.9min\n",
      "[CV 5/5] END leaf_size=200, n_neighbors=17, weights=distance;, score=0.885 total time= 7.0min\n",
      "[CV 1/5] END leaf_size=200, n_neighbors=21, weights=uniform;, score=0.891 total time= 7.1min\n",
      "[CV 2/5] END leaf_size=200, n_neighbors=21, weights=uniform;, score=0.891 total time= 7.2min\n",
      "[CV 3/5] END leaf_size=200, n_neighbors=21, weights=uniform;, score=0.891 total time= 6.9min\n",
      "[CV 4/5] END leaf_size=200, n_neighbors=21, weights=uniform;, score=0.891 total time= 7.1min\n",
      "[CV 5/5] END leaf_size=200, n_neighbors=21, weights=uniform;, score=0.891 total time=21.6min\n",
      "[CV 1/5] END leaf_size=200, n_neighbors=21, weights=distance;, score=0.886 total time=17.3min\n",
      "[CV 2/5] END leaf_size=200, n_neighbors=21, weights=distance;, score=0.886 total time=19.6min\n",
      "[CV 3/5] END leaf_size=200, n_neighbors=21, weights=distance;, score=0.886 total time=69.7min\n",
      "[CV 4/5] END leaf_size=200, n_neighbors=21, weights=distance;, score=0.886 total time=22.5min\n",
      "[CV 5/5] END leaf_size=200, n_neighbors=21, weights=distance;, score=0.886 total time= 7.4min\n"
     ]
    },
    {
     "data": {
      "text/plain": [
       "GridSearchCV(estimator=KNeighborsClassifier(),\n",
       "             param_grid={'leaf_size': [30, 50, 100, 200],\n",
       "                         'n_neighbors': [5, 9, 13, 17, 21],\n",
       "                         'weights': ['uniform', 'distance']},\n",
       "             verbose=3)"
      ]
     },
     "execution_count": 11,
     "metadata": {},
     "output_type": "execute_result"
    }
   ],
   "source": [
    "model= KNeighborsClassifier()\n",
    "\n",
    "param_grid = {\n",
    "    'n_neighbors': [5,9,13,17, 21],\n",
    "    'weights': ['uniform', 'distance'],\n",
    "    'leaf_size': [30, 50, 100, 200]\n",
    "}\n",
    "knn_grid_clf = GridSearchCV(model, param_grid, verbose=3)\n",
    "knn_grid_clf.fit(X_train_scaled, y_train)"
   ]
  },
  {
   "cell_type": "code",
   "execution_count": 12,
   "id": "84c5e42c",
   "metadata": {},
   "outputs": [
    {
     "name": "stdout",
     "output_type": "stream",
     "text": [
      "{'leaf_size': 30, 'n_neighbors': 21, 'weights': 'uniform'}\n",
      "0.8911706666666668\n"
     ]
    }
   ],
   "source": [
    "print(knn_grid_clf.best_params_)\n",
    "print(knn_grid_clf.best_score_)"
   ]
  },
  {
   "cell_type": "code",
   "execution_count": null,
   "id": "a131f2d2",
   "metadata": {},
   "outputs": [
    {
     "name": "stdout",
     "output_type": "stream",
     "text": [
      "Training Data Score: 0.8914613333333333\n"
     ]
    }
   ],
   "source": [
    "knn_best_params=knn_grid_clf.best_params_\n",
    "kn_classifier= KNeighborsClassifier(**knn_best_params).fit(X_train_scaled, y_train)\n",
    "print(f\"Training Data Score: {kn_classifier.score(X_train_scaled, y_train)}\")\n",
    "print(f\"Testing Data Score: {kn_classifier.score(X_test_scaled, y_test)}\")"
   ]
  },
  {
   "cell_type": "code",
   "execution_count": null,
   "id": "90390560",
   "metadata": {},
   "outputs": [],
   "source": [
    "pickle.dump(kn_classifier, open('../resources/kn_classifier.pkl','wb'))"
   ]
  },
  {
   "cell_type": "code",
   "execution_count": null,
   "id": "f8667e61",
   "metadata": {},
   "outputs": [],
   "source": []
  },
  {
   "cell_type": "code",
   "execution_count": null,
   "id": "510da389",
   "metadata": {},
   "outputs": [],
   "source": []
  },
  {
   "cell_type": "code",
   "execution_count": null,
   "id": "d1fca93e",
   "metadata": {},
   "outputs": [],
   "source": []
  }
 ],
 "metadata": {
  "kernelspec": {
   "display_name": "Python 3 (ipykernel)",
   "language": "python",
   "name": "python3"
  },
  "language_info": {
   "codemirror_mode": {
    "name": "ipython",
    "version": 3
   },
   "file_extension": ".py",
   "mimetype": "text/x-python",
   "name": "python",
   "nbconvert_exporter": "python",
   "pygments_lexer": "ipython3",
   "version": "3.8.12"
  }
 },
 "nbformat": 4,
 "nbformat_minor": 5
}
